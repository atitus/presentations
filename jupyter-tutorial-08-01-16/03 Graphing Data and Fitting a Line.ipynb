{
 "cells": [
  {
   "cell_type": "markdown",
   "metadata": {},
   "source": [
    "# Teaching Professional Computational Modeling Skills with Jupyter\n",
    "\n",
    "## Aaron Titus, High Point University\n"
   ]
  },
  {
   "cell_type": "markdown",
   "metadata": {},
   "source": [
    "# Introduction\n"
   ]
  },
  {
   "cell_type": "markdown",
   "metadata": {},
   "source": [
    "The purpose of this tutorial is to introduce you to Jupyter Notebook. \n",
    "\n",
    "Jupyter Notebook (formerly called iPython Notebook) is a web application (front-end) to create and share documents that contain live code, visualizations, and marked-up text and equations. Teachers can write tutorials, and students can write professional, interactive reports. Accessible to students and scalable to professionals, Jupyter Notebook is ideal for teaching computational modeling, data visualization, collaborative computing, and reporting."
   ]
  },
  {
   "cell_type": "markdown",
   "metadata": {},
   "source": [
    "# Matplotlib"
   ]
  },
  {
   "cell_type": "markdown",
   "metadata": {},
   "source": [
    "The standard plotting package for Python is [Matplotlib](http://matplotlib.org/). However, there is also a web-based graphing program [Plotly](https://plot.ly/) that I've also used.  In this tutorial, we will use Matplotlib to graph data and compute a best-fit line.\n",
    "\n",
    "An additional library, [numpy](http://www.numpy.org/), is frequently used for mathematical and scientific computation.  Together, matplotlib and numpy give Python similar functionality as a common application in engineering called [MATLAB](http://www.mathworks.com/products/matlab/index.html?s_tid=gn_loc_drop). The big advantage of Python over MATLAB is the price...Python is free!"
   ]
  },
  {
   "cell_type": "markdown",
   "metadata": {},
   "source": [
    "## Importing Packages\n",
    "\n",
    "Run the program in the cell below to import matplotlib and numpy packages.\n",
    "\n",
    "In the first import statement, I only import the pyplot portion of  matplotlib. Furthermore, I import them into a namespace called ``plt`` (which I could have called just about anything). This means that I will have to use ``plt`` as a prefix when I call matplotlib functions. \n",
    "\n",
    "In this second import statement, I import all of numpy and do not use a namespace. Therefore, I can use numpy commands without using any prefix.  Most Python programmers will argue that this is not best practice because it can lead to collisions where different packages use the same names for their functions."
   ]
  },
  {
   "cell_type": "code",
   "execution_count": 11,
   "metadata": {
    "collapsed": true
   },
   "outputs": [],
   "source": [
    "import matplotlib.pyplot as plt\n",
    "from numpy import *\n",
    "from __future__ import division, print_function"
   ]
  },
  {
   "cell_type": "markdown",
   "metadata": {},
   "source": [
    "## Experiment"
   ]
  },
  {
   "cell_type": "markdown",
   "metadata": {},
   "source": [
    "In this experiment, students used video analysis software to measure the motion of a steel ball rolling on a steel track. The video below shows the frames that used for position and time data. In this notebook, we will plot the data for x(t) and fit a best-fit line to the data."
   ]
  },
  {
   "cell_type": "markdown",
   "metadata": {},
   "source": [
    "![animated gif](uniform-motion-ball-fast-main.gif)"
   ]
  },
  {
   "cell_type": "markdown",
   "metadata": {},
   "source": [
    "## Reading Your Data"
   ]
  },
  {
   "cell_type": "markdown",
   "metadata": {},
   "source": [
    "There are two ways to read data. You can store data in a text file (usually tab delimited or comma delimited) and read the file. Or you can copy and paste the data into the notebook cell. For small data sets, I prefer copying and pasting. For large data sets, reading a file is better.\n",
    "\n",
    "In the example below, data was copied from a Tracker (video analysis software) and pasted in a tab-delimited format. The first column is time in s and the second column is x-position in m.\n",
    "\n",
    "The variable ``datalist`` is a list. Each item in the list is a single row of tab-delimited data. The total number of rows is printed after the cell is run."
   ]
  },
  {
   "cell_type": "code",
   "execution_count": 12,
   "metadata": {
    "collapsed": false
   },
   "outputs": [
    {
     "name": "stdout",
     "output_type": "stream",
     "text": [
      "Total number of data points =  13\n"
     ]
    }
   ],
   "source": [
    "#\n",
    "# Paste the data you wish to graph in tab-delimited rows in the format:\n",
    "#\n",
    "#       xdata <tab> ydata\n",
    "#\n",
    "# In this example, the x data is time (s) and y data is \n",
    "# x-position (m).\n",
    "#\n",
    "\n",
    "datalist = \"\"\"\n",
    "0\t-0.003\n",
    "0.334\t0.171\n",
    "0.667\t0.346\n",
    "1.001\t0.527\n",
    "1.335\t0.698\n",
    "1.668\t0.872\n",
    "2.002\t1.05\n",
    "2.336\t1.232\n",
    "2.669\t1.403\n",
    "3.003\t1.57\n",
    "3.337\t1.741\n",
    "\"\"\".split('\\n') \n",
    "\n",
    "print(\"Total number of data points = \",len(datalist))\n"
   ]
  },
  {
   "cell_type": "markdown",
   "metadata": {},
   "source": [
    "## Storing Your Data in Lists"
   ]
  },
  {
   "cell_type": "markdown",
   "metadata": {},
   "source": [
    "We will store the time values and the x-position values in their own lists. Also, we have to convert the data from a ``string`` type to a ``float`` type."
   ]
  },
  {
   "cell_type": "code",
   "execution_count": 13,
   "metadata": {
    "collapsed": false
   },
   "outputs": [
    {
     "name": "stdout",
     "output_type": "stream",
     "text": [
      "The time data list is:  [0.0, 0.334, 0.667, 1.001, 1.335, 1.668, 2.002, 2.336, 2.669, 3.003, 3.337]\n",
      "The x-position data list is:  [-0.003, 0.171, 0.346, 0.527, 0.698, 0.872, 1.05, 1.232, 1.403, 1.57, 1.741]\n"
     ]
    }
   ],
   "source": [
    "#\n",
    "# Take the list of strings defined above and store it as numbers in lists. \n",
    "#\n",
    "\n",
    "tlist = [] # time data\n",
    "xlist = [] # x position data\n",
    "\n",
    "for s in datalist: #s represents a single row of data\n",
    "    if s:\n",
    "        t,x = s.split()     # split the string into two strings\n",
    "        t=float(t)          # convert time string to float\n",
    "        x=float(x)          # convert x string to float\n",
    "        tlist.append(t)     # store time in a list\n",
    "        xlist.append(x)     # store x in a list\n",
    "        \n",
    "print(\"The time data list is: \", tlist)\n",
    "print(\"The x-position data list is: \", xlist)"
   ]
  },
  {
   "cell_type": "markdown",
   "metadata": {},
   "source": [
    "## Plotting data points"
   ]
  },
  {
   "cell_type": "markdown",
   "metadata": {},
   "source": [
    "We will use ``matplotlib`` to graph data. By default, the graphs will be displayed in a separate browser window. However, I prefer to display graphs within the notebook. To display graphs within notebook, we must run what is known in the Jupyter world as a ``magic`` command."
   ]
  },
  {
   "cell_type": "code",
   "execution_count": 14,
   "metadata": {
    "collapsed": true
   },
   "outputs": [],
   "source": [
    "%matplotlib inline"
   ]
  },
  {
   "cell_type": "markdown",
   "metadata": {},
   "source": [
    "We imported ``matplotlib.pyplot`` as ``plt`` so we have to use ``plt`` as a prefix to the matplotlib functions. I typically use the five commands shown below to create a title, create axis labels, create a plot, and finally produce the graph image."
   ]
  },
  {
   "cell_type": "code",
   "execution_count": 15,
   "metadata": {
    "collapsed": false
   },
   "outputs": [
    {
     "data": {
      "image/png": "[encoded data removed]",
      "text/plain": [
       "<matplotlib.figure.Figure at 0x109bb8190>"
      ]
     },
     "metadata": {},
     "output_type": "display_data"
    }
   ],
   "source": [
    "#\n",
    "# Graph data\n",
    "#\n",
    "\n",
    "plt.title('x(t) for a steel ball rolling with constant velocity on a level track')\n",
    "plt.xlabel('t (s)')\n",
    "plt.ylabel('x (m)')\n",
    "plt.plot(tlist,xlist,'co')\n",
    "plt.show()\n"
   ]
  },
  {
   "cell_type": "markdown",
   "metadata": {},
   "source": [
    "The plot command:\n",
    "\n",
    "```python\n",
    "\n",
    "plt.plot(tlist,xlist,'co')\n",
    "\n",
    "```\n",
    "\n",
    "takes as input the data list for the horizontal axis, the data list for the vertical axis, and parameters to determine the type and color of the data point. In this case ``c`` is for cyan and ``o`` is for a large filled circle.\n",
    "\n",
    "You can try:\n",
    "\n",
    "```python\n",
    "\n",
    "plt.plot(tlist,xlist,'or-')\n",
    "\n",
    "```\n",
    "\n",
    "for a red solid line plot.  You can try:\n",
    "\n",
    "```python\n",
    "\n",
    "plt.plot(tlist,xlist,'b.')\n",
    "\n",
    "```\n",
    "\n",
    "for a blue scatter plot with small filled circles.  The following:\n",
    "\n",
    "```python\n",
    "\n",
    "plt.plot(tlist,xlist,'m+')\n",
    "\n",
    "```\n",
    "\n",
    "will produce magenta ``+`` symbols for the data points.\n",
    "\n",
    "Here are letters for various colors.\n",
    "\n",
    "| letter | color || letter | color |\n",
    "| -- | -- | -- |  -- | -- |\n",
    "|b | blue || m | magenta |\n",
    "|g  |  green  ||  y  |  yellow  | \n",
    "|r  |  red || k  |  black |\n",
    "|c | cyan || w | white |\n",
    "\n",
    "Here are symbols for various types of markers.\n",
    "\n",
    "| symbol | marker || symbol | marker |\n",
    "| -- | -- | -- |  -- | -- |\n",
    "| `s` | square marker | | `p` | pentagon marker |\n",
    "|`D` | diamond marker | | `d` | thin diamond marker|\n",
    "|`*` | star marker | | `+` | plus marker|\n",
    "|`h` | hexagon1 marker | | `H` | hexagon2 marker|\n",
    "|`x` | x marker | | | | |\n",
    "\n",
    "Use `-` for solid line and `--` for a dashed line.\n",
    "\n",
    "In the cell below, try plotting graphs with various markers and lines.\n"
   ]
  },
  {
   "cell_type": "code",
   "execution_count": 16,
   "metadata": {
    "collapsed": false
   },
   "outputs": [
    {
     "data": {
      "image/png": "[encoded data removed]",
      "text/plain": [
       "<matplotlib.figure.Figure at 0x109d48e50>"
      ]
     },
     "metadata": {},
     "output_type": "display_data"
    }
   ],
   "source": [
    "#\n",
    "# Graph data\n",
    "#\n",
    "\n",
    "plt.title('x(t) for a steel ball rolling with constant velocity on a level track')\n",
    "plt.xlabel('t (s)')\n",
    "plt.ylabel('x (m)')\n",
    "plt.plot(tlist,xlist,'ob--')\n",
    "plt.show()\n"
   ]
  },
  {
   "cell_type": "markdown",
   "metadata": {},
   "source": [
    "## Graphing and Fitting a Best Fit Line"
   ]
  },
  {
   "cell_type": "markdown",
   "metadata": {},
   "source": [
    "There are two goals that one might have:\n",
    "    \n",
    "1. graph a line and manually adjust parameters to find the best fit\n",
    "2. compute and then graph the best fit line\n",
    "\n",
    "The first case requires you to guess or compute separately the slope and intercept of the best-fit line. The second case uses code to determine the best fit line; typically this code is provided through functions in a package so you don't have to write your own. (Although it can be quite fun to write your own!)"
   ]
  },
  {
   "cell_type": "markdown",
   "metadata": {},
   "source": [
    "### Graphing a line and manually adjusting parameters"
   ]
  },
  {
   "cell_type": "markdown",
   "metadata": {},
   "source": [
    "We will use the ``numpy`` package. It allows you to use an array (of data) in an algebraic function. The equation of a line is familiarly written as:\n",
    "\n",
    "$$y=mx+b$$\n",
    "\n",
    "where $x$ represents the x value of a data point and $y$ represents the y value of the same data point. However, in plotting a set of data points, then you want to pass to this function an array $X$ (x values of all data points) and compute an array $Y$ of the corresponding set of y values of all data points.  The ``numpy`` package has a function ``array()`` that converts a list of data to an array of data.\n",
    "\n",
    "```python\n",
    "\n",
    "#generate an array of time values of data points in a list\n",
    "tarray=array(tlist)\n",
    "\n",
    "```\n",
    "\n",
    "The difference between a list and an array is that a list is a way of storing objects together and an array is a mathematical entity that has rules for multiplication, finding the determinant, etc.\n",
    "\n",
    "Let's guess at the slope and intercept of our data. I'll use:\n",
    "\n",
    "$$m=0.6$$\n",
    "\n",
    "$$b=0$$\n",
    "\n",
    "Then, we will compute an array of y values (x position) for an array of x values (time) and graph both the data points and the array of y values (from $y=mx+b$) on the same graph. I'll use a solid line graph for the line and solid circles for the data points."
   ]
  },
  {
   "cell_type": "code",
   "execution_count": 19,
   "metadata": {
    "collapsed": false
   },
   "outputs": [
    {
     "data": {
      "image/png": "[encoded data removed]",
      "text/plain": [
       "<matplotlib.figure.Figure at 0x109fe7110>"
      ]
     },
     "metadata": {},
     "output_type": "display_data"
    }
   ],
   "source": [
    "m=0.6 #slope\n",
    "b=0 #intercept\n",
    "y=m*array(tlist)+b #y=mx*b is the best-fit function\n",
    "\n",
    "plt.title('x(t) for a steel ball rolling with constant velocity on a level track')\n",
    "plt.xlabel('t (s)')\n",
    "plt.ylabel('x (m)')\n",
    "plt.plot(tlist,xlist,'co',tlist,y,'r-')\n",
    "plt.show()\n"
   ]
  },
  {
   "cell_type": "markdown",
   "metadata": {},
   "source": [
    "This may not be the best fit line, but you can manually adjust $m$ and $b$ until you get a reasonable line.\n",
    "\n",
    "Note that there is nothing special about $y=mx+b$.  We could have computed a quadratic \n",
    "\n",
    "$$y=ax^2+bx+c$$\n",
    "\n",
    "and plotted the resulting curve with the data. So this technique can be used with any function that might fit the data, including sinusoidal functions for example."
   ]
  },
  {
   "cell_type": "markdown",
   "metadata": {},
   "source": [
    "### Computing and then graphing a best fit line"
   ]
  },
  {
   "cell_type": "markdown",
   "metadata": {},
   "source": [
    "We have to import the ``curve_fit`` function from the package ``scipy.optimize`` to compute the best-fit line."
   ]
  },
  {
   "cell_type": "code",
   "execution_count": 20,
   "metadata": {
    "collapsed": true
   },
   "outputs": [],
   "source": [
    "from scipy.optimize import curve_fit"
   ]
  },
  {
   "cell_type": "markdown",
   "metadata": {},
   "source": [
    "Once again, I'll use the venerable\n",
    "\n",
    "$$y=mx+b$$\n",
    "\n",
    "as my equation for a line. Create a function that takes an array of data for x values and returns the y values."
   ]
  },
  {
   "cell_type": "code",
   "execution_count": 21,
   "metadata": {
    "collapsed": true
   },
   "outputs": [],
   "source": [
    "#function takes an array of x values and returns an array of y values\n",
    "#  where y=mx+b\n",
    "def func(x, m, b):\n",
    "    return m*x+b #linear function"
   ]
  },
  {
   "cell_type": "markdown",
   "metadata": {},
   "source": [
    "Now convert our lists of data, ``tlist`` and ``xlist``, to arrays ``xarray`` and ``yarray``. Note that time is on the horizontal axis and x-position is on the vertical axis of our graph.\n",
    "\n",
    "Then pass these arrays along with our best-fit function named ``func`` (which is a line) to ``curve_fit()``. It returns the values of the constants (m and b in this case) for the best fit line as a list, along with statistical measures for each of the constants.  For now, I will ignore the statistics and just get the constants which I will call ``mbest`` and ``bbest``."
   ]
  },
  {
   "cell_type": "code",
   "execution_count": 22,
   "metadata": {
    "collapsed": false
   },
   "outputs": [
    {
     "name": "stdout",
     "output_type": "stream",
     "text": [
      "Best fit: m= 0.5244386582  and b= -0.00159075185516\n"
     ]
    }
   ],
   "source": [
    "#convert list to a numpy array\n",
    "yarray=asarray(xlist)\n",
    "xarray=asarray(tlist)\n",
    "constants, stats = curve_fit(func, xarray, yarray)\n",
    "\n",
    "#constants is a list\n",
    "mbest=constants[0] #slope\n",
    "bbest=constants[1] #intercept\n",
    "\n",
    "print(\"Best fit: m=\",mbest,\" and b=\",bbest)"
   ]
  },
  {
   "cell_type": "markdown",
   "metadata": {},
   "source": [
    "We can pass these best-fit values back to our function, obtain the array of best-fit y values, and then graph the best-fit data points along with our measured data points."
   ]
  },
  {
   "cell_type": "code",
   "execution_count": 23,
   "metadata": {
    "collapsed": false
   },
   "outputs": [
    {
     "data": {
      "image/png": "[encoded data removed]",
      "text/plain": [
       "<matplotlib.figure.Figure at 0x10a9138d0>"
      ]
     },
     "metadata": {},
     "output_type": "display_data"
    }
   ],
   "source": [
    "ybest=func(xarray,mbest,bbest) #y values for best fit function\n",
    "\n",
    "plt.title('x(t) for a steel ball rolling with constant velocity on a level track')\n",
    "plt.xlabel('t (s)')\n",
    "plt.ylabel('x (m)')\n",
    "plt.plot(tlist,xlist,'co',tlist,ybest,'r-')\n",
    "plt.show()"
   ]
  },
  {
   "cell_type": "markdown",
   "metadata": {},
   "source": [
    "Once again, there is nothing special here about a line. We can define whatever function we want in ``func()`` so we could certainly obtain a best fit quadratic for example."
   ]
  },
  {
   "cell_type": "code",
   "execution_count": null,
   "metadata": {
    "collapsed": true
   },
   "outputs": [],
   "source": []
  }
 ],
 "metadata": {
  "kernelspec": {
   "display_name": "Python 2",
   "language": "python",
   "name": "python2"
  },
  "language_info": {
   "codemirror_mode": {
    "name": "ipython",
    "version": 2
   },
   "file_extension": ".py",
   "mimetype": "text/x-python",
   "name": "python",
   "nbconvert_exporter": "python",
   "pygments_lexer": "ipython2",
   "version": "2.7.10"
  }
 },
 "nbformat": 4,
 "nbformat_minor": 0
}
