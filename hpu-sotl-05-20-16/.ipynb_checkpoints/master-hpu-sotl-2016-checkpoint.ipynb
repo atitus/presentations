{
 "cells": [
  {
   "cell_type": "markdown",
   "metadata": {
    "slideshow": {
     "slide_type": "slide"
    }
   },
   "source": [
    "# Teaching Professional Computational Modeling Skills with Jupyter\n",
    "\n",
    "## Aaron Titus\n",
    "\n",
    "### High Point University"
   ]
  },
  {
   "cell_type": "markdown",
   "metadata": {
    "slideshow": {
     "slide_type": "slide"
    }
   },
   "source": [
    "## SoTL in problem-based and active learning\n",
    "\n",
    "I am not advocating how to teach. Rather, I am advocating what we teach (in physics). Because what we teach influences problem-based learning and active learning."
   ]
  },
  {
   "cell_type": "markdown",
   "metadata": {
    "slideshow": {
     "slide_type": "slide"
    }
   },
   "source": [
    "<img src=\"woz-and-aaron.jpg\" width=600 align=\"center\">"
   ]
  },
  {
   "cell_type": "markdown",
   "metadata": {
    "slideshow": {
     "slide_type": "subslide"
    }
   },
   "source": [
    "# Don’t get hung up on how it’s always been -- Steve Wozniak."
   ]
  },
  {
   "cell_type": "markdown",
   "metadata": {
    "slideshow": {
     "slide_type": "fragment"
    }
   },
   "source": [
    "[<img src=\"http://www.matterandinteractions.org/student/Mechanics/MI4eCover.png\" width=300 align=right>](http://www.matterandinteractions.org/index.html)\n",
    "* **2002** I moved to High Point University as the first and only full-time physics professor.\n",
    "* **2003** I started using *Matter and Interactions* by Ruth Chabay and Bruce Sherwood."
   ]
  },
  {
   "cell_type": "markdown",
   "metadata": {
    "slideshow": {
     "slide_type": "subslide"
    }
   },
   "source": [
    "## Traditional Calculus-Based Physics -- Projectile Motion"
   ]
  },
  {
   "cell_type": "markdown",
   "metadata": {
    "slideshow": {
     "slide_type": "fragment"
    }
   },
   "source": [
    "[<img src=\"https://upload.wikimedia.org/wikipedia/commons/1/1d/Marcus_Thames_Tigers_2007.jpg\" width=400 align=right>](https://en.wikipedia.org/) A batted baseball leaves the bat with a speed of 36 m/s at an angle of 50$^\\circ$. Determine the time of flight, the horizontal distance, and the peak height of the baseball if there is no air resistance and if it is caught at the same height it leaves the bat."
   ]
  },
  {
   "cell_type": "markdown",
   "metadata": {
    "slideshow": {
     "slide_type": "subslide"
    }
   },
   "source": [
    "## Solution\n",
    "\n",
    "**Initial Conditions**\n",
    "\n",
    "$v_i=36\\ \\mathrm{m/s} \\qquad \\theta=50^\\circ \\qquad y_i=0 \\qquad x_i=0$\n",
    "\n",
    "**Equations of Motion**\n",
    "\n",
    "$a_y=\\frac{F_{net,y}}{m}=\\frac{-mg}{m}\\to a_y=-g \\qquad \\qquad \\qquad a_x=0$\n",
    "\n",
    "$v_y=v_{iy} + \\int_0^t a_ydt \\to v_y= v_{iy} -gt \\qquad \\qquad  v_x=v_{xi}$\n",
    "\n",
    "$y=y_i+\\int_0^t v_ydt \\to y= y_i +v_{iy}t - \\frac{1}{2}gt^2 \\qquad  x=x_i+v_xt$"
   ]
  },
  {
   "cell_type": "markdown",
   "metadata": {
    "slideshow": {
     "slide_type": "subslide"
    }
   },
   "source": [
    "## The Answer\n",
    "\n",
    "time of flight = 5.63 s\n",
    "\n",
    "horizontal range = 130 m (427 ft)\n",
    "\n",
    "peak height = 38.9 m (128 ft, approximately a 12 story building)\n"
   ]
  },
  {
   "cell_type": "markdown",
   "metadata": {
    "slideshow": {
     "slide_type": "subslide"
    }
   },
   "source": [
    "## The Real Problem\n",
    "\n",
    "What about air resistance and the Magnus effect?\n",
    "\n",
    "[<img src=\"http://farside.ph.utexas.edu/teaching/329/lectures/img372.png\" width=400 align=right>](http://farside.ph.utexas.edu/teaching/329/lectures/node43.html)\n",
    "[<img src=\"http://www.fizzics.org/Lists/Photos/Magnus%20force%20notes.png\" width=500 align=left>](http://www.fizzics.org/magnus-coanda-and-bernoulli-effect-notes)"
   ]
  },
  {
   "cell_type": "markdown",
   "metadata": {
    "slideshow": {
     "slide_type": "subslide"
    }
   },
   "source": [
    "## The Real Solution\n",
    "### Teach computational modeling in introductory physics\n",
    "\n",
    "- Constant velocity\n",
    "- Constant force\n",
    "- Position and velocity dependent forces"
   ]
  },
  {
   "cell_type": "markdown",
   "metadata": {
    "slideshow": {
     "slide_type": "slide"
    }
   },
   "source": [
    "# Jupyter Notebook\n",
    "\n",
    "A web-based application that facilitates:\n",
    "\n",
    "- simulation development\n",
    "- data analysis\n",
    "- data visualization\n",
    "- collaborative documents\n",
    "- educational tutorials\n",
    "- students' reports that combine theory, simulation, data analysis and visualization"
   ]
  },
  {
   "cell_type": "code",
   "execution_count": null,
   "metadata": {
    "collapsed": false,
    "slideshow": {
     "slide_type": "slide"
    }
   },
   "outputs": [],
   "source": [
    "#Import Packages\n",
    "#\n",
    "# This step depends on the platform: GlowScript, Jupyter Notebook, \n",
    "# or Classic VPython.\n",
    "\n",
    "from __future__ import division, print_function\n",
    "from IPython.display import IFrame\n",
    "from math import *\n",
    "from numpy import *\n",
    "import matplotlib.pyplot as plt\n",
    "\n",
    "from vpython import *\n",
    "\n",
    "%matplotlib inline"
   ]
  },
  {
   "cell_type": "markdown",
   "metadata": {
    "slideshow": {
     "slide_type": "slide"
    }
   },
   "source": [
    "# Teaching Iterative Thinking -- <span style=\"color:blue\">Velocity</span>"
   ]
  },
  {
   "cell_type": "markdown",
   "metadata": {
    "slideshow": {
     "slide_type": "subslide"
    }
   },
   "source": [
    "## Position Update\n",
    "\n",
    "For a small time interval $\\Delta t$, \n",
    "\n",
    "$$\\vec{r}_{future} = \\vec{r}_{now} + \\vec{v}\\Delta t$$\n",
    "\n",
    "In VPython, if you create an object named __particle__ then update its position using:\n",
    "\n",
    "```python\n",
    "particle.pos = particle.pos + v * dt\n",
    "```"
   ]
  },
  {
   "cell_type": "code",
   "execution_count": null,
   "metadata": {
    "collapsed": false,
    "slideshow": {
     "slide_type": "subslide"
    }
   },
   "outputs": [],
   "source": [
    "#uniform motion -- a ball on a level track\n",
    "\n",
    "scene=canvas(title=\"Constant Velocity\", height=250, width=600)\n",
    "\n",
    "ball=sphere(pos=vector(-1.5,0,0), radius=0.05, color=color.cyan)\n",
    "track=box(pos=vector(0,-0.075,0), size=vector(3,0.05,0.1), color=color.white)\n",
    "\n",
    "v=vector(0.3,0,0)\n",
    "\n",
    "dt=0.01\n",
    "t=0\n",
    "\n",
    "while ball.pos.x<1.5:\n",
    "    rate(100)\n",
    "    ball.pos = ball.pos + v*dt\n",
    "    t=t+dt"
   ]
  },
  {
   "cell_type": "code",
   "execution_count": null,
   "metadata": {
    "collapsed": false,
    "slideshow": {
     "slide_type": "subslide"
    }
   },
   "outputs": [],
   "source": [
    "#uniform motion -- a ball on a level track\n",
    "\n",
    "scene=canvas(title=\"Constant Velocity - Stepwise\", height=250, width=600)\n",
    "\n",
    "ball=sphere(pos=vector(-1.5,0,0), radius=0.05, color=color.cyan)\n",
    "track=box(pos=vector(0,-0.075,0), size=vector(3,0.05,0.1), color=color.white)\n",
    "\n",
    "\n",
    "rarrow=arrow(pos=vector(0,-0.8*ball.radius,ball.radius), axis=ball.pos, color=color.yellow, shaftwidth=0.025)\n",
    "drarrow=arrow(pos=vector(0,0,ball.radius), axis=vec(0,0,0), color=color.magenta, shaftwidth=0.025)\n",
    "\n",
    "v=vector(0.3,0,0)\n",
    "\n",
    "dt=1\n",
    "t=0\n",
    "\n",
    "scene.waitfor('click')\n",
    "while ball.pos.x<1.5:\n",
    "    rate(1)\n",
    "    drarrow.pos=ball.pos+vector(0,0,ball.radius)\n",
    "    rf = ball.pos + v*dt\n",
    "    drarrow.axis=rf-drarrow.pos\n",
    "    scene.waitfor('click')\n",
    "    strobeimage=sphere(pos=ball.pos, color=ball.color, radius=ball.radius, opacity=ball.opacity/2)\n",
    "    ball.pos=rf\n",
    "    rarrow.axis=ball.pos\n",
    "    scene.waitfor('click')\n",
    "    drarrow.axis=vector(0,0,0)\n",
    "#    rarrow.axis=vector(0,0,0)\n",
    "    scene.waitfor('click')\n",
    "    t=t+dt"
   ]
  },
  {
   "cell_type": "markdown",
   "metadata": {
    "slideshow": {
     "slide_type": "slide"
    }
   },
   "source": [
    "# Teaching Iterative Thinking -- <span style=\"color:blue\">The Momentum Principle</span>"
   ]
  },
  {
   "cell_type": "markdown",
   "metadata": {
    "slideshow": {
     "slide_type": "subslide"
    }
   },
   "source": [
    "## Momentum Update\n",
    "\n",
    "For a small time interval $\\Delta t$,\n",
    "\n",
    "$$\\vec{p}_{future}=\\vec{p}_{now} + \\vec{F}_{net,now}\\Delta t$$\n",
    "\n",
    "This is the **update form** of the Momentum Principle.\n",
    "\n",
    "<img src=\"Fig2-23.jpg\" width=700>\n",
    "(from *Matter and Interactions*)"
   ]
  },
  {
   "cell_type": "markdown",
   "metadata": {
    "slideshow": {
     "slide_type": "slide"
    }
   },
   "source": [
    "## Euler Cromer Method\n",
    "1. Calculate the net force on the particle.\n",
    "2. Update the particle's momentum.\n",
    "3. Update the particle's position.\n",
    "\n",
    "For non-relativistic motion,\n",
    "\n",
    "$$\\vec{v}\\approx \\vec{v}_f \\approx \\frac{\\vec{p}}{m}.$$\n",
    "\n",
    "For an object named __particle__, the VPython code would look like this.\n",
    "\n",
    "```python\n",
    "    Fnet = vector(0,-10*m,0)\n",
    "    p = p + Fnet * dt\n",
    "    v=p/m\n",
    "    particle.pos = particle.pos + v * dt\n",
    "```"
   ]
  },
  {
   "cell_type": "code",
   "execution_count": null,
   "metadata": {
    "collapsed": false,
    "slideshow": {
     "slide_type": "subslide"
    }
   },
   "outputs": [],
   "source": [
    "scene=canvas(title=\"Projectile Motion\", height=500, width=600)\n",
    "\n",
    "floor = box(pos=vector(0,0,0), size=vector(10.0,0.05,10), color=color.green)\n",
    "ball = sphere(pos=vector(-4.5,0.1,0), radius=0.4, color=color.white, opacity=0.5, make_trail=True)\n",
    "\n",
    "ball.m = 0.8\n",
    "ball.v = vector(5.74,8.19,0)\n",
    "ball.p = ball.m * ball.v\n",
    "g = vector(0,-9.8,0)\n",
    "\n",
    "dt = 0.01\n",
    "t = 0\n",
    "\n",
    "scene.waitfor(\"click\")\n",
    "\n",
    "while ball.pos.y > 0:\n",
    "    rate(100)\n",
    "    Fnet=ball.m*g\n",
    "    ball.p = ball.p + Fnet*dt\n",
    "    ball.v = ball.p/ball.m\n",
    "    ball.pos = ball.pos + ball.v*dt\n",
    "    t = t+dt"
   ]
  },
  {
   "cell_type": "code",
   "execution_count": null,
   "metadata": {
    "collapsed": false,
    "slideshow": {
     "slide_type": "subslide"
    }
   },
   "outputs": [],
   "source": [
    "#constant force\n",
    "\n",
    "scene=canvas(title=\"Projectile Motion - Stepwise\", height=500, width=600)\n",
    "\n",
    "\n",
    "#clickToAdvance does not work in Jupyter at the moment\n",
    "#print(\"If clickToAdvance==True, then click on the scene to advance the simulation to the next calculation.\")\n",
    "#print(\"Change clickToAdvance to False if you want the program to advance automatically.\")\n",
    "\n",
    "#set this to True if you want to click to advance through the calculations and steps\n",
    "#set this to False if you want it to advance automatically\n",
    "clickToAdvance=False\n",
    "\n",
    "t = 0\n",
    "\n",
    "#use case 1 if clicking to advance\n",
    "#use any case if not clicking to advance\n",
    "thiscase=1\n",
    "\n",
    "if(thiscase==1):\n",
    "        dt = 0.25\n",
    "        max=100\n",
    "        rateTime=100\n",
    "\n",
    "if(thiscase==2):\n",
    "        dt = 0.1\n",
    "        max=50\n",
    "        rateTime=100\n",
    "\n",
    "if(thiscase==3):\n",
    "        dt = 0.01\n",
    "        max=25\n",
    "        rateTime=1000\n",
    "\n",
    "\n",
    "floor = box(pos=vector(0,0,0), size=vector(10.0,0.05,10), color=color.green)\n",
    "ball = sphere(pos=vector(-4.5,0.1,0), radius=0.4, color=color.white, opacity=0.5)\n",
    "\n",
    "ball.m = 0.8\n",
    "ball.v = vector(5.74,8.19,0)\n",
    "ball.p = ball.m * ball.v\n",
    "g = 9.8\n",
    "\n",
    "scenerange=5\n",
    "scene.range=scenerange\n",
    "scene.background=color.black\n",
    "\n",
    "trail=curve(color=ball.color)\n",
    "trail.append(pos=ball.pos)\n",
    "\n",
    "zeroVector=vector(0,0,0)\n",
    "\n",
    "arrowScale=scenerange/mag(ball.v)\n",
    "vArrow=arrow(pos=ball.pos, axis=vector(0,0,0), color=color.yellow, shaftwidth=0.1)\n",
    "dvArrow=arrow(pos=vArrow.pos+vArrow.axis, axis=vector(0,0,0), color=color.magenta, shaftwidth=0.1)\n",
    "vfArrow=arrow(pos=ball.pos, axis=vector(0,0,0), color=color.cyan, shaftwidth=0.1)\n",
    "drArrow=arrow(pos=ball.pos,axis=vector(0,0,0), color=ball.color, shaftwidth=0.1)\n",
    "\n",
    "#if(clickToAdvance==False):\n",
    "#        scene.waitfor('click')\n",
    "scene.waitfor('click')\n",
    "\n",
    "while ball.pos.y>0:\n",
    "        rate(10)\n",
    "        if(clickToAdvance==True):\n",
    "            scene.waitfor('click')\n",
    "        vArrow.pos=ball.pos\n",
    "        vArrow.axis=ball.v*arrowScale\n",
    "        if(clickToAdvance==False):\n",
    "                for i in range(0,max):\n",
    "                        rate(rateTime)\n",
    "        Fnet=vector(0,-ball.m*g,0)\n",
    "        ball.p = ball.p + Fnet*dt\n",
    "        ball.v = ball.p/ball.m\n",
    "        dv = Fnet/ball.m*dt\n",
    "        dr = ball.v*dt\n",
    "\n",
    "        if(clickToAdvance==True):\n",
    "            scene.waitfor('click')\n",
    "        dvArrow.pos=vArrow.pos+vArrow.axis\n",
    "        dvArrow.axis=dv*arrowScale\n",
    "        if(clickToAdvance==False):\n",
    "                for i in range(0,max):\n",
    "                        rate(rateTime)\n",
    "\n",
    "#        if(clickToAdvance==True):\n",
    "#            scene.waitfor('click')\n",
    "        vfArrow.pos=ball.pos\n",
    "        vfArrow.axis=vArrow.axis+dvArrow.axis\n",
    "        if(clickToAdvance==False):\n",
    "                for i in range(0,max):\n",
    "                        rate(rateTime)\n",
    "\n",
    "#        if(clickToAdvance==True):\n",
    "#            scene.waitfor('click')\n",
    "\n",
    "        drArrow.pos=ball.pos\n",
    "        drArrow.axis=dr\n",
    "\n",
    "        if(clickToAdvance==False):\n",
    "                for i in range(0,max):\n",
    "                        rate(rateTime)\n",
    "#        if(clickToAdvance==True):\n",
    "#            scene.waitfor('click')\n",
    "\n",
    "        vArrow.axis=zeroVector\n",
    "        dvArrow.axis=zeroVector\n",
    "        vfArrow.axis=zeroVector\n",
    "        ball.pos=ball.pos+ball.v*dt\n",
    "        t = t+dt\n",
    "        trail.append(pos=ball.pos)\n",
    "\n",
    "        #   print t,ball.pos.x, ball.v.x\n"
   ]
  },
  {
   "cell_type": "code",
   "execution_count": null,
   "metadata": {
    "collapsed": false,
    "slideshow": {
     "slide_type": "subslide"
    }
   },
   "outputs": [],
   "source": [
    "scene=canvas(title=\"Baseball\", height=500, width=600)\n",
    "\n",
    "floor = box(pos=vector(0,-0.5,0), size=vector(150.0,1,10), color=color.green)\n",
    "ball = sphere(pos=vector(-75,0.1,0), radius=1, color=color.white, make_trail=True)\n",
    "\n",
    "ball.m = 0.8\n",
    "vi=36 #m/s\n",
    "theta=50 #degrees\n",
    "ball.v = vector(vi*cos(theta*pi/180),vi*sin(theta*pi/180),0)\n",
    "ball.p = ball.m * ball.v\n",
    "g = vector(0,-9.8,0)\n",
    "\n",
    "dt = 0.01\n",
    "t = 0\n",
    "\n",
    "ypeak=0\n",
    "\n",
    "scene.waitfor(\"click\")\n",
    "\n",
    "while ball.pos.y > 0:\n",
    "    rate(100)\n",
    "    Fnet=ball.m*g\n",
    "    vyi=ball.p.y/ball.m\n",
    "    ball.p = ball.p + Fnet*dt\n",
    "    ball.v = ball.p/ball.m\n",
    "    ball.pos = ball.pos + ball.v*dt\n",
    "    vyf=ball.p.y/ball.m\n",
    "    t = t+dt\n",
    "    if(vyi>0 and vyf<0):\n",
    "        ypeak=ball.pos.y\n",
    "\n",
    "print(\"range =\",ball.pos.x--75, \" m = \", (ball.pos.x--75)*3.28, \" ft\")\n",
    "print(\"peak height = \",ypeak, \" m = \", ypeak*3.28, \" ft\")\n",
    "print(\"time in the air = \",t, \" s\")"
   ]
  },
  {
   "cell_type": "code",
   "execution_count": null,
   "metadata": {
    "collapsed": false,
    "slideshow": {
     "slide_type": "subslide"
    }
   },
   "outputs": [],
   "source": [
    "#Add drag\n",
    "#http://farside.ph.utexas.edu/teaching/329/lectures/node42.html\n",
    "#f=-Fd*v**2*vhat\n",
    "\n",
    "scene=canvas(title=\"Baseball With Drag\", height=500, width=600)\n",
    "\n",
    "floor = box(pos=vector(0,-0.5,0), size=vector(150.0,1,10), color=color.green)\n",
    "ball = sphere(pos=vector(-75,0.1,0), radius=1, color=color.white, make_trail=True)\n",
    "\n",
    "ball.m = 0.145\n",
    "vi=36 #m/s\n",
    "theta=50 #degrees\n",
    "ball.v = vector(vi*cos(theta*pi/180),vi*sin(theta*pi/180),0)\n",
    "ball.p = ball.m * ball.v\n",
    "\n",
    "ball2=sphere(pos=vector(-75,0.1,0), radius=1, color=color.yellow, make_trail=True)\n",
    "ball2.m=ball.m\n",
    "ball2.v=ball.v\n",
    "ball2.p=ball2.m*ball2.v\n",
    "\n",
    "g = vector(0,-9.8,0)\n",
    "Cd=0.3 #drag coeff\n",
    "rho=1.225 #kg /m^3\n",
    "R=0.0747/2 #radius in m\n",
    "D=0.5*rho*pi*R*R*Cd #average coeff for drag force\n",
    "dt = 0.01\n",
    "t = 0\n",
    "\n",
    "ypeak=0\n",
    "ypeak2=0\n",
    "tpeak2=0\n",
    "\n",
    "scene.waitfor(\"click\")\n",
    "\n",
    "while ball.pos.y > 0:\n",
    "    rate(100)\n",
    "\n",
    "    #ball 1\n",
    "    Fnet=ball.m*g\n",
    "    vyi=ball.p.y/ball.m\n",
    "    ball.p = ball.p + Fnet*dt\n",
    "    ball.v = ball.p/ball.m\n",
    "    ball.pos = ball.pos + ball.v*dt\n",
    "    vyf=ball.v.y\n",
    "    t = t+dt\n",
    "    if(vyi>0 and vyf<0):\n",
    "        ypeak=ball.pos.y\n",
    "\n",
    "    #ball 2\n",
    "    if(ball2.pos.y<0):\n",
    "        Fnet2=vector(0,0,0)\n",
    "        ball2.p=vector(0,0,0)\n",
    "    else:\n",
    "        vmag2=mag(ball2.v)\n",
    "        Fdrag=-D*vmag2*vmag2*norm(ball2.v)\n",
    "        Fnet2=ball2.m*g+Fdrag\n",
    "    vyi2=ball2.p.y/ball2.m\n",
    "    ball2.p = ball2.p + Fnet2*dt\n",
    "    ball2.v = ball2.p/ball.m\n",
    "    ball2.pos = ball2.pos + ball2.v*dt\n",
    "    vyf2=ball2.v.y\n",
    "    t = t+dt\n",
    "    if(vyi2>0 and vyf2<0):\n",
    "        ypeak2=ball2.pos.y\n",
    "    if(tpeak2==0 and ball2.pos.y<0):\n",
    "        tpeak2=t\n",
    "\n",
    "print(\"No air\")\n",
    "print(\"-----------------------\")\n",
    "print(\"range =\",ball.pos.x--75, \" m = \", (ball.pos.x--75)*3.28, \" ft\")\n",
    "print(\"peak height = \",ypeak, \" m = \", ypeak*3.28, \" ft\")\n",
    "print(\"time in the air = \",t, \" s\")\n",
    "\n",
    "print(\"\\nWith drag\")\n",
    "print(\"-----------------------\")\n",
    "print(\"range =\",ball2.pos.x--75, \" m = \", (ball2.pos.x--75)*3.28, \" ft\")\n",
    "print(\"peak height = \",ypeak2, \" m = \", ypeak2*3.28, \" ft\")\n",
    "print(\"time in the air = \",tpeak2, \" s\")"
   ]
  },
  {
   "cell_type": "markdown",
   "metadata": {
    "collapsed": true,
    "slideshow": {
     "slide_type": "slide"
    }
   },
   "source": [
    "# Examples from Non-Majors, Freshman Research, and Junior/Senior Level"
   ]
  },
  {
   "cell_type": "markdown",
   "metadata": {
    "slideshow": {
     "slide_type": "subslide"
    }
   },
   "source": [
    "## Non-majors: Physics for Video Games"
   ]
  },
  {
   "cell_type": "code",
   "execution_count": null,
   "metadata": {
    "collapsed": false,
    "slideshow": {
     "slide_type": "fragment"
    }
   },
   "outputs": [],
   "source": [
    "#import packages\n",
    "#from vpython import *\n",
    "import serial, time "
   ]
  },
  {
   "cell_type": "code",
   "execution_count": null,
   "metadata": {
    "collapsed": false,
    "slideshow": {
     "slide_type": "subslide"
    }
   },
   "outputs": [],
   "source": [
    "#this function writes a character to the Arduino and receives LR and UD  voltages from the Arduino\n",
    "def getData():\n",
    "    ser.write(chr(1))\n",
    "    line = ser.readline()\n",
    "    #print(line)\n",
    "    data = line.split()\n",
    "    LR = int(data[0])\n",
    "    UD = int(data[1])\n",
    "    #print(str(LR)+\"\\t\"+str(UD))\n",
    "    return [LR,UD]\n",
    "\n",
    "#serial port for the Arduino; get the name for the port from the Arduino software\n",
    "port = '/dev/cu.usbmodem1411'\n",
    "\n",
    "#start the serial port\n",
    "ser = serial.Serial(port, 9600, timeout=2)\n",
    "\n",
    "# The following line is necessary to give the arduino time to start\n",
    "# accepting stuff.\n",
    "time.sleep(2) "
   ]
  },
  {
   "cell_type": "code",
   "execution_count": null,
   "metadata": {
    "collapsed": false,
    "slideshow": {
     "slide_type": "subslide"
    }
   },
   "outputs": [],
   "source": [
    "#create a 3D scene\n",
    "scene=canvas(title=\"Lunar Lander\")\n",
    "\n",
    "scene.range=20\n",
    "scene.width=800\n",
    "scene.height=500\n",
    "scene.autoscale=False\n",
    "\n",
    "ground = box(pos=vector(0,-10.05,0), size=vector(40.0,1,1), color=color.white)\n",
    "spaceship = box(pos=vector(-10,8,0), size=vector(2,5,2), color=color.yellow)\n",
    "target=box(pos=vector(10,-10.05,0), size=vector(5.0,1,1), color=color.red)\n",
    "\n",
    "spaceship.m = 1\n",
    "spaceship.v = vector(0,0,0)\n",
    "g=1/6*vector(0,-10,0)\n",
    "Fthrust=vector(0,0,0)\n",
    "F=vector(0,0,0)\n",
    "\n",
    "dt = 0.01\n",
    "t = 0\n",
    "\n",
    "scale=5.0\n",
    "FgravArrow = arrow(pos=spaceship.pos, axis=scale*spaceship.m*g, color=color.red)\n",
    "FthrustArrow = arrow(pos=spaceship.pos, axis=Fthrust, color=color.cyan)\n",
    "\n",
    "safespeed=2\n",
    "\n",
    "voltage=[]\n",
    "\n",
    "\n",
    "while 1:\n",
    "        rate(100)\n",
    "        voltage=getData()\n",
    "        F.x=scale*(voltage[0]-1023/2)/512\n",
    "        F.y=scale*(voltage[1]-1023/2)/512\n",
    "        Fthrust=vector(F.x,F.y,0)\n",
    "        Fgrav=spaceship.m*g\n",
    "        Fnet=Fgrav+Fthrust\n",
    "        spaceship.v = spaceship.v + (Fnet/spaceship.m)*dt\n",
    "        spaceship.pos = spaceship.pos + spaceship.v*dt\n",
    "        if(spaceship.pos.y-spaceship.height/2<ground.pos.y+ground.height/2):\n",
    "                print(\"spaceship has landed, v= \",spaceship.v, \"speed= \", mag(spaceship.v))\n",
    "                if(spaceship.pos.x>target.pos.x-target.size.x/2 and spaceship.pos.x<target.pos.x+target.size.x/2 and mag(spaceship.v)<safespeed and abs(spaceship.v.x)<0.5):\n",
    "                    message=label(pos=vector(0,0,0), text=\"You Win! The spaceship landed safely!\")\n",
    "                else:\n",
    "                    message=label(pos=vector(0,0,0), text=\"The spaceship crashed! Bummer!\")\n",
    "                    if(abs(spaceship.v.x)>1):\n",
    "                        message.text=message.text+\"\\nYour lateral landing speed was too large.\"\n",
    "                    elif(mag(spaceship.v)>safespeed):\n",
    "                        message.text=message.text+\"\\nYour landing speed was too large.\"\n",
    "                \n",
    "                message.text=message.text+\"\\nClick to try again.\"\n",
    "                scene.waitfor('click')\n",
    "                message.visible=0\n",
    "                spaceship.v = vector(0,0,0)\n",
    "                spaceship.pos=vector(-10,8,0)\n",
    "                Fthrust=vector(0,0,0)\n",
    "                F=vector(0,0,0) \n",
    "                t=0\n",
    "        t = t+dt\n",
    "        FgravArrow.pos=spaceship.pos\n",
    "        FgravArrow.axis=scale*Fgrav\n",
    "        FthrustArrow.pos=spaceship.pos\n",
    "        FthrustArrow.axis=scale*Fthrust\n"
   ]
  },
  {
   "cell_type": "markdown",
   "metadata": {
    "slideshow": {
     "slide_type": "subslide"
    }
   },
   "source": [
    "## Example -- <span style=\"color:blue\">First Year Research</span>"
   ]
  },
  {
   "cell_type": "code",
   "execution_count": null,
   "metadata": {
    "collapsed": false,
    "slideshow": {
     "slide_type": "subslide"
    }
   },
   "outputs": [],
   "source": [
    "#scene\n",
    "scene=canvas(title=\"Basketball Shot\")\n",
    "scene.center=vector(2,-1,0)\n",
    "scene.range=4\n",
    "scene.width=800\n",
    "scene.height=600\n",
    "\n",
    "#################\n",
    "#functions\n",
    "################ \n",
    "def rad(angledeg):\n",
    "    anglerad=angledeg*pi/180\n",
    "    return anglerad\n",
    "\n",
    "def deg(anglerad):   \n",
    "    angledeg=anglerad*180/pi\n",
    "    return angledeg\n",
    "\n",
    "def checkThatBallClearsRim(viy, riy):\n",
    "    ypeak=viy**2/2/g+riy\n",
    "    yrim=rim.pos.y\n",
    "    if(ypeak>yrim):\n",
    "        return True\n",
    "    else:\n",
    "        #write row of data even though ball never clears the rim\n",
    "        dataList=[mag(vi),deg(theta),omegaiz,0,-100,-100] #note that -100,-100 is the rebound position if the shot never clears rim\n",
    "        writeLineToFile(dataList)\n",
    "        return False\n",
    "\n",
    "def checkCollision(sph,cyl):\n",
    "    pegcenter=cyl.pos+0.5*cyl.axis\n",
    "    rcc=sph.pos-pegcenter\n",
    "    dist=mag(rcc)\n",
    "    if(dist<sph.radius+cyl.radius):\n",
    "        return True\n",
    "    else:\n",
    "        return False\n",
    "\n",
    "def checkCollisionBackboardFront(sph,board):\n",
    "    zleft=board.pos.z - 0.5*board.width\n",
    "    zright=board.pos.z + 0.5*board.width\n",
    "    ytop=board.pos.y + 0.5*board.height\n",
    "    ybottom=board.pos.y - 0.5*board.height\n",
    "    xleft=board.pos.x - 0.5*board.length\n",
    "    xright=board.pos.x + 0.5*board.length\n",
    "    #collides with front of backboard\n",
    "    if(sph.pos.x < board.pos.x+board.size.x/2 + sph.radius and sph.pos.x > board.pos.x-board.size.x/2 - sph.radius) and (sph.pos.z>zleft and sph.pos.z<zright) and (sph.pos.y<ytop and sph.pos.y>ybottom): \n",
    "            return True\n",
    "    else:\n",
    "            return False\n",
    "\n",
    "def checkCollisionBackboardTop(sph,board):\n",
    "    zleft=board.pos.z - 0.5*board.width\n",
    "    zright=board.pos.z + 0.5*board.width\n",
    "    ytop=board.pos.y + 0.5*board.height\n",
    "    ybottom=board.pos.y - 0.5*board.height\n",
    "    xleft=board.pos.x - 0.5*board.length\n",
    "    xright=board.pos.x + 0.5*board.length\n",
    "    #collides with top of backboard\n",
    "    if(sph.pos.y< board.pos.y+board.size.y/2+sph.radius and sph.pos.y> board.pos.y-board.size.y/2-sph.radius and (sph.pos.z>zleft and sph.pos.z<zright) and (sph.pos.x<xright+sph.radius and sph.pos.x>xleft-sph.radius)):\n",
    "            return True    \n",
    "    else:\n",
    "            return False\n",
    "\n",
    "\n",
    "def calcCollisionPeg(b,p):\n",
    "    b.pos=b.pos-b.p/m*dt #move the ball to its previous position before the collision\n",
    "    pegcenter=p.pos+0.5*p.axis #position of center of peg\n",
    "    rcc=b.pos-pegcenter #vector from peg center to ball center\n",
    "    rp=Rcyl*norm(rcc) #position of collision point relative to peg center\n",
    "    b.v=b.p/m #initial cm velocity\n",
    "    vperpi=dot(b.v,norm(rp))*norm(rp) #perp component of initial cm velocity\n",
    "    vtani=b.v-vperpi #tan component of initial cm velocity\n",
    "    vperpf=-c*vperpi #reverse perp component of cm velocity\n",
    "    Fperp=m*(vperpf-vperpi)/dt #compute Fperp\n",
    "    rpball=Rball*-1*norm(rcc) #rp relative to ball center\n",
    "    vprel=cross(b.omega,rpball) #velocity of collision point of ball relative to center\n",
    "    vptan=vprel+vtani #velocity of collision point of ball relative to Home frame\n",
    "    fhat=-norm(vptan) #direction of friction is opposite vptan\n",
    "    f=mu*mag(Fperp)*fhat #frictional force\n",
    "    vtanf=vtani+f/m*dt #update vtan of cm of ball\n",
    "    vf=vperpf+vtanf #compute vf from perp and tan components for cm of ball\n",
    "    b.v=vf\n",
    "    b.p=m*b.v #compute p of cm of ball\n",
    "    torque=cross(rpball,f) #torque on ball\n",
    "    omegai=b.omega\n",
    "    b.omega=b.omega+torque/I*dt #update omega\n",
    "    \n",
    "def writeLineToFile(aList):\n",
    "    # open file and append data to it\n",
    "    filename = open(\"data.txt\", \"a\")\n",
    "    filename.write('\\n')\n",
    "    filename.write('\\t'.join(map(str,aList)))        \n",
    "    filename.close()\n",
    "    \n",
    "#def reset():\n",
    "\n",
    "##################\n",
    "\n",
    "##################\n",
    "# Constants\n",
    "##################\n",
    "Rball=0.121285\n",
    "Rcyl=0.015875\n",
    "peglength=0.02\n",
    "m=0.62369\n",
    "c=0.63 #coefficient of restitution of ball and rim\n",
    "cboard=0.78 #coefficient of rest of ball and backboard\n",
    "mu=0.26 #coefficient of sliding friction of ball and rim\n",
    "I=2/3*m*Rball*Rball\n",
    "g=10\n",
    "##################\n",
    "\n",
    "\n",
    "##################\n",
    "# 3D objects\n",
    "##################\n",
    "peg=cylinder(pos=vector(0,0,peglength/2), axis=vector(0,0,-peglength), radius=Rcyl, color=color.red)\n",
    "peg2=cylinder(pos=vector(0.4572,0,peglength/2), axis=vector(0,0,-peglength), radius=Rcyl, color=color.red)\n",
    "floor=box(pos=vector(2,-3.048-0.05/2,0), size=vector(12,0.05,12), color=color.orange)\n",
    "ball=sphere(pos=vector(4.4185,floor.pos.y+floor.size.y/2+2.0066,0), radius=Rball, color=color.orange, make_trail=False)\n",
    "backboard=box(pos=vector(-0.153416,0.3,0), length=0.0127, width=1.8288, height=1.2192, color=color.white)\n",
    "backrim=box(pos=vector(-0.0635,0,0), length=0.153416, width=0.153416, height=0.015875, color=color.red)\n",
    "connectglass=box(pos=vector(-1.15,0,0), length=2, width=0.3048, height=0.3048, color=color.white)\n",
    "post=box(pos=vector(-2,-1.524,0), length=0.3048, width=0.3048, height=3.3528, color=color.white)\n",
    "FTline=box(pos=vector(4.4185,-3.048,0), size=vector(0.0508,0.08,3.9624), color=color.black)\n",
    "FTdown=box(pos=vector(1.55,-3.048,1.5), size=vector(5.7912,0.08,0.0508), color=color.black)\n",
    "FTline2=box(pos=vector(1.55,-3.048,-1.5), size=FTdown.size, color=color.black)\n",
    "Baseline=box(pos=vector(-1.37,-3.048,0), size=vector(0.0508,0.08,12), color=color.black)\n",
    "FTline3=box(pos=vector(1.55,-3.048,-1.957), size=FTdown.size, color=color.black)\n",
    "FTline4=box(pos=vector(1.55,-3.048,1.957), size=FTdown.size, color=color.black)\n",
    "\n",
    "Rrim=0.5*mag(peg.pos-peg2.pos)\n",
    "rim=ring(pos=peg2.pos+0.5*(peg.pos-peg2.pos), axis=vector(0,1,0), radius=Rrim, thickness=Rcyl, color=peg.color)\n",
    "FTarc=ring(pos=FTline.pos, axis=vector(0,1,0), radius=1.5, thickness=0.0508, color=color.black)\n",
    "ThreePT=ring(pos=Baseline.pos, axis=vector(0,1,0), radius=8.5344, thickness=0.0508, color=color.black)\n",
    "#################\n",
    "\n",
    "##################\n",
    "# Step Sizes and Max/Min Sizes\n",
    "##################\n",
    "vimin=7.315 #m/s\n",
    "vimax=7.40001 #m/s\n",
    "omegaizmin=-4*2*pi #z component in rad/s\n",
    "omegaizmax=0 #z component in rad/s\n",
    "thetamin=rad(49) #rad\n",
    "#thetamin=rad(49) #rad\n",
    "thetamax=rad(53) #rad\n",
    "Nrows=14 #number of distinct values of a variable is Nrows + 1\n",
    "dspeed=(vimax-vimin)/Nrows #m/s\n",
    "dtheta=(thetamax-thetamin)/Nrows #rad\n",
    "domega=(omegaizmax-omegaizmin)/Nrows #rad/s\n",
    "##################\n",
    "\n",
    "##################\n",
    "# Initial Conditions\n",
    "##################\n",
    "#ri=peg2.pos+0.5*peg2.axis+vector(0,1,0) #ball dropped from above front of rim, just for testing\n",
    "ri=vector(4.4185,floor.pos.y+floor.size.y/2+2.0066,0) #free throw\n",
    "vimag=vimin\n",
    "theta=thetamin #radians\n",
    "omegaiz=omegaizmin\n",
    "\n",
    "vi=vimag*vector(-cos(theta),sin(theta),0)\n",
    "ball.v=vi\n",
    "ball.pos=ri\n",
    "ball.omega=vector(0,0,omegaiz)\n",
    "\n",
    "ball.p=m*ball.v\n",
    "Fgrav=m*vector(0,-g,0)\n",
    "##################\n",
    "\n",
    "\n",
    "##################\n",
    "# Data to Record\n",
    "##################\n",
    "score=0 #1 or 0 depending on whether basketball goes through hoop or not\n",
    "rebound_pos=vector(0,0,0) #position of the ball as it passes the height of the rim\n",
    "##################\n",
    "\n",
    "##################\n",
    "# Data Column Headings\n",
    "##################\n",
    "headingList=['v_i (m/s)','theta (deg)','omega_i_z (rad/s)','score (1 or 0)','rebound_pos_x (m)','rebound_pos_y (m)']\n",
    "#writeLineToFile(headingList)\n",
    "filename = open(\"data.txt\", \"w\")\n",
    "filename.write('\\t'.join(map(str,headingList)))        \n",
    "filename.close()\n",
    "##################\n",
    "\n",
    "shots=0\n",
    "\n",
    "t=0\n",
    "dt=0.0025\n",
    "\n",
    "run=True\n",
    "ball.make_trail=True\n",
    "scene.waitfor(\"click\")\n",
    "\n",
    "while run:\n",
    "    shots=shots+1\n",
    "    while checkThatBallClearsRim(vi.y,ri.y):\n",
    "        rate(200)\n",
    "        Fnet=Fgrav\n",
    "        ball.p=ball.p+Fnet*dt\n",
    "        ball.pos=ball.pos+ball.p/m*dt\n",
    "        \n",
    "        if(checkCollisionBackboardFront(ball,backboard)):\n",
    "            ball.pos=ball.pos-ball.p/m*dt\n",
    "            ball.p.x=-cboard*ball.p.x\n",
    "            ball.pos=ball.pos+ball.p/m*dt\n",
    "            \n",
    "        if(checkCollisionBackboardTop(ball,backboard)):\n",
    "            ball.pos=ball.pos-ball.p/m*dt\n",
    "            ball.p.y=-cboard*ball.p.y\n",
    "            ball.pos=ball.pos+ball.p/m*dt\n",
    "            \n",
    "        if(checkCollision(ball,peg)):\n",
    "            calcCollisionPeg(ball,peg)\n",
    "    \n",
    "        if(checkCollision(ball,peg2)):\n",
    "            calcCollisionPeg(ball,peg2)\n",
    "            \n",
    "        if(t>50*2*vimax/g):\n",
    "            #the ball is probably stuck.        \n",
    "            score=0\n",
    "            dataList=[mag(vi),deg(theta),omegaiz,score,rebound_pos.x,rebound_pos.y]\n",
    "            writeLineToFile(dataList)\n",
    "            break\n",
    "    \n",
    "        t=t+dt\n",
    "        \n",
    "        if(ball.p.y<0 and ball.pos.y<peg.pos.y): #ball is traveling downward and center of ball crosses height of center of peg\n",
    "            rebound_pos=ball.pos\n",
    "            if(mag(rim.pos-ball.pos)<(rim.radius-ball.radius)): #ball passes through rim\n",
    "                score=1\n",
    "            else:\n",
    "                score=0\n",
    "            dataList=[mag(vi),deg(theta),omegaiz,score,rebound_pos.x,rebound_pos.y]\n",
    "            writeLineToFile(dataList)\n",
    "            break\n",
    "\n",
    "    run=False\n",
    "\n",
    "#print(\"shots=\",shots)\n"
   ]
  },
  {
   "cell_type": "markdown",
   "metadata": {
    "slideshow": {
     "slide_type": "subslide"
    }
   },
   "source": [
    "## Results\n",
    "\n",
    "<!--Angular speed = 5 rev/s-->\n",
    "\n",
    "<img src=\"shots.png\" width=450 align=\"center\">\n"
   ]
  },
  {
   "cell_type": "markdown",
   "metadata": {
    "slideshow": {
     "slide_type": "subslide"
    }
   },
   "source": [
    "# Example -- <span style=\"color:blue\">Junior/Senior Level</span>\n"
   ]
  },
  {
   "cell_type": "markdown",
   "metadata": {
    "slideshow": {
     "slide_type": "subslide"
    }
   },
   "source": [
    "A simple pendulum of length $b$ and  mass $m$ is suspended in a gravitational field $g$ from a point on the circumference of a thin low-mass disc of radius $R$ that rotates counterclockwise with a constant angular velocity $\\omega$ about is central axis as shown below.\n",
    "\n",
    "<img src=\"rotating-pendulum-support.png\" width=400>\n",
    "\n",
    "The equation of motion for the angle $\\theta$ of the pendulum with respect to the vertical is\n",
    "\n",
    "$$\\ddot{\\theta}=-\\omega^2\\frac{R}{b}\\cos{(\\theta + \\omega t)}-\\frac{g}{b}\\sin\\theta$$\n",
    "\n",
    "Using the Euler-Cromer method:\n",
    "\n",
    "1. calculate $\\ddot{\\theta}$\n",
    "2. update $\\dot{\\theta}$\n",
    "3. update $\\theta$\n",
    "\n",
    "In Python, this looks like:\n",
    "\n",
    "```python\n",
    "    thetadotdot=-omega**2*R/b*cos(theta+omega*t)-g/b*sin(theta)\n",
    "    thetadot=thetadot+thetadotdot*dt\n",
    "    theta=theta+thetadot*dt\n",
    "```\n"
   ]
  },
  {
   "cell_type": "code",
   "execution_count": null,
   "metadata": {
    "collapsed": false,
    "slideshow": {
     "slide_type": "subslide"
    }
   },
   "outputs": [],
   "source": [
    "scene=canvas(title=\"Pendulum hanging from rotating pivot\")\n",
    "\n",
    "omega=2*pi/2\n",
    "g=9.8\n",
    "b=1\n",
    "R=b/5\n",
    "\n",
    "phi=0\n",
    "theta=30*pi/180\n",
    "thetadot=0\n",
    "\n",
    "t=0\n",
    "dt=0.005\n",
    "\n",
    "rpivot=R*vector(cos(phi),sin(phi),0)\n",
    "bvec=b*vector(sin(theta),-cos(theta),0)\n",
    "r=bvec+rpivot\n",
    "\n",
    "wheel=cylinder(pos=vector(0,0,-R/10), axis=vector(0,0,R/10), radius=R, color=color.red)\n",
    "pivot=sphere(pos=rpivot, radius=R/20, color=color.yellow)\n",
    "pendulum=sphere(pos=r, radius=R/4, color=color.yellow, make_trail=True, retain=2000)\n",
    "string=cylinder(pos=pivot.pos, axis=bvec, radius=R/20, color=color.yellow)\n",
    "\n",
    "while t<10:\n",
    "    rate(100)\n",
    "    \n",
    "    thetadotdot=-omega**2*R/b*cos(theta+omega*t)-g/b*sin(theta)\n",
    "    thetadot=thetadot+thetadotdot*dt\n",
    "    theta=theta+thetadot*dt\n",
    "    \n",
    "    phi=phi+omega*dt\n",
    "    \n",
    "    rpivot=R*vector(cos(phi),sin(phi),0)\n",
    "    bvec=b*vector(sin(theta),-cos(theta),0)\n",
    "    r=bvec+rpivot\n",
    "    \n",
    "    pivot.pos=rpivot\n",
    "    pendulum.pos=r\n",
    "    string.pos=rpivot\n",
    "    string.axis=r-rpivot\n",
    "    \n",
    "    t=t+dt\n"
   ]
  },
  {
   "cell_type": "markdown",
   "metadata": {
    "slideshow": {
     "slide_type": "subslide"
    }
   },
   "source": [
    "## Example -- <span style=\"color:blue\">Junior/Senior Level</span>"
   ]
  },
  {
   "cell_type": "code",
   "execution_count": null,
   "metadata": {
    "collapsed": false,
    "slideshow": {
     "slide_type": "subslide"
    }
   },
   "outputs": [],
   "source": [
    "# Video by Peter Bohacek. See Direct Measurement Videos at:\n",
    "# http://serc.carleton.edu/dmvideos/index.html\n",
    "from IPython.display import HTML\n",
    "from base64 import b64encode\n",
    "video = open(\"video_disk_accelerated_rocket.mov\", \"rb\").read()\n",
    "video_encoded = b64encode(video)\n",
    "video_tag = '<video controls alt=\"test\" src=\"data:video/x-m4v;base64,{0}\">'.format(video_encoded)\n",
    "HTML(data=video_tag)"
   ]
  },
  {
   "cell_type": "code",
   "execution_count": null,
   "metadata": {
    "collapsed": false,
    "slideshow": {
     "slide_type": "subslide"
    }
   },
   "outputs": [],
   "source": [
    "#t (s) and omega (deg/s)\n",
    "\n",
    "data = \"\"\"\n",
    "0.033\t7.9\n",
    "0.067\t22.8\n",
    "0.1\t45.8\n",
    "0.133\t76.1\n",
    "0.167\t109.7\n",
    "0.2\t147.7\n",
    "0.234\t193.2\n",
    "0.267\t232.3\n",
    "0.3\t254.2\n",
    "0.334\t274.7\n",
    "0.367\t297.4\n",
    "0.4\t318.1\n",
    "0.434\t335.2\n",
    "0.467\t349.1\n",
    "0.501\t371.4\n",
    "0.534\t400.3\n",
    "0.567\t421.5\n",
    "0.601\t437.5\n",
    "0.634\t460.4\n",
    "0.667\t472.7\n",
    "0.701\t491.8\n",
    "0.734\t518.9\n",
    "0.767\t533.3\n",
    "0.801\t550.5\n",
    "0.834\t561.8\n",
    "0.868\t570.0\n",
    "0.901\t578.5\n",
    "0.934\t589.7\n",
    "0.968\t593.6\n",
    "1.001\t589.8\n",
    "1.034\t606.7\n",
    "1.068\t624.6\n",
    "1.101\t638.9\n",
    "1.134\t666.8\n",
    "1.168\t698.0\n",
    "1.201\t735.5\n",
    "1.235\t767.4\n",
    "1.268\t784.3\n",
    "1.301\t800.4\n",
    "1.335\t815.7\n",
    "1.368\t828.9\n",
    "1.401\t827.2\n",
    "1.435\t813.1\n",
    "1.468\t811.8\n",
    "1.502\t806.2\n",
    "1.535\t816.9\n",
    "1.568\t845.8\n",
    "1.602\t883.6\n",
    "1.635\t938.0\n",
    "1.668\t981.7\n",
    "1.702\t1012.1\n",
    "1.735\t1024.3\n",
    "1.768\t1027.8\n",
    "1.802\t1006.6\n",
    "1.835\t978.3\n",
    "1.869\t959.8\n",
    "1.902\t957.7\n",
    "1.935\t992.7\n",
    "1.969\t1052.1\n",
    "2.002\t1121.2\n",
    "2.035\t1169.7\n",
    "2.069\t1183.1\n",
    "2.102\t1157.3\n",
    "2.135\t1112.8\n",
    "2.169\t1065.2\n",
    "2.202\t1027.6\n",
    "2.236\t1016.7\n",
    "2.269\t1039.4\n",
    "2.302\t1088.5\n",
    "2.336\t1145.0\n",
    "2.369\t1181.2\n",
    "2.402\t1180.0\n",
    "2.436\t1154.2\n",
    "2.469\t1104.6\n",
    "2.503\t1048.4\n",
    "2.536\t1014.9\n",
    "2.569\t1017.1\n",
    "2.603\t1050.6\n",
    "2.636\t1094.9\n",
    "2.669\t1144.3\n",
    "2.703\t1178.7\n",
    "2.736\t1173.7\n",
    "2.769\t1142.8\n",
    "2.803\t1087.3\n",
    "2.836\t1045.6\n",
    "2.87\t1012.4\n",
    "2.903\t1005.5\n",
    "2.936\t1047.9\n",
    "2.97\t1096.2\n",
    "3.003\t1150.2\n",
    "3.036\t1171.1\n",
    "3.07\t1155.3\n",
    "3.103\t1130.6\n",
    "3.136\t1080.1\n",
    "3.17\t1029.0\n",
    "3.203\t1003.7\n",
    "3.237\t1004.3\n",
    "\"\"\".split('\\n')  # split this string on the \"newline\" character.\n",
    "\n",
    "print(len(data))"
   ]
  },
  {
   "cell_type": "code",
   "execution_count": null,
   "metadata": {
    "collapsed": false,
    "slideshow": {
     "slide_type": "subslide"
    }
   },
   "outputs": [],
   "source": [
    "#\n",
    "# Here we'll take the list of strings defined above and break it into actual numbers in \n",
    "# mks units.\n",
    "#\n",
    "\n",
    "tlist = []\n",
    "omegalist = []\n",
    "for s in data:\n",
    "    if s:\n",
    "        t,omega = s.split()     # break string in two\n",
    "        t=float(t)          # convert time to float\n",
    "        omega=float(omega)/180*pi #convert omega to float\n",
    "        tlist.append(t)\n",
    "        omegalist.append(omega)\n",
    "        \n",
    "#print \"tlist=\",tlist\n",
    "#print \"omegalist=\",omegalist\n",
    "\n",
    "#from numpy import *\n",
    "omegatheor=1.465*sin(19.21*array(tlist)+5.905)+19.12\n",
    "\n",
    "fig1 = plt.figure()\n",
    "fig1.set_size_inches(10, 6)\n",
    "plt.title('omega vs t')\n",
    "plt.xlabel('t (s)')\n",
    "plt.ylabel('omega (rad/s)')\n",
    "plt.plot(tlist, omegalist,'b.',tlist,omegatheor,'m-')\n",
    "plt.show"
   ]
  },
  {
   "cell_type": "markdown",
   "metadata": {
    "collapsed": true,
    "slideshow": {
     "slide_type": "slide"
    }
   },
   "source": [
    "# Summary\n",
    "\n",
    "Teaching numerical integration and tools like Jupyter and VPython enables problem-based learning at a higher level."
   ]
  },
  {
   "cell_type": "code",
   "execution_count": null,
   "metadata": {
    "collapsed": true
   },
   "outputs": [],
   "source": []
  }
 ],
 "metadata": {
  "celltoolbar": "Slideshow",
  "kernelspec": {
   "display_name": "Python 2",
   "language": "python",
   "name": "python2"
  },
  "language_info": {
   "codemirror_mode": {
    "name": "ipython",
    "version": 2
   },
   "file_extension": ".py",
   "mimetype": "text/x-python",
   "name": "python",
   "nbconvert_exporter": "python",
   "pygments_lexer": "ipython2",
   "version": "2.7.10"
  }
 },
 "nbformat": 4,
 "nbformat_minor": 0
}
