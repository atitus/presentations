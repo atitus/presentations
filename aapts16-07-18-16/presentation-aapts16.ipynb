{
 "cells": [
  {
   "cell_type": "markdown",
   "metadata": {
    "slideshow": {
     "slide_type": "slide"
    }
   },
   "source": [
    "# The Role of Computational Modeling in Engaging and Developing Successful Physics Students\n",
    "\n",
    "&nbsp;\n",
    "\n",
    "## Aaron Titus\n",
    "\n",
    "&nbsp;\n",
    "\n",
    "\n",
    "### High Point University"
   ]
  },
  {
   "cell_type": "markdown",
   "metadata": {
    "slideshow": {
     "slide_type": "skip"
    }
   },
   "source": [
    "## Presentation to the 2016 Summer Meeting of the American Association of Physics Teachers\n",
    "\n",
    "### Abstract\n",
    "\n",
    "Departmental learning objectives at High Point University include theory, experimental physics, and computational modeling. All three are important, and all three are woven into the four year curriculum. Physics students learn VPython in the introductory calculus-based physics course using \"Matter and Interactions\" by Ruth Chabay and Bruce Sherwood. Simultaneously, students engage in a year-long introductory research project that often includes both experimental and computational components. At the second year and beyond, students use Jupyter Notebook (formerly IPython Notebook) for computational modeling, data analysis, and informal communication of their work. This approach prepares students to use computational modeling as a tool for research and problem solving, starting in their first year. Furthermore, it has an extraordinary impact on growing a thriving department. I will provide details of our approach, examples of student work, and evidence of its impact. "
   ]
  },
  {
   "cell_type": "markdown",
   "metadata": {
    "slideshow": {
     "slide_type": "subslide"
    }
   },
   "source": [
    "<img src=\"you-got-this.jpg\" align=\"center\" width=\"700\">"
   ]
  },
  {
   "cell_type": "markdown",
   "metadata": {
    "slideshow": {
     "slide_type": "slide"
    }
   },
   "source": [
    "<img src=\"woz-and-aaron.jpg\" width=600 align=\"center\">"
   ]
  },
  {
   "cell_type": "markdown",
   "metadata": {
    "slideshow": {
     "slide_type": "subslide"
    }
   },
   "source": [
    "# Don’t get hung up on how it’s always been."
   ]
  },
  {
   "cell_type": "markdown",
   "metadata": {
    "slideshow": {
     "slide_type": "fragment"
    }
   },
   "source": [
    "[<img src=\"http://www.matterandinteractions.org/student/Mechanics/MI4eCover.png\" width=300 align=right>](http://www.matterandinteractions.org/index.html)\n",
    "\n",
    "* **2002** I moved to High Point University as the first and only full-time physics professor.\n",
    "* **2003** I started using *Matter and Interactions* by Ruth Chabay and Bruce Sherwood."
   ]
  },
  {
   "cell_type": "markdown",
   "metadata": {
    "slideshow": {
     "slide_type": "subslide"
    }
   },
   "source": [
    "# Every day we spend thinking is a lost day of doing."
   ]
  },
  {
   "cell_type": "markdown",
   "metadata": {
    "slideshow": {
     "slide_type": "fragment"
    }
   },
   "source": [
    "* **2009** Students initiate a physics degree. <a href=\"http://hacks.mit.edu/by_year/2012/tetris/\" target=\"new\"><img src=\"tetris.jpg\" align=\"right\" width=\"225\" alt=\"Hackers projected this idea in 1993.\"></a>\n",
    "* **2010** We start BS and BA degree programs in physics.\n",
    "* **2012** Our first graduating class (5).\n",
    "* **2013** Department of Physics begins.\n",
    "* **2016** Six seniors, 30 majors, 5 full-time faculty."
   ]
  },
  {
   "cell_type": "markdown",
   "metadata": {
    "slideshow": {
     "slide_type": "subslide"
    }
   },
   "source": [
    "# Go above and beyond."
   ]
  },
  {
   "cell_type": "markdown",
   "metadata": {
    "slideshow": {
     "slide_type": "fragment"
    }
   },
   "source": [
    "### How do you attract students to pay more than $40k per year to major in physics in a program that has few alumni and a short track record?\n",
    "\n",
    "<img src=\"nasa.jpg\" align=\"right\" width=\"300\">\n",
    "* Undergraduate research starting in the freshman year.\n",
    "* Projects: creativity, initiative, research, development.\n",
    "* Computational modeling."
   ]
  },
  {
   "cell_type": "markdown",
   "metadata": {
    "slideshow": {
     "slide_type": "skip"
    }
   },
   "source": [
    "### Teaching fundamental principles and computational modeling with *Matter and Interactions* had a significant influence on establishing and growing our program.\n",
    "\n",
    "Benefits are: <img src=\"Bloomtaxonomy.jpg\" align=right width=500 border=0>\n",
    "* student interest\n",
    "* student readiness for research \n",
    "* deeper connections to advanced courses\n",
    "* broader sense of scientific thinking and discovery"
   ]
  },
  {
   "cell_type": "markdown",
   "metadata": {
    "slideshow": {
     "slide_type": "skip"
    }
   },
   "source": [
    "\n",
    "If your students are not learning computational modeling, your program is falling behind.\n",
    "\n",
    "### AAPT Recommendations for Computational Physics in the Undergraduate Physics Curriculum--Rationale Part 1\n",
    "\n",
    " * Our degree programs should reflect the discipline of physics as it is currently practiced—and computation is now ubiquitous in the practice of physics, both in and outside of academia.\n",
    " * Computational skills are now essential in virtually all physics research and in the many STEM fields in which physics students find employment. So students need to learn these skills in order to carry out undergraduate research projects, to prepare for a research career, and to pursue careers in applied sciences, engineering, and other technical fields.\n"
   ]
  },
  {
   "cell_type": "markdown",
   "metadata": {
    "slideshow": {
     "slide_type": "skip"
    }
   },
   "source": [
    "Teaching computational modeling in introductory physics enables students to explore interesting problems earlier in their academic careers.\n",
    "\n",
    "### AAPT Recommendations for Computational Physics in the Undergraduate Physics Curriculum--Rationale Part 2\n",
    "\n",
    " * Computational tools empower students to solve a wider variety of problems, opening up important new learning opportunities that have traditionally been inaccessible to undergraduates.\n",
    " * A computational approach can give students a deeper appreciation for the power and generality of the fundamental laws of physics, as they apply these laws computationally, in addition to working with the closed-form solutions of special cases.\n",
    " * Having a computational model at hand can encourage students to develop a more exploratory approach to physics, asking “what if” questions and then using the model to obtain answers quickly."
   ]
  },
  {
   "cell_type": "markdown",
   "metadata": {
    "slideshow": {
     "slide_type": "slide"
    }
   },
   "source": [
    "# Computational Modeling in the First Year\n",
    "\n",
    "| Year  | Fall Semester | Spring Semester |\n",
    "| -- | -- | -- |\n",
    "| 1 | Calculus-Based Physics I (Modern Mechanics) <br><br> Introduction to Research and Scientific Writing I (Proposal) | Calculus-Based Physics II (Electric and Magnetic Interactions)  <br><br> Introduction to Research and Scientific Writing II (Project)  |\n"
   ]
  },
  {
   "cell_type": "markdown",
   "metadata": {
    "slideshow": {
     "slide_type": "subslide"
    }
   },
   "source": [
    "## First Semester of Calculus-Based Physics (Modern Mechanics)\n",
    "\n",
    "1. introduction to VPython\n",
    "* constant velocity\n",
    "* constant net force (fan cart)\n",
    "* projectile motion (including air resistance)\n",
    "* gravitational orbit\n",
    "* scattering of an alpha particle by a gold nucleus (Rutherford scattering)\n",
    "* simple harmonic motion (mass on a spring)\n"
   ]
  },
  {
   "cell_type": "markdown",
   "metadata": {
    "slideshow": {
     "slide_type": "skip"
    }
   },
   "source": [
    "## Position Update\n",
    "\n",
    "For a small time interval $\\Delta t$, \n",
    "\n",
    "$$\\vec{r}_{future} = \\vec{r}_{now} + \\vec{v}\\Delta t$$\n",
    "\n",
    "In VPython, if you create an object named **particle** then update its position using:\n",
    "\n",
    "```python\n",
    "particle.pos = particle.pos + v * dt\n",
    "```"
   ]
  },
  {
   "cell_type": "code",
   "execution_count": 1,
   "metadata": {
    "slideshow": {
     "slide_type": "slide"
    }
   },
   "outputs": [
    {
     "data": {
      "application/javascript": [
       "require.undef(\"nbextensions/vpython_libraries/glow.min\");"
      ],
      "text/plain": [
       "<IPython.core.display.Javascript object>"
      ]
     },
     "metadata": {},
     "output_type": "display_data"
    },
    {
     "data": {
      "application/javascript": [
       "require.undef(\"nbextensions/vpython_libraries/glowcomm\");"
      ],
      "text/plain": [
       "<IPython.core.display.Javascript object>"
      ]
     },
     "metadata": {},
     "output_type": "display_data"
    },
    {
     "data": {
      "application/javascript": [
       "require.undef(\"nbextensions/vpython_libraries/jquery-ui.custom.min\");"
      ],
      "text/plain": [
       "<IPython.core.display.Javascript object>"
      ]
     },
     "metadata": {},
     "output_type": "display_data"
    },
    {
     "data": {
      "application/javascript": [
       "require([\"nbextensions/vpython_libraries/glow.min\"], function(){console.log(\"GLOW LOADED\");})"
      ],
      "text/plain": [
       "<IPython.core.display.Javascript object>"
      ]
     },
     "metadata": {},
     "output_type": "display_data"
    },
    {
     "data": {
      "application/javascript": [
       "require([\"nbextensions/vpython_libraries/glowcomm\"], function(){console.log(\"GLOWCOMM LOADED\");})"
      ],
      "text/plain": [
       "<IPython.core.display.Javascript object>"
      ]
     },
     "metadata": {},
     "output_type": "display_data"
    },
    {
     "data": {
      "application/javascript": [
       "require([\"nbextensions/vpython_libraries/jquery-ui.custom.min\"], function(){console.log(\"JQUERY LOADED\");})"
      ],
      "text/plain": [
       "<IPython.core.display.Javascript object>"
      ]
     },
     "metadata": {},
     "output_type": "display_data"
    },
    {
     "data": {
      "text/html": [
       "<div id=\"glowscript\" class=\"glowscript\"></div>"
      ],
      "text/plain": [
       "<IPython.core.display.HTML object>"
      ]
     },
     "metadata": {},
     "output_type": "display_data"
    },
    {
     "data": {
      "application/javascript": [
       "window.__context = { glowscript_container: $(\"#glowscript\").removeAttr(\"id\")}"
      ],
      "text/plain": [
       "<IPython.core.display.Javascript object>"
      ]
     },
     "metadata": {},
     "output_type": "display_data"
    }
   ],
   "source": [
    "#Import Packages\n",
    "#\n",
    "# This step depends on the platform: GlowScript, Jupyter Notebook, \n",
    "# or Classic VPython.\n",
    "\n",
    "from __future__ import division, print_function\n",
    "from math import *\n",
    "from numpy import arange\n",
    "#import matplotlib.pyplot as plt\n",
    "\n",
    "from vpython import *\n",
    "\n",
    "#%matplotlib inline"
   ]
  },
  {
   "cell_type": "code",
   "execution_count": 2,
   "metadata": {
    "slideshow": {
     "slide_type": "slide"
    }
   },
   "outputs": [
    {
     "data": {
      "text/html": [
       "<div id=\"glowscript\" class=\"glowscript\"></div>"
      ],
      "text/plain": [
       "<IPython.core.display.HTML object>"
      ]
     },
     "metadata": {},
     "output_type": "display_data"
    },
    {
     "data": {
      "application/javascript": [
       "window.__context = { glowscript_container: $(\"#glowscript\").removeAttr(\"id\")}"
      ],
      "text/plain": [
       "<IPython.core.display.Javascript object>"
      ]
     },
     "metadata": {},
     "output_type": "display_data"
    }
   ],
   "source": [
    "#uniform motion -- a ball on a level track\n",
    "\n",
    "scene=canvas(title=\"Constant Velocity\", height=250, width=600)\n",
    " \n",
    "ball=sphere(pos=vector(-1.5,0,0), radius=0.05, color=color.cyan)\n",
    "track=box(pos=vector(0,-0.075,0), size=vector(3,0.05,0.1), color=color.white)\n",
    "\n",
    "v=2*vector(0.3,0,0)\n",
    "\n",
    "dt=0.01\n",
    "t=0\n",
    "\n",
    "while ball.pos.x<1.5:\n",
    "    rate(100)\n",
    "    ball.pos = ball.pos + v*dt\n",
    "    t=t+dt"
   ]
  },
  {
   "cell_type": "code",
   "execution_count": null,
   "metadata": {
    "slideshow": {
     "slide_type": "skip"
    }
   },
   "outputs": [],
   "source": [
    "#uniform motion -- a ball on a level track\n",
    "\n",
    "scene=canvas(title=\"Constant Velocity\", height=250, width=600)\n",
    "\n",
    "ball=sphere(pos=vector(-1.5,0,0), radius=0.05, color=color.cyan)\n",
    "track=box(pos=vector(0,-0.075,0), size=vector(3,0.05,0.1), color=color.white)\n",
    "\n",
    "rarrow=arrow(pos=vector(0,-0.8*ball.radius,ball.radius), axis=ball.pos, color=color.yellow, shaftwidth=0.025)\n",
    "drarrow=arrow(pos=vector(0,0,ball.radius), axis=vec(0,0,0), color=color.magenta, shaftwidth=0.025)\n",
    "\n",
    "v=vector(0.3,0,0)\n",
    "\n",
    "dt=1\n",
    "t=0\n",
    "\n",
    "scene.waitfor('click')\n",
    "while ball.pos.x<1.5:\n",
    "    rate(1)\n",
    "    drarrow.pos=ball.pos+vector(0,0,ball.radius)\n",
    "    rf = ball.pos + v*dt\n",
    "    drarrow.axis=rf-drarrow.pos\n",
    "    scene.waitfor('click')\n",
    "    strobeimage=sphere(pos=ball.pos, color=ball.color, radius=ball.radius, opacity=ball.opacity/2)\n",
    "    ball.pos=rf\n",
    "    rarrow.axis=ball.pos\n",
    "    scene.waitfor('click')\n",
    "    drarrow.axis=vector(0,0,0)\n",
    "#    rarrow.axis=vector(0,0,0)\n",
    "    scene.waitfor('click')\n",
    "    t=t+dt  "
   ]
  },
  {
   "cell_type": "markdown",
   "metadata": {
    "slideshow": {
     "slide_type": "skip"
    }
   },
   "source": [
    "## Momentum Update\n",
    "\n",
    "For a small time interval $\\Delta t$,\n",
    "\n",
    "$$\\vec{p}_{future}=\\vec{p}_{now} + \\vec{F}_{net,now}\\Delta t$$\n",
    "\n",
    "This is the **update form** of the Momentum Principle.\n",
    "\n",
    "<img src=\"Fig2-23.jpg\" width=700>\n",
    "from Chabay and Sherwood, *Matter and Interactions*, 4th edition, Wiley (2015)"
   ]
  },
  {
   "cell_type": "markdown",
   "metadata": {
    "slideshow": {
     "slide_type": "skip"
    }
   },
   "source": [
    "The momentum now contains the history of the impulses on the particle, but the future momentum depends on the net force now.\n",
    "\n",
    "<img src=\"Fig2-1920.png\" width=750>\n",
    "from Chabay and Sherwood, *Matter and Interactions*, 4th edition, Wiley (2015)"
   ]
  },
  {
   "cell_type": "markdown",
   "metadata": {
    "slideshow": {
     "slide_type": "slide"
    }
   },
   "source": [
    "# Euler-Cromer Method"
   ]
  },
  {
   "cell_type": "markdown",
   "metadata": {
    "slideshow": {
     "slide_type": "subslide"
    }
   },
   "source": [
    "1. Calculate the net force on the particle.\n",
    "2. Update the particle's momentum.\n",
    "3. Update the particle's position.\n",
    "\n",
    "For non-relativistic motion,\n",
    "\n",
    "$$\\vec{v}\\approx \\vec{v}_f \\approx \\frac{\\vec{p}}{m}.$$\n",
    "\n",
    "For an object named __particle__, the VPython code looks like this.\n",
    "\n",
    "```python\n",
    "    Fnet = #vector(0,-mg,0) for example\n",
    "    p = p + Fnet * dt\n",
    "    particle.pos = particle.pos + p/m * dt\n",
    "```"
   ]
  },
  {
   "cell_type": "markdown",
   "metadata": {
    "slideshow": {
     "slide_type": "subslide"
    }
   },
   "source": [
    "Comparing Euler, Improved Euler, and Euler-Cromer for a simple pendulum (Edward Fuselier, High Point University)\n",
    "<img src=\"euler-comparison.png\" align=\"center\" width=700>"
   ]
  },
  {
   "cell_type": "code",
   "execution_count": null,
   "metadata": {
    "slideshow": {
     "slide_type": "skip"
    }
   },
   "outputs": [],
   "source": [
    "scene=canvas(title=\"Orbit\", height=500, width=600)\n",
    "\n",
    "sun=sphere(radius=7e9, pos=vector(0,0,0), color=color.yellow)\n",
    "earth=sphere(radius=6.4e9, pos=vector(1.5e11,0,0), color=color.blue, make_trail=True, retain=400)\n",
    "\n",
    "sun.m=2e30\n",
    "earth.m=6e24\n",
    "G=6.7e-11\n",
    "\n",
    "earth.v=vector(0,2.9889e4,0)\n",
    "earth.p=earth.m*earth.v\n",
    "\n",
    "t=0\n",
    "secinday=24*3600\n",
    "dt=0.1*secinday\n",
    "\n",
    "scene.waitfor(\"click\")\n",
    "\n",
    "while t<1*365*secinday:\n",
    "    rate(300)\n",
    "\n",
    "    r=earth.pos-sun.pos\n",
    "    rmag=mag(r)\n",
    "    rhat=r/rmag\n",
    "    \n",
    "    Fgrav=(G*earth.m*sun.m/rmag**2)*(-rhat)\n",
    "    earth.p=earth.p+Fgrav*dt\n",
    "    earth.pos=earth.pos+(earth.p/earth.m)*dt\n",
    "\n",
    "    t=t+dt\n"
   ]
  },
  {
   "cell_type": "code",
   "execution_count": null,
   "metadata": {
    "slideshow": {
     "slide_type": "subslide"
    }
   },
   "outputs": [],
   "source": [
    "\n",
    "scene=canvas(title=\"Orbit\", height=500, width=600)\n",
    "\n",
    "sun=sphere(radius=7e9, pos=vector(0,0,0), color=color.yellow)\n",
    "earth=sphere(radius=6.4e9, pos=vector(1.5e11,0,0), color=color.blue, make_trail=True, retain=400)\n",
    "\n",
    "sun.m=2e30\n",
    "earth.m=6e24\n",
    "G=6.7e-11\n",
    "\n",
    "earth.v=vector(0,2.9889e4,0)\n",
    "earth.p=earth.m*earth.v\n",
    "\n",
    "t=0\n",
    "secinday=24*3600\n",
    "#dt=7*secinday\n",
    "dt=30*secinday\n",
    "\n",
    "arrowScale=0.5*1.5e11/mag(earth.p)\n",
    "pArrow=arrow(pos=earth.pos, axis=vector(0,0,0), color=color.blue)\n",
    "dpArrow=arrow(pos=pArrow.pos+pArrow.axis, axis=vector(0,0,0), color=color.red)\n",
    "pfArrow=arrow(pos=earth.pos, axis=vector(0,0,0), color=color.cyan)\n",
    "drArrow=arrow(pos=earth.pos,axis=vector(0,0,0), color=color.white)\n",
    "\n",
    "\n",
    "r=earth.pos-sun.pos\n",
    "rmag=mag(r)\n",
    "rhat=r/rmag\n",
    "Fgrav=(G*earth.m*sun.m/rmag**2)*(-rhat)\n",
    "\n",
    "rf=earth.pos\n",
    "pf=earth.p\n",
    "\n",
    "while t<0.5*365*secinday:\n",
    "#    rate(300)\n",
    "    rate(1)\n",
    "\n",
    "    r=earth.pos-sun.pos\n",
    "    rmag=mag(r) \n",
    "    rhat=r/rmag\n",
    " \n",
    "    Fgrav=(G*earth.m*sun.m/rmag**2)*(-rhat)\n",
    "    pf=earth.p+Fgrav*dt\n",
    "    dp=Fgrav*dt\n",
    "    rf=earth.pos+(pf/earth.m)*dt\n",
    "    dr=rf-earth.pos\n",
    " \n",
    "    pArrow.pos=earth.pos\n",
    "    pArrow.axis=arrowScale*(earth.p)\n",
    "    scene.waitfor(\"click\")\n",
    "\n",
    "#    dpArrow.pos=pArrow.pos+pArrow.axis\n",
    "    dpArrow.pos=pArrow.pos\n",
    "    dpArrow.axis=dp*arrowScale\n",
    "    scene.waitfor(\"click\")    \n",
    "\n",
    "    dpArrow.pos=pArrow.pos+pArrow.axis    \n",
    "    pfArrow.pos=earth.pos\n",
    "    pfArrow.axis=dpArrow.pos+dpArrow.axis-pfArrow.pos\n",
    "    scene.waitfor(\"click\")\n",
    "    \n",
    "    drArrow.pos=earth.pos\n",
    "    drArrow.axis=rf-earth.pos\n",
    "    scene.waitfor(\"click\")\n",
    "    \n",
    "\n",
    "    pArrow.axis=vector(0,0,0)\n",
    "    dpArrow.axis=vector(0,0,0)\n",
    "    pfArrow.axis=vector(0,0,0)\n",
    "\n",
    "    earth.p=pf\n",
    "    earth.pos=rf\n",
    "\n",
    "    t=t+dt  \n",
    " "
   ]
  },
  {
   "cell_type": "code",
   "execution_count": null,
   "metadata": {
    "slideshow": {
     "slide_type": "subslide"
    }
   },
   "outputs": [],
   "source": [
    "\n",
    "scene=canvas(title=\"Orbit\", height=500, width=600)\n",
    "\n",
    "sun=sphere(radius=7e9, pos=vector(0,0,0), color=color.yellow)\n",
    "earth=sphere(radius=6.4e9, pos=vector(1.5e11,0,0), color=color.blue, make_trail=True, retain=400)\n",
    "\n",
    "sun.m=2e30\n",
    "earth.m=6e24\n",
    "G=6.7e-11\n",
    "\n",
    "earth.v=vector(0,2.9889e4,0)\n",
    "earth.p=earth.m*earth.v\n",
    "\n",
    "t=0\n",
    "secinday=24*3600\n",
    "dt=7*secinday\n",
    "#dt=30*secinday\n",
    "\n",
    "arrowScale=0.5*1.5e11/mag(earth.p)\n",
    "pArrow=arrow(pos=earth.pos, axis=vector(0,0,0), color=color.blue)\n",
    "dpArrow=arrow(pos=pArrow.pos+pArrow.axis, axis=vector(0,0,0), color=color.red)\n",
    "pfArrow=arrow(pos=earth.pos, axis=vector(0,0,0), color=color.cyan)\n",
    "drArrow=arrow(pos=earth.pos,axis=vector(0,0,0), color=color.white)\n",
    "\n",
    "\n",
    "r=earth.pos-sun.pos\n",
    "rmag=mag(r)\n",
    "rhat=r/rmag\n",
    "Fgrav=(G*earth.m*sun.m/rmag**2)*(-rhat)\n",
    "\n",
    "rf=earth.pos\n",
    "pf=earth.p\n",
    "\n",
    "scene.waitfor(\"click\")    \n",
    "\n",
    "while t<1.01*365*secinday:\n",
    "#    rate(300)\n",
    "    rate(30)\n",
    "\n",
    "    r=earth.pos-sun.pos\n",
    "    rmag=mag(r) \n",
    "    rhat=r/rmag\n",
    "\n",
    "    Fgrav=(G*earth.m*sun.m/rmag**2)*(-rhat)\n",
    "    pf=earth.p+Fgrav*dt\n",
    "    dp=Fgrav*dt\n",
    "    rf=earth.pos+(pf/earth.m)*dt\n",
    "    dr=rf-earth.pos\n",
    "    earth.p=pf\n",
    "    earth.pos=rf\n",
    "\n",
    "    pArrow.pos=earth.pos\n",
    "    pArrow.axis=arrowScale*(earth.p)\n",
    "#    scene.waitfor(\"click\")\n",
    "\n",
    "#    dpArrow.pos=pArrow.pos+pArrow.axis\n",
    "    dpArrow.pos=pArrow.pos\n",
    "    dpArrow.axis=dp*arrowScale\n",
    "#    scene.waitfor(\"click\")    \n",
    "\n",
    "    dpArrow.pos=pArrow.pos+pArrow.axis    \n",
    "    pfArrow.pos=earth.pos\n",
    "    pfArrow.axis=dpArrow.pos+dpArrow.axis-pfArrow.pos\n",
    "#    scene.waitfor(\"click\")\n",
    "    \n",
    "    drArrow.pos=earth.pos\n",
    "    drArrow.axis=rf-earth.pos\n",
    "#    scene.waitfor(\"click\")\n",
    "    \n",
    "\n",
    "#    pArrow.axis=vector(0,0,0)\n",
    "#    dpArrow.axis=vector(0,0,0)\n",
    "#    pfArrow.axis=vector(0,0,0)\n",
    "\n",
    "\n",
    "    t=t+dt  \n",
    " "
   ]
  },
  {
   "cell_type": "markdown",
   "metadata": {
    "slideshow": {
     "slide_type": "slide"
    }
   },
   "source": [
    "# HW Problem -- <span style=\"color:blue\">Travel to Mars</span>\n",
    "\n",
    " <img src=\"book-cover.jpeg\" width=30% align=\"right\">\n",
    " \n",
    "1. How long does it take for a rocket to travel from Earth to Mars? \n",
    "2. If you miss your flight, how long do you have to wait before the next launch?"
   ]
  },
  {
   "cell_type": "code",
   "execution_count": null,
   "metadata": {
    "slideshow": {
     "slide_type": "subslide"
    }
   },
   "outputs": [],
   "source": [
    "launchday=115 #day to launch\n",
    "rinitial=5.6*6.4e6 #initial distance of rocket from center of earth\n",
    "marsrocketdist=500*6.8e6 #distance from mars considered a success\n",
    "vinitial=5e3 #initial speed of rocket\n",
    "v = vinitial*norm(vec(-2,-4.6, 0)) #initial velocity of rocket; change the direction only\n",
    "\n",
    "#pos unit is m\n",
    "#time unit is s\n",
    "\n",
    "#pos and vel generated by http://ssd.jpl.nasa.gov/horizons.cgi\n",
    "#Aug 29, 2015\n",
    "#\n",
    "#marspos=1000*vec(-1.181709819034665E+08,2.135080519845017E+08,7.374088994160607E+06)\n",
    "#marsvel=1000*vec(-2.028048448328753E+01,-9.673026032986073E+00,2.950692988087513E-01)\n",
    "#earthpos=1000*vec(1.371047699606275E+08,-6.350801741095807E+07,1.351169558763504E+03)\n",
    "#earthvel=1000*vec(1.202828172495448E+01,2.690745455098789E+01,-2.702441879165463E-07)\n",
    "\n",
    "#no z components\n",
    "marspos=1000*vec(-1.181709819034665E+08,2.135080519845017E+08,0)\n",
    "marsvel=1000*vec(-2.028048448328753E+01,-9.673026032986073E+00,0)\n",
    "earthpos=1000*vec(1.371047699606275E+08,-6.350801741095807E+07,0)\n",
    "earthvel=1000*vec(1.202828172495448E+01,2.690745455098789E+01,0)\n",
    "\n",
    "#constants\n",
    "AU=1000*149597871 #AU in m\n",
    "G=6.67384e-11\n",
    "\n",
    "#diameters used for drawing sun, mars, and earth; diameters are not to scale\n",
    "Dsun=0.2*AU\n",
    "Dearth=0.1*AU\n",
    "Dmars=0.1*AU\n",
    "\n",
    "#mass\n",
    "Msun=1.989e30\n",
    "Mearth=5.97219e24\n",
    "Mmars=6.4185e23\n",
    "Mrocket=1e4\n",
    "\n",
    "#time\n",
    "day=24*3600\n",
    "dt=2*3600\n",
    "t=0\n",
    "\n",
    "#set up 3D scene\n",
    "scene=canvas(title=\"Rocket to Mars\", height=600, width=600, userspin=False, userzoom=True)\n",
    "#scene.append_to_title(\"\"\"<br>Click the simulation to begin.\"\"\")\n",
    "#scene.append_to_title(\"\"\"<br><br>Assumptions include:\"\"\")\n",
    "#scene.append_to_title(\"\"\"<br>1. The velocity of the rocket at an altitude of 2 earth radii is 5 km/s in the direction shown by the arrow.\"\"\")\n",
    "#scene.append_to_title(\"\"\"<br>2. The thrusters are off during the entire flight. The net force on the rocket is the gravitational force by the Sun, Earth, and Mars.<br><br>\"\"\")\n",
    "\n",
    "#scales for arrows\n",
    "scale1=Dsun\n",
    "\n",
    "# set up 3D objects\n",
    "sun=sphere(dispay=scene, pos=vec(0,0,0), radius=Dsun/2, color=color.yellow)\n",
    "mars=sphere(dispay=scene, pos=marspos, radius=Dmars/2, color=color.red, make_trail=True)\n",
    "earth=sphere(dispay=scene, pos=earthpos, radius=Dearth/2, color=color.blue, make_trail=True)\n",
    "rocket=sphere( pos=earth.pos+rinitial*norm(v), radius=earth.radius/2, color=color.orange, make_trail=True)\n",
    "rocketarrow1=arrow(dispay=scene, pos=earth.pos, axis=scale1*norm(v), color=color.white)\n",
    "\n",
    "# create trails\n",
    "#marstrail=attach_trail(mars, radius=0.2*Dmars, trail_type=\"points\", interval=2, retain=1000)\n",
    "#earthtrail=attach_trail(earth, radius=0.2*Dearth, trail_type=\"points\", interval=2, retain=1000)\n",
    "#rockettrail=attach_trail(rocket, radius=0.2*rocket.radius, trail_type=\"points\", interval=2, retain=1000)\n",
    "#rockettrail.stop\n",
    "\n",
    "#create strings and labels\n",
    "tstr=\"Time: {:.0f} days\".format(0)\n",
    "tlabel=label(pos=vector(0,1.2*mag(marspos),0), text=tstr)\n",
    "launchstr=\"Starting Date: Aug. 29, 2015. \\n\"+str(launchday)+\" days until launch. \\n Click to Run.\"\n",
    "launchlabel=label(pos=vector(0,-1.2*mag(marspos),0), text=launchstr)\n",
    "\n",
    "#set the range\n",
    "scene.range=1.5*mag(marspos)\n",
    "\n",
    "#this function is called when the rocket is launched\n",
    "# it sets booleans and sets the initial velocitiy and momentum of the rocket\n",
    "def launchRocket():\n",
    "    global vrocket, procket, rocketLaunched, justNowLaunched\n",
    "    rocketLaunched=True\n",
    "    justNowLaunched=True\n",
    "    vrocket=vearth+v\n",
    "    procket=Mrocket*vrocket\n",
    "\n",
    "# initial positions, velocities, and momenta of all objects\n",
    "earth.pos=earthpos\n",
    "rocket.pos=earthpos\n",
    "mars.pos=marspos\n",
    "vearth=earthvel\n",
    "vrocket=earthvel+v\n",
    "vmars=marsvel\n",
    "pearth=Mearth*vearth\n",
    "pmars=Mmars*vmars\n",
    "procket=Mrocket*vrocket\n",
    "\n",
    "#booleans\n",
    "rocketLaunched=False\n",
    "run = False\n",
    "justNowLaunched=False\n",
    "\n",
    "# pause and then change the message\n",
    "scene.waitfor('click')\n",
    "launchstr=\"Launch Day \"+str(launchday)\n",
    "launchlabel.text=launchstr\n",
    "\n",
    "\n",
    "while True:\n",
    "        rate(200)\n",
    "\n",
    "        #earth\n",
    "        r=earth.pos-sun.pos\n",
    "        rmag=mag(r)\n",
    "        runit=norm(r)\n",
    "        Fearth=-G*Msun*Mearth/rmag**2*runit\n",
    "        pearth=pearth+Fearth*dt\n",
    "        vearth=pearth/Mearth\n",
    "        earth.pos=earth.pos+pearth/Mearth*dt\n",
    "        \n",
    "        #mars\n",
    "        r=mars.pos-sun.pos\n",
    "        rmag=mag(r)\n",
    "        runit=norm(r)\n",
    "        Fmars=-G*Msun*Mmars/rmag**2*runit\n",
    "        pmars=pmars+Fmars*dt\n",
    "        mars.pos=mars.pos+pmars/Mmars*dt\n",
    "        \n",
    "        #rocket\n",
    "        # launched, then compute Fnet, procket, and rocket.pos\n",
    "        if(rocketLaunched):\n",
    "            rocketarrow1.visible=False\n",
    "            #F by earth\n",
    "            r=rocket.pos-earth.pos\n",
    "            rmag=mag(r)\n",
    "            runit=norm(r)\n",
    "            Frocket_earth=-G*Mrocket*Mearth/rmag**2*runit\n",
    "            #F by sun\n",
    "            r=rocket.pos-sun.pos\n",
    "            rmag=mag(r)\n",
    "            runit=norm(r)\n",
    "            Frocket_sun=-G*Mrocket*Msun/rmag**2*runit\n",
    "            #F by mars\n",
    "            r=rocket.pos-mars.pos\n",
    "            rmag=mag(r)\n",
    "            runit=norm(r)\n",
    "            Frocket_mars=-G*Mrocket*Mmars/rmag**2*runit\n",
    "            #Fnet\n",
    "            Fnet=Frocket_sun+Frocket_earth+Frocket_mars\n",
    "            procket=procket+Fnet*dt\n",
    "            rocket.pos=rocket.pos+procket/Mrocket*dt\n",
    "            if(justNowLaunched):\n",
    "                justNowLaunched=False\n",
    "        #if not launched, just make the rocket at earth's position\n",
    "        else:\n",
    "            rocket.pos=earth.pos\n",
    "\n",
    "        #rocketarrow\n",
    "        rocketarrow1.pos=rocket.pos\n",
    "\n",
    "        #update time and label\n",
    "        t=t+dt\n",
    "        tstr=\"Time: {:.0f} days\".format(t/day)\n",
    "        tlabel.text=tstr\n",
    "\n",
    "        #launch rocket on the launch day        \n",
    "        if(t/day>launchday and rocketLaunched==False):\n",
    "            launchRocket()\n",
    "        \n",
    "        #arrival at Mars\n",
    "        if(mag(rocket.pos-mars.pos)<marsrocketdist):\n",
    "            launchstr=\"Arrival at Mars. \\nTravel time = {:.0f} days\".format(t/day-115)\n",
    "            launchlabel.text=launchstr\n",
    "            scene.waitfor('click')\n",
    "\n"
   ]
  },
  {
   "cell_type": "markdown",
   "metadata": {
    "slideshow": {
     "slide_type": "slide"
    }
   },
   "source": [
    "## Introduction to Research and Scientific Writing I\n",
    "Developed by Briana Fiser, High Point University\n",
    "\n",
    "* how to conduct an experiment\n",
    "* uncertainty analysis\n",
    "* searching for journal articles\n",
    "* write a research proposal"
   ]
  },
  {
   "cell_type": "markdown",
   "metadata": {
    "slideshow": {
     "slide_type": "slide"
    }
   },
   "source": [
    "# Spring Semester"
   ]
  },
  {
   "cell_type": "markdown",
   "metadata": {
    "slideshow": {
     "slide_type": "subslide"
    }
   },
   "source": [
    "## Second Semester of Calculus-Based Physics (Electric and Magnetic Interactions)\n",
    "\n",
    "1. electric field due to a charged particle\n",
    "* electric field due to a dipole (superposition)\n",
    "* electric field due to a uniformly charged rod\n",
    "* motion of a charged particle in an electric field\n",
    "* magnetic field due to a charged particle with constant velocity\n",
    "* motion of a charged particle in a uniform magnetic field\n"
   ]
  },
  {
   "cell_type": "code",
   "execution_count": null,
   "metadata": {
    "slideshow": {
     "slide_type": "subslide"
    }
   },
   "outputs": [],
   "source": [
    "# Compute the electric field at a location rP due to a charged rod of length L\n",
    "#   and charge Q by breaking the rod into N pieces.\n",
    "#\n",
    "# Cyan color arrow is r.\n",
    "# Yellow color arrow is E due to a piece of the rod.\n",
    "# White color arrow is the net E for pieces 1 through n.\n",
    "#\n",
    "\n",
    "N=6 #total number of pieces\n",
    "L=1.0 #length of rod in m\n",
    "\n",
    "#create the scene\n",
    "scene=canvas(title=\"Electric Field Due to a Uniformly Charged Rod\")\n",
    "rod=cylinder(pos=vector(0,-L/2,0), axis=vector(0,L,0), radius=L/50, color=color.red)\n",
    "\n",
    "#create the arrows\n",
    "rArrow=arrow(pos=vector(0,0,0), axis=vector(0,0,0), color=color.cyan)\n",
    "EnetArrow=arrow(pos=vector(0,0,0), axis=vector(0,0,0), color=color.white)\n",
    "scale=1/1.8e5\n",
    "\n",
    "k=9e9 #1/(4pi epsilon_0) in N m^2/C^2\n",
    "Q=1e-6 #charge of rod in C\n",
    "\n",
    "dq=Q/N #charge of a piece of the rod\n",
    "dy=L/N #length of a piece of the rod\n",
    "\n",
    "rP=vector(0.1,0,0) #location of a point P in space\n",
    "\n",
    "n=1 # piece counter used for the loop; piece 1 is the piece at the top of the vertical rod\n",
    "\n",
    "Epiece=vector(0,0,0) #E at point P due to a single piece\n",
    "Enet=vector(0,0,0) #net E at point P due to all pieces\n",
    "EnetArrow.pos=rP\n",
    "\n",
    "while n<N+1:\n",
    "    #wait for a mouseclick\n",
    "    scene.waitfor(\"click\")\n",
    "\n",
    "    rpiece=vector(0,L/2-(2*n-1)*dy/2,0) #position of midpoint of piece n    \n",
    "\n",
    "    #draw a sphere at each piece\n",
    "    sphere(pos=rpiece, radius=1.5*rod.radius, color=rArrow.color)\n",
    "    \n",
    "    r=rP-rpiece #relative position vector\n",
    "    rmag=mag(r) #magnitude of r\n",
    "    rhat=r/rmag #r unit vector\n",
    "    Epiece=k*dq/rmag**2*rhat #E due to piece n\n",
    "    Enet=Enet+Epiece #Enet due to all pieces 1 through n\n",
    "    n=n+1 #increment to the next piece\n",
    "    \n",
    "    #update arrows\n",
    "    rArrow.pos=rpiece\n",
    "    rArrow.axis=r\n",
    "    EpieceArrow=arrow(pos=vector(0,0,0), axis=vector(0,0,0), color=color.yellow)\n",
    "    EpieceArrow.pos=rP\n",
    "    EpieceArrow.axis=scale*Epiece\n",
    "    EnetArrow.axis=scale*Enet\n",
    "\n",
    "scene.waitfor('click')\n",
    "rArrow.visible=False\n",
    "EnetArrow.shaftwidth=0.05*mag(EnetArrow.axis)\n",
    "print(\"The net electric field at point P = \",Enet, \"N/C\") "
   ]
  },
  {
   "cell_type": "code",
   "execution_count": null,
   "metadata": {
    "slideshow": {
     "slide_type": "subslide"
    }
   },
   "outputs": [],
   "source": [
    "# Compute the electric field at a location rP due to a charged rod of length L\n",
    "#   and charge Q by breaking the rod into N pieces.\n",
    "#\n",
    "# Cyan color arrow is r.\n",
    "# Yellow color arrow is E due to a piece of the rod.\n",
    "# White color arrow is the net E for pieces 1 through n.\n",
    "#\n",
    "\n",
    "N=20 #total number of pieces\n",
    "L=1.0 #length of rod in m\n",
    "\n",
    "#create the scene\n",
    "scene=canvas(title=\"Electric Field Due to a Uniformly Charged Rod\")\n",
    "rod=cylinder(pos=vector(0,-L/2,0), axis=vector(0,L,0), radius=L/50, color=color.red)\n",
    "\n",
    "#create the arrows\n",
    "rArrow=arrow(pos=vector(0,0,0), axis=vector(0,0,0), color=color.cyan)\n",
    "EnetArrow=arrow(pos=vector(0,0,0), axis=vector(0,0,0), color=color.white)\n",
    "scale=1/1.8e5\n",
    "\n",
    "k=9e9 #1/(4pi epsilon_0) in N m^2/C^2\n",
    "Q=1e-6 #charge of rod in C\n",
    "\n",
    "dq=Q/N #charge of a piece of the rod\n",
    "dy=L/N #length of a piece of the rod\n",
    "\n",
    "rP=vector(0.1,0,0) #location of a point P in space\n",
    "\n",
    "n=1 # piece counter used for the loop; piece 1 is the piece at the top of the vertical rod\n",
    "\n",
    "Epiece=vector(0,0,0) #E at point P due to a single piece\n",
    "Enet=vector(0,0,0) #net E at point P due to all pieces\n",
    "EnetArrow.pos=rP\n",
    "\n",
    "#wait for a mouseclick\n",
    "scene.waitfor(\"click\")\n",
    "\n",
    "while n<N+1:\n",
    "\n",
    "    rpiece=vector(0,L/2-(2*n-1)*dy/2,0) #position of midpoint of piece n    \n",
    "\n",
    "    #draw a sphere at each piece\n",
    "    sphere(pos=rpiece, radius=1.5*rod.radius, color=rArrow.color)\n",
    "    \n",
    "    r=rP-rpiece #relative position vector\n",
    "    rmag=mag(r) #magnitude of r\n",
    "    rhat=r/rmag #r unit vector\n",
    "    Epiece=k*dq/rmag**2*rhat #E due to piece n\n",
    "    Enet=Enet+Epiece #Enet due to all pieces 1 through n\n",
    "    n=n+1 #increment to the next piece\n",
    "    \n",
    "    #update arrows\n",
    "    rArrow.pos=rpiece\n",
    "    rArrow.axis=r\n",
    "    EpieceArrow=arrow(pos=vector(0,0,0), axis=vector(0,0,0), color=color.yellow)\n",
    "    EpieceArrow.pos=rP\n",
    "    EpieceArrow.axis=scale*Epiece\n",
    "    EnetArrow.axis=scale*Enet\n",
    "\n",
    "#scene.waitfor('click')\n",
    "rArrow.visible=False\n",
    "EnetArrow.shaftwidth=0.05*mag(EnetArrow.axis)\n",
    "print(\"The net electric field at point P = \",Enet, \"N/C\")"
   ]
  },
  {
   "cell_type": "code",
   "execution_count": null,
   "metadata": {
    "slideshow": {
     "slide_type": "skip"
    }
   },
   "outputs": [],
   "source": [
    "# Compute the electric field at a location rP due to a charged rod of length L\n",
    "#   and charge Q by breaking the rod into N pieces.\n",
    "#\n",
    "# White color arrow is the net E for pieces 1 through n.\n",
    "#\n",
    "\n",
    "N=1000 #total number of pieces\n",
    "L=1.0 #length of rod in m\n",
    "\n",
    "#create the scene\n",
    "scene=canvas(title=\"Electric Field Due to a Uniformly Charged Rod\")\n",
    "rod=cylinder(pos=vector(0,-L/2,0), axis=vector(0,L,0), radius=L/50, color=color.red)\n",
    "\n",
    "#create the arrows\n",
    "EnetArrow=arrow(pos=vector(0,0,0), axis=vector(0,0,0), color=color.white)\n",
    "scale=1/1e5\n",
    "\n",
    "k=9e9 #1/(4pi epsilon_0) in N m^2/C^2\n",
    "Q=1e-6 #charge of rod in C\n",
    "\n",
    "dq=Q/N #charge of a piece of the rod\n",
    "dy=L/N #length of a piece of the rod\n",
    "\n",
    "rP=vector(.1,0.5,0) #location of a point P in space\n",
    "\n",
    "n=1 # piece counter used for the loop; piece 1 is the piece at the top of the vertical rod\n",
    "\n",
    "Epiece=vector(0,0,0) #E at point P due to a single piece\n",
    "Enet=vector(0,0,0) #net E at point P due to all pieces\n",
    "\n",
    "while n<N+1:\n",
    "    rpiece=vector(0,L/2-(2*n-1)*dy/2,0) #position of midpoint of piece n    \n",
    "    \n",
    "    r=rP-rpiece #relative position vector\n",
    "    rmag=mag(r) #magnitude of r\n",
    "    rhat=r/rmag #r unit vector\n",
    "    Epiece=k*dq/rmag**2*rhat #E due to piece n\n",
    "    Enet=Enet+Epiece #Enet due to all pieces 1 through n\n",
    "    n=n+1 #increment to the next piece\n",
    "    \n",
    "#update arrow\n",
    "EnetArrow.pos=rP\n",
    "EnetArrow.axis=scale*Enet\n",
    "\n",
    "print(\"The net electric field at point P = \",Enet, \"N/C\")"
   ]
  },
  {
   "cell_type": "markdown",
   "metadata": {
    "slideshow": {
     "slide_type": "slide"
    }
   },
   "source": [
    "# Research and Scientific Writing II"
   ]
  },
  {
   "cell_type": "markdown",
   "metadata": {
    "slideshow": {
     "slide_type": "subslide"
    }
   },
   "source": [
    "## Is there an optimum angle for shooting free throws in basketball? \n",
    "Spencer Ader ('19), Josh Berg ('18), and Aaron Titus (High Point University)\n",
    "\n",
    "Model the collision of a basketball, rim, and backboard, for a basketball in a plane incident with the center of the rim. Use measured data for parameters of the basketball/rim collision and a basketball/backboard collision. Vary three parameters: $|\\vec{v}_0|$, $\\omega$, and $\\theta_0$."
   ]
  },
  {
   "cell_type": "code",
   "execution_count": 3,
   "metadata": {
    "slideshow": {
     "slide_type": "subslide"
    }
   },
   "outputs": [
    {
     "data": {
      "text/html": [
       "<div id=\"glowscript\" class=\"glowscript\"></div>"
      ],
      "text/plain": [
       "<IPython.core.display.HTML object>"
      ]
     },
     "metadata": {},
     "output_type": "display_data"
    },
    {
     "data": {
      "application/javascript": [
       "window.__context = { glowscript_container: $(\"#glowscript\").removeAttr(\"id\")}"
      ],
      "text/plain": [
       "<IPython.core.display.Javascript object>"
      ]
     },
     "metadata": {},
     "output_type": "display_data"
    }
   ],
   "source": [
    "thetamin=49*pi/180 #rad\n",
    "#thetamin=53*pi/180 #rad\n",
    "\n",
    "#scene\n",
    "scene=canvas(title=\"Basketball Shot\")\n",
    "scene.center=vector(2,-1,0)\n",
    "scene.range=4\n",
    "scene.width=800\n",
    "scene.height=600\n",
    "\n",
    "#################\n",
    "#functions\n",
    "################ \n",
    "def rad(angledeg):\n",
    "    anglerad=angledeg*pi/180\n",
    "    return anglerad\n",
    "\n",
    "def deg(anglerad):   \n",
    "    angledeg=anglerad*180/pi\n",
    "    return angledeg\n",
    "\n",
    "def checkThatBallClearsRim(viy, riy):\n",
    "    ypeak=viy**2/2/g+riy\n",
    "    yrim=rim.pos.y\n",
    "    if(ypeak>yrim):\n",
    "        return True\n",
    "    else:\n",
    "        #write row of data even though ball never clears the rim\n",
    "        dataList=[mag(vi),deg(theta),omegaiz,0,-100,-100] #note that -100,-100 is the rebound position if the shot never clears rim\n",
    "        writeLineToFile(dataList)\n",
    "        return False\n",
    "\n",
    "def checkCollision(sph,cyl):\n",
    "    pegcenter=cyl.pos+0.5*cyl.axis\n",
    "    rcc=sph.pos-pegcenter\n",
    "    dist=mag(rcc)\n",
    "    if(dist<sph.radius+cyl.radius):\n",
    "        return True\n",
    "    else:\n",
    "        return False\n",
    "\n",
    "def checkCollisionBackboardFront(sph,board):\n",
    "    zleft=board.pos.z - 0.5*board.width\n",
    "    zright=board.pos.z + 0.5*board.width\n",
    "    ytop=board.pos.y + 0.5*board.height\n",
    "    ybottom=board.pos.y - 0.5*board.height\n",
    "    xleft=board.pos.x - 0.5*board.length\n",
    "    xright=board.pos.x + 0.5*board.length\n",
    "    #collides with front of backboard\n",
    "    if(sph.pos.x < board.pos.x+board.size.x/2 + sph.radius and sph.pos.x > board.pos.x-board.size.x/2 - sph.radius) and (sph.pos.z>zleft and sph.pos.z<zright) and (sph.pos.y<ytop and sph.pos.y>ybottom): \n",
    "            return True\n",
    "    else:\n",
    "            return False\n",
    "\n",
    "def checkCollisionBackboardTop(sph,board):\n",
    "    zleft=board.pos.z - 0.5*board.width\n",
    "    zright=board.pos.z + 0.5*board.width\n",
    "    ytop=board.pos.y + 0.5*board.height\n",
    "    ybottom=board.pos.y - 0.5*board.height\n",
    "    xleft=board.pos.x - 0.5*board.length\n",
    "    xright=board.pos.x + 0.5*board.length\n",
    "    #collides with top of backboard\n",
    "    if(sph.pos.y< board.pos.y+board.size.y/2+sph.radius and sph.pos.y> board.pos.y-board.size.y/2-sph.radius and (sph.pos.z>zleft and sph.pos.z<zright) and (sph.pos.x<xright+sph.radius and sph.pos.x>xleft-sph.radius)):\n",
    "            return True    \n",
    "    else:\n",
    "            return False\n",
    "\n",
    "\n",
    "def calcCollisionPeg(b,p):\n",
    "    b.pos=b.pos-b.p/m*dt #move the ball to its previous position before the collision\n",
    "    pegcenter=p.pos+0.5*p.axis #position of center of peg\n",
    "    rcc=b.pos-pegcenter #vector from peg center to ball center\n",
    "    rp=Rcyl*norm(rcc) #position of collision point relative to peg center\n",
    "    b.v=b.p/m #initial cm velocity\n",
    "    vperpi=dot(b.v,norm(rp))*norm(rp) #perp component of initial cm velocity\n",
    "    vtani=b.v-vperpi #tan component of initial cm velocity\n",
    "    vperpf=-c*vperpi #reverse perp component of cm velocity\n",
    "    Fperp=m*(vperpf-vperpi)/dt #compute Fperp\n",
    "    rpball=Rball*-1*norm(rcc) #rp relative to ball center\n",
    "    vprel=cross(b.omega,rpball) #velocity of collision point of ball relative to center\n",
    "    vptan=vprel+vtani #velocity of collision point of ball relative to Home frame\n",
    "    fhat=-norm(vptan) #direction of friction is opposite vptan\n",
    "    f=mu*mag(Fperp)*fhat #frictional force\n",
    "    vtanf=vtani+f/m*dt #update vtan of cm of ball\n",
    "    vf=vperpf+vtanf #compute vf from perp and tan components for cm of ball\n",
    "    b.v=vf\n",
    "    b.p=m*b.v #compute p of cm of ball\n",
    "    torque=cross(rpball,f) #torque on ball\n",
    "    omegai=b.omega\n",
    "    b.omega=b.omega+torque/I*dt #update omega\n",
    "    \n",
    "def writeLineToFile(aList):\n",
    "    # open file and append data to it\n",
    "    filename = open(\"data.txt\", \"a\")\n",
    "    filename.write('\\n')\n",
    "    filename.write('\\t'.join(map(str,aList)))        \n",
    "    filename.close()\n",
    "    \n",
    "#def reset():\n",
    "\n",
    "##################\n",
    "\n",
    "##################\n",
    "# Constants\n",
    "##################\n",
    "Rball=0.121285\n",
    "Rcyl=0.015875\n",
    "peglength=0.02\n",
    "m=0.62369\n",
    "c=0.63 #coefficient of restitution of ball and rim\n",
    "cboard=0.78 #coefficient of rest of ball and backboard\n",
    "mu=0.26 #coefficient of sliding friction of ball and rim\n",
    "I=2/3*m*Rball*Rball\n",
    "g=10\n",
    "##################\n",
    "\n",
    "\n",
    "##################\n",
    "# 3D objects\n",
    "##################\n",
    "peg=cylinder(pos=vector(0,0,peglength/2), axis=vector(0,0,-peglength), radius=Rcyl, color=color.red)\n",
    "peg2=cylinder(pos=vector(0.4572,0,peglength/2), axis=vector(0,0,-peglength), radius=Rcyl, color=color.red)\n",
    "floor=box(pos=vector(2,-3.048-0.05/2,0), size=vector(12,0.05,12), color=color.orange)\n",
    "ball=sphere(pos=vector(4.4185,floor.pos.y+floor.size.y/2+2.0066,0), radius=Rball, color=color.orange, make_trail=False)\n",
    "backboard=box(pos=vector(-0.153416,0.3,0), length=0.0127, width=1.8288, height=1.2192, color=color.white)\n",
    "backrim=box(pos=vector(-0.0635,0,0), length=0.153416, width=0.153416, height=0.015875, color=color.red)\n",
    "connectglass=box(pos=vector(-1.15,0,0), length=2, width=0.3048, height=0.3048, color=color.white)\n",
    "post=box(pos=vector(-2,-1.524,0), length=0.3048, width=0.3048, height=3.3528, color=color.white)\n",
    "FTline=box(pos=vector(4.4185,-3.048,0), size=vector(0.0508,0.08,3.9624), color=color.black)\n",
    "FTdown=box(pos=vector(1.55,-3.048,1.5), size=vector(5.7912,0.08,0.0508), color=color.black)\n",
    "FTline2=box(pos=vector(1.55,-3.048,-1.5), size=FTdown.size, color=color.black)\n",
    "Baseline=box(pos=vector(-1.37,-3.048,0), size=vector(0.0508,0.08,12), color=color.black)\n",
    "FTline3=box(pos=vector(1.55,-3.048,-1.957), size=FTdown.size, color=color.black)\n",
    "FTline4=box(pos=vector(1.55,-3.048,1.957), size=FTdown.size, color=color.black)\n",
    "\n",
    "Rrim=0.5*mag(peg.pos-peg2.pos)\n",
    "rim=ring(pos=peg2.pos+0.5*(peg.pos-peg2.pos), axis=vector(0,1,0), radius=Rrim, thickness=Rcyl, color=peg.color)\n",
    "FTarc=ring(pos=FTline.pos, axis=vector(0,1,0), radius=1.5, thickness=0.0508, color=color.black)\n",
    "ThreePT=ring(pos=Baseline.pos, axis=vector(0,1,0), radius=8.5344, thickness=0.0508, color=color.black)\n",
    "#################\n",
    "\n",
    "##################\n",
    "# Step Sizes and Max/Min Sizes\n",
    "##################\n",
    "vimin=7.315 #m/s\n",
    "vimax=7.40001 #m/s\n",
    "omegaizmin=-4*2*pi #z component in rad/s\n",
    "omegaizmax=0 #z component in rad/s\n",
    "#thetamin=rad(49) #rad\n",
    "#thetamin=rad(49) #rad\n",
    "thetamax=rad(53) #rad\n",
    "Nrows=14 #number of distinct values of a variable is Nrows + 1\n",
    "dspeed=(vimax-vimin)/Nrows #m/s\n",
    "dtheta=(thetamax-thetamin)/Nrows #rad\n",
    "domega=(omegaizmax-omegaizmin)/Nrows #rad/s\n",
    "##################\n",
    "\n",
    "##################\n",
    "# Initial Conditions\n",
    "##################\n",
    "#ri=peg2.pos+0.5*peg2.axis+vector(0,1,0) #ball dropped from above front of rim, just for testing\n",
    "ri=vector(4.4185,floor.pos.y+floor.size.y/2+2.0066,0) #free throw\n",
    "vimag=vimin\n",
    "theta=thetamin #radians\n",
    "omegaiz=omegaizmin\n",
    "\n",
    "vi=vimag*vector(-cos(theta),sin(theta),0)\n",
    "ball.v=vi\n",
    "ball.pos=ri\n",
    "ball.omega=vector(0,0,omegaiz)\n",
    "\n",
    "ball.p=m*ball.v\n",
    "Fgrav=m*vector(0,-g,0)\n",
    "##################\n",
    "\n",
    "\n",
    "##################\n",
    "# Data to Record\n",
    "##################\n",
    "score=0 #1 or 0 depending on whether basketball goes through hoop or not\n",
    "rebound_pos=vector(0,0,0) #position of the ball as it passes the height of the rim\n",
    "##################\n",
    "\n",
    "##################\n",
    "# Data Column Headings\n",
    "##################\n",
    "headingList=['v_i (m/s)','theta (deg)','omega_i_z (rad/s)','score (1 or 0)','rebound_pos_x (m)','rebound_pos_y (m)']\n",
    "#writeLineToFile(headingList)\n",
    "filename = open(\"data.txt\", \"w\")\n",
    "filename.write('\\t'.join(map(str,headingList)))        \n",
    "filename.close()\n",
    "##################\n",
    "\n",
    "shots=0\n",
    "\n",
    "t=0\n",
    "dt=0.0025\n",
    "\n",
    "run=True\n",
    "ball.make_trail=True\n",
    "scene.waitfor(\"click\")\n",
    "\n",
    "while run:\n",
    "    shots=shots+1\n",
    "    while checkThatBallClearsRim(vi.y,ri.y):\n",
    "        rate(200)\n",
    "        Fnet=Fgrav\n",
    "        ball.p=ball.p+Fnet*dt\n",
    "        ball.pos=ball.pos+ball.p/m*dt\n",
    "        \n",
    "        if(checkCollisionBackboardFront(ball,backboard)):\n",
    "            ball.pos=ball.pos-ball.p/m*dt\n",
    "            ball.p.x=-cboard*ball.p.x\n",
    "            ball.pos=ball.pos+ball.p/m*dt\n",
    "            \n",
    "        if(checkCollisionBackboardTop(ball,backboard)):\n",
    "            ball.pos=ball.pos-ball.p/m*dt\n",
    "            ball.p.y=-cboard*ball.p.y\n",
    "            ball.pos=ball.pos+ball.p/m*dt\n",
    "            \n",
    "        if(checkCollision(ball,peg)):\n",
    "            calcCollisionPeg(ball,peg)\n",
    "    \n",
    "        if(checkCollision(ball,peg2)):\n",
    "            calcCollisionPeg(ball,peg2)\n",
    "            \n",
    "        if(t>50*2*vimax/g):\n",
    "            #the ball is probably stuck.        \n",
    "            score=0\n",
    "            dataList=[mag(vi),deg(theta),omegaiz,score,rebound_pos.x,rebound_pos.y]\n",
    "            writeLineToFile(dataList)\n",
    "            break\n",
    "    \n",
    "        t=t+dt\n",
    "        \n",
    "        if(ball.p.y<0 and ball.pos.y<peg.pos.y): #ball is traveling downward and center of ball crosses height of center of peg\n",
    "            rebound_pos=ball.pos\n",
    "            if(mag(rim.pos-ball.pos)<(rim.radius-ball.radius)): #ball passes through rim\n",
    "                score=1\n",
    "            else:\n",
    "                score=0\n",
    "            dataList=[mag(vi),deg(theta),omegaiz,score,rebound_pos.x,rebound_pos.y]\n",
    "            writeLineToFile(dataList)\n",
    "            break\n",
    "\n",
    "    run=False\n",
    "\n",
    "#print(\"shots=\",shots)\n"
   ]
  },
  {
   "cell_type": "markdown",
   "metadata": {
    "slideshow": {
     "slide_type": "subslide"
    }
   },
   "source": [
    "## Results\n",
    "\n",
    "<!--Angular speed = 5 rev/s-->\n",
    "\n",
    "<img src=\"shots.png\" width=450 align=\"center\">"
   ]
  },
  {
   "cell_type": "code",
   "execution_count": null,
   "metadata": {
    "slideshow": {
     "slide_type": "skip"
    }
   },
   "outputs": [],
   "source": [
    "scene=canvas(title=\"Ball/Peg Collision\")\n",
    "\n",
    "#check for collision of sphere and cylinder; returns True or False\n",
    "def checkCollision(sph,cyl):\n",
    "    pegcenter=cyl.pos+0.5*cyl.axis\n",
    "    rcc=sph.pos-pegcenter\n",
    "    dist=mag(rcc)\n",
    "    if(dist<sph.radius+cyl.radius):\n",
    "        return True\n",
    "    else:\n",
    "        return False\n",
    "\n",
    "#material properties\n",
    "Rball=0.1\n",
    "Rcyl=0.02\n",
    "m=0.62369\n",
    "#mu=0.26 #coefficient of sliding friction\n",
    "mu=0 #coefficient of sliding friction\n",
    "CR=0.63 #coefficient of restitution\n",
    "\n",
    "#ball=sphere(pos=vector((Rball+Rcyl)*cos(30/180*pi),1,0), radius=Rball, color=color.orange)\n",
    "ball=sphere(pos=vector(0,1,0), radius=Rball, color=color.orange)\n",
    "peg=cylinder(pos=vector(0,0,0.1), axis=vector(0,0,-0.2), radius=Rcyl, color=color.red)\n",
    "#floor=box(pos=vector(0,-1,0), size=vector(3,0.05,3), color=color.green)\n",
    "\n",
    "#initial conditions\n",
    "ball.v=vector(0,-5,0) #cm velocity\n",
    "ball.p=m*ball.v #cm momentum\n",
    "ball.omega=vector(0,0,2*pi/2)\n",
    "I=2/3*m*Rball*Rball\n",
    "Fgrav=m*vector(0,0,0) #gravitational force\n",
    "\n",
    "#arrows\n",
    "vscale=1/5\n",
    "varrow=arrow(pos=ball.pos, axis=vscale*ball.v, color=color.yellow)\n",
    "#wscale=0.5/pi\n",
    "#warrow=arrow(pos=ball.pos, axis=wscale*ball.omega, color=color.green)\n",
    "\n",
    "\n",
    "#clock\n",
    "t=0\n",
    "dt=0.0001\n",
    "\n",
    "#time evolution\n",
    "while t<1:\n",
    "    rate(1000)\n",
    "    \n",
    "    #free fall\n",
    "    Fnet=Fgrav\n",
    "    ball.p=ball.p+Fnet*dt\n",
    "    ball.pos=ball.pos+ball.p/m*dt\n",
    "    \n",
    "    #collision\n",
    "    if(checkCollision(ball,peg)):\n",
    "#        print(ball.p, mag(ball.p))\n",
    "        ball.pos=ball.pos-ball.p/m*dt #move the ball to its previous position before the collision\n",
    "        pegcenter=peg.pos+0.5*peg.axis #position of center of peg\n",
    "        rcc=ball.pos-pegcenter #vector from peg center to ball center\n",
    "        rp=Rcyl*norm(rcc) #position of collision point relative to peg center\n",
    "        ball.v=ball.p/m #initial cm velocity\n",
    "        print('cm vel=',ball.v)\n",
    "        vperpi=dot(ball.v,norm(rp))*norm(rp) #perp component of initial cm velocity\n",
    "        vtani=ball.v-vperpi #tan component of initial cm velocity\n",
    "        vperpf=-CR*vperpi #reverse perp component of cm velocity\n",
    "        Fperp=m*(vperpf-vperpi)/dt #compute Fperp\n",
    "        rpball=Rball*-1*norm(rcc) #rp relative to ball center\n",
    "        vprel=cross(ball.omega,rpball) #velocity of collision point of ball relative to center\n",
    "        vptan=vprel+vtani #velocity of collision point of ball relative to Home frame\n",
    "        fhat=-norm(vptan) #direction of friction is opposite vptan\n",
    "        f=mu*mag(Fperp)*fhat #frictional force\n",
    "        vtanf=vtani+f/m*dt #update vtan of cm of ball\n",
    "        vf=vperpf+vtanf #compute vf from perp and tan components for cm of ball\n",
    "        ball.v=vf\n",
    "        ball.p=m*ball.v #compute p of cm of ball\n",
    "        torque=cross(rpball,f) #torque on ball\n",
    "        omegai=ball.omega\n",
    "        ball.omega=ball.omega+torque/I*dt #update omega\n",
    "#        print(ball.p, mag(ball.p))\n",
    "#        print('F=Fperp+f=',Fperp,'+',f)\n",
    "        print('vperp_i=',vperpi)\n",
    "        print('vtan_i=',vtani)\n",
    "        print('omega_i=',omegai.z)\n",
    "        print('vprel=',vprel)\n",
    "        print('vptan=',vptan)\n",
    "        print('vperp_f=',vperpf)\n",
    "#        print('omega_i=',omegai)\n",
    "#        print('Rball=', Rball)\n",
    "        print('f=',f)\n",
    "        print('Fperp=',Fperp)\n",
    "#        print('Fcoll=',Fperp+f, 'ma=',(vf-vtani-vperpi)/dt*m)\n",
    "        print('vf=',vf)\n",
    "        print('|vf|=',mag(vf))\n",
    "#        print('torque=',torque)\n",
    "        print('omega_f=',ball.omega.z)\n",
    "    varrow.pos=ball.pos\n",
    "    varrow.axis=vscale*ball.v\n",
    "#    warrow.pos=ball.pos\n",
    "#    warrow.axis=wscale*ball.omega\n",
    "    t=t+dt\n"
   ]
  },
  {
   "cell_type": "markdown",
   "metadata": {
    "slideshow": {
     "slide_type": "slide"
    }
   },
   "source": [
    "## Classical Model for Particle Exchange (arXiv:1509.02885)\n",
    " Jarrett Lancaster from Roanoke College, Colin McGuire ('12, The Kiski School), and Aaron Titus (High Point University)\n",
    " \n",
    "What is the force law that describes a classical particle exchange?\n",
    "\n",
    "<img src=\"textbooks.png\" align=\"center\" width=\"700\">"
   ]
  },
  {
   "cell_type": "markdown",
   "metadata": {
    "collapsed": true,
    "slideshow": {
     "slide_type": "subslide"
    }
   },
   "source": [
    "\n",
    "1. Mediating particles always move at speed c.\n",
    "2. During each collision, conservation of momentum holds.\n",
    "\n",
    "<img src=\"classical-particle-exchange.png\" align=\"center\" width=700>\n"
   ]
  },
  {
   "cell_type": "markdown",
   "metadata": {
    "slideshow": {
     "slide_type": "subslide"
    }
   },
   "source": [
    "$$Mv+mc=mv^\\prime - mc \\Longrightarrow \\Delta p_x \\equiv Mv^\\prime-Mv=2mc$$\n",
    "\n",
    "(M = 1 kg, m = 5 g, c = 1 m/s, $x_1(0)$ = 0.5 m)\n",
    "\n",
    "<img src=\"fig1.png\" align=\"left\" width=400><img src=\"fig2.png\" align=\"right\" width=400>\n",
    "\n"
   ]
  },
  {
   "cell_type": "markdown",
   "metadata": {
    "slideshow": {
     "slide_type": "subslide"
    }
   },
   "source": [
    "* Change in momentum due to a collision: $\\Delta p_x = 2mc$\n",
    "* Time interval between collisions ($v<<c$): $\\Delta t \\approx \\frac{r}{c}$\n",
    "* Momentum Principle:  $F_{net,x}\\approx\\frac{\\Delta p_x}{\\Delta t}=\\frac{2mc}{r/c}=\\frac{2mc^2}{r}$\n",
    "\n",
    "<img src=\"fig3.png\" align=\"left\" width=400><img src=\"fig4.png\" align=\"right\" width=400>\n"
   ]
  },
  {
   "cell_type": "markdown",
   "metadata": {
    "collapsed": true,
    "slideshow": {
     "slide_type": "slide"
    }
   },
   "source": [
    "## Spring Released from Uniform Circular Motion\n",
    "\n",
    "The free end of a spring released from uniform circular motion should continue in uniform circular motion after it is released until a wave reaches the end of the spring.\n",
    "\n",
    "Matthew Carnaghi ('16), Tom Dooling from UNC Pembroke, and Jeff Regester and Aaron Titus from High Point University"
   ]
  },
  {
   "cell_type": "code",
   "execution_count": null,
   "metadata": {
    "slideshow": {
     "slide_type": "subslide"
    }
   },
   "outputs": [],
   "source": [
    "#https://youtu.be/uiyMuHuCFo4\n",
    "from IPython.display import YouTubeVideo\n",
    "YouTubeVideo('uiyMuHuCFo4')"
   ]
  },
  {
   "cell_type": "code",
   "execution_count": null,
   "metadata": {
    "slideshow": {
     "slide_type": "subslide"
    }
   },
   "outputs": [],
   "source": [
    "YouTubeVideo('LlgFhRs1NYU')"
   ]
  },
  {
   "cell_type": "code",
   "execution_count": null,
   "metadata": {
    "slideshow": {
     "slide_type": "subslide"
    }
   },
   "outputs": [],
   "source": [
    "YouTubeVideo('J7QLznhNGuI')"
   ]
  },
  {
   "cell_type": "code",
   "execution_count": null,
   "metadata": {
    "slideshow": {
     "slide_type": "subslide"
    }
   },
   "outputs": [],
   "source": [
    "YouTubeVideo('BvROdwDoW44')"
   ]
  },
  {
   "cell_type": "code",
   "execution_count": null,
   "metadata": {
    "slideshow": {
     "slide_type": "subslide"
    }
   },
   "outputs": [],
   "source": [
    "YouTubeVideo('tlfaKQqFpcA')"
   ]
  },
  {
   "cell_type": "markdown",
   "metadata": {
    "slideshow": {
     "slide_type": "subslide"
    }
   },
   "source": [
    "## Extremely Close Binaries From K2 Data\n",
    "Thomas Boudreaux ('19) and Padraig Clancy ('19) with Brad Barlow, High Point University\n",
    "\n",
    "Thomas and Paddy followed up Kepler 2 photometry with high resolution spectroscopy from CHIRON at the SMARTS 1.5 meter in order to determine the composition of these systems. To analyze data they created an in-house software suite, the Spectral Analysis UtiLity (SAUL). SAUL has the ability to display and normalize spectra, generate Radial Velocity (RV) data points from both Cross Correlation and Gaussian fitting routines, and determine an orbital solution from these data.\n",
    "\n",
    "<a href=\"https://github.com/tboudreaux/PHY-2002\" target=\"new\">https://github.com/tboudreaux/PHY-2002</a>\n",
    "\n"
   ]
  },
  {
   "cell_type": "markdown",
   "metadata": {
    "slideshow": {
     "slide_type": "subslide"
    }
   },
   "source": [
    "Models give masses consistent with an EL-CVn system. \n",
    "\n",
    "<img src=\"thomas-1.png\" align=\"left\" valign=\"middle\" width=400> <img src=\"thomas-3.png\" align=\"left\" valign=\"middle\" width=400>\n"
   ]
  },
  {
   "cell_type": "markdown",
   "metadata": {
    "slideshow": {
     "slide_type": "subslide"
    }
   },
   "source": [
    "<img src=\"thomas-2.png\" align=\"left\" valign=\"middle\" width=400> <img src=\"thomas-4.png\" align=\"left\" valign=\"middle\" width=400>"
   ]
  },
  {
   "cell_type": "markdown",
   "metadata": {
    "slideshow": {
     "slide_type": "slide"
    }
   },
   "source": [
    "# Summary\n",
    "\n",
    "Teaching computational modeling in the first year enables students to ask interesting questions and answer them.\n",
    "\n",
    "\"With such an elegant tool at our disposal, the three-body problem may become as much a part of the introductory physics curriculum as the inclined plane.\"  Alan Cromer (1981)"
   ]
  },
  {
   "cell_type": "markdown",
   "metadata": {
    "slideshow": {
     "slide_type": "slide"
    }
   },
   "source": [
    "# References\n",
    "\n",
    "[1] Alan Cromer, \"Stable solutions using the Euler approximation,\" Am. J. Phys. 49, 455-459 (1981)\n",
    "\n",
    "[2] Andy Wier, *The Martian* (2015)\n",
    "\n",
    "[3] Ruth Chabay and Bruce Sherwood, *Matter and Interactions, 4th Ed.* (Wiley, 2015)\n",
    "\n",
    "[4] Jeff Regester, \"Spinning Springs,\" YouTube (https://www.youtube.com/watch?v=cDLJQDUNcsY).\n",
    "\n",
    "[5] Jarrett Lancaster, Colin McGuire, and Aaron Titus, \"Classical particle exchange: a quantitative treatment,\" arXiv (https://arxiv.org/abs/1509.02885)"
   ]
  },
  {
   "cell_type": "code",
   "execution_count": null,
   "metadata": {},
   "outputs": [],
   "source": []
  }
 ],
 "metadata": {
  "celltoolbar": "Slideshow",
  "kernelspec": {
   "display_name": "Python 3",
   "language": "python",
   "name": "python3"
  },
  "language_info": {
   "codemirror_mode": {
    "name": "ipython",
    "version": 3
   },
   "file_extension": ".py",
   "mimetype": "text/x-python",
   "name": "python",
   "nbconvert_exporter": "python",
   "pygments_lexer": "ipython3",
   "version": "3.6.5"
  }
 },
 "nbformat": 4,
 "nbformat_minor": 1
}
