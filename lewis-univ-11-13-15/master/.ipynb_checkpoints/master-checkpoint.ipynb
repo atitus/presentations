{
 "cells": [
  {
   "cell_type": "markdown",
   "metadata": {
    "slideshow": {
     "slide_type": "slide"
    }
   },
   "source": [
    "# Small Steps Are Great Progress\n",
    "## Aaron P Titus, High Point University\n"
   ]
  },
  {
   "cell_type": "markdown",
   "metadata": {
    "collapsed": true,
    "slideshow": {
     "slide_type": "fragment"
    }
   },
   "source": [
    "# <span style=\"color:blue\">Thinking Iteratively</span>"
   ]
  },
  {
   "cell_type": "markdown",
   "metadata": {
    "slideshow": {
     "slide_type": "subslide"
    }
   },
   "source": [
    "## Ways to find me\n",
    "\n",
    " [<img src=\"https://blog.twitter.com/sites/all/themes/gazebo/img/twitter-bird-white-on-blue.png\" width=25 align=left>](https://twitter.com/aaronptitus)  [@aaronptitus](https://twitter.com/aaronptitus)\n",
    "\n",
    " <img src=\"https://lh6.ggpht.com/8-N_qLXgV-eNDQINqTR-Pzu5Y8DuH0Xjz53zoWq_IcBNpcxDL_gK4uS_MvXH00yN6nd4=w300\" width=25 align=left>  atitus@highpoint.edu\n",
    "\n",
    " [<img src=\"https://assets-cdn.github.com/images/modules/logos_page/GitHub-Mark.png\" width=25 align=left>](https://github.com/atitus)  [https://github.com/atitus](https://github.com/atitus)\n"
   ]
  },
  {
   "cell_type": "markdown",
   "metadata": {
    "slideshow": {
     "slide_type": "subslide"
    }
   },
   "source": [
    "## Explore\n",
    "\n",
    "* GlowScript.org ([http://www.glowscript.org/](http://www.glowscript.org/))\n",
    "\n",
    "* M&I lecture demo programs ([http://matterandinteractions.org/student](http://www.glowscript.org/#/user/GlowScriptDemos/folder/Examples/program/MatterAndInteractions))\n",
    "\n",
    "* VPython ([http://vpython.org/](http://vpython.org/))"
   ]
  },
  {
   "cell_type": "markdown",
   "metadata": {
    "collapsed": true,
    "slideshow": {
     "slide_type": "slide"
    }
   },
   "source": [
    "# Acknowledgements\n",
    "\n",
    "* Ruth Chabay and Bruce Sherwood[<img src=\"http://www.matterandinteractions.org/student/Mechanics/MI4eCover.png\" width=20% align=right>](http://www.matterandinteractions.org/index.html)"
   ]
  },
  {
   "cell_type": "markdown",
   "metadata": {
    "slideshow": {
     "slide_type": "fragment"
    }
   },
   "source": [
    "* Wolfgang Christian [<img src=\"http://www.compadre.org/osp/images/header_h1.gif\" width=20% align=right>](http://www.compadre.org/osp/index.cfm)[<img src=\"http://www.compadre.org/services/images/footercompadre.gif\" width=20% align=right>](http://www.compadre.org)"
   ]
  },
  {
   "cell_type": "markdown",
   "metadata": {
    "slideshow": {
     "slide_type": "slide"
    }
   },
   "source": [
    "# Methods to Write/Run VPython\n",
    "1. Classic VPython (www.vpython.org)\n",
    "2. GlowScript (www.glowscript.org)\n",
    "3. Jupyter Notebook (formerly iPython Notebook)\n",
    "    1. Install Anaconda (https://www.continuum.io/downloads)\n",
    "    2. Install iVisual (https://pypi.python.org/pypi/IVisual/) by John Coady. It enables GlowScript within a Jupyter Notebook.\n",
    "    3. Embed markup, html, LaTeX\n",
    "    4. Notebook is great for tutorials, lab reports, computational projects, data analysis, data visualization, and even presentations!"
   ]
  },
  {
   "cell_type": "markdown",
   "metadata": {
    "slideshow": {
     "slide_type": "slide"
    }
   },
   "source": [
    "# Recommendation\n",
    "\n",
    "* Use GlowScript or Classic VPython for introductory physics students\n",
    "* Use Jupyter Notebook for intermediate and advanced classes (Modern Physics +...)"
   ]
  },
  {
   "cell_type": "markdown",
   "metadata": {
    "collapsed": true,
    "slideshow": {
     "slide_type": "slide"
    }
   },
   "source": [
    "# GlowScript VPython <img src=\"http://www.glowscript.org/docs/GlowScriptDocs/images/cover.jpg\" align=\"right\" width=10%>\n",
    "\n",
    "A JavaScript library and web-based application based on the visual package available from vpython.org. GlowScript gives you:\n",
    "\n",
    "- A web-based editor\n",
    "- Conversion of Python to JavaScript\n",
    "- 3D graphics\n",
    "- Automatic scaling (real-world units to pixels)\n",
    "- Vector operations"
   ]
  },
  {
   "cell_type": "code",
   "execution_count": null,
   "metadata": {
    "collapsed": false,
    "slideshow": {
     "slide_type": "slide"
    }
   },
   "outputs": [],
   "source": [
    "from IPython.display import IFrame\n",
    "IFrame('http://www.glowscript.org/#/user/Aaron_Titus/folder/SETI/program/earth-mars-orbits', width=700, height=500)"
   ]
  },
  {
   "cell_type": "markdown",
   "metadata": {
    "slideshow": {
     "slide_type": "slide"
    }
   },
   "source": [
    "# Growth of GlowScript Users"
   ]
  },
  {
   "cell_type": "code",
   "execution_count": null,
   "metadata": {
    "collapsed": false,
    "slideshow": {
     "slide_type": "fragment"
    }
   },
   "outputs": [],
   "source": [
    "IFrame('http://www.glowscript.org/#/user/Bruce_Sherwood/folder/My_Programs/program/Users', width=700, height=500)"
   ]
  },
  {
   "cell_type": "markdown",
   "metadata": {
    "slideshow": {
     "slide_type": "slide"
    }
   },
   "source": [
    "# Steps to Teaching Iterative Thinking -- <span style=\"color:blue\">Vectors</span>\n",
    "\n",
    "Create a VPython program that places spheres at the vertices of a square pyramid and connects the vertices with cylinders.\n",
    "\n",
    "<img src=\"http://eusebeia.dyndns.org/4d/img/J1-001.png\" width=40% align=center>\n"
   ]
  },
  {
   "cell_type": "markdown",
   "metadata": {
    "slideshow": {
     "slide_type": "subslide"
    }
   },
   "source": [
    "## Import the package\n",
    "\n",
    "This line (or lines) depends on whether you are using Classic VPython, GlowScript, or Jupyter Notebook."
   ]
  },
  {
   "cell_type": "code",
   "execution_count": null,
   "metadata": {
    "collapsed": false,
    "slideshow": {
     "slide_type": "fragment"
    }
   },
   "outputs": [],
   "source": [
    "#Import Packages\n",
    "#\n",
    "# This step depends on the platform: GlowScript, Jupyter Notebook, or Classic VPython\n",
    "\n",
    "from __future__ import division, print_function\n",
    "from ivisual import *\n",
    "from math import *"
   ]
  },
  {
   "cell_type": "code",
   "execution_count": null,
   "metadata": {
    "collapsed": false,
    "slideshow": {
     "slide_type": "subslide"
    }
   },
   "outputs": [],
   "source": [
    "#square pyramid\n",
    "\n",
    "#Create the scene\n",
    "scene=canvas(title=\"3D Scene\")\n",
    "\n",
    "#radius of sphere\n",
    "R=0.05\n",
    "\n",
    "#radius of cylinder\n",
    "Rcyl=R/4\n",
    "\n",
    "#color of sphere\n",
    "spherecolor=color.yellow\n",
    "\n",
    "#color of cylinder\n",
    "cylcolor=color.white\n",
    "\n",
    "#spheres\n",
    "s1=sphere(pos=vector(1,0,0), radius=R, color=spherecolor)\n",
    "s2=sphere(pos=vector(-1,0,0), radius=R, color=spherecolor)\n",
    "s3=sphere(pos=vector(0,0,1), radius=R, color=spherecolor)\n",
    "s4=sphere(pos=vector(0,0,-1), radius=R, color=spherecolor)\n",
    "s5=sphere(pos=vector(0,1,0), radius=R, color=spherecolor)\n",
    "\n",
    "#cylinders\n",
    "cylinder(pos=s1.pos, axis=s3.pos-s1.pos, radius=Rcyl, color=cylcolor)\n",
    "cylinder(pos=s1.pos, axis=s4.pos-s1.pos, radius=Rcyl, color=cylcolor)\n",
    "cylinder(pos=s1.pos, axis=s5.pos-s1.pos, radius=Rcyl, color=cylcolor)\n",
    "cylinder(pos=s2.pos, axis=s3.pos-s2.pos, radius=Rcyl, color=cylcolor)\n",
    "cylinder(pos=s2.pos, axis=s4.pos-s2.pos, radius=Rcyl, color=cylcolor)\n",
    "cylinder(pos=s2.pos, axis=s5.pos-s2.pos, radius=Rcyl, color=cylcolor)\n",
    "cylinder(pos=s3.pos, axis=s5.pos-s3.pos, radius=Rcyl, color=cylcolor)\n",
    "cylinder(pos=s4.pos, axis=s5.pos-s4.pos, radius=Rcyl, color=cylcolor)\n"
   ]
  },
  {
   "cell_type": "markdown",
   "metadata": {
    "collapsed": true,
    "slideshow": {
     "slide_type": "slide"
    }
   },
   "source": [
    "# Steps to Teaching Iterative Thinking -- <span style=\"color:blue\">Velocity</span>\n"
   ]
  },
  {
   "cell_type": "markdown",
   "metadata": {
    "slideshow": {
     "slide_type": "subslide"
    }
   },
   "source": [
    "## Position Update\n",
    "\n",
    "For a small time interval $\\Delta t$, \n",
    "\n",
    "$$\\vec{r}_{future} = \\vec{r}_{now} + \\vec{v}\\Delta t$$\n",
    "\n",
    "In VPython, if you create an object named __particle__ then update its position using:\n",
    "\n",
    "```python\n",
    "particle.pos = particle.pos + v * dt\n",
    "```"
   ]
  },
  {
   "cell_type": "markdown",
   "metadata": {
    "collapsed": false,
    "slideshow": {
     "slide_type": "subslide"
    }
   },
   "source": [
    "<img src=\"rupdate-1.png\" width=600>"
   ]
  },
  {
   "cell_type": "markdown",
   "metadata": {
    "slideshow": {
     "slide_type": "subslide"
    }
   },
   "source": [
    "<img src=\"rupdate-2.png\" width=600>"
   ]
  },
  {
   "cell_type": "code",
   "execution_count": null,
   "metadata": {
    "collapsed": false,
    "slideshow": {
     "slide_type": "subslide"
    }
   },
   "outputs": [],
   "source": [
    "#uniform motion -- a ball on a level track\n",
    "\n",
    "scene=canvas(title=\"3D Scene\", height=250, width=600)\n",
    "\n",
    "ball=sphere(pos=vector(-1.5,0,0), radius=0.05, color=color.cyan)\n",
    "track=box(pos=vector(0,-0.075,0), size=(3,0.05,0.1), color=color.white)\n",
    "\n",
    "v=vector(0.3,0,0)\n",
    "\n",
    "dt=0.01\n",
    "t=0\n",
    "\n",
    "while ball.pos.x<1.5:\n",
    "    rate(100)\n",
    "    ball.pos = ball.pos + v*dt\n",
    "    t=t+dt"
   ]
  },
  {
   "cell_type": "markdown",
   "metadata": {
    "slideshow": {
     "slide_type": "slide"
    }
   },
   "source": [
    "# Steps to Teaching Iterative Thinking -- <span style=\"color:blue\">The Momentum Principle</span>"
   ]
  },
  {
   "cell_type": "markdown",
   "metadata": {
    "slideshow": {
     "slide_type": "subslide"
    }
   },
   "source": [
    "## Momentum Update\n",
    "\n",
    "For a small time interval $\\Delta t$,\n",
    "\n",
    "$$\\vec{p}_{future}=\\vec{p}_{now} + \\vec{F}_{net,now}\\Delta t$$\n",
    "\n",
    "This is the **update form** of the Momentum Principle.\n",
    "\n",
    "<img src=\"Fig2-23.jpg\" width=700>"
   ]
  },
  {
   "cell_type": "markdown",
   "metadata": {
    "slideshow": {
     "slide_type": "subslide"
    }
   },
   "source": [
    "The momentum now contains the history of the impulses on the particle, but the future momentum depends on the net force now.\n",
    "\n",
    "<img src=\"Fig2-1920.png\" width=700>"
   ]
  },
  {
   "cell_type": "markdown",
   "metadata": {
    "slideshow": {
     "slide_type": "subslide"
    }
   },
   "source": [
    "## Euler-Cromer Method"
   ]
  },
  {
   "cell_type": "markdown",
   "metadata": {
    "slideshow": {
     "slide_type": "fragment"
    }
   },
   "source": [
    "1. Calculate the net force on the particle.\n",
    "2. Update the particle's momentum.\n",
    "3. Update the particle's position.\n",
    "\n",
    "For non-relativistic motion,\n",
    "\n",
    "$$\\vec{v}\\approx \\vec{v}_f \\approx \\frac{\\vec{p}}{m}.$$\n",
    "\n",
    "For an object named __particle__, the vpython code would look like this.\n",
    "\n",
    "```python\n",
    "    Fnet = vector(0,-10*m,0)\n",
    "    p = p + Fnet * dt\n",
    "    particle.pos = particle.pos + p/m * dt\n",
    "```"
   ]
  },
  {
   "cell_type": "code",
   "execution_count": null,
   "metadata": {
    "collapsed": false,
    "slideshow": {
     "slide_type": "subslide"
    }
   },
   "outputs": [],
   "source": [
    "#constant force\n",
    "\n",
    "scene=canvas(title=\"3D Scene\", height=500, width=600)\n",
    "\n",
    "\n",
    "#clickToAdvance does not work in Jupyter at the moment\n",
    "#print(\"If clickToAdvance==True, then click on the scene to advance the simulation to the next calculation.\")\n",
    "#print(\"Change clickToAdvance to False if you want the program to advance automatically.\")\n",
    "\n",
    "#set this to True if you want to click to advance through the calculations and steps\n",
    "#set this to False if you want it to advance automatically\n",
    "clickToAdvance=False\n",
    "\n",
    "t = 0\n",
    "\n",
    "#use case 1 if clicking to advance\n",
    "#use any case if not clicking to advance\n",
    "thiscase=1\n",
    "\n",
    "if(thiscase==1):\n",
    "        dt = 0.25\n",
    "        max=100\n",
    "        rateTime=100\n",
    "\n",
    "if(thiscase==2):\n",
    "        dt = 0.1\n",
    "        max=50\n",
    "        rateTime=100\n",
    "\n",
    "if(thiscase==3):\n",
    "        dt = 0.01\n",
    "        max=25\n",
    "        rateTime=1000\n",
    "\n",
    "\n",
    "floor = box(pos=vector(0,0,0), size=vector(20.0,0.05,10), color=color.green)\n",
    "ball = sphere(pos=vector(-4.5,0.1,0), radius=0.4, color=color.white, opacity=0.5)\n",
    "\n",
    "ball.m = 0.8\n",
    "ball.v = vector(5.74,8.19,0)\n",
    "ball.p = ball.m * ball.v\n",
    "g = 9.8\n",
    "\n",
    "scenerange=ball.radius*12\n",
    "scene.range=scenerange\n",
    "scene.background=color.black\n",
    "\n",
    "trail=curve(color=ball.color)\n",
    "trail.append(pos=ball.pos)\n",
    "\n",
    "zeroVector=vector(0,0,0)\n",
    "\n",
    "arrowScale=scenerange/mag(ball.v)\n",
    "vArrow=arrow(pos=ball.pos, axis=vector(0,0,0), color=color.yellow, shaftwidth=0.1)\n",
    "dvArrow=arrow(pos=vArrow.pos+vArrow.axis, axis=vector(0,0,0), color=color.magenta, shaftwidth=0.1)\n",
    "vfArrow=arrow(pos=ball.pos, axis=vector(0,0,0), color=color.cyan, shaftwidth=0.1)\n",
    "drArrow=arrow(pos=ball.pos,axis=vector(0,0,0), color=ball.color, shaftwidth=0.1)\n",
    "\n",
    "#if(clickToAdvance==False):\n",
    "#        scene.waitfor('click')\n",
    "\n",
    "while ball.pos.y>0:\n",
    "        rate(10)\n",
    "        if(clickToAdvance==True):\n",
    "            scene.waitfor('click')\n",
    "        vArrow.pos=ball.pos\n",
    "        vArrow.axis=ball.v*arrowScale\n",
    "        if(clickToAdvance==False):\n",
    "                for i in range(0,max):\n",
    "                        rate(rateTime)\n",
    "        Fnet=vector(0,-ball.m*g,0)\n",
    "        ball.p = ball.p + Fnet*dt\n",
    "        ball.v = ball.p/ball.m\n",
    "        dv = Fnet/ball.m*dt\n",
    "        dr = ball.v*dt\n",
    "\n",
    "        if(clickToAdvance==True):\n",
    "            scene.waitfor('click')\n",
    "        dvArrow.pos=vArrow.pos+vArrow.axis\n",
    "        dvArrow.axis=dv*arrowScale\n",
    "        if(clickToAdvance==False):\n",
    "                for i in range(0,max):\n",
    "                        rate(rateTime)\n",
    "\n",
    "#        if(clickToAdvance==True):\n",
    "#            scene.waitfor('click')\n",
    "        vfArrow.pos=ball.pos\n",
    "        vfArrow.axis=vArrow.axis+dvArrow.axis\n",
    "        if(clickToAdvance==False):\n",
    "                for i in range(0,max):\n",
    "                        rate(rateTime)\n",
    "\n",
    "#        if(clickToAdvance==True):\n",
    "#            scene.waitfor('click')\n",
    "\n",
    "        drArrow.pos=ball.pos\n",
    "        drArrow.axis=dr\n",
    "\n",
    "        if(clickToAdvance==False):\n",
    "                for i in range(0,max):\n",
    "                        rate(rateTime)\n",
    "#        if(clickToAdvance==True):\n",
    "#            scene.waitfor('click')\n",
    "\n",
    "        vArrow.axis=zeroVector\n",
    "        dvArrow.axis=zeroVector\n",
    "        vfArrow.axis=zeroVector\n",
    "        ball.pos=ball.pos+ball.v*dt\n",
    "        t = t+dt\n",
    "        trail.append(pos=ball.pos)\n",
    "\n",
    "        #   print t,ball.pos.x, ball.v.x\n"
   ]
  },
  {
   "cell_type": "markdown",
   "metadata": {
    "collapsed": true,
    "slideshow": {
     "slide_type": "slide"
    }
   },
   "source": [
    "# Example -- <span style=\"color:blue\">Earth Orbit</span>"
   ]
  },
  {
   "cell_type": "code",
   "execution_count": null,
   "metadata": {
    "collapsed": false,
    "slideshow": {
     "slide_type": "fragment"
    }
   },
   "outputs": [],
   "source": [
    "\n",
    "scene=canvas(title=\"3D Scene\", height=500, width=600)\n",
    "\n",
    "sun=sphere(radius=7e9, pos=(0,0,0), color=color.yellow)\n",
    "earth=sphere(radius=6.4e9, pos=(1.5e11,0,0), color=color.blue, make_trail=True, retain=400)\n",
    "\n",
    "sun.m=2e30\n",
    "earth.m=6e24\n",
    "G=6.7e-11\n",
    "\n",
    "earth.v=vector(0,2.9889e4,0)\n",
    "earth.p=earth.m*earth.v\n",
    "\n",
    "t=0\n",
    "secinday=24*3600\n",
    "dt=0.1*secinday\n",
    "\n",
    "while t<2*365*secinday:\n",
    "    rate(300)\n",
    "    r=mag(sun.pos-earth.pos)\n",
    "    rhat=(sun.pos-earth.pos)/r\n",
    "    Fgrav=(G*earth.m*sun.m/r**2)*rhat\n",
    "\n",
    "    earth.p=earth.p+Fgrav*dt\n",
    "    earth.pos=earth.pos+(earth.p/earth.m)*dt\n",
    "\n",
    "    t=t+dt\n"
   ]
  },
  {
   "cell_type": "markdown",
   "metadata": {
    "slideshow": {
     "slide_type": "slide"
    }
   },
   "source": [
    "# Example -- <span style=\"color:blue\">Traveling to Mars</span>\n",
    "\n",
    " <img src=\"book-cover.jpeg\" width=30% align=\"center\">"
   ]
  },
  {
   "cell_type": "code",
   "execution_count": null,
   "metadata": {
    "collapsed": false,
    "slideshow": {
     "slide_type": "subslide"
    }
   },
   "outputs": [],
   "source": [
    "IFrame('http://www.glowscript.org/#/user/Aaron_Titus/folder/talks/program/rocket-to-mars', width=700, height=500)\n"
   ]
  },
  {
   "cell_type": "markdown",
   "metadata": {
    "slideshow": {
     "slide_type": "slide"
    }
   },
   "source": [
    "# Reasons to use Jupyter in advanced courses\n",
    "\n",
    "* Online tutorials\n",
    "* Numerically solving differential equations\n",
    "* Visualizing motion for homework problems and exam problems\n",
    "* Creating graphs\n",
    "* Creating high-quality graphs for posters and papers\n",
    "* Informal lab reports and homework solutions"
   ]
  },
  {
   "cell_type": "markdown",
   "metadata": {
    "slideshow": {
     "slide_type": "slide"
    }
   },
   "source": [
    "# Example -- <span style=\"color:blue\">Graphing Simulated Data</span>"
   ]
  },
  {
   "cell_type": "code",
   "execution_count": null,
   "metadata": {
    "collapsed": false,
    "slideshow": {
     "slide_type": "subslide"
    }
   },
   "outputs": [],
   "source": [
    "scene=canvas(title=\"Binary Stars\")\n",
    "\n",
    "#constants\n",
    "au=1.5e11\n",
    "R=7e8\n",
    "G=6.67e-11\n",
    "\n",
    "#stars\n",
    "m1=2e30\n",
    "m2=2*m1\n",
    "r1=vector(au,0,0)\n",
    "r2=-m1/m2*r1\n",
    "speed=1.1*3e4\n",
    "v1=vector(0,speed,0)\n",
    "v2=-m1/m2*v1\n",
    "\n",
    "#time\n",
    "t=0\n",
    "dt=1e5\n",
    "\n",
    "#data lists\n",
    "Ulist=[]\n",
    "Klist=[]\n",
    "Elist=[]\n",
    "rlist=[]\n",
    "\n",
    "#ivisual objects\n",
    "star1=sphere(radius=10*R, pos=r1, color=color.red, make_trail=True, retain=400)\n",
    "star2=sphere(radius=10*R, pos=r2, color=color.yellow, make_trail=True, retain=400)\n",
    "CM=sphere(radius=star1.radius/2, pos=(m1*r1+m2*r2)/(m1+m2), color=color.white)\n",
    "\n",
    "while t<1000*dt:\n",
    "    rate(100)\n",
    "    r=r1-r2\n",
    "    rmag=mag(r)\n",
    "    runit=norm(r)\n",
    "    Fgrav=G*m1*m2/rmag/rmag\n",
    "    F1=Fgrav*(-runit)\n",
    "    v1=v1+F1/m1*dt\n",
    "    r1=r1+v1*dt\n",
    "    F2=-F1\n",
    "    v2=v2+F2/m2*dt\n",
    "    r2=r2+v2*dt\n",
    "    \n",
    "    U=-G*m1*m2/rmag\n",
    "    K=1/2*m1*mag(v1)*mag(v1)+1/2*m2*mag(v2)*mag(v2)\n",
    "    E=U+K\n",
    "    \n",
    "    Ulist.append(U)\n",
    "    Klist.append(K)\n",
    "    Elist.append(E)\n",
    "    rlist.append(rmag)\n",
    "    \n",
    "    star1.pos=r1\n",
    "    star2.pos=r2\n",
    "    \n",
    "    t=t+dt"
   ]
  },
  {
   "cell_type": "code",
   "execution_count": null,
   "metadata": {
    "collapsed": false,
    "slideshow": {
     "slide_type": "subslide"
    }
   },
   "outputs": [],
   "source": [
    "import matplotlib.pyplot as plt\n",
    "%matplotlib inline"
   ]
  },
  {
   "cell_type": "code",
   "execution_count": null,
   "metadata": {
    "collapsed": false,
    "slideshow": {
     "slide_type": "subslide"
    }
   },
   "outputs": [],
   "source": [
    "#energy graphs\n",
    "plt.title('energy vs. distance')\n",
    "plt.ylabel('E (J)')\n",
    "plt.xlabel('r (m)')\n",
    "plt.plot(rlist,Ulist,'m.', rlist,Klist,'y.', rlist,Elist,'c.')\n",
    "plt.show()"
   ]
  },
  {
   "cell_type": "markdown",
   "metadata": {
    "slideshow": {
     "slide_type": "subslide"
    }
   },
   "source": [
    "## One Star Model\n",
    "\n",
    "### One Star Computational Model -- \"Look Ma, Newton's second law is not used!\"\n",
    "\n",
    "In this model, we will replace the two stars with a single star that has a mass $\\mu$ that is equal to the reduced mass of the system, where\n",
    "\n",
    "$$\\mu=\\frac{m_1m_2}{m_1+m_2}$$\n",
    "\n",
    "In this one-star model, its position is the relative position $\\vec{r}$, where\n",
    "\n",
    "$$\\vec{r} = \\vec{r}_1-\\vec{r}_2$$\n",
    "$$r=|\\vec{r}| = |\\vec{r}_1-\\vec{r}_2|$$\n",
    "\n",
    "Its radial velocity is $\\dot{r}$.\n",
    "\n",
    "Its angular momentum is\n",
    "\n",
    "$$\\vec{L}=\\vec{r}_1 \\times m_1\\vec{v}_1+\\vec{r}_2 \\times m_2\\vec{v}_2$$\n",
    "\n",
    "Its angular velocity $\\dot{\\phi}$ is\n",
    "\n",
    "$$\\dot{\\phi}=\\frac{|\\vec{L}|}{r^2\\mu}$$\n",
    "\n",
    "Its potential energy is\n",
    "\n",
    "$$U=-\\frac{Gm_1m_2}{r}+\\frac{|\\vec{L}|^2}{2\\mu r^2}$$\n",
    "\n",
    "Its kinetic energy is\n",
    "\n",
    "$$K=\\frac{1}{2}\\mu \\dot{r}^2$$\n",
    "\n",
    "Its total energy is $E=K+U$. Note that because it is a single star in orbit (around nothing except a point in space!), it speeds up and slows down. Thus its kinetic energy increases and decreases and its potential energy increases and decreases. However its total energy $E$ remains constant.\n",
    "\n",
    "The advantage of using a single star model is that it is completely described by two differential equations, one of which is first order.\n",
    "\n",
    "$$\\mu\\ddot{r}=-\\frac{Gm_1m_2}{r^2}+\\frac{L^2}{\\mu r^3}$$\n",
    "\n",
    "and\n",
    "\n",
    "$$\\mu \\dot{\\phi}=\\frac{L}{r^2}$$\n",
    "\n",
    "where $L=|\\vec{L}|$ is the magnitude of the angular momentum of the star.\n",
    "\n",
    "The velocity of the single star is calculated in polar coordinates.\n",
    "\n",
    "$$\\vec{v}=<\\dot{r},r\\dot{\\phi}>$$\n"
   ]
  },
  {
   "cell_type": "code",
   "execution_count": null,
   "metadata": {
    "collapsed": false,
    "slideshow": {
     "slide_type": "subslide"
    }
   },
   "outputs": [],
   "source": [
    "scene2=canvas(title=\"One Star Model\")\n",
    "\n",
    "#reset variables\n",
    "r1=vector(au,0,0)\n",
    "r2=-m1/m2*r1\n",
    "v1=vector(0,speed,0)\n",
    "v2=-m1/m2*v1\n",
    "\n",
    "#one star model\n",
    "mu=m1*m2/(m1+m2)\n",
    "L=m1*cross(r1,v1)+m2*cross(r2,v2)\n",
    "Lmag=mag(L)\n",
    "r=r1-r2\n",
    "rmag=mag(r)\n",
    "rdot=0\n",
    "phi=0\n",
    "phidot=Lmag/rmag/rmag/mu\n",
    "v=vector(rdot,rmag*phidot)\n",
    "\n",
    "#time\n",
    "t=0\n",
    "\n",
    "#data lists\n",
    "Ulist=[]\n",
    "Klist=[]\n",
    "Elist=[]\n",
    "rlist=[]\n",
    "\n",
    "#ivisual objects\n",
    "starmu=sphere(radius=20*R, pos=r, color=color.orange, make_trail=True, retain=400)\n",
    "\n",
    "while t<4000*dt:\n",
    "    rate(100)\n",
    "    \n",
    "    #update rmag\n",
    "    rdotdot=(-G*m1*m2/(rmag*rmag)+Lmag*Lmag/(mu*rmag*rmag*rmag))/mu\n",
    "    rdot=rdot+rdotdot*dt\n",
    "    rmag=rmag+rdot*dt\n",
    "\n",
    "    #update phi\n",
    "    phidot=Lmag/rmag/rmag/mu\n",
    "    phi=phi+phidot*dt\n",
    "    \n",
    "    #calculate velocity and position\n",
    "    v=vector(rdot,rmag*phidot)\n",
    "    r=vector(rmag*cos(phi),rmag*sin(phi),0)\n",
    "    \n",
    "    U=-G*m1*m2/rmag + Lmag*Lmag/(2*mu*rmag*rmag)\n",
    "    K=1/2*mu*rdot*rdot\n",
    "    E=U+K\n",
    "    \n",
    "    Ulist.append(U)\n",
    "    Klist.append(K)\n",
    "    Elist.append(E)\n",
    "    rlist.append(rmag)\n",
    "\n",
    "    #ivisual objects\n",
    "    starmu.pos=r\n",
    "    \n",
    "    t=t+dt\n"
   ]
  },
  {
   "cell_type": "code",
   "execution_count": null,
   "metadata": {
    "collapsed": false,
    "slideshow": {
     "slide_type": "subslide"
    }
   },
   "outputs": [],
   "source": [
    "#energy graphs\n",
    "plt.title('energy vs. distance')\n",
    "plt.xlabel('r (m)')\n",
    "plt.ylabel('E (J)')\n",
    "plt.plot(rlist,Ulist,'m.', rlist,Klist,'y.', rlist,Elist,'c.')\n",
    "plt.show()"
   ]
  },
  {
   "cell_type": "markdown",
   "metadata": {
    "slideshow": {
     "slide_type": "slide"
    }
   },
   "source": [
    "# Example -- <span style=\"color:blue\">Numerically solving differential equations</span>\n",
    "\n",
    "A simple pendulum of length $b$ and  mass $m$ is suspended in a gravitational field $g$ from a point on the circumference of a thin low-mass disc of radius $R$ that rotates counterclockwise with a constant angular velocity $\\omega$ about is central axis as shown below.\n",
    "\n",
    "<img src=\"rotating-pendulum-support.png\" width=400>\n",
    "\n",
    "The equation of motion for the angle $\\theta$ of the pendulum with respect to the vertical is\n",
    "\n",
    "$$\\ddot{\\theta}=-\\omega^2\\frac{R}{b}\\cos{(\\theta + \\omega t)}-\\frac{g}{b}\\sin\\theta$$\n",
    "\n",
    "Using the Euler-Cromer method:\n",
    "\n",
    "1. calculate $\\ddot{\\theta}$\n",
    "2. update $\\dot{\\theta}$\n",
    "3. update $\\theta$\n",
    "\n",
    "In Python, this looks like:\n",
    "\n",
    "```python\n",
    "    thetadotdot=-omega**2*R/b*cos(theta+omega*t)-g/b*sin(theta)\n",
    "    thetadot=thetadot+thetadotdot*dt\n",
    "    theta=theta+thetadot*dt\n",
    "```\n"
   ]
  },
  {
   "cell_type": "code",
   "execution_count": null,
   "metadata": {
    "collapsed": false,
    "slideshow": {
     "slide_type": "subslide"
    }
   },
   "outputs": [],
   "source": [
    "scene=canvas(\"Pendulum hanging from rotating pivot\")\n",
    "\n",
    "omega=2*pi/2\n",
    "g=9.8\n",
    "b=1\n",
    "R=b/5\n",
    "\n",
    "phi=0\n",
    "theta=30*pi/180\n",
    "thetadot=0\n",
    "\n",
    "t=0\n",
    "dt=0.005\n",
    "\n",
    "rpivot=R*vector(cos(phi),sin(phi),0)\n",
    "bvec=b*vector(sin(theta),-cos(theta),0)\n",
    "r=bvec+rpivot\n",
    "\n",
    "wheel=cylinder(pos=vector(0,0,-R/10), axis=vector(0,0,R/10), radius=R, color=color.red)\n",
    "pivot=sphere(pos=rpivot, radius=R/20, color=color.yellow)\n",
    "pendulum=sphere(pos=r, radius=R/4, color=color.yellow, make_trail=True, retain=2000)\n",
    "string=cylinder(pos=pivot.pos, axis=bvec, radius=R/20, color=color.yellow)\n",
    "\n",
    "while t<50:\n",
    "    rate(100)\n",
    "    \n",
    "    thetadotdot=-omega**2*R/b*cos(theta+omega*t)-g/b*sin(theta)\n",
    "    thetadot=thetadot+thetadotdot*dt\n",
    "    theta=theta+thetadot*dt\n",
    "    \n",
    "    phi=phi+omega*dt\n",
    "    \n",
    "    rpivot=R*vector(cos(phi),sin(phi),0)\n",
    "    bvec=b*vector(sin(theta),-cos(theta),0)\n",
    "    r=bvec+rpivot\n",
    "    \n",
    "    pivot.pos=rpivot\n",
    "    pendulum.pos=r\n",
    "    string.pos=rpivot\n",
    "    string.axis=r-rpivot\n",
    "    \n",
    "    t=t+dt\n"
   ]
  },
  {
   "cell_type": "markdown",
   "metadata": {
    "slideshow": {
     "slide_type": "slide"
    }
   },
   "source": [
    "# Example -- <span style=\"color:blue\">Plot Experimental Data</span>"
   ]
  },
  {
   "cell_type": "code",
   "execution_count": null,
   "metadata": {
    "collapsed": false,
    "slideshow": {
     "slide_type": "subslide"
    }
   },
   "outputs": [],
   "source": [
    "from IPython.display import HTML\n",
    "from base64 import b64encode\n",
    "video = open(\"video_disk_accelerated_rocket.mov\", \"rb\").read()\n",
    "video_encoded = b64encode(video)\n",
    "video_tag = '<video controls alt=\"test\" src=\"data:video/x-m4v;base64,{0}\">'.format(video_encoded)\n",
    "HTML(data=video_tag)"
   ]
  },
  {
   "cell_type": "code",
   "execution_count": null,
   "metadata": {
    "collapsed": false,
    "slideshow": {
     "slide_type": "subslide"
    }
   },
   "outputs": [],
   "source": [
    "#t (s) and omega (deg/s)\n",
    "\n",
    "data = \"\"\"\n",
    "0.033\t7.9\n",
    "0.067\t22.8\n",
    "0.1\t45.8\n",
    "0.133\t76.1\n",
    "0.167\t109.7\n",
    "0.2\t147.7\n",
    "0.234\t193.2\n",
    "0.267\t232.3\n",
    "0.3\t254.2\n",
    "0.334\t274.7\n",
    "0.367\t297.4\n",
    "0.4\t318.1\n",
    "0.434\t335.2\n",
    "0.467\t349.1\n",
    "0.501\t371.4\n",
    "0.534\t400.3\n",
    "0.567\t421.5\n",
    "0.601\t437.5\n",
    "0.634\t460.4\n",
    "0.667\t472.7\n",
    "0.701\t491.8\n",
    "0.734\t518.9\n",
    "0.767\t533.3\n",
    "0.801\t550.5\n",
    "0.834\t561.8\n",
    "0.868\t570.0\n",
    "0.901\t578.5\n",
    "0.934\t589.7\n",
    "0.968\t593.6\n",
    "1.001\t589.8\n",
    "1.034\t606.7\n",
    "1.068\t624.6\n",
    "1.101\t638.9\n",
    "1.134\t666.8\n",
    "1.168\t698.0\n",
    "1.201\t735.5\n",
    "1.235\t767.4\n",
    "1.268\t784.3\n",
    "1.301\t800.4\n",
    "1.335\t815.7\n",
    "1.368\t828.9\n",
    "1.401\t827.2\n",
    "1.435\t813.1\n",
    "1.468\t811.8\n",
    "1.502\t806.2\n",
    "1.535\t816.9\n",
    "1.568\t845.8\n",
    "1.602\t883.6\n",
    "1.635\t938.0\n",
    "1.668\t981.7\n",
    "1.702\t1012.1\n",
    "1.735\t1024.3\n",
    "1.768\t1027.8\n",
    "1.802\t1006.6\n",
    "1.835\t978.3\n",
    "1.869\t959.8\n",
    "1.902\t957.7\n",
    "1.935\t992.7\n",
    "1.969\t1052.1\n",
    "2.002\t1121.2\n",
    "2.035\t1169.7\n",
    "2.069\t1183.1\n",
    "2.102\t1157.3\n",
    "2.135\t1112.8\n",
    "2.169\t1065.2\n",
    "2.202\t1027.6\n",
    "2.236\t1016.7\n",
    "2.269\t1039.4\n",
    "2.302\t1088.5\n",
    "2.336\t1145.0\n",
    "2.369\t1181.2\n",
    "2.402\t1180.0\n",
    "2.436\t1154.2\n",
    "2.469\t1104.6\n",
    "2.503\t1048.4\n",
    "2.536\t1014.9\n",
    "2.569\t1017.1\n",
    "2.603\t1050.6\n",
    "2.636\t1094.9\n",
    "2.669\t1144.3\n",
    "2.703\t1178.7\n",
    "2.736\t1173.7\n",
    "2.769\t1142.8\n",
    "2.803\t1087.3\n",
    "2.836\t1045.6\n",
    "2.87\t1012.4\n",
    "2.903\t1005.5\n",
    "2.936\t1047.9\n",
    "2.97\t1096.2\n",
    "3.003\t1150.2\n",
    "3.036\t1171.1\n",
    "3.07\t1155.3\n",
    "3.103\t1130.6\n",
    "3.136\t1080.1\n",
    "3.17\t1029.0\n",
    "3.203\t1003.7\n",
    "3.237\t1004.3\n",
    "\"\"\".split('\\n')  # split this string on the \"newline\" character.\n",
    "\n",
    "print(len(data))"
   ]
  },
  {
   "cell_type": "code",
   "execution_count": null,
   "metadata": {
    "collapsed": false,
    "slideshow": {
     "slide_type": "subslide"
    }
   },
   "outputs": [],
   "source": [
    "#\n",
    "# Here we'll take the list of strings defined above and break it into actual numbers in \n",
    "# mks units.\n",
    "#\n",
    "\n",
    "tlist = []\n",
    "omegalist = []\n",
    "for s in data:\n",
    "    if s:\n",
    "        t,omega = s.split()     # break string in two\n",
    "        t=float(t)          # convert time to float\n",
    "        omega=float(omega)/180*pi #convert omega to float\n",
    "        tlist.append(t)\n",
    "        omegalist.append(omega)\n",
    "        \n",
    "#print \"tlist=\",tlist\n",
    "#print \"omegalist=\",omegalist\n",
    "\n",
    "from numpy import *\n",
    "omegatheor=1.465*sin(19.21*array(tlist)+5.905)+19.12\n",
    "\n",
    "fig1 = plt.figure()\n",
    "plt.title('omega vs t')\n",
    "plt.xlabel('t (s)')\n",
    "plt.ylabel('omega (rad/s)')\n",
    "plt.plot(tlist, omegalist,'b.',tlist,omegatheor,'m-')\n",
    "plt.show"
   ]
  },
  {
   "cell_type": "code",
   "execution_count": null,
   "metadata": {
    "collapsed": false,
    "slideshow": {
     "slide_type": "subslide"
    }
   },
   "outputs": [],
   "source": [
    "import plotly.plotly as py\n",
    "import plotly.tools as tls\n",
    "from plotly.graph_objs import *\n",
    "py.sign_in(\"hpuphysics\", \"fwxi6w237k\")\n",
    "py.iplot_mpl(fig1, strip_style = True)"
   ]
  },
  {
   "cell_type": "markdown",
   "metadata": {
    "slideshow": {
     "slide_type": "subslide"
    }
   },
   "source": [
    "## Computer Model\n",
    "\n",
    "<img src=\"disk-final.png\" width=300>\n",
    "\n",
    "$$\n",
    "\\frac{d\\omega_{A,z}}{dt} =  \\ddot{\\phi} =  \\frac{ F_{thrust}R -(m_1+m_2)gd\\cos(\\phi)}{(I_{disk}+I_1+I_2)}\n",
    "$$\n",
    "\n",
    "$$\n",
    "d =  \\left(\\frac{m_1-m_2}{m_1+m_2}\\right) R \\\\\n",
    "F_{thrust} =-\\dot{m}v_{exhaust}\n",
    "$$"
   ]
  },
  {
   "cell_type": "markdown",
   "metadata": {
    "slideshow": {
     "slide_type": "subslide"
    }
   },
   "source": [
    "### After burnout"
   ]
  },
  {
   "cell_type": "code",
   "execution_count": null,
   "metadata": {
    "collapsed": false,
    "slideshow": {
     "slide_type": "fragment"
    }
   },
   "outputs": [],
   "source": [
    "#disk\n",
    "M=2.94\n",
    "R=0.6048/2\n",
    "m1=0.52\n",
    "m2=0.15*m1\n",
    "d=(m1-m2)/(m1+m2)*R\n",
    "I=R*R*(1/2*M+m1+m2)\n",
    "print(\"d = \",d)\n",
    "\n",
    "#initial angle with respect to -y axis\n",
    "phi_deg=180\n",
    "phi=phi_deg*pi/180 #phi in rad\n",
    "\n",
    "#initial angular velocity\n",
    "phidot=19  #rad/s\n",
    "\n",
    "#gravitational field in N/kg\n",
    "g=9.8\n",
    "\n",
    "t=0\n",
    "dt=0.005\n",
    "\n",
    "#position vector\n",
    "r=d*vector(sin(phi),-cos(phi),0)\n",
    "\n",
    "#period\n",
    "T=0\n",
    "ti=0\n",
    "atpeak=False\n",
    "\n",
    "tlist=[]\n",
    "omegalist=[]\n",
    "philist=[]\n",
    "\n",
    "while t<1.25:   \n",
    "    omegai=phidot\n",
    "    \n",
    "    #update phidotdot, phidot, phi\n",
    "    phidotdot=-(m1+m2)*g*d/I*cos(phi)\n",
    "    phidot=phidot+phidotdot*dt\n",
    "    phi=phi+phidot*dt\n",
    "    \n",
    "    #update r\n",
    "    r=R*vector(sin(phi),-cos(phi),0)\n",
    "    \n",
    "    #find period\n",
    "    if(phidotdot>0 and (phidot-omegai)<0.001 and phidot>19 and atpeak==False):\n",
    "        ti=t\n",
    "#        print(\"t_i = \",t)\n",
    "        atpeak=True\n",
    "    if(phidotdot>0 and (phidot-omegai)<0.001 and phidot>19 and atpeak==True):\n",
    "        T=t-ti\n",
    "        ti=t\n",
    "#        print(\"T = \",T)\n",
    "    \n",
    "    \n",
    "    tlist.append(t)\n",
    "    omegalist.append(phidot)\n",
    "    philist.append(phi)\n",
    "    \n",
    "    t=t+dt\n",
    "\n",
    "plt.title('omega vs. t')\n",
    "plt.xlabel('t (s)')\n",
    "plt.ylabel('omega (rad/s)')\n",
    "plt.plot(tlist,omegalist,'m.')\n",
    "plt.show()"
   ]
  },
  {
   "cell_type": "markdown",
   "metadata": {
    "slideshow": {
     "slide_type": "subslide"
    }
   },
   "source": [
    "### While the engine is firing"
   ]
  },
  {
   "cell_type": "code",
   "execution_count": null,
   "metadata": {
    "collapsed": false,
    "slideshow": {
     "slide_type": "fragment"
    }
   },
   "outputs": [],
   "source": [
    "from ivisual import *\n",
    "\n",
    "g=9.8\n",
    "mdisk=2.94 #kg\n",
    "Rdisk=0.6048/2 #m\n",
    "m0engine=520/1000 #kg\n",
    "mfuel=0.85*m0engine #kg\n",
    "vex=30 #m/s\n",
    "mf=m0engine-mfuel\n",
    "m=m0engine\n",
    "m1=m0engine\n",
    "\n",
    "r=0.3 #m\n",
    "mdot=-mfuel/2 #2 s burn time\n",
    "\n",
    "t=0\n",
    "dt=0.001\n",
    "theta=0\n",
    "omega=0\n",
    "Idisk=1/2*mdisk*Rdisk*Rdisk\n",
    "Ieng1=m1*r*r\n",
    "Ieng2=m*r*r\n",
    "I=Idisk+Ieng1+Ieng2\n",
    "\n",
    "r1=r*vector(cos(theta+pi),sin(theta+pi),0)\n",
    "r2=r*vector(cos(theta),sin(theta),0)\n",
    "\n",
    "tlist=[]\n",
    "thetalist=[]\n",
    "omegalist=[]\n",
    "mlist=[]\n",
    "taulist=[]\n",
    "\n",
    "tau=vector(0,0,0)\n",
    "\n",
    "while t<3:\n",
    "    if(m>mf):\n",
    "        m=m+mdot*dt\n",
    "    Fgrav1=m1*vector(0,-g,0)\n",
    "    Fgrav2=m*vector(0,-g,0)\n",
    "    thrust=-mdot*vex\n",
    "    \n",
    "    taugrav1=cross(r1,Fgrav1)\n",
    "    taugrav2=cross(r2,Fgrav2)\n",
    "    if(m>mf):\n",
    "        tauthrust=vector(0,0,thrust*r)\n",
    "    else:\n",
    "        tauthrust=vector(0,0,0)\n",
    "    tau=taugrav1+taugrav2+tauthrust\n",
    "    \n",
    "    Ieng2=m*r*r\n",
    "    I=Idisk+Ieng1+Ieng2\n",
    "    \n",
    "    omega=omega+tau.z/I*dt\n",
    "    theta=theta+omega*dt\n",
    "    \n",
    "    r1=r*vector(cos(theta+pi),sin(theta+pi),0)\n",
    "    r2=r*vector(cos(theta),sin(theta),0)\n",
    "    \n",
    "    t=t+dt\n",
    "    \n",
    "    tlist.append(t)\n",
    "    thetalist.append(theta)\n",
    "    omegalist.append(omega)\n",
    "    mlist.append(m)\n",
    "    taulist.append(tau.z)\n",
    "\n",
    "plt.title('omega vs. t')\n",
    "plt.xlabel('t (s)')\n",
    "plt.ylabel('omega (rad/s)')\n",
    "plt.plot(tlist,omegalist,'m.')\n",
    "plt.show()"
   ]
  },
  {
   "cell_type": "markdown",
   "metadata": {
    "slideshow": {
     "slide_type": "slide"
    }
   },
   "source": [
    "# Example -- <span style=\"color:blue\">Solving SE in Modern Physics</span>"
   ]
  },
  {
   "cell_type": "code",
   "execution_count": null,
   "metadata": {
    "collapsed": false,
    "slideshow": {
     "slide_type": "subslide"
    }
   },
   "outputs": [],
   "source": [
    "#finite well\n",
    "\n",
    "#x is in nm and E is in eV\n",
    "E_rest=0.511e6\n",
    "hc=1240\n",
    "E=0.29766 #ground state for L=1\n",
    "#E=1.1865 #first state for L=1\n",
    "#E=2.6525 #second excited state for L=1\n",
    "\n",
    "#values of x\n",
    "N=1000\n",
    "\n",
    "#left edge\n",
    "x_left=-1\n",
    "\n",
    "#right edge\n",
    "x_right=1\n",
    "\n",
    "#dx\n",
    "dx=(x_right-x_left)/N\n",
    "\n",
    "#Define and graph V\n",
    "V=[]\n",
    "Vmax=10\n",
    "\n",
    "for x in arange(x_left,x_right,dx):\n",
    "    leftWall=-0.5\n",
    "    rightWall=0.5\n",
    "    if(x<leftWall):\n",
    "        V.append(Vmax)\n",
    "    elif(x>rightWall):\n",
    "        V.append(Vmax)\n",
    "    else:\n",
    "        V.append(0)\n",
    "\n",
    "#Define and calculate Psi\n",
    "Psi_0=0\n",
    "Psi_1=1e-5\n",
    "\n",
    "Psi=[]\n",
    "i=0\n",
    "for x in arange(x_left,x_right,dx):\n",
    "    if(i==0):\n",
    "        Psi.append(Psi_0)\n",
    "    elif(i==1):\n",
    "        Psi.append(Psi_1)\n",
    "    else:\n",
    "        f=2*Psi[i-1]-Psi[i-2]-8*pi*pi*E_rest/(hc*hc)*dx*dx*(E-V[i-1])*Psi[i-1]\n",
    "        Psi.append(f)\n",
    "    i=i+1\n",
    "\n",
    "#find the integral of Psi^2 dx\n",
    "integral=0\n",
    "for j in arange(0,len(Psi),1):\n",
    "    integral=integral+Psi[j]*Psi[j]*dx\n",
    "\n",
    "#calculate the constant A^2 that normalizes the integral of Psi^2 dx\n",
    "Asquared=1/integral\n",
    "A=sqrt(Asquared)\n",
    "\n",
    "#calculate the normalized Psi\n",
    "PsiNormalized=[]\n",
    "for j in arange(0,len(Psi),1):\n",
    "    PsiNormalized.append(A*Psi[j])\n",
    "\n",
    "fig1 = plt.figure()\n",
    "plt.title('V vs x')\n",
    "plt.xlabel('x (nm)')\n",
    "plt.ylabel('V (MeV)')\n",
    "plt.plot(arange(x_left,x_right,dx), V,'b.', arange(x_left,x_right,dx), PsiNormalized,'m.')\n",
    "plt.show\n"
   ]
  },
  {
   "cell_type": "markdown",
   "metadata": {
    "slideshow": {
     "slide_type": "slide"
    }
   },
   "source": [
    "# Example -- <span style=\"color:blue\">Computing Electric and Magnetic Fields</span>\n",
    "\n",
    "Compare the analytic calculation and numeric calculation of the electric field at a location along the axis of a ring of charge Q. (Demo program by Ruth Chabay.)"
   ]
  },
  {
   "cell_type": "code",
   "execution_count": null,
   "metadata": {
    "collapsed": false,
    "slideshow": {
     "slide_type": "subslide"
    }
   },
   "outputs": [],
   "source": [
    "IFrame('http://www.glowscript.org/#/user/matterandinteractions/folder/matterandinteractions/program/15-E-ring-demo-dE', width=700, height=700)"
   ]
  },
  {
   "cell_type": "code",
   "execution_count": null,
   "metadata": {
    "collapsed": true
   },
   "outputs": [],
   "source": []
  }
 ],
 "metadata": {
  "celltoolbar": "Slideshow",
  "kernelspec": {
   "display_name": "Python 2",
   "language": "python",
   "name": "python2"
  },
  "language_info": {
   "codemirror_mode": {
    "name": "ipython",
    "version": 2
   },
   "file_extension": ".py",
   "mimetype": "text/x-python",
   "name": "python",
   "nbconvert_exporter": "python",
   "pygments_lexer": "ipython2",
   "version": "2.7.10"
  },
  "livereveal": {
   "height": "855",
   "start_slideshow_at": "selected",
   "theme": "simple",
   "transition": "none",
   "width": "1140"
  }
 },
 "nbformat": 4,
 "nbformat_minor": 0
}
