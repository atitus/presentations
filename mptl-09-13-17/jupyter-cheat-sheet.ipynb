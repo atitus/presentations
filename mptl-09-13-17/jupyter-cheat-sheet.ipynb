{
 "cells": [
  {
   "cell_type": "markdown",
   "metadata": {},
   "source": [
    "# Jupyter Cheat Sheet\n",
    "\n",
    "These are the simplest functions you will use on a regular basis."
   ]
  },
  {
   "cell_type": "markdown",
   "metadata": {
    "collapsed": true
   },
   "source": [
    "1. **Install Jupyter** by [installing Anaconda](https://www.anaconda.com/download/).\n",
    "\n",
    "1. **Run Jupyter** by opening a terminal and running `jupyter notebook` from the command line.\n",
    "\n",
    "1. **Create a new notebook** in the file system by selecting `New` and a particular kernel such as ``Python 3``. \n",
    "  <img src=\"jupyter-tree.png\" align=\"center\" width=500>\n",
    "  \n",
    "1. **Rename the notebook** by clicking the name of the file `Untitled` and typing a new name in the resulting dialog box.\n",
    "  <img src=\"untitled.png\" align=\"center\" width=500>\n",
    "\n",
    "\n",
    "1. **Select the Cell Type:** in the toolbar of the notebook, and select either `Markdown` or `Code`.  \n",
    "  <img src=\"code-markdown.png\" align=\"center\" width=500>\n",
    "\n",
    "1. **Use Shift-Enter** to render a `Markdown` cell or run a `Code` cell.\n",
    "\n",
    "## Markdown Commands\n",
    "\n",
    "1. Use `#` for level 1 header, `##` for level 2 header, etc.\n",
    "\n",
    "1. Use numbers like `1.` for a numbered list; symbols like `-` for a bulleted list.\n",
    "\n",
    "1. Use `[hypertext](URL)` to create a hyperlink, with text in brackets and the URL in parentheses.\n",
    "\n",
    "1. Use a single dollar sign for math within text `$\\vec{F}$`; use a double dollar sign for math centered on a line  `$$\\sum_1^N$$`.\n",
    "\n"
   ]
  },
  {
   "cell_type": "code",
   "execution_count": null,
   "metadata": {
    "collapsed": true
   },
   "outputs": [],
   "source": []
  }
 ],
 "metadata": {
  "kernelspec": {
   "display_name": "Python 3",
   "language": "python",
   "name": "python3"
  },
  "language_info": {
   "codemirror_mode": {
    "name": "ipython",
    "version": 3
   },
   "file_extension": ".py",
   "mimetype": "text/x-python",
   "name": "python",
   "nbconvert_exporter": "python",
   "pygments_lexer": "ipython3",
   "version": "3.6.1"
  }
 },
 "nbformat": 4,
 "nbformat_minor": 2
}
