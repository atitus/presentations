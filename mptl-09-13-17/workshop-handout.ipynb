{
 "cells": [
  {
   "cell_type": "markdown",
   "metadata": {},
   "source": [
    "<img src=\"jupyter-logo.png\" align=\"center\" width=\"400\">"
   ]
  },
  {
   "cell_type": "markdown",
   "metadata": {
    "slideshow": {
     "slide_type": "slide"
    }
   },
   "source": [
    "# Using Jupyter Notebook to Teach Physics with Computation\n",
    "\n",
    "[21st International Conference on Multimedia in Physics Teaching and Learning (MPTL 2017)](http://www.open.ac.uk/about/teaching-and-learning/esteem/mptl-2017)\n",
    "\n",
    "**Aaron Titus, High Point University**\n",
    "\n",
    "- email: atitus@highpoint.edu\n",
    "- github: [https://github.com/atitus/Jupyter-Tutorials](https://github.com/atitus/Jupyter-Tutorialss)\n"
   ]
  },
  {
   "cell_type": "markdown",
   "metadata": {
    "slideshow": {
     "slide_type": "subslide"
    }
   },
   "source": [
    "### Abstract\n",
    "\n",
    "Jupyter Notebook (formerly iPython Notebook) is a web application to create and share documents that contain live code, visualizations, and marked-up text and equations. Accessible to students and scalable to professionals, Jupyter Notebook is ideal for writing *code- and data- driven narratives* and is useful both for research and for teaching computational modeling, data visualization, collaborative computing, and reporting. Furthermore, the latest version of VPython runs in Jupyter Notebook."
   ]
  },
  {
   "cell_type": "markdown",
   "metadata": {
    "slideshow": {
     "slide_type": "slide"
    }
   },
   "source": [
    "## Agenda"
   ]
  },
  {
   "cell_type": "markdown",
   "metadata": {
    "slideshow": {
     "slide_type": "fragment"
    }
   },
   "source": [
    "- **14:25 - 14:40**:  Presentation (What is Jupyter?)\n",
    "- **14:40 - 14:55**:  Explore Example Notebooks\n",
    "- **14:55 - 15:10**:  Explore Workshop Notebooks\n",
    "- **15:10 - 15:15**:  Summary"
   ]
  },
  {
   "cell_type": "markdown",
   "metadata": {
    "collapsed": true
   },
   "source": [
    "## Download Notebooks and/or Test Jupyter\n",
    "\n",
    "[https://www.hpuphysics.com/](https://www.hpuphysics.com/)  You can download a zip file of notebooks. To test Jupyter, use the password *jns*. Please use the folder corresponding to the name on your handout, such as *user01*. Notebooks are also available on GitHub."
   ]
  },
  {
   "cell_type": "code",
   "execution_count": null,
   "metadata": {
    "collapsed": true
   },
   "outputs": [],
   "source": []
  }
 ],
 "metadata": {
  "kernelspec": {
   "display_name": "Python 3",
   "language": "python",
   "name": "python3"
  },
  "language_info": {
   "codemirror_mode": {
    "name": "ipython",
    "version": 3
   },
   "file_extension": ".py",
   "mimetype": "text/x-python",
   "name": "python",
   "nbconvert_exporter": "python",
   "pygments_lexer": "ipython3",
   "version": "3.6.1"
  }
 },
 "nbformat": 4,
 "nbformat_minor": 2
}
