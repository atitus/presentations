{
 "cells": [
  {
   "cell_type": "code",
   "execution_count": 1,
   "metadata": {
    "slideshow": {
     "slide_type": "skip"
    }
   },
   "outputs": [
    {
     "data": {
      "text/html": [
       "<style>\n",
       "\n",
       ".rendered_html table, .rendered_html th, .rendered_html tr, .rendered_html td {\n",
       "     font-size: 100%;\n",
       "}\n",
       "\n",
       "</style>"
      ],
      "text/plain": [
       "<IPython.core.display.HTML object>"
      ]
     },
     "metadata": {},
     "output_type": "display_data"
    }
   ],
   "source": [
    "%%html\n",
    "<style>\n",
    "\n",
    ".rendered_html table, .rendered_html th, .rendered_html tr, .rendered_html td {\n",
    "     font-size: 100%;\n",
    "}\n",
    "\n",
    "</style>"
   ]
  },
  {
   "cell_type": "code",
   "execution_count": 2,
   "metadata": {
    "slideshow": {
     "slide_type": "skip"
    }
   },
   "outputs": [
    {
     "data": {
      "application/javascript": [
       "require.undef(\"nbextensions/vpython_libraries/glow.min\");"
      ],
      "text/plain": [
       "<IPython.core.display.Javascript object>"
      ]
     },
     "metadata": {},
     "output_type": "display_data"
    },
    {
     "data": {
      "application/javascript": [
       "require.undef(\"nbextensions/vpython_libraries/glowcomm\");"
      ],
      "text/plain": [
       "<IPython.core.display.Javascript object>"
      ]
     },
     "metadata": {},
     "output_type": "display_data"
    },
    {
     "data": {
      "application/javascript": [
       "require.undef(\"nbextensions/vpython_libraries/jquery-ui.custom.min\");"
      ],
      "text/plain": [
       "<IPython.core.display.Javascript object>"
      ]
     },
     "metadata": {},
     "output_type": "display_data"
    },
    {
     "data": {
      "application/javascript": [
       "require([\"nbextensions/vpython_libraries/glow.min\"], function(){console.log(\"GLOW LOADED\");})"
      ],
      "text/plain": [
       "<IPython.core.display.Javascript object>"
      ]
     },
     "metadata": {},
     "output_type": "display_data"
    },
    {
     "data": {
      "application/javascript": [
       "require([\"nbextensions/vpython_libraries/glowcomm\"], function(){console.log(\"GLOWCOMM LOADED\");})"
      ],
      "text/plain": [
       "<IPython.core.display.Javascript object>"
      ]
     },
     "metadata": {},
     "output_type": "display_data"
    },
    {
     "data": {
      "application/javascript": [
       "require([\"nbextensions/vpython_libraries/jquery-ui.custom.min\"], function(){console.log(\"JQUERY LOADED\");})"
      ],
      "text/plain": [
       "<IPython.core.display.Javascript object>"
      ]
     },
     "metadata": {},
     "output_type": "display_data"
    },
    {
     "data": {
      "text/html": [
       "<div id=\"glowscript\" class=\"glowscript\"></div>"
      ],
      "text/plain": [
       "<IPython.core.display.HTML object>"
      ]
     },
     "metadata": {},
     "output_type": "display_data"
    },
    {
     "data": {
      "application/javascript": [
       "window.__context = { glowscript_container: $(\"#glowscript\").removeAttr(\"id\")}"
      ],
      "text/plain": [
       "<IPython.core.display.Javascript object>"
      ]
     },
     "metadata": {},
     "output_type": "display_data"
    }
   ],
   "source": [
    "from vpython import *"
   ]
  },
  {
   "cell_type": "markdown",
   "metadata": {
    "slideshow": {
     "slide_type": "slide"
    }
   },
   "source": [
    "# Reasoning in Small Time Steps\n",
    "\n",
    "## Aaron Titus, High Point University\n",
    "\n",
    "### Appalachian State University, Department of Physics, Nov. 16, 2018"
   ]
  },
  {
   "cell_type": "markdown",
   "metadata": {
    "slideshow": {
     "slide_type": "skip"
    }
   },
   "source": [
    "## Abstract\n",
    "\n",
    "Numerical techniques for integration are hardly taught in a typical calculus course and are hardly used in a typical physics course. Yet, numerical integration is an essential tool in current research and development in science and engineering. How do we bridge this gap between what modern students need and what we traditionally teach? The answer is to think iteratively. I will present examples across the physics curriculum using VPython (or the web-based version, GlowScript) which provides 3D visualization and a low barrier to learning numerical methods."
   ]
  },
  {
   "cell_type": "markdown",
   "metadata": {
    "slideshow": {
     "slide_type": "slide"
    }
   },
   "source": [
    "# \"Education is not the filling of a pail, but the lighting of a fire.\"\n",
    "\n",
    "<img src=\"chile.jpg\" align=\"right\" width=\"800\">\n",
    "\n",
    "### -- paraphrase of Plutarch, *On Listening to Lectures*\n",
    "\n",
    "(photo credit: Brad Barlow)\n"
   ]
  },
  {
   "cell_type": "markdown",
   "metadata": {
    "slideshow": {
     "slide_type": "subslide"
    }
   },
   "source": [
    "## Acknowledgements\n",
    "\n",
    "1. My colleagues at High Point University: Briana Fiser, Brad Barlow, Jeff Regester, Jarrett Lancaster, and Martin DeWitt\n",
    "2. Ruth Chabay and Bruce Sherwood (University of North Texas)\n",
    "3. Larry Martin, Bob Beichner, John Risley (NCSU) and Wolfgang Christian, Mario Belloni (Davidson College) and Paco Esquembre (Universidad de Murcia)\n",
    "4. Josh Gates, Frank Noschese (HS) and Steve Spicklemire (University of Indianapolis)\n",
    "5. Tom Dooling, UNC Pembroke\n",
    "6. SPS, AAPT, and NCS-AAPT"
   ]
  },
  {
   "cell_type": "markdown",
   "metadata": {
    "slideshow": {
     "slide_type": "slide"
    }
   },
   "source": [
    "# 2003 -- My first year teaching with *Matter and Interactions* (first edition)\n",
    "\n",
    "<img src=\"mande-1e.jpg\" width=900>\n"
   ]
  },
  {
   "cell_type": "markdown",
   "metadata": {
    "slideshow": {
     "slide_type": "subslide"
    }
   },
   "source": [
    "### c. 1990 -- M&I before the first edition\n",
    "\n",
    "- 1990: Chabay and Sherwood teach intro E&M at Carnegie Mellon <img src=\"ballspring.gif\" width=500 align=\"right\">\n",
    "- 1995: Introductory E&M textbook/workbook published by Wiley\n",
    "- 1997: Chabay and Sherwood start teaching introductory mechanics\n",
    "- 1997: Students write cT programs for numerical computation\n",
    "- 2000: Abandon cT and develop VPython (started by student, David Scherer)\n",
    "- 2002: Publication of the 1st edition of Volume I (Modern Mechanics) and Volume 2 (Electric and Magnetic Interactions)"
   ]
  },
  {
   "cell_type": "markdown",
   "metadata": {
    "slideshow": {
     "slide_type": "subslide"
    }
   },
   "source": [
    "### 1983 -- M.U.P.P.E.T.\n",
    "\n",
    "[Student Programming in the Introductory Physics Course: M.U.P.P.E.T](https://aapt.scitation.org/doi/abs/10.1119/1.17295?journalCode=ajp), E. F. Redish, and J. M. Wilson, *American Journal of Physics*, **61**, 222 (1993).\n",
    "\n",
    "**Abstract**\n",
    "\n",
    "Since **1983**, the Maryland University Project in Physics and Educational Technology (M.U.P.P.E.T.) has been investigating the implication of including **student programming in an introductory physics course for physics majors. Many significant changes can result. One can rearrange some content to be more physically appropriate, include more realistic problems, and introduce some contemporary topics**. We also find that one can begin **training the student in professional research-related skills at an earlier stage than is traditional**. We learned that the inclusion of carefully considered computer content requires an increased emphasis on qualitative and analytic thinking."
   ]
  },
  {
   "cell_type": "markdown",
   "metadata": {
    "slideshow": {
     "slide_type": "subslide"
    }
   },
   "source": [
    "### 1981 -- Cromer's AJP Paper on the Euler Approximation\n",
    "\n",
    "Alan Cromer, \"Stable solutions using the Euler approximation,\" *Am. J. Phys.* **49**, 455-459 (1981)\n"
   ]
  },
  {
   "cell_type": "markdown",
   "metadata": {
    "slideshow": {
     "slide_type": "subslide"
    }
   },
   "source": [
    "<img src=\"cromer-quote.png\" align=\"center\" width=800>"
   ]
  },
  {
   "cell_type": "markdown",
   "metadata": {
    "slideshow": {
     "slide_type": "subslide"
    }
   },
   "source": [
    "### 1981 -- Cromer's Conclusion\n",
    "\n",
    "The concluding sentence in Cromer's 1981 AJP paper is:\n",
    "\n",
    "<div class=\"alert alert-success\" role=\"alert\">\n",
    "With such an elegant tool at our disposal, the three-body problem may become as much a part of the introductory physics curriculum as the inclined plane.\n",
    "</div>"
   ]
  },
  {
   "cell_type": "markdown",
   "metadata": {
    "slideshow": {
     "slide_type": "slide"
    }
   },
   "source": [
    "# Presentation Outline\n",
    "\n",
    "<div class=\"alert alert-info\" role=\"alert\">Benefits of iterative thinking in introductory physics for physical reasoning, with examples.</div>\n",
    "\n",
    "1. Describing (or predicting) the motion of a system.\n",
    "2. Describing (or predicting) the polarization of a metal.\n"
   ]
  },
  {
   "cell_type": "markdown",
   "metadata": {
    "slideshow": {
     "slide_type": "slide"
    }
   },
   "source": [
    "# Predicting Motion"
   ]
  },
  {
   "cell_type": "markdown",
   "metadata": {
    "slideshow": {
     "slide_type": "fragment"
    }
   },
   "source": [
    "### Euler Cromer Method\n",
    "\n",
    "1. Calculate the net force on the particle.\n",
    "2. Update the particle's momentum.\n",
    "3. Update the particle's position.\n",
    "\n",
    "For non-relativistic motion,\n",
    "\n",
    "$$\\vec{v}_{avg}\\approx \\vec{v}_f \\approx \\frac{\\vec{p}}{m}.$$\n",
    "\n",
    "For an object named __particle__, the VPython code looks like this. (`Fnet`, `p`, and `particle.pos` are vector objects. Operator overloading in VPython allows Python to add and subtract vectors and multiply and divide a vector by a scalar.)\n",
    "\n",
    "```python\n",
    "    Fnet = #vector(0,-mg,0) for example\n",
    "    p = p + Fnet * dt\n",
    "    particle.pos = particle.pos + p/m * dt\n",
    "```"
   ]
  },
  {
   "cell_type": "markdown",
   "metadata": {
    "slideshow": {
     "slide_type": "subslide"
    }
   },
   "source": [
    "## Example -- Orbit\n",
    "\n",
    "[03-earth-orbit-steps.py](http://www.glowscript.org/#/user/Aaron_Titus/folder/mandi-v1-private/program/03-earth-orbit-steps) by Ruth Chabay (*Matter and Interactions*)"
   ]
  },
  {
   "cell_type": "code",
   "execution_count": 10,
   "metadata": {
    "slideshow": {
     "slide_type": "subslide"
    }
   },
   "outputs": [
    {
     "data": {
      "text/html": [
       "<div id=\"glowscript\" class=\"glowscript\"></div>"
      ],
      "text/plain": [
       "<IPython.core.display.HTML object>"
      ]
     },
     "metadata": {},
     "output_type": "display_data"
    },
    {
     "data": {
      "application/javascript": [
       "window.__context = { glowscript_container: $(\"#glowscript\").removeAttr(\"id\")}"
      ],
      "text/plain": [
       "<IPython.core.display.Javascript object>"
      ]
     },
     "metadata": {},
     "output_type": "display_data"
    }
   ],
   "source": [
    "scene=canvas(title=\"Moon Voyage\")\n",
    "\n",
    "scene.width = 1000\n",
    "#scene.height = 600\n",
    "\n",
    "scene.background=color.white\n",
    "\n",
    "earth = sphere(pos=vector(0,0,0), radius=6.4e6, color=color.blue)\n",
    "sc = sphere(pos=vector(-10*earth.radius, 0,0), radius=1e6, color=color.magenta, make_trail=True)\n",
    "moon = sphere(pos=vector(4e8,0,0), radius=1.75e6, color=color.black)\n",
    "\n",
    "G = 6.7e-11 #gravitational constant\n",
    "\n",
    "earth.m = 6e24 #kg\n",
    "sc.m = 15e3 #kg\n",
    "moon.m = 7e22\n",
    "\n",
    "sc.v = vector(0,3.27e3,0) #m/s\n",
    "sc.p = sc.m*sc.v\n",
    "\n",
    "t=0\n",
    "dt = 5 #s\n",
    "\n",
    "scene.autoscale = False #turn off zooming\n",
    "scene.center = (earth.pos + moon.pos)/2\n",
    "\n",
    "scene.waitfor(\"click\")\n",
    "\n",
    "while t < 0.075*365*24*60*60:\n",
    "    rate(1e4)\n",
    "    \n",
    "    #compute gravitational force by Earth on the spacecraft\n",
    "    r = sc.pos - earth.pos\n",
    "    rmag = mag(r)\n",
    "    rhat = r/rmag\n",
    "    Fgravearth = -G*sc.m*earth.m/rmag**2*rhat\n",
    "\n",
    "    #compute gravitational force by Moon on the spacecraft\n",
    "    r = sc.pos - moon.pos\n",
    "    rmag = mag(r)\n",
    "    rhat = r/rmag\n",
    "    Fgravmoon = -G*sc.m*moon.m/rmag**2*rhat\n",
    "    \n",
    "    #calculate net force\n",
    "    Fnet=Fgravearth+Fgravmoon\n",
    "\n",
    "    #update momentum and compute velocity of the spacecraft\n",
    "    sc.p = sc.p + Fnet*dt\n",
    "    sc.v = sc.p/sc.m\n",
    "    sc.pos = sc.pos + sc.v*dt\n",
    "    \n",
    "    t = t+dt\n",
    "    \n",
    "    if rmag < earth.radius:\n",
    "     break  ## exit from the loop\n",
    " \n",
    " "
   ]
  },
  {
   "cell_type": "markdown",
   "metadata": {
    "slideshow": {
     "slide_type": "subslide"
    }
   },
   "source": [
    "# How We Model the World\n",
    "\n",
    "### from Bob Panoff, Shodor\n",
    "\n"
   ]
  },
  {
   "cell_type": "markdown",
   "metadata": {
    "slideshow": {
     "slide_type": "fragment"
    }
   },
   "source": [
    "$$\\mbox{Right Answer} = \\mbox{Wrong Answer} + \\mbox{Corrections}$$"
   ]
  },
  {
   "cell_type": "markdown",
   "metadata": {
    "slideshow": {
     "slide_type": "fragment"
    }
   },
   "source": [
    "$$\\mbox{Right Answer} = \\mbox{Wrong Answer}\\left(1+\\frac{\\mbox{Corrections}}{\\mbox{Wrong Answer}} \\right)$$"
   ]
  },
  {
   "cell_type": "markdown",
   "metadata": {
    "slideshow": {
     "slide_type": "slide"
    }
   },
   "source": [
    "## Example -- Spring Released from Uniform Circular Motion\n",
    "\n",
    "The free end of a spring released from uniform circular motion should continue in uniform circular motion after it is released until a wave reaches the end of the spring.\n",
    "\n",
    "Matthew Carnaghi ('16), Tom Dooling from UNC Pembroke, and Jeff Regester and Aaron Titus from High Point University"
   ]
  },
  {
   "cell_type": "code",
   "execution_count": 3,
   "metadata": {
    "slideshow": {
     "slide_type": "subslide"
    }
   },
   "outputs": [
    {
     "name": "stdout",
     "output_type": "stream",
     "text": [
      "ERROR! Session/line number was not unique in database. History logging moved to new session 631\n"
     ]
    },
    {
     "data": {
      "image/jpeg": "[encoded data removed]",
      "text/html": [
       "\n",
       "        <iframe\n",
       "            width=\"400\"\n",
       "            height=\"300\"\n",
       "            src=\"https://www.youtube.com/embed/uiyMuHuCFo4\"\n",
       "            frameborder=\"0\"\n",
       "            allowfullscreen\n",
       "        ></iframe>\n",
       "        "
      ],
      "text/plain": [
       "<IPython.lib.display.YouTubeVideo at 0x10f61cef0>"
      ]
     },
     "execution_count": 3,
     "metadata": {},
     "output_type": "execute_result"
    }
   ],
   "source": [
    "#https://youtu.be/uiyMuHuCFo4\n",
    "from IPython.display import YouTubeVideo\n",
    "YouTubeVideo('uiyMuHuCFo4')"
   ]
  },
  {
   "cell_type": "code",
   "execution_count": 4,
   "metadata": {
    "slideshow": {
     "slide_type": "subslide"
    }
   },
   "outputs": [
    {
     "data": {
      "image/jpeg": "[encoded data removed]",
      "text/html": [
       "\n",
       "        <iframe\n",
       "            width=\"400\"\n",
       "            height=\"300\"\n",
       "            src=\"https://www.youtube.com/embed/LlgFhRs1NYU\"\n",
       "            frameborder=\"0\"\n",
       "            allowfullscreen\n",
       "        ></iframe>\n",
       "        "
      ],
      "text/plain": [
       "<IPython.lib.display.YouTubeVideo at 0x10f64c278>"
      ]
     },
     "execution_count": 4,
     "metadata": {},
     "output_type": "execute_result"
    }
   ],
   "source": [
    "#https://youtu.be/LlgFhRs1NYU\n",
    "from IPython.display import YouTubeVideo\n",
    "YouTubeVideo('LlgFhRs1NYU')"
   ]
  },
  {
   "cell_type": "markdown",
   "metadata": {
    "slideshow": {
     "slide_type": "subslide"
    }
   },
   "source": [
    "## Quasi-Static Condition\n",
    "\n",
    "### Unstretched\n",
    "\n",
    "<img src=\"restspring.jpg\" align=\"center\" width=\"600\">"
   ]
  },
  {
   "cell_type": "markdown",
   "metadata": {
    "slideshow": {
     "slide_type": "fragment"
    }
   },
   "source": [
    "### Rotating Coordinate System\n",
    "\n",
    "<img src=\"stretchspring.jpg\" align=\"center\" width=\"600\">\n",
    "\n",
    "Newton's Second Law for the $i^{th}$ ball is\n",
    "\n",
    "$$\\frac{dp_r}{dt}=+k(r_{i+1}-r_i)-k(r_i-r_{i-1}) + m\\omega^2 r_i \\qquad.$$\n",
    "\n",
    "In the steady-state, this leads to the following differential equation for the displacement of a point on the spring.\n",
    "\n",
    "$$\\frac{d^2u}{dx^2}=-\\frac{M\\omega^2}{KL_o^2}(u + x + r_o)$$\n",
    "\n",
    "Now, define $\\frac{M\\omega^2}{KL_o^2}=\\alpha^2$. The solution for the stretched position $r$ of a point on the spring initially at position $x$ is\n",
    "\n",
    "$$r=\\frac{r_o}{cos(\\phi)}\\cos(\\alpha x +\\phi)$$\n",
    "\n",
    "where\n",
    "\n",
    "$$\\tan(\\phi)= \\frac{\\left(-1/(r_o \\alpha)-\\sin(\\alpha L_o)\\right)}{\\cos(\\alpha L_o)} \\qquad .$$"
   ]
  },
  {
   "cell_type": "code",
   "execution_count": 5,
   "metadata": {
    "slideshow": {
     "slide_type": "subslide"
    }
   },
   "outputs": [
    {
     "data": {
      "image/jpeg": "[encoded data removed]",
      "text/html": [
       "\n",
       "        <iframe\n",
       "            width=\"400\"\n",
       "            height=\"300\"\n",
       "            src=\"https://www.youtube.com/embed/BvROdwDoW44\"\n",
       "            frameborder=\"0\"\n",
       "            allowfullscreen\n",
       "        ></iframe>\n",
       "        "
      ],
      "text/plain": [
       "<IPython.lib.display.YouTubeVideo at 0x10f6752b0>"
      ]
     },
     "execution_count": 5,
     "metadata": {},
     "output_type": "execute_result"
    }
   ],
   "source": [
    "from IPython.display import YouTubeVideo\n",
    "YouTubeVideo('BvROdwDoW44')"
   ]
  },
  {
   "cell_type": "markdown",
   "metadata": {
    "slideshow": {
     "slide_type": "subslide"
    }
   },
   "source": [
    "## Dynamic Condition\n",
    "\n",
    "<img src=\"generalspring.jpg\" align=\"center\" width=\"600\">\n",
    "\n",
    "$$\n",
    "k(|\\vec{r}_+|-\\Delta x)\\hat{r}_++k(|\\vec{r}_-|-\\Delta x)\\hat{r}_-+m\\omega^2\\vec{r}_i-2m\\vec{\\omega}\\times\\vec{v_i}=m\\ddot{\\vec{r}}_i\n",
    "$$\n",
    "\n",
    "where,\n",
    "\n",
    "$$\\vec{r}_+=\\vec{r}_{i+1}-\\vec{r}_i=\\langle (x_{i+1}-x_i), (y_{i+1}-y_i)\\rangle$$\n",
    "\n",
    "and\n",
    "\n",
    "$$\\vec{r}_-=\\vec{r}_{i-1}-\\vec{r}_i=\\langle (x_{i-1}-x_i), (y_{i-1}-y_i)\\rangle$$\n",
    "\n",
    "The quantity $\\Delta x$ is the rest length between adjacent masses in the ball-spring model."
   ]
  },
  {
   "cell_type": "code",
   "execution_count": 6,
   "metadata": {
    "slideshow": {
     "slide_type": "subslide"
    }
   },
   "outputs": [
    {
     "data": {
      "image/jpeg": "[encoded data removed]",
      "text/html": [
       "\n",
       "        <iframe\n",
       "            width=\"400\"\n",
       "            height=\"300\"\n",
       "            src=\"https://www.youtube.com/embed/BvROdwDoW44\"\n",
       "            frameborder=\"0\"\n",
       "            allowfullscreen\n",
       "        ></iframe>\n",
       "        "
      ],
      "text/plain": [
       "<IPython.lib.display.YouTubeVideo at 0x10f675240>"
      ]
     },
     "execution_count": 6,
     "metadata": {},
     "output_type": "execute_result"
    }
   ],
   "source": [
    "from IPython.display import YouTubeVideo\n",
    "YouTubeVideo('BvROdwDoW44')"
   ]
  },
  {
   "cell_type": "markdown",
   "metadata": {
    "slideshow": {
     "slide_type": "subslide"
    }
   },
   "source": [
    "## Include Drag and Gravity\n",
    "\n",
    "If you swing a slinky in a horizontal plane, your hand leads the outer edge of the slinky. And the slinky hangs downward."
   ]
  },
  {
   "cell_type": "code",
   "execution_count": 7,
   "metadata": {
    "slideshow": {
     "slide_type": "fragment"
    }
   },
   "outputs": [
    {
     "data": {
      "image/jpeg": "[encoded data removed]",
      "text/html": [
       "\n",
       "        <iframe\n",
       "            width=\"400\"\n",
       "            height=\"300\"\n",
       "            src=\"https://www.youtube.com/embed/tlfaKQqFpcA\"\n",
       "            frameborder=\"0\"\n",
       "            allowfullscreen\n",
       "        ></iframe>\n",
       "        "
      ],
      "text/plain": [
       "<IPython.lib.display.YouTubeVideo at 0x10f675940>"
      ]
     },
     "execution_count": 7,
     "metadata": {},
     "output_type": "execute_result"
    }
   ],
   "source": [
    "from IPython.display import YouTubeVideo\n",
    "YouTubeVideo('tlfaKQqFpcA')"
   ]
  },
  {
   "cell_type": "markdown",
   "metadata": {
    "slideshow": {
     "slide_type": "subslide"
    }
   },
   "source": [
    "<img src=\"ajp.jpg\" width=400>"
   ]
  },
  {
   "cell_type": "markdown",
   "metadata": {
    "slideshow": {
     "slide_type": "slide"
    }
   },
   "source": [
    "# E&M\n",
    "\n",
    "## Superposition\n",
    "\n",
    "The net electric field at a location in space is the vector sum of the individual electric fields contributed by all charged particles located elsewhere. The electric field contributed by a charged particle is unaffected by the presence of other charged particles.\n",
    "\n",
    "$$\\vec{E}_{net} = \\sum_{i=1}^N \\vec{E}_i = \\sum_{i=1}^N \\frac{1}{4\\pi \\varepsilon_0}\\frac{q_i}{r_i^2}\\hat{r}_i$$"
   ]
  },
  {
   "cell_type": "markdown",
   "metadata": {
    "slideshow": {
     "slide_type": "subslide"
    }
   },
   "source": [
    "# Polarization of a Metal\n",
    "\n",
    "## Question\n",
    "\n",
    "A uniformly charged sphere $(+Q)$ is in space. At $(t=0)$, we suddenly introduce a neutral metal block shown below. Location A is a point inside the block and location B is outside the block. \n",
    "\n",
    "\n",
    "<img src=\"charge-and-block-00.png\" width=800 align=\"center\">\n",
    "\n",
    "\n",
    "After a long time (\"long\" is a relative term meaning that there is plenty of time for the system to reach static equilibrium), the electric field at location B is\n",
    "\n",
    "1. zero\n",
    "2. less than the electric field before the block was placed there.\n",
    "3. equal to the electric field before the block was placed there.\n",
    "4. greater than the electric field before the block was placed there."
   ]
  },
  {
   "cell_type": "markdown",
   "metadata": {
    "slideshow": {
     "slide_type": "subslide"
    }
   },
   "source": [
    "## t=0\n",
    "\n",
    "1. The electric field due to the spere at location A is to the right. \n",
    "\n",
    "  <img src=\"charge-and-block-t=0a.png\" width=800 align=\"center\">\n",
    "\n",
    "\n",
    "2. The force on an electron is to the left.\n",
    "3. Mobile electrons at location A move to the left. Electrons in the right side of the block also move to the left.\n",
    "4. There are excess electrons on the left side of the block and excess positive charge on the right side.\n",
    "\n",
    "  <img src=\"charge-and-block-t=0b.png\" width=800 align=\"center\">\n",
    "\n"
   ]
  },
  {
   "cell_type": "markdown",
   "metadata": {
    "slideshow": {
     "slide_type": "subslide"
    }
   },
   "source": [
    "## $t=1\\Delta t$\n",
    "\n",
    "1. The surface charge creates an electric field at location A that is to the left. This reduces the net electric field. The same thing happens at the right side of the block.\n",
    "\n",
    "    <img src=\"charge-and-block-t=1a.png\" width=800 align=\"center\">\n",
    "  \n",
    "    <img src=\"charge-and-block-t=1b.png\" width=800 align=\"center\">\n",
    "\n",
    "2. The force on mobile electrons on both the left side of the block and right side of the block is to the left.\n",
    "3. Mobile electrons move to the left.\n",
    "4. More electrons build up on the left side and more positive charge builds up on the right side.\n",
    "\n",
    "    <img src=\"charge-and-block-t=1c.png\" width=800 align=\"center\">\n"
   ]
  },
  {
   "cell_type": "markdown",
   "metadata": {
    "slideshow": {
     "slide_type": "subslide"
    }
   },
   "source": [
    "## After a long time\n",
    "\n",
    "1. After a long time, the net electric field at each location inside the block is zero. Mobile electrons move until the surface charge creates an electric field that is equal in magnitude and opposite in direction to the sphere's electric field. When this occurs, mobile electrons at that location will no longer move. The block will be in static equilibrium.\n",
    "\n",
    "  <img src=\"charge-and-block-t=1d.png\" width=800 align=\"center\">\n",
    "\n",
    "\n",
    "2. There is more charge on the left side of the block than the right side of the block because the applied electric field is larger on the left side than the right side. There must be surface charge spread out along the sides of the block as well.\n",
    "\n"
   ]
  },
  {
   "cell_type": "markdown",
   "metadata": {
    "slideshow": {
     "slide_type": "subslide"
    }
   },
   "source": [
    "## What happened to the net electric field at B?\n",
    "\n",
    "The electric field at location B is the sum of the electric field due to the sphere and the electric field due to surface charge on the block. The charge on the right side of the block dominates, so the electric field at B due to surface charge is to the right, in the same direction as the electric field due to the sphere. Thus, the answer to the original question is (4), the net electric field at B is *greater* due to the presence of the metal block.\n",
    "\n",
    "  <img src=\"charge-and-block-ans.png\" width=800 align=\"center\">\n",
    "\n",
    "## Does a metal \"block\" electric field?\n",
    "\n",
    "The metal did NOT \"block\" the field. Rather, it increased it!\n",
    "\n",
    "## Simulation\n",
    "\n",
    "[Simulation of a polarized conductor](http://www.glowscript.org/#/user/matterandinteractions/folder/matterandinteractions/program/18-SurfaceCharge) by Bruce Sherwood\n",
    "\n"
   ]
  },
  {
   "cell_type": "code",
   "execution_count": 8,
   "metadata": {
    "scrolled": true,
    "slideshow": {
     "slide_type": "subslide"
    }
   },
   "outputs": [
    {
     "data": {
      "application/javascript": [
       "/* Put everything inside the global mpl namespace */\n",
       "window.mpl = {};\n",
       "\n",
       "\n",
       "mpl.get_websocket_type = function() {\n",
       "    if (typeof(WebSocket) !== 'undefined') {\n",
       "        return WebSocket;\n",
       "    } else if (typeof(MozWebSocket) !== 'undefined') {\n",
       "        return MozWebSocket;\n",
       "    } else {\n",
       "        alert('Your browser does not have WebSocket support.' +\n",
       "              'Please try Chrome, Safari or Firefox ≥ 6. ' +\n",
       "              'Firefox 4 and 5 are also supported but you ' +\n",
       "              'have to enable WebSockets in about:config.');\n",
       "    };\n",
       "}\n",
       "\n",
       "mpl.figure = function(figure_id, websocket, ondownload, parent_element) {\n",
       "    this.id = figure_id;\n",
       "\n",
       "    this.ws = websocket;\n",
       "\n",
       "    this.supports_binary = (this.ws.binaryType != undefined);\n",
       "\n",
       "    if (!this.supports_binary) {\n",
       "        var warnings = document.getElementById(\"mpl-warnings\");\n",
       "        if (warnings) {\n",
       "            warnings.style.display = 'block';\n",
       "            warnings.textContent = (\n",
       "                \"This browser does not support binary websocket messages. \" +\n",
       "                    \"Performance may be slow.\");\n",
       "        }\n",
       "    }\n",
       "\n",
       "    this.imageObj = new Image();\n",
       "\n",
       "    this.context = undefined;\n",
       "    this.message = undefined;\n",
       "    this.canvas = undefined;\n",
       "    this.rubberband_canvas = undefined;\n",
       "    this.rubberband_context = undefined;\n",
       "    this.format_dropdown = undefined;\n",
       "\n",
       "    this.image_mode = 'full';\n",
       "\n",
       "    this.root = $('<div/>');\n",
       "    this._root_extra_style(this.root)\n",
       "    this.root.attr('style', 'display: inline-block');\n",
       "\n",
       "    $(parent_element).append(this.root);\n",
       "\n",
       "    this._init_header(this);\n",
       "    this._init_canvas(this);\n",
       "    this._init_toolbar(this);\n",
       "\n",
       "    var fig = this;\n",
       "\n",
       "    this.waiting = false;\n",
       "\n",
       "    this.ws.onopen =  function () {\n",
       "            fig.send_message(\"supports_binary\", {value: fig.supports_binary});\n",
       "            fig.send_message(\"send_image_mode\", {});\n",
       "            if (mpl.ratio != 1) {\n",
       "                fig.send_message(\"set_dpi_ratio\", {'dpi_ratio': mpl.ratio});\n",
       "            }\n",
       "            fig.send_message(\"refresh\", {});\n",
       "        }\n",
       "\n",
       "    this.imageObj.onload = function() {\n",
       "            if (fig.image_mode == 'full') {\n",
       "                // Full images could contain transparency (where diff images\n",
       "                // almost always do), so we need to clear the canvas so that\n",
       "                // there is no ghosting.\n",
       "                fig.context.clearRect(0, 0, fig.canvas.width, fig.canvas.height);\n",
       "            }\n",
       "            fig.context.drawImage(fig.imageObj, 0, 0);\n",
       "        };\n",
       "\n",
       "    this.imageObj.onunload = function() {\n",
       "        fig.ws.close();\n",
       "    }\n",
       "\n",
       "    this.ws.onmessage = this._make_on_message_function(this);\n",
       "\n",
       "    this.ondownload = ondownload;\n",
       "}\n",
       "\n",
       "mpl.figure.prototype._init_header = function() {\n",
       "    var titlebar = $(\n",
       "        '<div class=\"ui-dialog-titlebar ui-widget-header ui-corner-all ' +\n",
       "        'ui-helper-clearfix\"/>');\n",
       "    var titletext = $(\n",
       "        '<div class=\"ui-dialog-title\" style=\"width: 100%; ' +\n",
       "        'text-align: center; padding: 3px;\"/>');\n",
       "    titlebar.append(titletext)\n",
       "    this.root.append(titlebar);\n",
       "    this.header = titletext[0];\n",
       "}\n",
       "\n",
       "\n",
       "\n",
       "mpl.figure.prototype._canvas_extra_style = function(canvas_div) {\n",
       "\n",
       "}\n",
       "\n",
       "\n",
       "mpl.figure.prototype._root_extra_style = function(canvas_div) {\n",
       "\n",
       "}\n",
       "\n",
       "mpl.figure.prototype._init_canvas = function() {\n",
       "    var fig = this;\n",
       "\n",
       "    var canvas_div = $('<div/>');\n",
       "\n",
       "    canvas_div.attr('style', 'position: relative; clear: both; outline: 0');\n",
       "\n",
       "    function canvas_keyboard_event(event) {\n",
       "        return fig.key_event(event, event['data']);\n",
       "    }\n",
       "\n",
       "    canvas_div.keydown('key_press', canvas_keyboard_event);\n",
       "    canvas_div.keyup('key_release', canvas_keyboard_event);\n",
       "    this.canvas_div = canvas_div\n",
       "    this._canvas_extra_style(canvas_div)\n",
       "    this.root.append(canvas_div);\n",
       "\n",
       "    var canvas = $('<canvas/>');\n",
       "    canvas.addClass('mpl-canvas');\n",
       "    canvas.attr('style', \"left: 0; top: 0; z-index: 0; outline: 0\")\n",
       "\n",
       "    this.canvas = canvas[0];\n",
       "    this.context = canvas[0].getContext(\"2d\");\n",
       "\n",
       "    var backingStore = this.context.backingStorePixelRatio ||\n",
       "\tthis.context.webkitBackingStorePixelRatio ||\n",
       "\tthis.context.mozBackingStorePixelRatio ||\n",
       "\tthis.context.msBackingStorePixelRatio ||\n",
       "\tthis.context.oBackingStorePixelRatio ||\n",
       "\tthis.context.backingStorePixelRatio || 1;\n",
       "\n",
       "    mpl.ratio = (window.devicePixelRatio || 1) / backingStore;\n",
       "\n",
       "    var rubberband = $('<canvas/>');\n",
       "    rubberband.attr('style', \"position: absolute; left: 0; top: 0; z-index: 1;\")\n",
       "\n",
       "    var pass_mouse_events = true;\n",
       "\n",
       "    canvas_div.resizable({\n",
       "        start: function(event, ui) {\n",
       "            pass_mouse_events = false;\n",
       "        },\n",
       "        resize: function(event, ui) {\n",
       "            fig.request_resize(ui.size.width, ui.size.height);\n",
       "        },\n",
       "        stop: function(event, ui) {\n",
       "            pass_mouse_events = true;\n",
       "            fig.request_resize(ui.size.width, ui.size.height);\n",
       "        },\n",
       "    });\n",
       "\n",
       "    function mouse_event_fn(event) {\n",
       "        if (pass_mouse_events)\n",
       "            return fig.mouse_event(event, event['data']);\n",
       "    }\n",
       "\n",
       "    rubberband.mousedown('button_press', mouse_event_fn);\n",
       "    rubberband.mouseup('button_release', mouse_event_fn);\n",
       "    // Throttle sequential mouse events to 1 every 20ms.\n",
       "    rubberband.mousemove('motion_notify', mouse_event_fn);\n",
       "\n",
       "    rubberband.mouseenter('figure_enter', mouse_event_fn);\n",
       "    rubberband.mouseleave('figure_leave', mouse_event_fn);\n",
       "\n",
       "    canvas_div.on(\"wheel\", function (event) {\n",
       "        event = event.originalEvent;\n",
       "        event['data'] = 'scroll'\n",
       "        if (event.deltaY < 0) {\n",
       "            event.step = 1;\n",
       "        } else {\n",
       "            event.step = -1;\n",
       "        }\n",
       "        mouse_event_fn(event);\n",
       "    });\n",
       "\n",
       "    canvas_div.append(canvas);\n",
       "    canvas_div.append(rubberband);\n",
       "\n",
       "    this.rubberband = rubberband;\n",
       "    this.rubberband_canvas = rubberband[0];\n",
       "    this.rubberband_context = rubberband[0].getContext(\"2d\");\n",
       "    this.rubberband_context.strokeStyle = \"#000000\";\n",
       "\n",
       "    this._resize_canvas = function(width, height) {\n",
       "        // Keep the size of the canvas, canvas container, and rubber band\n",
       "        // canvas in synch.\n",
       "        canvas_div.css('width', width)\n",
       "        canvas_div.css('height', height)\n",
       "\n",
       "        canvas.attr('width', width * mpl.ratio);\n",
       "        canvas.attr('height', height * mpl.ratio);\n",
       "        canvas.attr('style', 'width: ' + width + 'px; height: ' + height + 'px;');\n",
       "\n",
       "        rubberband.attr('width', width);\n",
       "        rubberband.attr('height', height);\n",
       "    }\n",
       "\n",
       "    // Set the figure to an initial 600x600px, this will subsequently be updated\n",
       "    // upon first draw.\n",
       "    this._resize_canvas(600, 600);\n",
       "\n",
       "    // Disable right mouse context menu.\n",
       "    $(this.rubberband_canvas).bind(\"contextmenu\",function(e){\n",
       "        return false;\n",
       "    });\n",
       "\n",
       "    function set_focus () {\n",
       "        canvas.focus();\n",
       "        canvas_div.focus();\n",
       "    }\n",
       "\n",
       "    window.setTimeout(set_focus, 100);\n",
       "}\n",
       "\n",
       "mpl.figure.prototype._init_toolbar = function() {\n",
       "    var fig = this;\n",
       "\n",
       "    var nav_element = $('<div/>')\n",
       "    nav_element.attr('style', 'width: 100%');\n",
       "    this.root.append(nav_element);\n",
       "\n",
       "    // Define a callback function for later on.\n",
       "    function toolbar_event(event) {\n",
       "        return fig.toolbar_button_onclick(event['data']);\n",
       "    }\n",
       "    function toolbar_mouse_event(event) {\n",
       "        return fig.toolbar_button_onmouseover(event['data']);\n",
       "    }\n",
       "\n",
       "    for(var toolbar_ind in mpl.toolbar_items) {\n",
       "        var name = mpl.toolbar_items[toolbar_ind][0];\n",
       "        var tooltip = mpl.toolbar_items[toolbar_ind][1];\n",
       "        var image = mpl.toolbar_items[toolbar_ind][2];\n",
       "        var method_name = mpl.toolbar_items[toolbar_ind][3];\n",
       "\n",
       "        if (!name) {\n",
       "            // put a spacer in here.\n",
       "            continue;\n",
       "        }\n",
       "        var button = $('<button/>');\n",
       "        button.addClass('ui-button ui-widget ui-state-default ui-corner-all ' +\n",
       "                        'ui-button-icon-only');\n",
       "        button.attr('role', 'button');\n",
       "        button.attr('aria-disabled', 'false');\n",
       "        button.click(method_name, toolbar_event);\n",
       "        button.mouseover(tooltip, toolbar_mouse_event);\n",
       "\n",
       "        var icon_img = $('<span/>');\n",
       "        icon_img.addClass('ui-button-icon-primary ui-icon');\n",
       "        icon_img.addClass(image);\n",
       "        icon_img.addClass('ui-corner-all');\n",
       "\n",
       "        var tooltip_span = $('<span/>');\n",
       "        tooltip_span.addClass('ui-button-text');\n",
       "        tooltip_span.html(tooltip);\n",
       "\n",
       "        button.append(icon_img);\n",
       "        button.append(tooltip_span);\n",
       "\n",
       "        nav_element.append(button);\n",
       "    }\n",
       "\n",
       "    var fmt_picker_span = $('<span/>');\n",
       "\n",
       "    var fmt_picker = $('<select/>');\n",
       "    fmt_picker.addClass('mpl-toolbar-option ui-widget ui-widget-content');\n",
       "    fmt_picker_span.append(fmt_picker);\n",
       "    nav_element.append(fmt_picker_span);\n",
       "    this.format_dropdown = fmt_picker[0];\n",
       "\n",
       "    for (var ind in mpl.extensions) {\n",
       "        var fmt = mpl.extensions[ind];\n",
       "        var option = $(\n",
       "            '<option/>', {selected: fmt === mpl.default_extension}).html(fmt);\n",
       "        fmt_picker.append(option)\n",
       "    }\n",
       "\n",
       "    // Add hover states to the ui-buttons\n",
       "    $( \".ui-button\" ).hover(\n",
       "        function() { $(this).addClass(\"ui-state-hover\");},\n",
       "        function() { $(this).removeClass(\"ui-state-hover\");}\n",
       "    );\n",
       "\n",
       "    var status_bar = $('<span class=\"mpl-message\"/>');\n",
       "    nav_element.append(status_bar);\n",
       "    this.message = status_bar[0];\n",
       "}\n",
       "\n",
       "mpl.figure.prototype.request_resize = function(x_pixels, y_pixels) {\n",
       "    // Request matplotlib to resize the figure. Matplotlib will then trigger a resize in the client,\n",
       "    // which will in turn request a refresh of the image.\n",
       "    this.send_message('resize', {'width': x_pixels, 'height': y_pixels});\n",
       "}\n",
       "\n",
       "mpl.figure.prototype.send_message = function(type, properties) {\n",
       "    properties['type'] = type;\n",
       "    properties['figure_id'] = this.id;\n",
       "    this.ws.send(JSON.stringify(properties));\n",
       "}\n",
       "\n",
       "mpl.figure.prototype.send_draw_message = function() {\n",
       "    if (!this.waiting) {\n",
       "        this.waiting = true;\n",
       "        this.ws.send(JSON.stringify({type: \"draw\", figure_id: this.id}));\n",
       "    }\n",
       "}\n",
       "\n",
       "\n",
       "mpl.figure.prototype.handle_save = function(fig, msg) {\n",
       "    var format_dropdown = fig.format_dropdown;\n",
       "    var format = format_dropdown.options[format_dropdown.selectedIndex].value;\n",
       "    fig.ondownload(fig, format);\n",
       "}\n",
       "\n",
       "\n",
       "mpl.figure.prototype.handle_resize = function(fig, msg) {\n",
       "    var size = msg['size'];\n",
       "    if (size[0] != fig.canvas.width || size[1] != fig.canvas.height) {\n",
       "        fig._resize_canvas(size[0], size[1]);\n",
       "        fig.send_message(\"refresh\", {});\n",
       "    };\n",
       "}\n",
       "\n",
       "mpl.figure.prototype.handle_rubberband = function(fig, msg) {\n",
       "    var x0 = msg['x0'] / mpl.ratio;\n",
       "    var y0 = (fig.canvas.height - msg['y0']) / mpl.ratio;\n",
       "    var x1 = msg['x1'] / mpl.ratio;\n",
       "    var y1 = (fig.canvas.height - msg['y1']) / mpl.ratio;\n",
       "    x0 = Math.floor(x0) + 0.5;\n",
       "    y0 = Math.floor(y0) + 0.5;\n",
       "    x1 = Math.floor(x1) + 0.5;\n",
       "    y1 = Math.floor(y1) + 0.5;\n",
       "    var min_x = Math.min(x0, x1);\n",
       "    var min_y = Math.min(y0, y1);\n",
       "    var width = Math.abs(x1 - x0);\n",
       "    var height = Math.abs(y1 - y0);\n",
       "\n",
       "    fig.rubberband_context.clearRect(\n",
       "        0, 0, fig.canvas.width, fig.canvas.height);\n",
       "\n",
       "    fig.rubberband_context.strokeRect(min_x, min_y, width, height);\n",
       "}\n",
       "\n",
       "mpl.figure.prototype.handle_figure_label = function(fig, msg) {\n",
       "    // Updates the figure title.\n",
       "    fig.header.textContent = msg['label'];\n",
       "}\n",
       "\n",
       "mpl.figure.prototype.handle_cursor = function(fig, msg) {\n",
       "    var cursor = msg['cursor'];\n",
       "    switch(cursor)\n",
       "    {\n",
       "    case 0:\n",
       "        cursor = 'pointer';\n",
       "        break;\n",
       "    case 1:\n",
       "        cursor = 'default';\n",
       "        break;\n",
       "    case 2:\n",
       "        cursor = 'crosshair';\n",
       "        break;\n",
       "    case 3:\n",
       "        cursor = 'move';\n",
       "        break;\n",
       "    }\n",
       "    fig.rubberband_canvas.style.cursor = cursor;\n",
       "}\n",
       "\n",
       "mpl.figure.prototype.handle_message = function(fig, msg) {\n",
       "    fig.message.textContent = msg['message'];\n",
       "}\n",
       "\n",
       "mpl.figure.prototype.handle_draw = function(fig, msg) {\n",
       "    // Request the server to send over a new figure.\n",
       "    fig.send_draw_message();\n",
       "}\n",
       "\n",
       "mpl.figure.prototype.handle_image_mode = function(fig, msg) {\n",
       "    fig.image_mode = msg['mode'];\n",
       "}\n",
       "\n",
       "mpl.figure.prototype.updated_canvas_event = function() {\n",
       "    // Called whenever the canvas gets updated.\n",
       "    this.send_message(\"ack\", {});\n",
       "}\n",
       "\n",
       "// A function to construct a web socket function for onmessage handling.\n",
       "// Called in the figure constructor.\n",
       "mpl.figure.prototype._make_on_message_function = function(fig) {\n",
       "    return function socket_on_message(evt) {\n",
       "        if (evt.data instanceof Blob) {\n",
       "            /* FIXME: We get \"Resource interpreted as Image but\n",
       "             * transferred with MIME type text/plain:\" errors on\n",
       "             * Chrome.  But how to set the MIME type?  It doesn't seem\n",
       "             * to be part of the websocket stream */\n",
       "            evt.data.type = \"image/png\";\n",
       "\n",
       "            /* Free the memory for the previous frames */\n",
       "            if (fig.imageObj.src) {\n",
       "                (window.URL || window.webkitURL).revokeObjectURL(\n",
       "                    fig.imageObj.src);\n",
       "            }\n",
       "\n",
       "            fig.imageObj.src = (window.URL || window.webkitURL).createObjectURL(\n",
       "                evt.data);\n",
       "            fig.updated_canvas_event();\n",
       "            fig.waiting = false;\n",
       "            return;\n",
       "        }\n",
       "        else if (typeof evt.data === 'string' && evt.data.slice(0, 21) == \"data:image/png;base64\") {\n",
       "            fig.imageObj.src = evt.data;\n",
       "            fig.updated_canvas_event();\n",
       "            fig.waiting = false;\n",
       "            return;\n",
       "        }\n",
       "\n",
       "        var msg = JSON.parse(evt.data);\n",
       "        var msg_type = msg['type'];\n",
       "\n",
       "        // Call the  \"handle_{type}\" callback, which takes\n",
       "        // the figure and JSON message as its only arguments.\n",
       "        try {\n",
       "            var callback = fig[\"handle_\" + msg_type];\n",
       "        } catch (e) {\n",
       "            console.log(\"No handler for the '\" + msg_type + \"' message type: \", msg);\n",
       "            return;\n",
       "        }\n",
       "\n",
       "        if (callback) {\n",
       "            try {\n",
       "                // console.log(\"Handling '\" + msg_type + \"' message: \", msg);\n",
       "                callback(fig, msg);\n",
       "            } catch (e) {\n",
       "                console.log(\"Exception inside the 'handler_\" + msg_type + \"' callback:\", e, e.stack, msg);\n",
       "            }\n",
       "        }\n",
       "    };\n",
       "}\n",
       "\n",
       "// from http://stackoverflow.com/questions/1114465/getting-mouse-location-in-canvas\n",
       "mpl.findpos = function(e) {\n",
       "    //this section is from http://www.quirksmode.org/js/events_properties.html\n",
       "    var targ;\n",
       "    if (!e)\n",
       "        e = window.event;\n",
       "    if (e.target)\n",
       "        targ = e.target;\n",
       "    else if (e.srcElement)\n",
       "        targ = e.srcElement;\n",
       "    if (targ.nodeType == 3) // defeat Safari bug\n",
       "        targ = targ.parentNode;\n",
       "\n",
       "    // jQuery normalizes the pageX and pageY\n",
       "    // pageX,Y are the mouse positions relative to the document\n",
       "    // offset() returns the position of the element relative to the document\n",
       "    var x = e.pageX - $(targ).offset().left;\n",
       "    var y = e.pageY - $(targ).offset().top;\n",
       "\n",
       "    return {\"x\": x, \"y\": y};\n",
       "};\n",
       "\n",
       "/*\n",
       " * return a copy of an object with only non-object keys\n",
       " * we need this to avoid circular references\n",
       " * http://stackoverflow.com/a/24161582/3208463\n",
       " */\n",
       "function simpleKeys (original) {\n",
       "  return Object.keys(original).reduce(function (obj, key) {\n",
       "    if (typeof original[key] !== 'object')\n",
       "        obj[key] = original[key]\n",
       "    return obj;\n",
       "  }, {});\n",
       "}\n",
       "\n",
       "mpl.figure.prototype.mouse_event = function(event, name) {\n",
       "    var canvas_pos = mpl.findpos(event)\n",
       "\n",
       "    if (name === 'button_press')\n",
       "    {\n",
       "        this.canvas.focus();\n",
       "        this.canvas_div.focus();\n",
       "    }\n",
       "\n",
       "    var x = canvas_pos.x * mpl.ratio;\n",
       "    var y = canvas_pos.y * mpl.ratio;\n",
       "\n",
       "    this.send_message(name, {x: x, y: y, button: event.button,\n",
       "                             step: event.step,\n",
       "                             guiEvent: simpleKeys(event)});\n",
       "\n",
       "    /* This prevents the web browser from automatically changing to\n",
       "     * the text insertion cursor when the button is pressed.  We want\n",
       "     * to control all of the cursor setting manually through the\n",
       "     * 'cursor' event from matplotlib */\n",
       "    event.preventDefault();\n",
       "    return false;\n",
       "}\n",
       "\n",
       "mpl.figure.prototype._key_event_extra = function(event, name) {\n",
       "    // Handle any extra behaviour associated with a key event\n",
       "}\n",
       "\n",
       "mpl.figure.prototype.key_event = function(event, name) {\n",
       "\n",
       "    // Prevent repeat events\n",
       "    if (name == 'key_press')\n",
       "    {\n",
       "        if (event.which === this._key)\n",
       "            return;\n",
       "        else\n",
       "            this._key = event.which;\n",
       "    }\n",
       "    if (name == 'key_release')\n",
       "        this._key = null;\n",
       "\n",
       "    var value = '';\n",
       "    if (event.ctrlKey && event.which != 17)\n",
       "        value += \"ctrl+\";\n",
       "    if (event.altKey && event.which != 18)\n",
       "        value += \"alt+\";\n",
       "    if (event.shiftKey && event.which != 16)\n",
       "        value += \"shift+\";\n",
       "\n",
       "    value += 'k';\n",
       "    value += event.which.toString();\n",
       "\n",
       "    this._key_event_extra(event, name);\n",
       "\n",
       "    this.send_message(name, {key: value,\n",
       "                             guiEvent: simpleKeys(event)});\n",
       "    return false;\n",
       "}\n",
       "\n",
       "mpl.figure.prototype.toolbar_button_onclick = function(name) {\n",
       "    if (name == 'download') {\n",
       "        this.handle_save(this, null);\n",
       "    } else {\n",
       "        this.send_message(\"toolbar_button\", {name: name});\n",
       "    }\n",
       "};\n",
       "\n",
       "mpl.figure.prototype.toolbar_button_onmouseover = function(tooltip) {\n",
       "    this.message.textContent = tooltip;\n",
       "};\n",
       "mpl.toolbar_items = [[\"Home\", \"Reset original view\", \"fa fa-home icon-home\", \"home\"], [\"Back\", \"Back to  previous view\", \"fa fa-arrow-left icon-arrow-left\", \"back\"], [\"Forward\", \"Forward to next view\", \"fa fa-arrow-right icon-arrow-right\", \"forward\"], [\"\", \"\", \"\", \"\"], [\"Pan\", \"Pan axes with left mouse, zoom with right\", \"fa fa-arrows icon-move\", \"pan\"], [\"Zoom\", \"Zoom to rectangle\", \"fa fa-square-o icon-check-empty\", \"zoom\"], [\"\", \"\", \"\", \"\"], [\"Download\", \"Download plot\", \"fa fa-floppy-o icon-save\", \"download\"]];\n",
       "\n",
       "mpl.extensions = [\"eps\", \"jpeg\", \"pdf\", \"png\", \"ps\", \"raw\", \"svg\", \"tif\"];\n",
       "\n",
       "mpl.default_extension = \"png\";var comm_websocket_adapter = function(comm) {\n",
       "    // Create a \"websocket\"-like object which calls the given IPython comm\n",
       "    // object with the appropriate methods. Currently this is a non binary\n",
       "    // socket, so there is still some room for performance tuning.\n",
       "    var ws = {};\n",
       "\n",
       "    ws.close = function() {\n",
       "        comm.close()\n",
       "    };\n",
       "    ws.send = function(m) {\n",
       "        //console.log('sending', m);\n",
       "        comm.send(m);\n",
       "    };\n",
       "    // Register the callback with on_msg.\n",
       "    comm.on_msg(function(msg) {\n",
       "        //console.log('receiving', msg['content']['data'], msg);\n",
       "        // Pass the mpl event to the overridden (by mpl) onmessage function.\n",
       "        ws.onmessage(msg['content']['data'])\n",
       "    });\n",
       "    return ws;\n",
       "}\n",
       "\n",
       "mpl.mpl_figure_comm = function(comm, msg) {\n",
       "    // This is the function which gets called when the mpl process\n",
       "    // starts-up an IPython Comm through the \"matplotlib\" channel.\n",
       "\n",
       "    var id = msg.content.data.id;\n",
       "    // Get hold of the div created by the display call when the Comm\n",
       "    // socket was opened in Python.\n",
       "    var element = $(\"#\" + id);\n",
       "    var ws_proxy = comm_websocket_adapter(comm)\n",
       "\n",
       "    function ondownload(figure, format) {\n",
       "        window.open(figure.imageObj.src);\n",
       "    }\n",
       "\n",
       "    var fig = new mpl.figure(id, ws_proxy,\n",
       "                           ondownload,\n",
       "                           element.get(0));\n",
       "\n",
       "    // Call onopen now - mpl needs it, as it is assuming we've passed it a real\n",
       "    // web socket which is closed, not our websocket->open comm proxy.\n",
       "    ws_proxy.onopen();\n",
       "\n",
       "    fig.parent_element = element.get(0);\n",
       "    fig.cell_info = mpl.find_output_cell(\"<div id='\" + id + \"'></div>\");\n",
       "    if (!fig.cell_info) {\n",
       "        console.error(\"Failed to find cell for figure\", id, fig);\n",
       "        return;\n",
       "    }\n",
       "\n",
       "    var output_index = fig.cell_info[2]\n",
       "    var cell = fig.cell_info[0];\n",
       "\n",
       "};\n",
       "\n",
       "mpl.figure.prototype.handle_close = function(fig, msg) {\n",
       "    var width = fig.canvas.width/mpl.ratio\n",
       "    fig.root.unbind('remove')\n",
       "\n",
       "    // Update the output cell to use the data from the current canvas.\n",
       "    fig.push_to_output();\n",
       "    var dataURL = fig.canvas.toDataURL();\n",
       "    // Re-enable the keyboard manager in IPython - without this line, in FF,\n",
       "    // the notebook keyboard shortcuts fail.\n",
       "    IPython.keyboard_manager.enable()\n",
       "    $(fig.parent_element).html('<img src=\"' + dataURL + '\" width=\"' + width + '\">');\n",
       "    fig.close_ws(fig, msg);\n",
       "}\n",
       "\n",
       "mpl.figure.prototype.close_ws = function(fig, msg){\n",
       "    fig.send_message('closing', msg);\n",
       "    // fig.ws.close()\n",
       "}\n",
       "\n",
       "mpl.figure.prototype.push_to_output = function(remove_interactive) {\n",
       "    // Turn the data on the canvas into data in the output cell.\n",
       "    var width = this.canvas.width/mpl.ratio\n",
       "    var dataURL = this.canvas.toDataURL();\n",
       "    this.cell_info[1]['text/html'] = '<img src=\"' + dataURL + '\" width=\"' + width + '\">';\n",
       "}\n",
       "\n",
       "mpl.figure.prototype.updated_canvas_event = function() {\n",
       "    // Tell IPython that the notebook contents must change.\n",
       "    IPython.notebook.set_dirty(true);\n",
       "    this.send_message(\"ack\", {});\n",
       "    var fig = this;\n",
       "    // Wait a second, then push the new image to the DOM so\n",
       "    // that it is saved nicely (might be nice to debounce this).\n",
       "    setTimeout(function () { fig.push_to_output() }, 1000);\n",
       "}\n",
       "\n",
       "mpl.figure.prototype._init_toolbar = function() {\n",
       "    var fig = this;\n",
       "\n",
       "    var nav_element = $('<div/>')\n",
       "    nav_element.attr('style', 'width: 100%');\n",
       "    this.root.append(nav_element);\n",
       "\n",
       "    // Define a callback function for later on.\n",
       "    function toolbar_event(event) {\n",
       "        return fig.toolbar_button_onclick(event['data']);\n",
       "    }\n",
       "    function toolbar_mouse_event(event) {\n",
       "        return fig.toolbar_button_onmouseover(event['data']);\n",
       "    }\n",
       "\n",
       "    for(var toolbar_ind in mpl.toolbar_items){\n",
       "        var name = mpl.toolbar_items[toolbar_ind][0];\n",
       "        var tooltip = mpl.toolbar_items[toolbar_ind][1];\n",
       "        var image = mpl.toolbar_items[toolbar_ind][2];\n",
       "        var method_name = mpl.toolbar_items[toolbar_ind][3];\n",
       "\n",
       "        if (!name) { continue; };\n",
       "\n",
       "        var button = $('<button class=\"btn btn-default\" href=\"#\" title=\"' + name + '\"><i class=\"fa ' + image + ' fa-lg\"></i></button>');\n",
       "        button.click(method_name, toolbar_event);\n",
       "        button.mouseover(tooltip, toolbar_mouse_event);\n",
       "        nav_element.append(button);\n",
       "    }\n",
       "\n",
       "    // Add the status bar.\n",
       "    var status_bar = $('<span class=\"mpl-message\" style=\"text-align:right; float: right;\"/>');\n",
       "    nav_element.append(status_bar);\n",
       "    this.message = status_bar[0];\n",
       "\n",
       "    // Add the close button to the window.\n",
       "    var buttongrp = $('<div class=\"btn-group inline pull-right\"></div>');\n",
       "    var button = $('<button class=\"btn btn-mini btn-primary\" href=\"#\" title=\"Stop Interaction\"><i class=\"fa fa-power-off icon-remove icon-large\"></i></button>');\n",
       "    button.click(function (evt) { fig.handle_close(fig, {}); } );\n",
       "    button.mouseover('Stop Interaction', toolbar_mouse_event);\n",
       "    buttongrp.append(button);\n",
       "    var titlebar = this.root.find($('.ui-dialog-titlebar'));\n",
       "    titlebar.prepend(buttongrp);\n",
       "}\n",
       "\n",
       "mpl.figure.prototype._root_extra_style = function(el){\n",
       "    var fig = this\n",
       "    el.on(\"remove\", function(){\n",
       "\tfig.close_ws(fig, {});\n",
       "    });\n",
       "}\n",
       "\n",
       "mpl.figure.prototype._canvas_extra_style = function(el){\n",
       "    // this is important to make the div 'focusable\n",
       "    el.attr('tabindex', 0)\n",
       "    // reach out to IPython and tell the keyboard manager to turn it's self\n",
       "    // off when our div gets focus\n",
       "\n",
       "    // location in version 3\n",
       "    if (IPython.notebook.keyboard_manager) {\n",
       "        IPython.notebook.keyboard_manager.register_events(el);\n",
       "    }\n",
       "    else {\n",
       "        // location in version 2\n",
       "        IPython.keyboard_manager.register_events(el);\n",
       "    }\n",
       "\n",
       "}\n",
       "\n",
       "mpl.figure.prototype._key_event_extra = function(event, name) {\n",
       "    var manager = IPython.notebook.keyboard_manager;\n",
       "    if (!manager)\n",
       "        manager = IPython.keyboard_manager;\n",
       "\n",
       "    // Check for shift+enter\n",
       "    if (event.shiftKey && event.which == 13) {\n",
       "        this.canvas_div.blur();\n",
       "        event.shiftKey = false;\n",
       "        // Send a \"J\" for go to next cell\n",
       "        event.which = 74;\n",
       "        event.keyCode = 74;\n",
       "        manager.command_mode();\n",
       "        manager.handle_keydown(event);\n",
       "    }\n",
       "}\n",
       "\n",
       "mpl.figure.prototype.handle_save = function(fig, msg) {\n",
       "    fig.ondownload(fig, null);\n",
       "}\n",
       "\n",
       "\n",
       "mpl.find_output_cell = function(html_output) {\n",
       "    // Return the cell and output element which can be found *uniquely* in the notebook.\n",
       "    // Note - this is a bit hacky, but it is done because the \"notebook_saving.Notebook\"\n",
       "    // IPython event is triggered only after the cells have been serialised, which for\n",
       "    // our purposes (turning an active figure into a static one), is too late.\n",
       "    var cells = IPython.notebook.get_cells();\n",
       "    var ncells = cells.length;\n",
       "    for (var i=0; i<ncells; i++) {\n",
       "        var cell = cells[i];\n",
       "        if (cell.cell_type === 'code'){\n",
       "            for (var j=0; j<cell.output_area.outputs.length; j++) {\n",
       "                var data = cell.output_area.outputs[j];\n",
       "                if (data.data) {\n",
       "                    // IPython >= 3 moved mimebundle to data attribute of output\n",
       "                    data = data.data;\n",
       "                }\n",
       "                if (data['text/html'] == html_output) {\n",
       "                    return [cell, data, j];\n",
       "                }\n",
       "            }\n",
       "        }\n",
       "    }\n",
       "}\n",
       "\n",
       "// Register the function which deals with the matplotlib target/channel.\n",
       "// The kernel may be null if the page has been refreshed.\n",
       "if (IPython.notebook.kernel != null) {\n",
       "    IPython.notebook.kernel.comm_manager.register_target('matplotlib', mpl.mpl_figure_comm);\n",
       "}\n"
      ],
      "text/plain": [
       "<IPython.core.display.Javascript object>"
      ]
     },
     "metadata": {},
     "output_type": "display_data"
    },
    {
     "data": {
      "text/html": [
       "<img src=\"data:image/png;base64,iVBORw0KGgoAAAANSUhEUgAABZgAAAPWCAYAAABtL/3iAAAgAElEQVR4XuzdB7QV1eH24ZcioqIRIwqCiiia2IMhatBo7A27EXuJXRRjQ6PGEk3sWBIxRjHEHrERFWv82yt2URMTFSugoAIiRfjWO+cb7rmXU+fMaTO/vRYrkTtl72fPmct5Z8/e7ebNmzdPFAQQQAABBBBAAAEEEEAAAQQQQAABBBBAAAEEyhRoR8BcphibI4AAAggggAACCCCAAAIIIIAAAggggAACCAQCBMxcCAgggAACCCCAAAIIIIAAAggggAACCCCAAAKRBAiYI7GxEwIIIIAAAggggAACCCCAAAIIIIAAAggggAABM9cAAggggAACCCCAAAIIIIAAAggggAACCCCAQCQBAuZIbOyEAAIIIIAAAggggAACCCCAAAIIIIAAAgggQMDMNYAAAggggAACCCCAAAIIIIAAAggggAACCCAQSYCAORIbOyGAAAIIIIAAAggggAACCCCAAAIIIIAAAggQMHMNIIAAAggggAACCCCAAAIIIIAAAggggAACCEQSIGCOxMZOCCCAAAIIIIAAAggggAACCCCAAAIIIIAAAgTMXAMIIIAAAggggAACCCCAAAIIIIAAAggggAACkQQImCOxsRMCCCCAAAIIIIAAAggggAACCCCAAAIIIIAAATPXAAIIIIAAAggggAACCCCAAAIIIIAAAggggEAkAQLmSGzshAACCCCAAAIIIIAAAggggAACCCCAAAIIIEDAzDWAAAIIIIAAAggggAACCCCAAAIIIIAAAgggEEmAgDkSGzshgAACCCCAAAIIIIAAAggggAACCCCAAAIIEDBzDSCAAAIIIIAAAggggAACCCCAAAIIIIAAAghEEiBgjsTGTggggAACCCCAAAIIIIAAAggggAACCCCAAAIEzFwDCCCAAAIIIIAAAggggAACCCCAAAIIIIAAApEECJgjsbETAggggAACCCCAAAIIIIAAAggggAACCCCAAAEz1wACCCCAAAIIIIAAAggggAACCCCAAAIIIIBAJAEC5khs7IQAAggggAACCCCAAAIIIIAAAggggAACCCBAwMw1gAACCCCAAAIIIIAAAggggAACCCCAAAIIIBBJgIA5Ehs7IYAAAggggAACCCCAAAIIIIAAAggggAACCBAwcw0ggAACCCCAAAIIIIAAAggggAACCCCAAAIIRBIgYI7Exk4IIIAAAggggAACCCCAAAIIIIAAAggggAACBMxcAwgggAACCCCAAAIIIIAAAggggAACCCCAAAKRBAiYI7GxEwIIIIAAAggggAACCCCAAAIIIIAAAggggAABM9cAAggggAACCCCAAAIIIIAAAggggAACCCCAQCQBAuZIbOyEAAIIIIAAAggggAACCCCAAAIIIIAAAgggQMDMNYAAAggggAACCCCAAAIIIIAAAggggAACCCAQSYCAORIbOyGAAAIIIIAAAggggAACCCCAAAIIIIAAAggQMHMNIIAAAggggAACCCCAAAIIIIAAAggggAACCEQSIGCOxMZOCCCAAAIIIIAAAggggAACCCCAAAIIIIAAAgTMXAMIIIAAAggggAACCCCAAAIIIIAAAggggAACkQQImCOxsRMCCCCAAAIIIIAAAggggAACCCCAAAIIIIAAATPXAAIIIIAAAggggAACCCCAAAIIIIAAAggggEAkAQLmSGzshAACCCCAAAIIIIAAAggggAACCCCAAAIIIEDAzDWAAAIIIIAAAggggAACCCCAAAIIIIAAAgggEEmAgDkSGzshgAACCCCAAAIIIIAAAggggAACCCCAAAIIEDBzDSCAAAIIIIAAAggggAACCCCAAAIIIIAAAghEEiBgjsTGTggggAACCCCAAAIIIIAAAggggAACCCCAAAIEzFwDCCCAAAIIIIAAAggggAACCCCAAAIIIIAAApEECJgjsbETAggggAACCCCAAAIIIIAAAggggAACCCCAAAEz1wACCCCAAAIIIIAAAggggAACCCCAAAIIIIBAJAEC5khs7IQAAggggAACCCCAAAIIIIAAAggggAACCCBAwMw1gAACCCCAAAIIIIAAAggggAACCCCAAAIIIBBJgIA5Ehs7IYAAAggggAACCCCAAAIIIIAAAggggAACCBAwcw0ggAACCCCAAAIIIIAAAggggAACCCCAAAIIRBIgYI7Exk4IIIAAAggggAACCCCAAAIIIIAAAggggAACBMxcAwgggAACCCCAAAIIIIAAAggggAACCCCAAAKRBAiYI7GxEwIIIIAAAggggAACCCCAAAIIIIAAAggggAABM9cAAggggAACCCCAAAIIIIAAAggggAACCCCAQCQBAuZIbOyEAAIIIIAAAggggAACCCCAAAIIIIAAAgggQMDMNYAAAggggAACCCCAAAIIIIAAAggggAACCCAQSYCAORIbOyGAAAIIIIAAAggggAACCCCAAAIIIIAAAggQMHMNIIAAAggggAACCCCAAAIIIIAAAggggAACCEQSIGCOxMZOCCCAAAIIIIAAAggggAACCCCAAAIIIIAAAgTMXAMIIIAAAggggAACCCCAAAIIIIAAAggggAACkQQImCOxsRMCCCCAAAIIIIAAAggggAACCCCAAAIIIIAAATPXAAIIIIAAAggggAACCCCAAAIIIIAAAggggEAkAQLmSGzshAACCCCAAAIIIIAAAggggAACCCCAAAIIIEDAzDWAAAIIIIAAAggggAACCCCAAAIIIIAAAgggEEmAgDkSGzshgAACCCCAAAIIIIAAAggggAACCCCAAAIIEDBzDSCAAAIIIIAAAggggAACCCCAAAIIIIAAAghEEiBgjsTGTggggAACCCCAAAIIIIAAAggggAACCCCAAAIEzFwDCCCAAAIIIIAAAggggAACCCCAAAIIIIAAApEECJgjsbETAggggAACCCCAAAIIIIAAAggggAACCCCAAAEz1wACCCCAAAIIIIAAAggggAACCCCAAAIIIIBAJAEC5khs7IQAAggggAACCCCAAAIIIIAAAggggAACCCBAwMw1gAACCCCAAAIIIIAAAggggAACCCCAAAIIIBBJgIA5Ehs7IYAAAggggAACCCCAAAIIIIAAAggggAACCBAwcw0ggAACCCCAAAIIIIAAAggggAACCCCAAAIIRBIgYI7Exk4IIIAAAggggAACCCCAAAIIIIAAAggggAACBMxcAwgggAACCCCAAAIIIIAAAggggAACCCCAAAKRBAiYI7GxEwIIIIAAAo0lsOmmm+rxxx8PKvXYY4/J/01BAIHSBM466yydffbZwcZnnnmm/N/NXNq1aze/+vPmzWvmpsyv+4EHHqiRI0cG/3399dfL/922/O1vf9NBBx0U/PUBBxwg/zeleQRK6ePmaQ01RQABBBBAIF0CBMzp6m9aiwACCCDQYAJff/21xowZo4cfflhjx47VpEmT9MUXX6hTp07q2rWrVlttNfXv318DBw7UhhtumLf2BMwN1rFUp6kECJgbv7tKCR8JmBu/HwvVsJQ+bu4WUnsEEEAAAQSSK0DAnNy+pWUIIIAAAg0s8O233+qyyy7TxRdfrClTppRU01VXXTUYWTlo0CBlj1D0zgTMJRGyEQI5BQiYa3thRAkSS9mHgLm2/Rh3WFxKHzdOC6kJAggggAACCGQLEDBzPSCAAAIIIFBjgfHjxwcjkl9//fVWZ15hhRW09tprq1u3bvr+++/1+eef67XXXtOECRNabXfBBRfo5JNPbvV3BMw17kROlygBAubadmeUILGUfQiYa9uPBMyN401NEEAAAQQQqLcAAXO9e4DzI4AAAgikSuCDDz4IprpweOzikch77bWXfvvb32qNNdZYwMLzp7700ku68sorddNNN2nu3Lk554glYE7VZURjESgo0OhzMJcSFkfpYgLmKGrV2adafVyd2nJUBBBAAAEEEKhUgIC5UkH2RwABBBBAoESBWbNmacCAAUFg7NK5c2fdcsst2nnnnUs6wptvvhmE0bvtttsCi5ARMJdEyEYIpEKAgJlF/up9oRMw17sHOD8CCCCAAAK1FSBgrq03Z0MAAQQQSLHAueeeqzPOOGO+wG233aZf/epXZYlMnz5dr776ahBUZxcC5rIY2RiBRAsQMBMw1/sCJ2Cudw9wfgQQQAABBGorQMBcW2/OhgACCCCQUoEZM2ZoxRVX1KRJkwKBXXfdVXfccUdsGrkC5smTJ+uvf/2rRo0apffff18Op3v06KFf/vKX+s1vfqM111yz6Pld7wcffFD/+te/9PLLL+s///lPsChhp06dtPTSS6tfv37aYYcdtO+++wZ/V6j83//9X3Bul0022UT+b5f7779fN9xwQzCy+7PPPgvqOWzYMB133HELHM6juP/85z/rkUce0SeffKJFF11UvXv3DkZ1H3rooUGdorwm/+KLL+rmm2/WY489Fhz366+/1lJLLaXVVltN2223nQ477DB17dq1qFe5G3gKFPfPnXfeqRdeeGH+fNvLLrus1l9//eA6cdvaLurY9jzV6v9y2vPhhx8GffnEE0/ojTfe0EcffSQvZrnEEkuoZ8+ewUORAw44QBtssEE5hy1pW59rxIgRevTRR/Xuu+/qq6++mn+Nek5zTz+z1VZbacsttwyukballDmY811Xd911V3DucL70H/zgB1p33XW1//77a5999inad2Fdvvjii2AqnHvuuSf4vHo6nF69egV1PvLII/XjH/9YnmJnpZVWCnbx/cT/nauUGzD7M/f3v/896D/PDe/7VIcOHdS9e3dtvPHGwed7s802K6kvCm3kz6qvk1LKmWee2epNjVICyyif/bfffju4//ie4rr5/uY+7NOnj7beemsdccQRWm655Uqpct5tZs+eHdx7v/zyy2CbZ555JpgqqZRid9+XXK644godc8wxC+zm+7OnUPI9xJ8F96fb4Gvf9xJ/9twWn3OhhRYq5bSRt6l2H+f6rPo+4773G0H+HeXffe4zf+ZPO+204LOSXfxZ+8tf/iJ/dv1Z++6774L+3n333XXiiSdqscUWK7n99va5H3roIf33v/8N+tj7+5ybb7558LvDC/RSEEAAAQQQSLoAAXPSe5j2IYAAAgg0hIADDAdOYXnqqacWGIVcSUXbBowOEfbcc88gLM1VHB4NHz48CGXzleeff15bbLGFpk2bVrRqDhUckv7kJz/Ju23bgNlB2kEHHRR8yW9bcgXMF154oU4//XQ5rMlVHOA4rP33v/8dHNfFgaa//OcrDpNsUCzsX3LJJYOw3gFEXMVBiPvolVdeKXjI9dZbTx7tvvLKK+fdrhr9X047TzrpJF1yySVyYF6seJqXa6+9Nng4EEdxUOQHJn4YUqw4aPNnr22JEjBffvnlwWd69OjReU+7zTbbBJ+LRRZZpGDVHE45jHbwlav44Y3DRYeEcQfMt99+u4499tj588Lnq6gfJN14441BcBm1VDt8LCdgnjlzZvAQy59rL6qar7jvfO8ZPHhw1GYH+/khwdVXXx38/6OPPlp/+tOfih7P928v/uqHDR07dgzu58sss8z8/Xxv9nVT6BrMPonbesghhxQ9byUbVLuP235W/fBjl112kR8+5iq+Xh3A+2Goyz//+U/tt99+wUPEXMUPFR9//PEgmC9U3Ceuy0UXXRQE1PmK+82L8voNpmIPCitxZ18EEEAAAQTqLUDAXO8e4PwIIIAAAqkQcOAZBp0ODEodxVcqTnbA6FGQp556ahAMO4zwCMQf/vCHQTjhL9phENe+ffsgbMs3ku6BBx7QtttuG1TBx/EoUI+o9Ogsjxh77733ghFzc+bMCbZZfPHFg1HOq6yySs5qZwfMv/jFL4KRrffee2/wpbt///7BCE0HlA4KHNwNGTJk/nEuvfRSnXDCCfP/2/NXezS06+NQziP8PGrVo4wdGnn0o0uhgNkLLXp0oEcwhsV18OhTt2XixImBTxj6uZ5+UOBAp9Lic3oUdzii3cdba621gnP7PA6dPQo4LA47PDI430i4avR/OW0cNGhQEIK77g5o/MfXnB90eESf2+PRfWHxqPCw78s5T9tt77777iBcCouvKV/Pvi4c7DhE8gMHX1PhHOhxBMwOtTza3iOmHf7+/Oc/Dx4AOGh68sknNX78+Pl18ghYP8zJV55++ulglHL4ubSh2/CjH/0oOJ5Hu4YjlR1qh5+LOEYw+0GOP1fhgwFf9z738ssvH4Su48aNk0f3hz9fZ511gvpEfTjgz6WvB7u98847AYlHebqtbYuvEf8JS5wjmD3C12G97cPi4P6nP/1pcA/xgye3M/sB3XnnnRcsxhq1+FwbbbRRsLtH0fv68TVaqDi8dDjpYov77ruv1ea+9v0ZCIvvvX7I57cv/CDO9xffR8LrpxYBc7X7ODtg9oMl30f8sM4PAX0f9Khtjyr27zp/5kNv/77y7yf3u238+fG13qVLF7311lt69tln5zv6werDDz+ct2v82fDDwewHk37A6bdO/LvSv3v9gDb7nucHmddcc03Uy4f9EEAAAQQQaHgBAuaG7yIqiAACCCCQBAF/8Q+/bO6xxx76xz/+EWuzsgPGhRdeOAh9PerOIxOzQwx/8XZQEY72ckjrL+K5ir8ge2ScR5zmm07DIaxfKXbw6uKwyK+a5yrZAbPr5Do6VPWr3f7f7OLRhW6Hi7/8e/RZGBZsv/32uv7664MgISwOvB2UeYSg9/P+LvkCZo8+c4gQvnru43skrAOm7OKA74ILLtDZZ58dhGwO1x3YhKNIo3Si2/Gzn/0smFLBxe3wyFC/zp1d2o5qdR2fe+65nK+4V6P/y2mbgzC3w6Ncc01B4WM5eD344IODBxMuvmYc1FZSHMiHjh5h6r7KFX468BkzZozGjh2r888/f4FTljuCObzG/ADGoZ2nAAmLr2s/4Ln44ouDv3Jg/L///S+YyqVtcajsaz+8N/Tt21ceUewgN7v4HEcddVQwbUV4bVcaMDvk9TXnz4IfBDgY9MOZttMDeM53P1Rx2OzikbhXXXVVJd2mUsLiticoZZ9SRzD7vuApQVz8YMD3Dd8PsotDRAeCDjFtbntfw6VObZELyOfyteDiYNT3skLF14GnLHHxFD6+F4fF/RK+MeKQ1L9TwgeCbY/pc3r6iLXXXlsDBw6sqO9K3bmU/orSx9mfVT/c8f3UI8L9+y77s+8HGP599Omnnwan8VsWNvDvLF+/vhdljyj2mwYOjcMHpv595YeAucrvfvc7/f73vw9+5EDZD3X9dosf2mYXv1HjEePhaOko6y6U6s12CCCAAAII1FuAgLnePcD5EUAAAQRSIeAAJ/zi6i/I4QjbuBqfHTD6mA5LPfdjruJw2UGDA1N/wfYoPY++qqQ4tHaA5+IgyiOB25bsgNk/8/yuDmvzBZLh/g7k/UXdxQGwRwLmm+/ZiyY6oAtLvoA5e8oSh5QOjhzS5Cvur3POOSf4cbERqcUcHY473HDxdeGRc54GI1fx6FGPjg2vnZEjR7aaaiXcp979X6zN4c89ktLXhoN7h+x+iBG1ODT2iFsXj7j1WwFRX0EvN2D2Of1mgB/O5BqF6s+WRzO6/1wcag8dOnSBpno+8XDqBbfFn4e288WGOzkUc5AWlkoCZofKHjXskZ8ufsBRaGS+R/s77HQ452vWgaVHiUct1QofSwmY/Vn3GxQuboP7yPeifCX78+opT8L7XJS2e5FXT5Xg4rDYoXG+4gdr4YM935smTJjQKkD1FBvhfMyeZzg8bpR6VWOfavVx9mfV9fZ53Ee5yq233toqlPc2hR5sHX744fNHGee7z/se5gfGfgDhz6zf4sk1Aj+sj+8RDrpdfO9zv0a9T1WjnzgmAggggAACcQkQMMclyXEQQAABBBDII/DNN9+0mrf0sssuazX9Qxxw2QGjR0SGo97yHdvhl78Yu3hOSo88raR49JxHf7nkW4iqbcDswMyjIQsVL9bk8Cecd9lf1sOFAnPt5xHaHinqAM0lX8DskX8eAejiwCl8dT1fXRyIOoT3NBye09P1ajtarVQ/L3IXBqsOiOxVqHjkajjFgvfNfpU73K/e/V9q271d+DDCIYs9Pa1FlOKRieHIYT8kKDaXdaFzRAmYvShlvgcDPpf7zH3n4oUaw4ck2fXwAxOPqnbxqEiPlM9XfE2vvvrqwSKGLpUEzJ7/fOeddw6OU+itg+y6OCT3yGwXz7d9/PHHR+m2YJ9qhY+lBMzZ00qUMoreDwvs7hGxvmYdshd7KJYPxtO1ePoYF4+2dWic78HWKaecEozId/GUQX64lF3+8Ic/BAvYuVTjd0rkzv3/O1arj9uOYPY9P3te6ux6+77tqTPCUf9+CyT8vOVqn99oCRez9Gfbn/G2xSPa7e3iUcxeF6BY8YMJL5br4vOH80EX24+fI4AAAggg0EwCBMzN1FvUFQEEEECgKQU8Qjh7tJ8XOPv1r38da1uyA0aPtPVIuULFo7M8ytnFr/cWW8DKU1B4egaPsPS8nlOnTm21MJbbGM4F6tG511133QKnzw6YHdR4bmPPFVqo+DXy8JVuB7w+T7HRXw6gfS6XXAGz5z5dbrnlgp87oPz4449L6ovsUdqelsGjwMstHnXrwCNcVMyhqMPRQsXzhoZBpl/T9+vWbacxqHb/l9NOzz/shxcO0xwgexqI7MX/suff9bzSHgkcpfihg8N+H98ufvgQjkwt93jlBsx9+vRpNb9qrvP58xJOp5ArrPJnyNdC+DDEAWYYPuarvwNo19WlkoA5e6RmqfPyuk/9YMrFIa2nFIhaqhU+FguY/SaAzT0Hs0ee++FfsQUY3cbshzwO53fccceoTQ/mmw+Dy3wBtz8vflAWzuXt6XI8T3d28ahzL1bn4gdmflDW9r4QuZIx7FitPs7+rBabK9nN8NoB4fQuxebR9u+2MKz27ybPF962+DPqe5uL3wDIt+ZA9n6eviN8g8HzqHvqKgoCCCCAAAJJEyBgTlqP0p5AwKNL/EXIf/zqo/+E/0gstOBTs/E5dPAiXP5S4Vfew1dXHZz4lWoHWMW+uHt0h0dVeM5Ue/kfy/7S69f+/I9oL4biL6KVvj7fbLbUF4E4BWo9gvmuu+6aPzoxXzs88s0j4Fz8anU4Eq7t9h6p65GVnq/U94ZSisMXhzBtS3bA7DmMw7lICx3TdQvD8nzHbbu/F8XynMAuue75DsY8otTF98vsReIK1cWLPoXBQinzp+Y6VvZCXx656LC42EhoB5Ae5etQzMXH8D0+u2QHzHH2fyn9HW7jkdUedenfSdmBcqFjuC9K9c91HE/rEE4z4KkbPA+q/3juVC8yWGopN2DeaaedWi2ulus8/n0aLsroECqcjiLc1osNhr+j3b/hPK2F6nz//ffPn7e3koDZD0fCRSQ9kjl7Dul853f9HGq6eOR1OP1HqcbZ21UrfCwWMGc/rPHnz/eHUorfOAhDYU9NkT1VSSn7Z2/jgNFzXbv431j+d1zb8vjjjwcL1rn4318epeuHKNnF92ZfA35o5eI+9GKyntfZDzT8eahnqVYfZ39WveBlOJo4X1v9dkq4mGOxe6MfQIRufgARvjkTHtvfJbJHr/vBQ7EHnt7XAXc437/XLAh/P9Wzfzg3AggggAACcQsQMMctyvEaQqDQP/aSEjD7y7NHfhUrHt3i0ZK55iv1K/T+h3ex0Mhhs4/huU0pCCAQTaCWczAXm0bCLSglUPOcth4RGo6iK7Xl+RYOzA6YS51/10GMAxkXf5n3nLXFSnaAk+uenz13abFj5ft5Ka/W59rXo7zDQNXzcYYj64rVw9t6hKtLrhGU2QFzXP1frE7ZPx8xYkSwmFWpwXK4b745pUs9tx+s+vdhaBPu538HeF5UB7heyM6hW+fOnfMetpTPQ3Z4mWvKgrYH91yt4WKQucLg7GvBUzB4btZixSPnwxHvlQTMDslyjc4sdv7w516sLlyssdR9srerVvhYLGDOfiMiSr29T6nTIuQ7vq9Zh8EOMx0a+62MZZddttXmnj/fI8tdPBWJpyTJVTztih+yhAughtt4VLbvsf5s+MFcoalcojoU269afZz9WS02rYzrWO69Mfs7RNv7mQdztF2QtphD25978If/TU1BAAEEEEAgaQIEzEnrUdoTCGT/49AL//iLuV8vdElKwOzRUF513qPvvACWv0SvsMIKwWvXHkXmLyP+0uKSbyGZ7NFTAwYMCOZg9agkj/rya4IeWeZ/BPuY/hLkeVrzrVDOpYcAAoUFws+st/LDGq8mH2fJ/hLtkVLh6Ld85yglUMse+eURloceemgQ1nlUZrdu3YJXy8PRt9nhsUONcIqK7POXsk3b+jq0DKfbKHXkl+9brmu+e75fky5l3sxC/eNFpRyglFuyX2svZxRo9ly9uRZkq0b/l9q2t99+O5guJFyI0P/f/ebpIRyC+iFldrgbJXgqVBeP4PTvvGuuuUaelzlX6dq1qzyy/aSTTlpgJKi3L+XzUCy8bHveYgFzlGvBoW7fvn2DU1USMGc/8Cq1n7O3K3TuUo4X5RooZZ9ifXTTTTdp3333LaWKebfxgp/hNCVRD+R/S4Ujl9tOmeCw2PPOT5kyJTi8R117Cox8xSPRHXr7wVPboDncxwHzpZdeGnkKmSjtLKW/2h63lH1K+axmH7fce2OhgDn7DZQoJvl+J0U9FvshgAACCCDQSAIEzI3UG9QlNgH/499z3PmPR4Vkf8lLSsDsMNgjqPyad9vXJg3puU0dGoevc+ea5/KZZ54JRgbay6OnchV/YfFoO4/i8Iglv+JbyuuAsXUmB0IgIQLZX5wrDWdykZT7JbrYl3TfH3wPcXFA6Cl0PCI0X/EDqHBe0jgDZr8CHS6CF9cIZr9S7YWaXDw9gF+brlWpxQjmuB4wlGqSPdrS81S7jYVez/fvrXD+3qhBfa66eSoRh3H+fedpOvwQ1eohP5MAACAASURBVL8Ls4untnB/t/09Vuzz4GMUCy/b1qlYwOx67LrrrsFutR7B7HmIwyk5vNjlOuusU2p3x7JdKUFi2xOVsk+xPsr+/FW6MGQlENlBd9u3OaJcF66Lp2LydR9e/57SI3uKBz8MvPXWW4NBCbUopfRXlD4u5bOafdxyfzcWCpj9WQnDfn+GwocAtfDkHAgggAACCDS6AAFzo/cQ9YtFIIkBcykw2a+CekGR8DXzUvbN3sbzWd5xxx3BXxUbSVPusdkegbQIeA7j7Pk+c82jW4lFuV+ii31J94g4v37scswxx8wPefPVMXvaiTgD5ux6xDUH8y233KK99947aIoXgPJrz7UqbedgdihU7KFduXMw1zpg9sPHcD7tsWPHql+/fgU5s0djxxkwtz2p3fxGz8UXX9xqvuTbb789mKc5uxT7PHjbYuFl2/MXC5gdBoaLEnqxQi+IWKzENQdz9kJluTyK1aPSn1crfCzWR74ewvnL/VaGA8Jic6BX2tZc+3vRVA+ACOdP9mCAcGR69gMYz5N/6qmnRqqC7y0Oq31t+1p08dQonvKolIUNI500a6dq9XEpn9Xsupf7u7FQwJy9QKzP4elO/DYPBQEEEEAAAQQkAmauglQIVBIw+5VfzxHpgNUjFzxnoUfzebSRRx4dccQRBed1rCewv7i4ri6ef9KBc5TiOU8HDx4c7FqPL6JR6sw+CDSawIwZM4JpbMIRlQ4RPH9mXKXcL9HFvqQfeeSRuvrqq4Pq+X+92Geh4mk/fH9wiTNgzh4Z7SmBPv7446KBrOeADqfoyPXWyvvvv68+ffrMb44X0OrVq1dcXVHwOL4ve+Sbpx5y8Zy6nlKiUHnllVfmh7Z+Y8UjTxdbbLFWu8Td/+VgOKzygrEu/t+FF1447+6uuwOZcGRlNQPmsBJ+A8dTEnhBWxevTeAHPtml2OfB2xYLL9s2uljA7ADQ10I4z6vnkXbwW6icffbZ86dnqGSKDL8B5XnEXTydSTjfbzn9Xsm2XozOni6lXgOlBJbF+sj3YU+XMnPmzODcHuUevqlRSXui7OvrMFw0MZx2w58PB8+un4NO36vcz5UUH8NTxYVtfvTRR7XZZptVcsiS9q1WH5fyWc2uYLn3xkIBs4/r/gjXJcg1XVFJOGyEAAIIIIBAAgUImBPYqTRpQYGoAbPnOPaIuUKLMHnEyX333Td/5Ekj+XuFcc+n7DJw4ECNHj06UvU8b98JJ5wQ7OugPXylN9LB2AmBFAtkj8Y1gwNmB83llOnTpwehZDgKL9y33C/Rxb6kH3300brqqquCw/seEE4pkauunvfWgW0YYMQZMPuhXo8ePeYHksUWsHNY7IXVwgA337RIfkjouYNdfH/zKNdalQ022EDPP/98cDq72rdQ8RsoV155ZbCJ5zX29CVtS9z9X46Fw26PyHTx7x0HePmK50r2XNphKTVcLKc+uba1nx1dPI94GDaH2xb7PHi7YuFl2/MWC5i9vefG9ZtBLsUWLPOIbF+37777brB9JQHzP/7xD+25557BcRZddNEgyFxmmWUqZS55/+wHWJ47O5wzvdAB4giYfXxP4zJmzJjgVHE/6CsZQAquwW222SbYxXP0ewqy7PnjPbr98ccfL+eQebfNvs5uvvnmYG2Oapdq9XEpn9XstpV7bywWMHuqpuHDhwen8NsYnj6q2Fso1bbm+AgggAACCDSCAAFzI/QCdai6QJSA2a/BeZ61CRMmBKOAPcfkFltsEYws8QgTLxroKSf8pdrBir8g+hXXRirZ8/h5YaMLL7wwUvU8Z2UYTnuV+3zzNUc6ODshkCIBB7AOhsNAySM/vdifHwCVUryYk4MBv97fdpGpcr9EF/uSnh0E5guMXWcHub5H+EFbWOIMmH3M7Gl6/IXe00x06tQpJ5lDM4dnYckXMPvNlHCRvo4dOwaBk+/xpZTPP/88WIQranGoevDBBwe7ux0vvvhi3lHMHr28/vrrzw/YXW+PPm1b4u7/ctq21lprzZ9mpFBg7ADNQdfUqVPnH76SgNnH8WjpfNdCdhv8OzB8iLDPPvvMHzkablPs8+DtqhEwZ08t439r+DOeb8SqH/j4wU9YKgmY/bn1nOpeNNBlyy23DD7DhebODs/rUfgO1NqOoi/nmvEim15s06XURfPiCpgd2mYvglrONVjpZz/byH3gNyd8TJfnnntOp5xyyvy3L4oF734bxlNeFCt+E89vz/jftS4PP/xwyfe6Yscu9PNq9XEpn9XsepV7bywWMHvwid80CB9ilnr9uk5xXj+V9A37IoAAAgggUA0BAuZqqHLMhhOIEjA78PGUEssvv3zwj/3s16nDBvqL/8YbbyyPKPQ/pD06sVGKRzp5pJtHVrg4wHAwU27xSEkHAv6HdK3nKi23rmyPQDMIeK5afzY9d6OL5/904OV5Nv0ac9vi1+e9WJODKL+O6892ri+05X6JLvYl3a/r+2FS+Pq+R/n6Hpc9d6e/LHuaIC8G6rDJ90KXuANmh26+D4XTKnjKH4dC2XNf+mGf6+jpPBw6hqOp8wXMvqd5JKtHRLs4pDznnHOC6YByBWcO1Txdh6cS8Jsh4XQgUa65WbNmyQt7+f7q4rDaowo9tUd28avsnis6vFY8t7FDqFwhYNz9X067fO2ef/75wS4evew5rrfeeusF2uJg3KPds6+VcsK9tnXy72Y/cPEDYE/R4t9RbYv72Qub/frXv55/TXiBtXAO7nD7Yp8Hb1eNgNnX7ZprrhmMIHbxW1G+ttouuufrziMnPUVKeG1XEjD7XI888kgwgjYMyjyy3gtqeoHkXOX1118P+vYvf/lLsJCc6x21+MHaoEGDgt3dVv9bpdiDgrgCZp8z+1gOFH3vcLgbvvWV3S57P/DAA0H/f/LJJ/P/XRW17dn7+Q0GLzrq4gWVfS/1Pd73MN9fPYVKvuIpKPyAwFOc+G27XG8OTJo0KWhbOB2K5532cdvOwZx9bft84X2/kjZWq49L+axm17vce2OxgNnHzq6D/9u/Z84999ycUy358+V58T0tjz9zvgdSEEAAAQQQSKIAAXMSe5U2LSBQbsDsBZ88IsvF/9j3P9zzlaFDhwYjgz03qL94NErJHn3oLy133nln2VXzl6qNNtooCLdKsSj7BOyAQEoFfE/yQ6y2i8v17t07GMnqUWn+UuogwHO/+02K7OKRmOG0NeHfl/slupQv6f7SnD1XraeqcPjkV+ndBodMDks98vKiiy4KwmaXuANmH9PHP/nkk+czOCBxINuzZ89gbnwHxV4kzYGMQxuH8C4OYUaMGJHzSvN+Hrnph4Vh8XQBDto84s+BlxcB8wJcniopDLjjeK3e03PYyQFQWBy0rbvuusF/ut/DANr/bXMvCrfqqqvmbEs1+r/Uj6cDcIeN2W1xGO4HFA5rPGLfb7+4OHh2W8LAq9KAOTuU9xtGfvPIgb1Hpfvz40UHw5GbPr8fCjuYbruwWymfh2oEzK6TP0d+2BEGxzbzQyiPMPac1p4SJVykzW9ODRkyJLD0VDDh4opt+6qUkMz7OLj2VAZhyOy/c8htRweWnrM4vA+FDzq8jR/6VBIwe/5p30/CqVX8EN/XsD+/Yd1t4j9hiTNgtrX/bee30cLiz7vvb1600vcXv63m0apuazjHuB90hf8mKvXzUWg7X5+5Hv57KrJwceV8+2d7+MGDR9X6Mxf2m+er97Xje3RY8o2KrkbAXK0+LuWzmm1W7r2xlM+OA3j/bvEbJWFxH/hz489tly5d5PZ/+OGHwX08XMzRDzDCdRjiuH44BgIIIIAAAo0kQMDcSL1BXaomUG7A7Nc2PSLZQYP/geh/NOYrfqV0hx12CH7sRT884rnexa9/+lVvvxbpL/IedeQv3uUWz4no+QBd8o0CLPeYbI8AAhkBf+EcNmxYMP+ug9FSigNIB6d+aNS2lPslupQv6Q5/fK7sEKbtef2Kt0eIOnwNw75qBMw+7x//+Mdgnlrf23IVB1ae19phpke1unjeXYdy+YoDtOOPPz641+U7bva+Dp7OOOOMYMR5pcXBtUdxZgfcuY7psNbTfjj4yleq0f/ltO/ZZ58NArtC4cnOO+8cjAJ1QBoGM5UEzJ7H2g9BS+k3t8VTrfhhQ7j4bXb7Svk8VCtgdj08QnbfffcNHpbkKg4/PbrYi7OFDxn8MCr7IUT2fqWEZOH2Hl3pRTw9hUkpxSPFfU/wg/VKisNtP5TyiN1cpe2bGnEGzD6fQ3UvmugH8mHQXag9fnPA9xW/TRJnyZ4PPjyuBwXkus9nn/eYY44puS6+5t3OfHNdVyNgdl2r0celfFazncq9N5bz2fG14N9JfhBZrPi4frDsgSsUBBBAAAEEkihAwJzEXqVNCwiUGzD7H/V333132ZJ+xTP71VK/CufRcZUWvzrrkY2lFAcrHqHlf+z6FUsvIuOwp9ziIOe3v/1tsJtH7Di0rmS+xXLPz/YIpEXAo+T8oMrzYno0m0eBeqE0B0pLLbVUMBrKc/A6nHPQmK+U+yW61C/pDn88fYMDQQehfujmEdYeceiRvA59PGLOo0KrHTC77R5N6C/14avGfhDo+6Pr4vDHdbvggguC191dii2cFnr694SnIPFIaAe/Dvrcds+t77Y63N98882DKQX8mnlcxedwKO7Riv4dEo4S9cNB97tDUbet2CJS1er/ctrpuvt1f08lEo6sdejv3yEOT8O5xksJCks9r3/X+Vp46qmnguvTI07ddw4P3U8O5T0i3ef3tCT5Simfh2oGzK6XP/tejNABlH/ve5SkH+D4gbFHGTuIdKju9rgUWgSunJDMx/J16HUbfC/yNCwetezPuj9ffkDt+5Dnj992223nj7IvtY8KbecHE57Wxuf0W2AOesPpGaodMIf1sns4fYHfVPBDEj8w8/XjaUj8RpvvbV4cMHtanjja72P84Q9/0GmnnTb/cB7F7bdWik0Z4h38JoSvf/v5338e6OC5yT2C36Nl/TDAo8D322+/gos4Vitgdh3j7uNSPqvZfVPuvbHcz469/UaGf4f7gY+vJ494d6jvz6/7wHXw9dMIg1Dium45DgIIIIAAAm0FCJi5JlIhUG7APGDAgOC1wnKLA5bsMLfWAbO/kHo0l+d386hrz+NYbARMrjZ6fsXwVXe/cunXsqvxpapcX7ZHAAEEShHwnNYOxV08Z2w412sp+7INAo0s4BGh4eh8jzp2OEtBAAEEEEAAAQQQQKDeAgTM9e4Bzl8TgXIDZo8O8ighz284evTokuvo7bNH+XokjkeTVFo8AqvYyu4OlT1y2aPGPPrCo1G8oFK5xWGMR3p5NJNH7nhUmEdgUBBAAIFmEPBCg75nhdOOeBGsQlNLNEObqCMCoYDfivLDaxdP6+LFCykIIIAAAggggAACCNRbgIC53j3A+WsiUG7AvP322+v+++8PXg316+t+1bCRi1/n9Mhpv9rp4tfHjz766LKr7DDdr2J7Pku/1uyRywQzZTOyAwII1FHAC/x5mgYXT1nkaScoCCRBwFNneKocF0+B5QfLnkaHggACCCCAAAIIIIBAvQUImOvdA5y/JgLlBsxe4M8L/bm0nfaiJhUu4yQOwL3oz8svvxzsdf7552vo0KFlHCGz6aOPPioH615Z3fP2ec5lzxtHQQABBBpBwPMU+80STwuwyiqrLFAlP2jzfMvDhw+f/zMvjLfHHns0QvWpAwJ5Bfym04knnqjjjjtOG2644QLzbc+aNUvXXHNNsI1/R7scddRR+vOf/4wqAggggAACCCCAAAINIUDA3BDdQCWqLVBuwPziiy/OXwzIi3J40ZtGLJ6Cw4u3PP3000H1vEjMueeeW3ZVPd+0j+NXy72ojRe58qJMFAQQQKBRBLIXoVp11VWDhbf8MMyBm+efd/gchm+us+dh9qJ9FAQaXSD73yjdu3cPFvP0W0Se7sqjlL1ImhczDIsX3PO/U7p06dLoTaN+CCCAAAIIIIAAAikRIGBOSUenvZnlBsz22nrrrfXQQw8FdB4Vd/bZZ+dl9PH9BXCvvfaqGbVHNA0cOHB+HYcMGTL/tfByKvHqq68Gq6N7vlLPH/3ggw/KixxSEEAAgUYSyA6YC9XLC5x6iqBLL700WOyUgkCjC2T/G6VYXf3G0m233aall1662Kb8HAEEEEAAAQQQQACBmgkQMNeMmhPVUsAL03lhp7D41emTTjop+E+Hp4ccckir6hx44IELVM+jhn7605/qs88+C362/vrr6+CDDw5GzXXu3FlffvmlXn/9dT3wwAPBiF/Pi+hXuGtVPFfynXfeGZzOXzg956hHO+UrnTp1kkf9ZZf//ve/+vnPf66JEycGfz1s2DBtscUWBZuwzDLLyH8oCCCAQC0F/FDt4YcfDu65nhJowoQJ8r3db3J07dpVvXv31qabbhrcp1dbbbVaVo1zIVCxgOcK/+c//xk8rP7kk0+Ca9sPfhdffPFgNLP/7fKrX/2q6O/oiivCARBAAAEEEEAAAQQQiCBAwBwBjV0aX8CB8ciRI0uu6Lx583Ju++GHHwbzd/pV1GLloIMO0ogRI4ptFtvPC4XJuU6y4ooryqOkskupIwKz9znzzDN11llnxdYODoQAAggggAACCCCAAAIIIIAAAggg0LwCBMzN23fUvIBAXAGzT+Hw2Su3+5VUz/HpUXOzZ8/Wkksuqb59+wYL8uy4447aeOONC44gjrvDCJjjFuV4CCCAAAIIIIAAAggggAACCCCAAALlChAwlyvG9ggggAACCCCAAAIIIIAAAggggAACCCCAAAKBAAEzFwICCCCAAAIIIIAAAggggAACCCCAAAIIIIBAJAEC5khs7IQAAggggAACCCCAAAIIIIAAAggggAACCCBAwMw1gAACCCCAAAIIIIAAAggggAACCCCAAAIIIBBJgIA5Ehs7IYAAAggggAACCCCAAAIIIIAAAggggAACCBAwcw0ggAACCCCAAAIIIIAAAggggAACCCCAAAIIRBIgYI7Exk6NJPDdd9/pjTfeCKrUrVs3dezYsZGqR10QQAABBBBAAAEEEEAAAQQQQACBhhWYM2eOJk2aFNRvrbXWUufOnRu2rlSsMQUImBuzX5qyVrNmzdINN9yg22+/Xa+99pomT56shRZaSD179tSAAQN02GGHaYMNNoi9bS+++KJ+9rOfxX5cDogAAggggAACCCCAAAIIIIAAAgikSeCFF15Q//7909Rk2hqDAAFzDIgcQvroo4+0/fbbzx9JnM/kN7/5jS655BK1a9cuNjYC5tgoORACCCCAAAIIIIAAAggggAACCKRYgIA5xZ1fQdMJmCvAY9eMgF+l6Nev3/xwee2119bxxx+v1VZbTVOnTtVTTz0VhMrTp08Ptr/wwgt10kknxcb3wQcfaKWVVgqO5xthjx49Yjs2B0IAAQQQQAABBBBAAAEEEEAAAQSSLPDZZ5/NfzP8/fffV+/evZPcXNpWBQEC5iqgpu2Qd9xxh3bfffeg2RtuuKGefPJJdejQoRXD2LFjg5/Nnj1bXbt21cSJE2ObK/njjz/W8ssvH5zPI6l79eqVti6gvQgggAACCCCAAAIIIIAAAggggEAkAXKVSGzslCVAwMzlULGARysPGzYsOM7o0aM1cODAnMfcdddddddddwU/86J8a665ZsXn9gG4EcbCyEEQQAABBBBAAAEEEEAAAQQQQCCFAuQqKez0mJtMwBwzaBoPN3jwYP35z38Omv7mm29qjTXWyMngaTEuvvji4GcvvfSS1ltvvVi4uBHGwshBEEAAAQQQQAABBBBAAAEEEEAghQLkKins9JibTMAcM2gaD3fFFVdoyJAhQdNLGcHsBf6++uorLbHEErFwcSOMhZGDIIAAAggggAACCCCAAAIIIIBACgXIVVLY6TE3mYA5ZtA0Hm7SpElaZZVV9M0332jAgAF6/PHHF5iD+ZVXXtEGG2ygWbNmaa+99tLNN98cGxU3wtgoORACCCCAAAIIIIAAAggggAACCKRMgFwlZR1eheYSMFcBNY2H9NzK++yzj2bMmKGf/OQnOu6447Tqqqtq2rRpevrpp3XJJZdo6tSpWnfddTVmzBh17969ZCbf6AqV7NVOWeSvZFY2RAABBBBAAAEEEEAAAQQQQAABBFjbimugYgEC5ooJOUAoMG7cOF166aUaMWKE5s2b1wpm2WWX1dChQ3XYYYdpscUWKwvNU2qUWgiYS5ViOwQQQAABBBBAAAEEEEAAAQQQQEAEzFwEFQsQMFdMyAEsMHv2bJ199tn661//qokTJ+ZE6d+/v84880xtv/32ZaERMJfFxcYIIIAAAggggAACCCCAAAIIIIBAyQJMkVEyFRvmESBg5tKoWGD69Onabrvt9MQTTwRzL59wwgk66KCD1KdPH3333Xd6/vnndc455+ipp56Sw+Jhw4bNXxSwlJMzRUYpSmyDAAIIIIAAAggggAACCCCAAAIIlC9AwFy+GXu0FiBg5oqoWODEE08M5lh2+dvf/qYDDjhggWPOmTNHW221lR577DG1b99eXvRv7bXXrvjcPgA3wlgYOQgCCCCAAAIIIIAAAggggAACCKRQgFwlhZ0ec5MJmGMGTdvhPNfy0ksvrcmTJweL+r377rt5CbzY30YbbRT83IsAeiRzHIUbYRyKHAMBBBBAAAEEEEAAAQQQQAABBNIoQK6Sxl6Pt80EzPF6pu5on3/+uXr06BG0e88999Stt96a18DTZSyyyCLBz7fZZhuNGTMmFi9uhLEwchAEEEAAAQQQQAABBBBAAAEEEEihALlKCjs95iYTMMcMmrbDffHFF+rWrVvQ7N12202jRo3KSzB16lQtscQSwc932GEH/fOf/4yFixthLIwcBAEEEEAAAQQQQAABBBBAAAEEUihArpLCTo+5yQTMMYOm7XBz585V165d9c0332i55ZbThx9+qI4dO+ZkuPfeezVw4MDgZ8ccc4yuuOKKWLi4EcbCyEEQQAABBBBAAAEEEEAAAQQQQCCFAuQqKez0mJtMwBwzaBoPt/fee+uWW24Jmn7WWWfpzDPPXIBhypQpwfzL48aNC3724IMPBov+xVG4EcahyDEQQAABBBBAAAEEEEAAAQQQQCCNAuQqaez1eNtMwByvZyqP9s4772i99dbTt99+G7Tfo5QPOOAA9enTR553+bnnntNll12m8ePHBz/ffPPN9cgjj8RmxY0wNkoOhAACCCCAAAIIIIAAAggggAACKRMgV0lZh1ehuQTMVUBN4yEdGO+1117ynMyFymabbRbM0+xpNeIq3AjjkuQ4CCCAAAIIIIAAAggggAACCCCQNgFylbT1ePztJWCO3zS1R/zyyy913XXXacyYMXrrrbf01VdfBfMxd+/eXf3795en0thxxx3Vrl27WI24EcbKycEQQAABBBBAAAEEEEAAAQQQQCBFAuQqKersKjWVgLlKsBy2dgLcCGtnzZkQQAABBBBAAAEEEEAAAQQQQCBZAuQqyerPerSGgLke6pwzVgFuhLFycjAEEEAAAQQQQAABBBBAAAEEEEiRALlKijq7Sk0lYK4SLIetnQA3wtpZcyYEEEAAAQQQQAABBBBAAAEEEEiWALlKsvqzHq0hYK6HOueMVYAbYaycHAwBBBBAAAEEEEAAAQQQQAABBFIkQK6Sos6uUlMJmKsEy2FrJ8CNsHbWnAkBBBBAAAEEEEAAAQQQQAABBJIlQK6SrP6sR2sImOuhzjljFeBGGCsnB0MAAQQQQAABBBBAAAEEEEAAgRQJkKukqLOr1FQC5irBctjaCXAjrJ01Z0IAAQQQQAABBBBAAAEEEEAAgWQJkKskqz/r0RoC5nqoc85YBbgRxsrJwRBAAAEEEEAAAQQQQAABBBBAIEUC5Cop6uwqNZWAuUqwHLZ2AtwIa2fNmRBAAAEEEEAAAQQQQAABBBBAIFkC5CrJ6s96tIaAuR7qnDNWAW6EsXJyMAQQQAABBBBAAAEEEEAAAQQQSJEAuUqKOrtKTSVgrhIsh62dADfC2llzJgQQQAABBBBAAAEEEEAAAQQQSJYAuUqy+rMerSFgroc654xVgBthrJwcDAEEEEAAAQQQQAABBBBAAAEEUiRArpKizq5SUwmYqwTLYWsnwI2wdtacCYHvv5fef1/63/+kTz+VPvkk878TJ0rTpklTp2b+99tvW6zatZPat5cWW0xafHGpSxdpiSWkZZaRll1W6t4986d378yfzp1xRgABBBBAAAEEEEAAAQQQqJUAuUqtpJN7HgLm5PZtalrGjTA1XU1DayzgkPjFF6Vnn5Vee00aN056911p5szqVqRnT6lPH2n11aW11878WWst6Qc/qO55OToCCCCAAAIIIIAAAgggkEYBcpU09nq8bSZgjteTo9VBgBthHdA5ZSIFZs2SnnhCuv9+6cknpVdflebMaZymrrBCJmz+6U+lAQOk9dfPjIimIIAAAggggAACCCCAAAIIRBcgV4lux54ZAQJmroSmF+BG2PRdSAPqKPD119Jdd0mjR0sPP5yZ3qJZiqfdcOD8859nAudf/ELq1atZak89EUAAAQQQQAABBBBAAIHGECBXaYx+aOZaEDA3c+9R90CAGyEXAgLlCcyeLT30kHTDDdI990jffVfe/t66a1dp+eUlT2ex3HKZOZQ9hUU4x/Kii2bmXZ43L3Nsj4SePj0zR7P/ONieMEH6/PPM/378sfTFF+XXo+0enlZjq60yfxw4e95nCgIIIIAAAggggAACCCCAQH4BchWujkoFCJgrFWT/ugtwI6x7F1CBJhHwQnzDh2f+ONQtpXToIK2zjrTBBpl5kH/848zcyN26lbJ3eds4eA4XEPz3v6U33pBef116+23JoXi5pVMnaaONpG22kXbaSVp11XKPwPYIIIAAAggggAACCCCAQPIFyFWS38fVbiEBc7WFOX7VicsQfgAAIABJREFUBbgRVp2YEzS5wFtvScOGSTfeWHyBvnbtpP79pe22kzbZJPP/6z0K2HNDe3FBh81jx0rPPCO9/HL5obPD8Z13zvzxPM4eYU1BAAEEEEAAAQQQQAABBNIuQK6S9iug8vYTMFduyBHqLMCNsM4dwOkbVuCdd6QzzpBGjSpcxYUWkrbdVtp118z/LrNMwzZpfsVmzJBeekl6+unMn6eekr76qvR6e1oPB82DBmXmbyZsLt2OLRFAAAEEEEAAAQQQQCBZAuQqyerPerSGgLke6pwzVgFuhLFycrAECIwfL519tvS3v0lz5+Zv0PrrS/vtJ+25p7T00s3d8O+/zwTOnlvaf559VvLflVK8MKAN9tpL6tdP8ihuCgIIIIAAAggggAACCCCQFgFylbT0dPXaScBcPVuOXCMBboQ1guY0DS/gUb3nnSdddJHkaSVyFc9LvPfe0nHHZeZWTmr55hvpscek+++XRo/OLCZYSunbNxM077+/tPLKpezBNggggAACCCCAAAIIIIBAcwuQqzR3/zVC7QmYG6EXqENFAtwIK+Jj54QIjBkjHX10ZpG8XKVrV2nwYOmoo6Tu3RPS6BKb4VHcL7wg3X135o/ncy6leA7qgw+Wdtut/vNQl1JftkEAAQQQQAABBBBAAAEEogiQq0RRY59sAQJmroemF+BG2PRdSAMqEPjsM+nYY/PPs7zootJvfiOdeKK05JIVnChBu3pu6jvukG65RfICiMXK4otnptA46CBpww2ZQqOYFz9HAAEEEEAAAQQQQACB5hIgV2mu/mrE2hIwN2KvUKeyBLgRlsXFxgkS8GjcQw6RvvxywUZ17CgdcYR02mnpG7FcThe/+WYmaL71Vul//yu+52qrZYJm/2mGxRCLt4gtEEAAAQQQQAABBBBAIO0C5CppvwIqbz8Bc+WGHKHOAtwI69wBnL7mAtOnS8cfL11zTe5Tb7SRNHy4tOaaNa9a055w3jzpxRelG2+UbrpJmjy5cFMWWkjaY4/MlCM//zmjmpu246k4AggggAACCCCAAAIIiFyFi6BSAQLmSgXZv+4C3Ajr3gVUoIYCr74qDRqUex7hpZbKLPB34IFS+/Y1rFTCTjVzZmZhwBEjpIcekjyHc6Gy9tqZoHmffaQuXRKGQXMQQAABBBBAAAEEEEAg8QLkKonv4qo3kIC56sScoNoC3AirLczxG0XA0zh40bkZMxas0a67SldfLXXr1ii1TUY9Pv5Y+vvfpeuvl957r3CbPFfzAQdIRx4prb56MtpPKxBAAAEEEEAAAQQQQCD5AuQqye/jareQgLnawhy/6gLcCKtOzAnqLPD999Lpp0vnn79gRRZbTLriisycwO3a1bmiCT69p9B46inp2mul226TPMq5UNlii8ziittsw2jyBF8WNA0BBBBAAAEEEEAAgUQIkKskohvr2ggC5rryc/I4BLgRxqHIMRpV4OuvM1Mv3HffgjXs3z8zX3Dfvo1a+2TWy4sqekSz57kutjCgFwUcMkTaf3/JDwMoCCCAAAIIIIAAAggggECjCZCrNFqPNF99CJibr8+ocRsBboRcEkkV+PRTaeutpTffXLCFhx+eGbncqVNSW9/47fLczJ6j+aqrpHvvlTzKOV/p2lVynw0eLPXs2fhto4YIIIAAAggggAACCCCQHgFylfT0dbVaSsBcLVmOWzMBboQ1o+ZENRTwfL9bbil98EHrk3bsKF15pXTEETWsDKcqKvDhh9I110h//as0aVL+zd1/v/qVdMIJUr9+RQ/LBggggAACCCCAAAIIIIBA1QXIVapOnPgTEDAnvouT30BuhMnv47S18LXXMiOXJ0xo3fKll5buuEP6xS/SJtI87f3uO+nmm6Vhw3KPPM9uiR8gDB0qbbYZ82c3Tw9TUwQQQAABBBBAAAEEkidArpK8Pq11iwiYay3O+WIX4EYYOykHrKOAF5LbYQfJcy9nl1VXlR58UOrdu46V49QlC3i6jEcfzQTN999feLf11pNOPlnabTepQ4eST8GGCCCAAAIIIIAAAggggEAsAuQqsTCm+iAEzKnu/mQ0nhthMvqRVkhPPy1ttZX07betNTyVwpgx0jLLoNSMAu+8I11+uTRypDRjRv4WrLyydOKJ0gEHSIss0owtpc4IIIAAAggggAACCCDQjALkKs3Ya41VZwLmxuoPahNBgBthBDR2aTiBF1+UNt9cmjq1ddU22UQaPVpaYomGqzIVKlNg8mTp6qszYfPEifl39oOEIUOkI4+UvDggBQEEEEAAAQQQQAABBBCopgC5SjV103FsAuZ09HOiW8mNMNHdm4rGvf66tOmm0pQprZu7447SrbcymjVpF4FHMXs088UXS//9b/7WdemSCZmPP17q3j1pCrQHAQQQQAABBBBAAAEEGkWAXKVReqJ560HA3Lx9R83/vwA3Qi6FZhbw9AletG/SpNatGDhQGjVK6tSpmVtH3QsJfP+9dOed0gUXSGPH5t+yc2fpsMOkk06SevXCFAEEEEAAAQQQQAABBBCIV4BcJV7PNB6NgDmNvZ6wNnMjTFiHpqg5H38sbbCB9MknrRu95ZaZaTEcLFKSL+AFAf/1r0zQ/PDD+du70ELSQQdJp5wirbRS8l1oIQIIIIAAAggggAACCNRGgFylNs5JPgsBc5J7NyVt40aYko5OWDOnTZM23lh69dXWDfNoZi/ot+iiCWswzSlJ4OWXpQsvlG6/XZo7N/cuHTpI++4rnXqqtNpqJR2WjRBAAAEEEEAAAQQQQACBvALkKlwclQoQMFcqyP51F+BGWPcuoAJlCnhqhJ12ku67r/WO66+fGcG6+OJlHpDNEyfw3nvS+edn5mqeMyd389q1k/bcU/rtb6W11kocAQ1CAAEEEEAAAQQQQACBGgmQq9QIOsGnIWBOcOempWncCNPS08lp57HHSlde2bo9fftKzz4r/fCHyWknLalcYPz4zIjma6+VZs7Mf7ydd5ZOP11ab73Kz8kREEAAAQQQQAABBBBAIF0C5Crp6u9qtJaAuRqqHLOmAtwIa8rNySoUuOIKaciQ1gdZainpueckh8wUBHIJfPqpdMkl0tVXS99+m99ou+2ks86S+vfHEQEEEEAAAQQQQAABBBAoTYBcpTQntsovQMDM1dH0AtwIm74LU9OAxx6Tttii9dy6nTpJjzySmY+ZgkAxgUmTpGHDpD/9SZo6Nf/W22+fCZp/+tNiR+TnCCCAAAIIIIAAAgggkHYBcpW0XwGVt5+AuXJDjlBnAW6Ede4ATl+SwCefSP36SRMntt78ppukvfcu6RBshMB8gSlTMtOsXHaZ5P+frwwcKJ15JlNncOkggAACCCCAAAIIIIBAfgFyFa6OSgUImCsVZP+6C3AjrHsXUIEiArNnS7/8pfT00603dPDnUaYUBKIKfPONNHx4ZvoMj27OV3bcMRM0+yEHBQEEEEAAAQQQQAABBBDIFiBX4XqoVICAuVJB9q+7ADfCuncBFSgicMIJ0qWXtt7IUxiMHi21bw8fApULTJ8uXXVVZkHAL77If7yddso81Fh33crPyREQQAABBBBAAAEEEEAgGQLkKsnox3q2goC5nvqcOxYBboSxMHKQKgnccYe0++6tD967tzR2rOTF/SgIxCkwbVomaL7oosJB8y67ZEY0r7NOnGfnWAgggAACCCCAAAIIINCMAuQqzdhrjVVnAubG6g9qE0GAG2EENHapicD772cCvOzF2Lyon6fKYPG1mnRBak/ioNkLAV58sfTll/kZdt01EzSvvXZqqWg4AggggAACCCCAAAKpFyBXSf0lUDEAAXPFhByg3gLcCOvdA5w/l8D330ubbio99VTrn159tXT44ZghUBsBP9wIg+bJk/Of06Psf/c7aa21alMvzoIAAggggAACCCCAAAKNI0Cu0jh90aw1IWBu1p6j3vMFuBFyMTSiwAUXSKec0rpm++0njRwptWvXiDWmTkkW8GKAYdA8ZUr+lu6xR2ZE8xprJFmDtiGAAAIIIIAAAggggEC2ALkK10OlAgTMlQqyf90FuBHWvQuoQBuB116T+veXZs9u+cFKK0n++8UXhwuB+gk4aL7iCumSS6SvvspdDz8AGTQoM6L5Rz+qX105MwIIIIAAAggggAACCNRGgFylNs5JPgsBc5J7NyVt40aYko5ukmZ+910mXH7zzZYKt28vPfGENGBAkzSCaiZe4OuvM0HzpZfmD5p93e69dyZo7ts38SQ0EAEEEEAAAQQQQACB1AqQq6S262NrOAFzbJQcqF4C3AjrJc95cwmcdFJmYbXs4qky/vhHvBBoPAGPYg6DZofOuUqHDpKndznjDKlPn8ZrAzVCAAEEEEAAAQQQQACBygTIVSrzY2+JgJmroOkFuBE2fRcmpgFPPy1tvLE0b15Lk9ZZR3rhBalTp8Q0k4YkUMBB82WXScOGSZ5GI1fp2FE68EDptNOk3r0TiECTEEAAAQQQQAABBBBIqQC5Sko7PsZmEzDHiMmh6iPAjbA+7py1tcCsWdJPfiKNG9fy9w6Vx46V1lwTLQSaQ2Dy5My0GZdfLk2blrvOCy0kHXxwJmhefvnmaBe1RAABBBBAAAEEEEAAgfwC5CpcHZUKEDBXKsj+dRfgRlj3LqACkv7wh0zgll0uvFDylBkUBJpN4IsvMlO9XHml9O23uWvvByiHHiqdeqrUs2eztZD6IoAAAggggAACCCCAQChArsK1UKkAAXOlguxfdwFuhHXvgtRX4L33MqOUZ85soejXT3r+ecnTClAQaFaBiRMlPyi56ippxozcrVh4YenwwyXPNd6jR7O2lHojgAACCCCAAAIIIJBeAXKV9PZ9XC0nYI5LkuPUTYAbYd3oObEy8y1vuaX06KMtHO3bZ+ZdXm89iBBIhsDnn0sXXCANH976QUp26zp3lo46Sjr5ZGnZZZPRblqBAAIIIIAAAggggEAaBMhV0tDL1W0jAXN1fTl6DQS4EdYAmVPkFbjxRmm//Vr/eMiQzIJpFASSJvDpp9If/yhdc43kecdzlUUXlQYPzkwPs/TSSROgPQgggAACCCCAAAIIJE+AXCV5fVrrFhEw11qc88UuwI0wdlIOWKKAF0RbbTXJ89WGpVevzEJ/iy9e4kHYDIEmFPjoo0zQfO210uzZuRuw2GLSscdKJ5wg/fCHTdhIqowAAggggAACCCCAQEoEyFVS0tFVbCYBcxVxOXRtBLgR1saZsywocMwx0p/+1Prv77lH2nFHtBBIh8CHH0rnnSddf700Z07uNvthy3HHSb/5jdS1azpcaCUCCCCAAAIIIIAAAs0kQK7STL3VmHUlYG7MfqFWZQhwIywDi01jE/Ao5bXXlr7/vuWQu+wi3XlnbKfgQAg0jcD770vnniuNHNn6M5HdgB/8IBMyO2z2/6cggAACCCCAAAIIIIBAYwiQqzRGPzRzLQiYm7n3qHsgwI2QC6EeAtttJ40Z03JmL3D2zjvSiivWozacE4HGEHjvPen3v5c8N/ncubnrtOSS0oknZqbPYCqZxug3aoEAAggggAACCCCQbgFylXT3fxytJ2COQ5Fj1FWAG2Fd+VN5cgfLDpizy2mnZUZwUhBAQHr3Xemcc6RbbpHmzcststRS0sknS0cfLXXpghoCCCCAAAIIIIAAAgjUS4BcpV7yyTkvAXNy+jK1LeFGmNqur0vDvaDZOutIb7/dcvru3aX//IeQrC4dwkkbWsBTyThovu22/NXs1i0TNB91lLToog3dHCqHAAIIIIAAAggggEAiBchVEtmtNW0UAXNNuTlZNQS4EVZDlWPmE/Cifl7cL7t4gbMDD8QMAQTyCbzxhnT22dIdd+Q3WnZZ6ZRTpMMPlxZZBEsEEEAAAQQQQAABBBColQC5Sq2kk3seAubk9m1qWsaNMDVdXfeGTpkirbKKNHlyS1X69ZNefFFq377u1aMCCDS8wKuvSmedJd1zT/6q9ughnXqqdOihkuc2pyCAAAIIIIAAAggggEB1BchVquubhqMTMKehlxPeRm6ECe/gBmqeR1decEHrCj3+uPSLXzRQJakKAk0gMHZsJmi+9978le3ZU/Lc5gcfLC28cBM0iioigAACCCCAAAIIINCkAuQqTdpxDVRtAuYG6gyqEk2AG2E0N/YqT+Dzz6U+faQZM1r22203adSo8o7D1ggg0CLwwgvSmWdKDzyQX2WFFaTTT89MQ7PQQughgAACCCCAAAIIIIBA3ALkKnGLpu94BMzp6/PEtZgbYeK6tCEbdOyx0pVXtlStQ4fMQn99+zZkdakUAk0l8MwzmaD5kUfyV7t3b+mMM6T99iNobqrOpbIIIIAAAggggAACDS9ArtLwXdTwFSRgbvguooLFBLgRFhPi55UKjB+fCZJnzWo50q9/LV17baVHZn8EEMgWePLJTND82GP5XVZeWfrd76S995Y6dsQPAQQQQAABBBBAAAEEKhUgV6lUkP0JmLkGKhLYdNNN9bgnoS2jPPbYY/J+cRVuhHFJcpx8Al5sLDtM7tRJ+s9/JL+6T0EAgfgFHDA7aHbgnK/4oY+3GTRI8hsFFAQQQAABBBBAAAEEEIgmQK4SzY29WgQImLkaKhIoN2Bu3769xo8fr55evSmmwo0wJkgOk1PAQfKPfyx9/33LjwcPbj1dBnQIIBC/wLx50qOPZkYrP/ts/uP/6EeZBQP32ENq3z7+enBEBBBAAAEEEEAAAQSSLkCukvQern77CJirb5zoM7z//vuaPn16wTaOGzdOe+65Z7DNlltuqYceeihWE26EsXJysDYC++4r3XRTy18usoj0v/9J3btDhQACtRBw0OxfGw6avShgvrLGGpmgedddCZpr0S+cAwEEEEAAAQQQQCA5AuQqyenLerWEgLle8ik679ChQ3XhhRcGLb7hhhu0rxO7GAs3whgxOVQrgbfektZaS3LAFZaTT5YuuAAoBBCotYA/h/ffnwmaX345/9nXXls6+2xpp52kdu1qXUvOhwACCCCAAAIIIIBA8wmQqzRfnzVajQmYG61HElafuXPnaoUVVtAnn3yiLl26aMKECVp00UVjbSU3wlg5OViWgBcRu+WWlr9YfHHp/felH/4QJgQQqJeAg+bRozPzL7/2Wv5a9OuXGdG8ww4EzfXqK86LAAIIIIAAAggg0BwC5CrN0U+NXEsC5kbunQTU7eGHH9ZWW20VtOTAAw/U9ddfH3uruBHGTsoBJf33v9Kqq0pz57ZweOSkR0ZSEECg/gL+bN59dyZofvPNwkHz6adnRjQzR3P9+40aIIAAAggggAACCDSeALlK4/VJs9WIgLnZeqzJ6rvffvvpxhtvDGr9r3/9S7/85S9jbwE3wthJOaCkI46Q/vKXFoouXaQPP5SWWgoeBBBoJAEHzaNGZUYrv/12/pqtuabkoHn33aUOHRqpBdQFAQQQQAABBBBAAIH6CpCr1Nc/CWcnYE5CLzZoG6ZNm6bu3bsHiwB6mowPPvhA7aowISY3wga9AJq4Wp99JvXuLc2a1dKIE06QLr64iRtF1RFIuMD330v/+EcmaP73v/M3drXVpN/+VvIUOB07JhyF5iGAAAIIIIAAAgggUIIAuUoJSGxSUICAmQukagIjR44MpsVwOe2003TuuedGOpdvdIXKZ599pp/97GfBJh999JF69eoV6TzshEAo4IX8LrqoxaNTp8zcy8sthxECCDS6wJw5mbnTzzlHeu+9/LXt00c65RTpgAMkf8YpCCCAAAIIIIAAAgikVYCAOa09H1+7CZjjs+RIbQQ233zzYFoMl3fffVerekLbCKWcUc8EzBGA2aWVwJQp0gorSNOmtfz1YYe1ni4DMgQQaHwBB80e0XzeedK4cfnru/zy0tCh0q9/LXXu3PjtooYIIIAAAggggAACCMQtQMAct2j6jkfAnL4+r0mLfXNaccUVNXfuXG2wwQZ69tlnI5+XgDkyHTtGEPj97yUv5hcWLwrm1+1XXjnCwdgFAQTqLuA5mu+6S/JLNK++mr863btLJ50kHX64tNhida82FUAAAQQQQAABBBBAoGYCBMw1o07siQiYE9u19W3Y+eefr1NPPTWoxPDhw3WEV0yLWJgiIyIcu5UtMH26tOKK0pdftuw6aFDmdXsKAgg0t8C8edJ990l+iPTCC/nbsvTS0vHHS0cfLS2xRHO3mdojgAACCCCAAAIIIFCKAAFzKUpsU0iAgJnroyoCa6yxhsaNG6eFF15YniO5a9euVTmPD8qNsGq0qTvwlVdKxx7butke8bjOOqmjoMEIJFbAQfMjj2SC5iefzN/MJZeUhgzJ3BOWWiqxHDQMAQQQQAABBBBAAAFyFa6BigUImCsm5ABtBV566SX1798/+OvddttNo0aNqioSAXNVeVNzcL9Gv9pqrRcF2267zIhHCgIIJFPgiScyQbMD53ylS5fMtBke1cxCn8m8DmgVAggggAACCCCQdgFylbRfAZW3n4C5ckOO0Ebg2GOP1ZUeCipp9OjRGjhwYFWNuBFWlTc1B7/3XqntpfrYY9Kmm6aGgIYikFqB557LzNFc6IFSp07S/vtLJ58s9e2bWioajgACCCCAAAIIIJBAAXKVBHZqjZtEwFxj8KSfbvbs2erZs6cmTZqkbt266dNPP1XHjh2r2mxuhFXlTc3Bt9yy9ShGT4vxyitSu3apIaChCKRewJ95B8133pmfwgt/7r67dMop0k9+knoyABBAAAEEEEAAAQQSIECukoBOrHMTCJjr3AFJO71HLO+0005Bs4YMGaLLLrus6k3kRlh14sSf4K23pDXXbN3M666TDj448U2ngQggkEPgzTelP/xBuu02ydPn5Ctbb50JmjfZhIdRXEgIIIAAAggggAACzStArtK8fdcoNSdgbpSeSEg9dt99d91xxx1Ba8aOHat+/fpVvWXcCKtOnPgTeH7Va65paebSS0sffSR17pz4ptNABBAoIPC//0kXXSRdf700c2b+DTfYQDr1VGmHHSSPcKYggAACCCCAAAIIINBMAuQqzdRbjVlXAubG7JemrNWUKVPUo0cPzZw5U2uuuabeeOONmrSDG2FNmBN7ksmTpV69pBkzWpp42mmZ1+QpCCCAgAU++0y6/HLpqqukqVPzm6yxhjR0qDRokLTQQtghgAACCCCAAAIIINAcAuQqzdFPjVxLAuZG7p0mq9vVV1+tI488Mqj1hRdeqJNOOqkmLeBGWBPmxJ7kwgszgVBYPGX4hx9Kyy2X2CbTMAQQiCjw1VfS8OHSsGHSpEn5D7LiitIJJ2Sm2VlssYgnYzcEEEAAAQQQQAABBGokQK5SI+gEn4aAOcGdW+umDRgwQM8884w6dOig8ePHa7kaJXTcCGvd08k535w5Up8+mekwwrLXXtLNNyenjbQEAQTiF/AbDyNGZKbP8AOpfKVrV+moo6TBg6Xu3eOvB0dEAAEEEEAAAQQQQCAOAXKVOBTTfQwC5nT3fyJaz40wEd1Yl0aMGiXtsUfrUz/3nLT++nWpDidFAIEmE5g9O7MQ4PnnS14sNF/p1Enaf3/p+OOlH/+4yRpJdRFAAAEEEEAAAQQSL0CukvgurnoDCZirTswJqi3AjbDawsk9/hZbSI8+2tI+B8sOmCkIIIBAOQJz50r33Sf98Y/Ss88W3nPgQOnEE6WNN5batSvnLGyLAAIIIIAAAggggEB1BMhVquOapqMSMKeptxPaVm6ECe3YKjfrvfekvn1bn+TGG6V99qnyiTk8AggkVmDePOmJJ6SLL5buvbdwM/v3l7xUwS67SJ77nYIAAggggAACCCCAQL0EyFXqJZ+c8xIwJ6cvU9sSboSp7fqKGn7KKdIFF7QcYqmlpE8+kTp3ruiw7IwAAggEAuPGSZdeKt1wgzRrVn6UlVbKTJ1x0EEsCMilgwACCCCAAAIIIFAfAXKV+rgn6awEzEnqzZS2hRthSju+gmY77Fl+eWnixJaDHHecNGxYBQdlVwQQQCCHwGefSX/6kzR8uDRlSn4iFgTk8kEAAQQQQAABBBColwC5Sr3kk3NeAubk9GVqW8KNMLVdH7nhd9wh7b576929QNfqq0c+JDsigAACBQWmTZNGjMg8yPrgg/ybekHAvfaS/NBr3XVBRQABBBBAAAEEEECg+gLkKtU3TvoZCJiT3sMpaB83whR0csxN3GYb6cEHWw46YID01FMxn4TDIYAAAjkE5syR/JDroouksWMLE22ySSZo9sKAHTrAiQACCCCAAAIIIIBAdQTIVarjmqajEjCnqbcT2lZuhAnt2Co16/33pZVXlrwYV1hGjpT2379KJ+SwCCCAQA6BcEFAB8333VeYyPM0H3usdPDB0hJLwIkAAggggAACCCCAQLwC5CrxeqbxaATMaez1hLWZG2HCOrTKzTn9dOm881pOsuSS0qefSossUuUTc3gEEEAgj4AXBLzkEunGGwsvCLj44pmQ+ZhjMg/KKAgggAACCCCAAAIIxCFArhKHYrqPQcCc7v5PROu5ESaiG2vSCL+avsIKkhfdCsvgwdKVV9bk9JwEAQQQKCjghUevvlq66ippwoT8m7ZrJ+24Y2b6DE+j4f+mIIAAAggggAACCCAQVYBcJaoc+4UCBMxcC00vwI2w6buwZg245x5p551bn+7116W11qpZFTgRAgggUFRg5kzpttukyy6TXnml8OZeCNBB86BB0sILFz00GyCAAAIIIIAAAgggsIAAuQoXRaUCBMyVCrJ/3QW4Eda9C5qmAjvtJI0e3VLd9deXnnuuaapPRRFAIGUCnqfZC5A6aL77bmnu3PwAyywjHXqodPjh0vLLpwyK5iKAAAIIIIAAAghUJECuUhEfO0siYOYyaHoBboRN34U1acAXX0g9ekieJiMsf/2rdMghNTk9J0EAAQQqEvACpX/6k3TttdI33+Q/VPv2kh+mHX20tNlmTJ9Y4KOhAAAgAElEQVRRETo7I4AAAggggAACKREgV0lJR1exmQTMVcTl0LUR4EZYG+dmP4uDGS+MFZbOnTNznC6xRLO3jPojgECaBKZOlUaOlC6/XHrvvcIt//GPpaOOkvbfn3tdmq4R2ooAAggggAACCJQrQK5SrhjbtxUgYOaaaHoBboRN34U1aYCnw3jhhZZTeb7SW26pyak5CQIIIBC7gKfLuP9+adgw6V//Knz4Ll0yIbNHNa++euxV4YAIIIAAAggggAACTS5ArtLkHdgA1SdgboBOoAqVCXAjrMwvDXu/+670ox+1bul990nbbZeG1tNGBBBIusBbb0lXXSX9/e/StGmFW7vpptLgwZlpNDp2TLoM7UMAAQQQQAABBBAoRYBcpRQltikkQMDM9dH0AtwIm74Lq96A00+Xzjuv5TReDOuTTwhXqg7PCRBAoKYCnpvZIfOf/yy9807hU/fsmVkQ0AsDdu9e02pyMgQQQAABBBBAAIEGEyBXabAOacLqEDA3YadR5dYC3Ai5IgoJ+DXyPn2kDz9s2eq44zKvlVMQQACBJArMmyc99lhmUcB77pF8H8xXFlpI2nnnTNj8y19KXiSQggACCCCAAAIIIJAuAXKVdPV3NVpLwFwNVY5ZUwFuhDXlbrqTPfGEtMkmras9dqzUr1/TNYUKI4AAAmULfPSR9Je/SNdcI02aVHj3VVbJjGg+8EDJb3pQEEAAAQQQQAABBNIhQK6Sjn6uZisJmKupy7FrIsCNsCbMTXuSQw6Rrruupfpe4OrNN6V27Zq2SVQcAQQQKFtg5kxp1KjM9BnPPlt4d49q3mWXzKhmz9nMqOayudkBAQQQQAABBBBoKgFylabqroasLAFzQ3YLlSpHgBthOVrp2nbGjMzcop6XNCznny8NHZouB1qLAAIIZAu8/HImaL75Zum77wrbeFTzYYdlRjV364YjAggggAACCCCAQBIFyFWS2Ku1bRMBc229OVsVBLgRVgE1IYf8xz+kPfdsaYxHLY8fL/XqlZAG0gwEEECgAoEpU6Qbb8xMofHWW4UP5FHNu+7aMqqZt0AqgGdXBBBAAAEEEECgwQTIVRqsQ5qwOgTMTdhpVLm1ADdCroh8AjvtJI0e3fLTzTaTHn0ULwQQQACBbAEvCuhpMxw0+8FcsVHNfftmRjXvvz9zNXMlIYAAAggggAACSRAgV0lCL9a3DQTM9fXn7DEIcCOMATGBh/j660zwMWtWS+Ouvz7zmjcFAQQQQCC3gEc133BDJmweN66wUseO0g47SAcfLG27reT/piCAAAIIIIAAAgg0nwC5SvP1WaPVmIC50XqE+pQtwI2wbLJU7OCAxKPrwtKpkzRhgrTkkqloPo1EAAEEKhLwqOZnnmkZ1exFAgsVz3fve+5BB0k/+lFFp2ZnBBBAAAEEEEAAgRoLkKvUGDyBpyNgTmCnpq1J3AjT1uOltXfgQOnee1u29X9nT5dR2lHYCgEEEEBg8uSWUc1vv13cY8MNM6Oaf/UraYklim/PFggggAACCCCAAAL1FSBXqa9/Es5OwJyEXkx5G7gRpvwCyNH8r77KTI8xe3bLD//+d2m//bBCAAEEEIgq4FHNTz8tXXONNGqUNGNG4SMtuqi0xx6ZsHnjjSUWBowqz34IIIAAAggggEB1BchVquubhqMTMKehlxPeRm6ECe/gCM0bObL1XMueHmPiROkHP4hwMHZBAAEEEFhA4JtvpNtuk0aMkJ57rjjQyitnps844ACpV6/i27MFAggggAACCCCAQO0EyFVqZ53UMxEwJ7VnU9QuboQp6uwSm7r99tL997dsvOOO0j33lLgzmyGAAAIIlCXgaTO8iKrfFPFc94WKRzFvvnlmvuZddpG6dCnrVGyMAAIIIIAAAgggUAUBcpUqoKbskATMKevwJDaXG2ESezV6m6ZMyUyPMWdOyzFuvFHaZ5/ox2RPBBBAAIHiAp6WaMyYzKhmz4H//feF9/EUGrvumpm+yKFzhw7Fz8EWCCCAAAIIIIAAAvELkKvEb5q2IxIwp63HE9heboQJ7NQKmuRRdJ7vMywLL5yZHoOFpipAZVcEEECgTAGPZPbDPYfN48YV37lHD2nvvTNh8zrrFN+eLRBAAAEEEEAAAQTiEyBXic8yrUciYE5rzyeo3dwIE9SZMTRl222lBx5oOdDOO0t33RXDgTkEAggggEDZAl4Y8IUXMlNo3HKL5Lmbi5W11soEzQ6ce/YstjU/RwABBBBAAAEEEKhUgFylUkH2J2DmGmh6AW6ETd+FsTXgyy+l7t1bT49x883SXnvFdgoOhAACCCAQUeDbb6XRo6UbbpAefLD4FBrhfM0Omz2VBvM1R4RnNwQQQAABBBBAoIgAuQqXSKUCBMyVCrJ/3QW4Eda9CxqmAtddJx1ySEt1OnfOTI+x+OINU0UqggACCCCgzGKAt96aCZvHji1O4vmad9op88Bwq60kT39EQQABBBBAAAEEEIhHgFwlHsc0H4WAOc29n5C2cyNMSEfG0Iy202N4xNv/Y+9O4L2a8z+Ov++ttK/qUtoliigtlLTZoiIxY4uksYTmn0GMpcIYO9MMJo0hoQw1ChWmTBFRKkq0iJZJ2jft3e7/8f39/Jz7S3V/y9nP6zwe93Gre873+/k+P7/Hd5q30zljxtgwMEMggAACCDgm8M038aDZPLN5xYqip6lUKX5HswmbO3SQihcv+hrOQAABBBBAAAEEEDi4ALkKn45sBQiYsxXkes8F2Ag9b4EvCjDP9axaVdqzxyrHPO/z0kt9UR5FIIAAAggUIbBvn/Thh/Gw+Y03pK1biybLy5N++9v4Xt+6tZSbW/Q1nIEAAggggAACCCCQLECuwiciWwEC5mwFud5zATZCz1vgiwJef1265BKrlBIlpHXrpAoVfFEeRSCAAAIIpCGwY4f1vGbz4tb8/KIvrl07/r8DJmxu1kwyz3DmQAABBBBAAAEEEChagFylaCPOOLQAATOfkMALsBEGvoW2LOCKKyTzQr/Ecc45kgklOBBAAAEEgi1gnqU/erRk/lXKtGmpraVhw3jQbL4aNUrtGs5CAAEEEEAAAQSiKkCuEtXO27duAmb7LBnJIwE2Qo/gfTSteSxGtWrS5s1WUc8+K/Xt66MiKQUBBBBAIGsB84zmf/0r/oLAVF4OaCZs0kS6+OL4V+PGWZfAAAgggAACCCCAQOgEyFVC11LXF0TA7Do5E9otwEZot2jwxps0STrrrOS6//c/6aijgrcWKkYAAQQQSE1g0aJ42GzubDYvCkzlMHczJ8JmEzzzGI1U1DgHAQQQQAABBMIuQK4S9g47vz4CZueNmcFhATZCh4EDMHy/ftLTT1uFtmghzZwZgMIpEQEEEEAga4GCAmnevPhdzebr++9TG/KYY6ywmWc2p2bGWQgggAACCCAQTgFylXD21c1VETC7qc1cjgiwETrCGphBTbBQp45k/tl04njgAemeewKzBApFAAEEELBJwPxvwowZ8aDZ3N28alVqA9erJ110UTxwbtWKO5tTU+MsBBBAAAEEEAiLALlKWDrp3ToImL2zZ2abBNgIbYIM6DBz5kgnn5xc/Ny58WduciCAAAIIRFcgP1/65JP4CwLHjJFWrkzNolateNhsvlq3looVS+06zkIAAQQQQAABBIIqQK4S1M75p24CZv/0gkoyFGAjzBAuJJcNGiTdf7+1mPr1pW+/5e6zkLSXZSCAAAK2COzbJ332mRU2L1uW2rDmBbLdukkXXBB/1n/p0qldx1kIIIAAAggggECQBMhVgtQtf9ZKwOzPvlBVGgJshGlghfDUpk2lL7+0FnbLLdKTT4ZwoSwJAQQQQMAWAfMYjVmz4mHzG29I332X2rBlykhnny117y516SJVrZradZyFAAIIIIAAAgj4XYBcxe8d8n99BMz+7xEVFiHARhjdj8jSpZJ5bmbhY8oUqX376JqwcgQQQACB1AVM2Gz+I2UibF60KLVrc3Oltm3jYbO5u9n86xkOBBBAAAEEEEAgqALkKkHtnH/qJmD2Ty+oJEMBNsIM4UJw2V//Kv3f/1kLqVJFWr1aKl48BItjCQgggAACrgqYsHn+/HjY/O9/S/PmpT69ee6/CZpN4GzeC5CTk/q1nIkAAggggAACCHgtQK7idQeCPz8Bc/B7GPkVsBFG9yNw5pnS5MnW+q+6Snrppeh6sHIEEEAAAfsEzKMz3npLGjtW+ugjyTzHOZXjqKPij9AwX2ecIZUtm8pVnIMAAggggAACCHgnQK7inX1YZiZgDksnI7wONsJoNn/rVunww6U9e6z1jxkj9egRTQ9WjQACCCDgnMC6ddL48dK4cdK770o7dqQ2V8mSUocOVuDMozRSc+MsBBBAAAEEEHBXgFzFXe8wzkbAHMauRmxNbIQRa/jPyzX/J9/8U+TEUaKEZAKAChWi6cGqEUAAAQTcETDh8qRJ8Tub335bWrs29XkbNbLC5tNOk8z/dnEggAACCCCAAAJeC5CreN2B4M9PwBz8HkZ+BWyE0fwI3HCD9Nxz1to7dpQ++CCaFqwaAQQQQMAbgfx8afr0+J3NJnD+9tvU66hYUTr77HjgfO65Ul5e6tdyJgIIIIAAAgggYKcAuYqdmtEci4A5mn0P1arZCEPVzpQWY17EVLeutHy5dfqjj0q3357S5ZyEAAIIIICA7QLmf5sWLIg/SsN8TZsm7d2b2jTmpYCtWknnnBP/Mr/mhbWp2XEWAggggAACCGQvQK6SvWHURyBgjvonIATrZyMMQRPTXMLXX0vHH5980bx50gknpDkQpyOAAAIIIOCQwKZN0vvvx8PmiRPTe5RGpUrxFwQmAufatR0qkmERQAABBBBAAAFJ5Cp8DLIVIGDOVpDrPRdgI/S8Ba4X8MQT0m23WdPWrBm/m9ncAcaBAAIIIICA3wT27ZNmzrTubp49O70KzbObE2Fzu3ZSmTLpXc/ZCCCAAAIIIIDAoQTIVfh8ZCtAwJytINd7LsBG6HkLXC/A3NVV+HnL114rDRvmehlMiAACCCCAQEYCP/wgTZgQD5z/8x9p27bUhylZUjIhcyJwNv+ih//AmrofZyKAAAIIIIDArwXIVfhUZCtAwJytINd7LsBG6HkLXC1g61bp8MOlPXusaf/9b+nCC10tg8kQQAABBBCwRWDXLunDD6X33ot/ffVVesMedVT8cRqJL/N7DgQQQAABBBBAIB0BcpV0tDj3QAIEzHwuAi/ARhj4Fqa1gHHjpO7drUvMS5DWr5cqVEhrGE5GAAEEEEDAlwIrV8af3WzCZnN384YN6ZV57LFW2Nyxo1S5cnrXczYCCCCAAAIIRE+AXCV6Pbd7xQTMdosynusCbISuk3s64Q03SM89Z5XQoYP03/96WhKTI4AAAggg4IhAfr40a1Y8bH73XemzzyTzZ6ke5tEZzZtbgfNpp/H85lTtOA8BBBBAAIEoCZCrRKnbzqyVgNkZV0Z1UYCN0EVsj6cqKJDq1o2/0C9xPPKINGCAx4UxPQIIIIAAAi4IbNokTZ5sPU6j8P8epjL9YYdJbdpYgXOLFlKJEqlcyTkIIIAAAgggEGYBcpUwd9edtREwu+PMLA4KsBE6iOuzob/+WjIvMyp8zJ0rNWnis0IpBwEEEEAAAYcFzH90XbgwHjibL/OveUwAnc5Rtqxk7mpu314y/yLIBM4mhOZAAAEEEEAAgWgJkKtEq99OrJaA2QlVxnRVgI3QVW5PJ3viCem226wSzIuMVqyQzD8B5kAAAQQQQCDKAubRGbNnW4HztGnSzp3piZQuHb/DORE4t2ollSyZ3hicjQACCCCAAALBEyBXCV7P/FYxAbPfOkI9aQuwEaZNFtgLzjpLmjTJKv/aa6VhwwK7HApHAAEEEEDAMQETLk+fbgXOM2em9/xmU1ipUtKpp8bvbjahs/m1+TMOBBBAAAEEEAiXALlKuPrpxWoImL1QZ05bBdgIbeX07WA7dkiVK0u7dlkljhkj9ejh25IpDAEEEEAAAd8IbNkiTZ1qBc5ffZV+aebxGaecIrVrF3+0RuvWUqVK6Y/DFQgggAACCCDgLwFyFX/1I4jVEDAHsWvUnCTARhiND4S5c9ncwZw4cnOl9ev5P7bR6D6rRAABBBCwW2DtWunDD+Ohs/ky7zRI9zCPqDrhBKlt2/iXCZ1r1+bRVek6cj4CCCCAAAJeC5CreN2B4M9PwBz8HkZ+BWyE0fgI/PGP0sMPW2s1d1B9+mk01s4qEUAAAQQQcFrA/Efbjz6SpkyJB85ffimZFwmme9SsGQ+aE4HziSdKxYqlOwrnI4AAAggggICbAuQqbmqHcy4C5nD2NVKrYiOMRrtbtpQ+/9xa6113SQ8+GI21s0oEEEAAAQTcFti4MR44m7DZhM5ffCHt25d+FeXLx5/dnAiczX8gLlcu/XG4AgEEEEAAAQScEyBXcc42KiMTMEel0yFeJxthiJv789LM/8k9/PDkO6k++EDq2DH8a2eFCCCAAAII+EFg8+Z44Gy+Pv5YMi8N3L07/crM3czmrmYTOpsvEzgfc4xkHn3FgQACCCCAAALeCJCreOMeplkJmMPUzYiuhY0w/I3/97+liy6y1mneYG9CZ95kH/7es0IEEEAAAX8K7NwpzZoVD5unTYt/37Ahs1rNS3xbtbICZxM6V6mS2VhchQACCCCAAALpC5CrpG/GFckCBMx8IgIvwEYY+BYWuYAbb5T+/nfrNPOyv/ffL/IyTkAAAQQQQAABlwTM4zMWLowHzYnQ+dtvM5/c3NWcuMPZfDd3PZcokfl4XIkAAggggAACBxcgV+HTka0AAXO2glzvuQAboectcLyAY4+VFi2ypjEv+7vjDsenZQIEEEAAAQQQyEJg9erkwHn2bGnv3swGNP9qqXnzeOhs7nZu0UKqV0/KyclsPK5CAAEEEEAAAUuAXIVPQ7YCBMzZCnK95wJshJ63wNECVqyQatdOnsK87M/8n0wOBBBAAAEEEAiOwPbt8Wc3f/ZZ/Gv6dGnVqszrN4/WMEFz4a9atQidMxflSgQQQACBqAqQq0S18/atm4DZPktGkrRu3Tq98MILGjdunJYsWaKNGzfq8MMPV61atdSuXTv16NFDrVu3ttWKjdBWTt8NNny41Lu3VZZ5JuOaNZJ5SRAHAggggAACCARXoKBA+t//4mHzp5/Gv5v/iGye75zpUa2aFTib/xhtwucaNQidM/XkOgQQQACBaAiQq0Sjz06ukoDZSd2Ijf3GG2+ob9++Wr9+/UFXfsEFF2js2LG2yrAR2srpu8F69pRefdUqy7zsb/Ro35VJQQgggAACCCBgg8CePdLcucmhc+HHZGUyxZFHJt/lbIJn82ccCCCAAAIIIBAXIFfhk5CtAAFztoJcHxMYMWKEevfurX379ikvLy8WNLdt21ZVqlTRjz/+GLub+e2331bFihVlgmg7DzZCOzX9NZa5s8ncdfTjj1Zd5mV/N9zgrzqpBgEEEEAAAQScEzD3LsyYYYXOs2aZfzWX3XwmYG7aVGrWzPp+9NFSbm5243I1AggggAACQRQgVwli1/xVMwGzv/oRyGq++eYbNWvWTLt27dLpp5/+S5B8oMXs3r1bhx12mK3rZCO0ldNXg82fL51wQnJJ5i4m82Z5DgQQQAABBBCIpoD5D9DLl8cfp1H4a9Om7DzKlZNOOik5eDZ/DylZMrtxuRoBBBBAAAG/C5Cr+L1D/q+PgNn/PfJ9hWeeeaYmT56sqlWryoTN5rubBxuhm9ruzjVkiNS/vzWnednf0qU8R9HdLjAbAggggAAC/hcwofP33ycHzuZO5y1bsqu9eHGpUaPk0Nnc+WxeMMiBAAIIIIBAWATIVcLSSe/WQcDsnX0oZl6wYIEamb91Sxo8eLAGDRrk+rrYCF0nd23C88+X3n7bms687O+FF1ybnokQQAABBBBAIMAC+/ZJ336bHDrPni1t25b9omrWlJo0sb7Mnc7mr8Tc7Zy9LSMggAACCLgvQK7ivnnYZiRgDltHXV7PAw88oIEDB8ZmnT9/vho3bhz79caNG7Vu3brYM5gPP/xwR6tiI3SU17PB8/OlKlWS7zwyL/u7/HLPSmJiBBBAAAEEEAi4gPn7hQmdv/gi/jVnTvxrzZrsF1asmNSwYXLwbELounV5tnP2uoyAAAIIIOCkALmKk7rRGJuAORp9dmyVXbp00YQJE2Iv7zOh8siRI/Xoo49qrnn9989HvXr11KtXL916660qZx5uZ/PBRmgzqE+GM3cYmbe8Fz5++EGqXt0nBVIGAggggAACCIRGYNUqK3BOhM+LF9uzPPPX3+OP/3Xw7PJT5exZDKMggAACCIRSgFwllG11dVEEzK5yh28yEx4vXbpUJ510ktq2batnnnnmoIs84YQT9N5776lGjRppQZiN7lDHqlWr1KpVq9gpK1asUE3zbxY5Ai/wl79It9xiLcO82M+84I8DAQQQQAABBBBwQ2DrVsncM2HucE7c7fzVV9Lu3fbMfuSRkvnHf4kv84gN8+tq1XjfhD3CjIIAAgggkKoAAXOqUpx3MAECZj4bWQmYO5e3bNmikiVLateuXapUqZIefvhh9ejRQxUqVNC8efNij9CYOHFibJ42bdroo48+Um5ubsrz5uTkpHwuAXPKVL4/8cILpbFjrTL79JGef973ZVMgAggggAACCIRYYM+e+H/wnjcv+cu8hNiuwzwibP/Q2fz+qKMInu0yZhwEEEAAgWQBAmY+EdkKEDBnKxjx64sXL6588zA7ScWKFdO0adN06qmnJqns27dPXbt2/SVkfuONN3TxxRenLEfAnDJVaE40L+XJy5PWr7eWNGKEdOWVoVkiC0EAAQQQQACBEAls2WLeR/Lr4HnDBvsWWb58/EWCiTudTehsfm2e8Wye/8yBAAIIIIBApgIEzJnKcV1CgICZz0JWAuaZytt+fhX3pZdeqlGjRh1wPPMCQPOIDHOYu5vHjBmT8rw8IiNlqtCcaP75qXkpTuHD3BlUp05olshCEEAAAQQQQCDkAgUFknm28/53O3/9tbRrl32LL1VKMo8SO/bY+EsGzVfi1+ZuaA4EEEAAAQSKEiBgLkqInxclQMBclBA/P6RA9erV9eOPP8bOeemll3TVVVcd9HzzbOSVK1eqVq1aWr58uW2ybIS2UfpmoGeflW66ySrHBMt2/tNT3yyUQhBAAAEEEEAgcgJ790rffhu/49mEzd98E/++YIG9wbOBNS8SLBw4J3599NGSCaY5EEAAAQQQMALkKnwOshUgYM5WMOLXm5frzZw5M6YwefJkderU6aAirVu31qeffhp7XvPOnTttk2MjtI3SNwNdcon0+utWOebRGOYRGRwIIIAAAggggEBYBcxT58x/UC8cOid+/dNP9q7avOLEPFpj/zuezZ3QtWrxyA17tRkNAQQQ8L8AuYr/e+T3CgmY/d4hn9fXu3dvDR8+PFbl+++/r7POOuugFSfC6LJly+onG/+WzEbo8w9JmuWZf05ao4b0843xsavNy/3MS/44EEAAAQQQQACBqAmYvxv973/Wnc6FA2g7n/GccC1RQqpXT2rQQDJ3OpuvxK/Nn5csGbUOsF4EEEAg/ALkKuHvsdMrJGB2Wjjk47/44ou65pprYqv8+9//rhtuuOGgK65atarWr1+vhg0bauHChbbJsBHaRumLgcyb2c1zAwsf5s/MHTUcCCCAAAIIIIAAAnEBEzyvXRsPns3flcxfrxPfv/tOMo/isPswdz6bO5wPFD6bINq8iJADAQQQQCB4AuQqweuZ3yomYPZbRwJWjwmMzXOY9+zZE7t72dzFfKBj6tSp6tChQ+xHffr00fPmllSbDjZCmyB9Moz5aFx7rVVM9erSypWS+T80HAgggAACCCCAAAJFC+zZI33/fTxw3j98Ni8edOrIy4uHz/Xrx++CNo/hMN/NV82aUvHiTs3MuAgggAAC2QiQq2Sjx7VGgICZz0HWAjfeeGPs7mVzjBo1SpdeemnSmFu3blW7du30xRdfxP58xowZatmyZdbzJgZgI7SN0hcDmectv/KKVYp5HvNrr/miNIpAAAEEEEAAAQQCL7B1q7R4cfIdz4kg2vzMqaNYsfjdz4WD58IBtLmpIDfXqdkZFwEEEEDgUALkKnw+shUgYM5WkOu1du1atWjRQsuXL1fx4sVjj8no0aOHKlSooHnz5umRRx7RAvNabEl9+/bVs88+a6saG6GtnJ4PVqeOtHy5VYb5uPTt63lZFIAAAggggAACCIRaIPHIjSVLpG+/lfb/vm6ds8s/7DDJ/D3wQAG0CaLN3dH8izZne8DoCCAQXQFylej23q6VEzDbJRnxcb755hudf/75+tb8bfQgh3lW89ChQ1XCvDnExoON0EZMj4cyb043/6ei8DF/vtS4sceFMT0CCCCAAAIIIBBxgS1bfh06J0Jo8xJCpw/zckFzB3Tt2vGvwr9O/L5sWaerYHwEEEAgnALkKuHsq5urImB2Uzvkc23bti32qIzRo0dr8eLF+umnn5SXl6fTTjtN119/vTp27OiIABuhI6yeDDpihNSrlzV11arSmjXcreJJM5gUAQQQQAABBBBIUWDHjvgznxOBs/m1uXHAfDdf27alOFCWp1WpcugA2jyGg+dAZ4nM5QggEEoBcpVQttXVRREwu8rNZE4IsBE6oerNmH36SC+8YM3do4c0Zow3tTArAggggAACCCCAQPYC5tEb69dbgXPh4Nn82nzt3Jn9PKmMYJ4DfdRR8bufzUsHza/3/6pRQzJ3S3MggAACURIgV4lSt51ZKwGzM66M6qIAG6GL2A5Pdcwx8Wf+JY6//EX6v/9zeFKGRwABBBBAAAEEEPBMwATQq1fH73ROhM+FQ2jzbo49e9wtr1q1XwfP+wfSlSrxr+zc7QqzIYCAkwLkKk7qRmNsAuZo9DnUq9Lpgq0AACAASURBVGQjDEd7zaMwjjgieS2zZ0vNmoVjfawCAQQQQAABBBBAIH2B/Hzpxx/jL4FesSL+ff8vc4e020fp0skhdCKANo/hMF9HHhn/znOh3e4M8yGAQCYC5CqZqHFNYQECZj4PgRdgIwx8C2MLGDdO6t7dWku5ctLGjTwnLxzdZRUIIIAAAggggIBzAuYZz+ZFgwcKnxPB9K5dzs1/qJHN32kLB86J4DnxPfEz8+6R3FxvamRWBBBAgFyFz0C2AgTM2QpyvecCbISet8CWAu64Q3r0UWuoM86QJk2yZWgGQQABBBBAAAEEEIiwgHkMx9q1VgBt7oReuTL5ywTUbj0L+kCtMM+HNv+a72BhtAmk8/LiX+XL83iOCH+cWToCjgiQqzjCGqlBCZgj1e5wLpaNMBx9Pf10ado0ay333ivdf3841sYqEEAAAQQQQAABBPwtYEJo86/n9g+e9/+9Caq9PsxLCE3QbALpROhc+HvhPzfPky5RwuuKmR8BBPwuQK7i9w75vz4CZv/3iAqLEGAjDP5HZPduqUIFqfA/XZw4UercOfhrYwUIIIAAAggggAAC4REwf19dtSr+SI4DhdHmedHm5+axHX45Kle2guiDhdImoDaP6TDn8qgOv3SOOhBwT4BcxT3rsM5EwBzWzkZoXWyEwW/2Z59Jp56avA5zB4l5OzcHAggggAACCCCAAAJBE/jpp3jQnAicC/868Wfmu7kj2tw97ZfDhMtVqkiHHx4PnPf/OtCfV6xIKO2X/lEHApkKkKtkKsd1CQECZj4LgRdgIwx8C/XUU9If/mCt4/jjpa++Cv66WAECCCCAAAIIIIAAAocS2LNHWrPGCqILh8+FQ+nVq6UdO/xpaZ4fbULpogJpc465QzrxnUd3+LOfVBVNAXKVaPbdzlUTMNupyVieCLAResJu66S/+Y00erQ15LXXSsOG2ToFgyGAAAIIIIAAAgggEGgB89gNEzSbQPpgX4mfr1sn7dvn7+WalxUmAufC4bP59f6/L3xe2bK85NDfnaW6IAqQqwSxa/6qmYDZX/2gmgwE2AgzQPPRJeafBNasKf3wg1XUCy9IvXv7qEhKQQABBBBAAAEEEEAgQAL5+dKGDQcOovcPqc3vzSM9gnIULx4PoA8WRJsw2jy2wzxuz3wlfm2+m/e+mDuuORBAIFmAXIVPRLYCBMzZCnK95wJshJ63IKsCli2T6tZNHmLBAunYY7MalosRQAABBBBAAAEEEEAgRYGdO6X16yVz53Piu/n1/l+Ff7Z9e4qD++w0EzIfKIAuHEYf7NfmupIlfbYgykHABgFyFRsQIz4EAXPEPwBhWD4bYbC7OGqUdPnl1hrMnQjmL7I5OcFeF9UjgAACCCCAAAIIIBBmARMwFw6cDxZMJ/7cvMTbPOYj6EepUsl3RyfujDbBtXnsh/l+qF8nfkZQHfRPQrjqJ1cJVz+9WA0BsxfqzGmrABuhrZyuD9avn/T009a0XbtKb7/tehlMiAACCCCAAAIIIIAAAg4L7NolmaDZPL4j8T2VX5tz/f5M6XTpDjvs0EH0wcLqREBtfm6+ypWTzFgcCGQjQK6SjR7XGgECZj4HgRdgIwx2C5s3l2bPttbw5z9Lf/xjsNdE9QgggAACCCCAAAIIIGCfgAmXt26NB9OHCqTNzzZvljZtsr6bX4ctnN5ftkQJybz80ITNqXylcm6ZMlJurn09ZCR/C5Cr+Ls/QaiOgDkIXaLGQwqwEQb3A2L+iZz5J2XmJSSJY8oUqX374K6JyhFAAAEEEEAAAQQQQMA/Aual4uYlhongef/wOZU/N3deR/EwIfOhAmvzcxNWm++Fv/b/swOdYx4RwmMR/fOpIlfxTy+CWgkBc1A7R92/CLARBvfDYMLkjh2t+s0bnbdsif/lhAMBBBBAAAEEEEAAAQQQ8IOAeQnige6MNmG1+f8v5u5q833/X+//+7DfSZ1Or8zd0ZkE0wcKq804pUtL5vnY5nviy/yeIDu1rpCrpObEWQcXIGDm0xF4ATbC4LbQPA7j7rut+lu0kGbODO56qBwBBBBAAAEEEEAAAQQQOJCAuZN6x44DB9EHC6gP9ufmjmyO1ATMXdKFg+cDhdD7h9KFf3+w4PpA51SuHNybpchVUvs8cRYBM5+BEAuwEQa3ueaFfuPHW/X//vfSkCHBXQ+VI4AAAggggAACCCCAAAJOC5g7oU3IbB45aL4f7KuonyeuM+eZMLvwowudXkMYx7//funee4O5MnKVYPbNT1VzB7OfukEtGQmwEWbE5vlF5r/gV60af0lH4njtNemSSzwvjQIQQAABBBBAAAEEEEAAgUgJmP9/tnt36mG1CaTNHdkmnN6+3fo60O/Nn0UhvH7sMem224L5sSFXCWbf/FQ1AbOfukEtGQmwEWbE5vlF334rHXNMchlLl0p16nheGgUggAACCCCAAAIIIIAAAgjYKLBnTzyE3j+APtCfpRJaJ0Jtc64Jus2XCci9PP72N+nmm72sIPO5yVUyt+PKuAABM5+EwAuwEQazhSNHSldcYdV+xBHSqlW8STiY3aRqBBBAAAEEEEAAAQQQQMBbAfPoEPNCxkTgbL6n+/t0rzHjJ47nn5f69PHWINPZyVUyleO6hAABM5+FwAuwEQazhf37Jz9vuVs36a23grkWqkYAAQQQQAABBBBAAAEEEIiegHm0iAmZzVfiBYJBVCBXCWLX/FUzAbO/+kE1GQiwEWaA5oNLTjtN+uQTq5AgvxDBB5yUgAACCCCAAAIIIIAAAggggEBGAuQqGbFxUSEBAmY+DoEXYCMMXgvN87cqVIj/V97E8e670jnnBG8tVIwAAggggAACCCCAAAIIIIBAkAXIVYLcPX/UTsDsjz5QRRYCbIRZ4Hl06Zw50sknJ0++fr1UpYpHBTEtAggggAACCCCAAAIIIIAAAhEVIFeJaONtXDYBs42YDOWNABuhN+7ZzPrcc9INN1gjNGggLV6czYhciwACCCCAAAIIIIAAAggggAACmQiQq2SixjWFBQiY+TwEXoCNMHgt/N3vpH/+06r78sulV18N3jqoGAEEEEAAAQQQQAABBBBAAIGgC5CrBL2D3tdPwOx9D6ggSwE2wiwBPbj8xBOlefOsiZ96Surf34NCmBIBBBBAAAEEEEAAAQQQQACBiAuQq0T8A2DD8gmYbUBkCG8F2Ai99U939p9+kipWlPbts678+GOpTZt0R+J8BBBAAAEEEEAAAQQQQAABBBDIVoBcJVtBridg5jMQeAE2wmC18MMPpfbtrZqLFZO2bpVKlw7WOqgWAQQQQAABBBBAAAEEEEAAgTAIkKuEoYveroGA2Vt/ZrdBgI3QBkQXh3jiCem226wJmzWTZs92sQCmQgABBBBAAAEEEEAAAQQQQACBXwTIVfgwZCtAwJytINd7LsBG6HkL0irgkkuk11+3LrnuOum559IagpMRQAABBBBAAAEEEEAAAQQQQMAmAXIVmyAjPAwBc4SbH5alsxEGq5P16klLl1o1P/+81KdPsNZAtQgggAACCCCAAAIIIIAAAgiERYBcJSyd9G4dBMze2TOzTQJshDZBujDM2rVSXl7yRHPnSk2auDA5UyCAAAIIIIAAAggggAACCCCAwK8EyFX4UGQrQMCcrSDXey7ARuh5C1IuYMIEqUsX6/SyZaXNmyXzoj8OBBBAAAEEEEAAAQQQQAABBBBwX4BcxX3zsM1IwBy2jkZwPWyEwWn64MHSffdZ9Z5+uvThh8Gpn0oRQAABBBBAAAEEEEAAAQQQCJsAuUrYOur+egiY3TdnRpsF2AhtBnVwuPPOkyZOtCa49Vbp8ccdnJChEUAAAQQQQAABBBBAAAEEEEDgkALkKnxAshUgYM5WkOs9F2Aj9LwFKRVQUBB//vK6ddbp//qX9NvfpnQ5JyGAAAIIIIAAAggggAACCCCAgAMC5CoOoEZsSALmiDU8jMtlIwxGV5cvl+rUSa71u++kevWCUT9VIoAAAggggAACCCCAAAIIIBBGAXKVMHbV3TURMLvrzWwOCLAROoDqwJBjx0oXXmgNXLmytH69lJPjwGQMiQACCCCAAAIIIIAAAggggAACKQmQq6TExEmHECBg5uMReAE2wmC0cOBA6YEHrFrPOEOaNCkYtVMlAggggAACCCCAAAIIIIAAAmEVIFcJa2fdWxcBs3vWzOSQABuhQ7A2D9u1qzR+vDXo7bdLjz5q8yQMhwACCCCAAAIIIIAAAggggAACaQmQq6TFxckHECBg5mMReAE2wmC0sEYNadUqq9ZRo6RLLw1G7VSJAAIIIIAAAggggAACCCCAQFgFyFXC2ln31kXA7J41MzkkwEboEKyNw5pg2QTMhY8FC6Rjj7VxEoZCAAEEEEAAAQQQQAABBBBAAIG0BchV0ibjgv0ECJj5SARegI3Q/y2cMEHq0sWqs1w5afNmKTfX/7VTIQIIIIAAAggggAACCCCAAAJhFiBXCXN33VkbAbM7zszioAAboYO4Ng39pz9J995rDda2rfTRRzYNzjAIIIAAAggggAACCCCAAAIIIJCxALlKxnRc+LMAATMfhcALsBH6v4U9ekhvvmnV+fvfS0OG+L9uKkQAAQQQQAABBBBAAAEEEEAg7ALkKmHvsPPrI2B23pgZHBZgI3QY2Ibh69aVli2zBho+XOrVy4aBGQIBBBBAAAEEEEAAAQQQQAABBLISIFfJio+LJREw8zEIvAAbob9buH69VLVqco1z50pNmvi7bqpDAAEEEEAAAQQQQAABBBBAIAoC5CpR6LKzayRgdtaX0V0QYCN0ATmLKSZPls480xqgVClp61apePEsBuVSBBBAAAEEEEAAAQQQQAABBBCwRYBcxRbGSA9CwBzp9odj8WyE/u7jY49JAwZYNbZsKc2Y4e+aqQ4BBBBAAAEEEEAAAQQQQACBqAiQq0Sl086tk4DZOVtGdkmAjdAl6Aynuewy6bXXrIuvv14aOjTDwbgMAQQQQAABBBBAAAEEEEAAAQRsFSBXsZUzkoMRMEey7eFaNBuhv/t57LHSokVWjc89J113nb9rpjoEEEAAAQQQQAABBBBAAAEEoiJArhKVTju3TgJm52wZ2SUBNkKXoDOYZssWqWLF5AtnzpRatMhgMC5BAAEEEEAAAQQQQAABBBBAAAHbBchVbCeN3IAEzJFrefgWzEbo355+9JHUrp1Vn3mxn3nBn3nRHwcCCCCAAAIIIIAAAggggAACCHgvQK7ifQ+CXgEBc9A7SP1iI/Tvh2DIEKl/f6u+k06SvvjCv/VSGQIIIIAAAggggAACCCCAAAJREyBXiVrH7V8vAbP9pozosgAbocvgaUzXq5c0YoR1wdVXSy++mMYAnIoAAggggAACCCCAAAIIIIAAAo4KkKs4yhuJwQmYI9HmcC+SjdC//W3SRPrqK6u+v/5V6tfPv/VSGQIIIIAAAggggAACCCCAAAJREyBXiVrH7V8vAbP9pozosgAbocvgKU63Y4dUvryUn29dMG2adNppKQ7AaQgggAACCCCAAAIIIIAAAggg4LgAuYrjxKGfgIA59C0O/wLZCP3Z41mzpBYtrNpycqQtW6Ry5fxZL1UhgAACCCCAAAIIIIAAAgggEEUBcpUodt3eNRMw2+vJaB4IsBF6gJ7ClC+8IPXpY53YoIG0eHEKF3IKAggggAACCCCAAAIIIIAAAgi4JkCu4hp1aCciYA5ta6OzMDZCf/a6f39pyBCrth49pDFj/FkrVSGAAAIIIIAAAggggAACCCAQVQFylah23r51EzDbZ8lIHgmwEXoEX8S0nTpJ//2vddJ990kDB/qzVqpCAAEEEEAAAQQQQAABBBBAIKoC5CpR7bx96yZgts+SkTwSYCP0CP4Q0xYUSFWrShs2WCe9+abUvbv/aqUiBBBAAAEEEEAAAQQQQAABBKIsQK4S5e7bs3YCZnscGcVDATZCD/EPMvXKlVLNmsk/XLJEql/ff7VSEQIIIIAAAggggAACCCCAAAJRFiBXiXL37Vk7AbM9jozioQAboYf4B5l64kTpvPOsH5YvL23aJOXm+q9WKkIAAQQQQAABBBBAAAEEEEAgygLkKlHuvj1rJ2C2x5FRPBRgI/QQ/yBTP/yw9Mc/Wj9s00b6+GP/1UlFCCCAAAIIIIAAAggggAACCERdgFwl6p+A7NdPwJy9ISN4LMBG6HEDDjD95ZdLo0ZZP7jhBunvf/dfnVSEAAIIIIAAAggggAACCCCAQNQFyFWi/gnIfv0EzNkbMoLHAmyEHjfgANOfcII0f771AxMum5CZAwEEEEAAAQQQQAABBBBAAAEE/CVAruKvfgSxGgLmIHaNmpME2Aj99YHYuVMqV07Kz7fqMo/HMI/J4EAAAQQQQAABBBBAAAEEEEAAAX8JkKv4qx9BrIaAOYhdo2YCZh9/BubMkU4+ObnALVsk86I/DgQQQAABBBBAAAEEEEAAAQQQ8JcAAbO/+hHEagiYg9g1n9Wck5OTUkXt27fXlClTUjo3nZPYCNPRcv7cl16Srr7amqd+fWnJEufnZQYEEEAAAQQQQAABBBBAAAEEEEhfgFwlfTOuSBYgYOYTkbUAAXPWhKEa4A9/kJ56ylpS9+7Sm2+GaoksBgEEEEAAAQQQQAABBBBAAIHQCBAwh6aVni2EgNkz+vBMnAiY+/btqxtvvPGgCytbtqzq1atn+8LZCG0nzWrAM8+UJk+2hhg4ULrvvqyG5GIEEEAAAQQQQAABBBBAAAEEEHBIgFzFIdgIDUvAHKFmO7XURMA8aNAgDR482KlpDjouG6Hr5AedsKBAysuT1q2zThkzRurRwz81UgkCCCCAAAIIIIAAAggggAACCFgC5Cp8GrIVIGDOVpDrRcDMhyAhsGqVVKNGssfixVKDBhghgAACCCCAAAIIIIAAAggggIAfBQiY/diVYNVEwBysfvmyWgJmX7bFk6Lee0/q3NmaumxZacsWKTfXk3KYFAEEEEAAAQQQQAABBBBAAAEEihAgYOYjkq0AAXO2glzPHcx8Bn4ReOwxacAAC+TUU6Xp0wFCAAEEEEAAAQQQQAABBBBAAAG/ChAw+7UzwamLgDk4vfJtpYk7mBs3bqy9e/dq+fLlKl68uI488ki1adNGV199tTp27OhY/WyEjtGmPXDPntKrr1qXXXed9NxzaQ/DBQgggAACCCCAAAIIIIAAAggg4JIAuYpL0CGehoA5xM11a2mJgPlQ83Xv3l3Dhw9XxYoV0y7LbHSHOlatWqVWrVrFTlmxYoVq1qyZ9hxcYI/AiSdK8+ZZYz3zjHTjjfaMzSgIIIAAAggggAACCCCAAAIIIGC/AAGz/aZRG5GAOWodd2C9ZcuW1fnnn68zzjhDxx13nMqVK6e1a9dq6tSpGjp0qNavXx+btX379vrPf/6jEiVKpFVFKgF2YkAC5rRobT15927JPHN5715r2I8+ktq2tXUaBkMAAQQQQAABBBBAAAEEEEAAARsFCJhtxIzoUATMEW28ncvetGmTKlWqdMAhV69erXPPPVdz5syJ/XzIkCH6/e9/n9b0BMxpcXl2srlz2dzBXPjYtEnK4KZ1z9bAxAgggAACCCCAAAIIIIAAAghETYCAOWodt3+9BMz2mzLifgLfffedGjVqpN27d6tBgwZavHhxWkY8IiMtLs9Ofu016bLLrOlr1ZKWL/esHCZGAAEEEEAAAQQQQAABBBBAAIEUBAiYU0DilEMKEDDzAXFFoGvXrho/fnxsrpUrV6pGjRq2zctGaBtlVgPdc4/04IPWEJ07SxMnZjUkFyOAAAIIIIAAAggggAACCCCAgMMC5CoOA0dgeALmCDTZD0scMGCAHnvssVgpM2bMUMuWLW0ri43QNsqsBrrwQmnsWGuIW2+VHn88qyG5GAEEEEAAAQQQQAABBBBAAAEEHBYgV3EYOALDEzBHoMl+WOLtt9+ux39OGwmY/dAR+2to2FAq/PSTF16Qeve2fx5GRAABBBBAAAEEEEAAAQQQQAAB+wQImO2zjOpIBMxR7bzL6+7SpYsmTJgQm9VsXEcddZRtFbAR2kaZ8UA7d0ply0r79llDfPaZ1KpVxkNyIQIIIIAAAggggAACCCCAAAIIuCBAruICcsinIGAOeYP9sDzzkr/jjjtOe/bsUf369bVkyRJby2IjtJUzo8G++EJq1iz50q1bpXLlMhqOixBAAAEEEEAAAQQQQAABBBBAwCUBchWXoEM8DQFziJvrxtLefvttnXvuuSpevPgBp1u9enXs53PmzIn9/IknntAf/vAHW0tjI7SVM6PBXn1V6tnTurROHWnp0oyG4iIEEEAAAQQQQAABBBBAAAEEEHBRgFzFReyQTkXAHNLGurWsunXrxu5Mvuiii9S6dWuZ35cuXVrr1q3TlClTNHToUK1fvz5WTtu2bTVp0iSVLFnS1vLYCG3lzGiwu+6SHnrIurRLF+mddzIaiosQQAABBBBAAAEEEEAAAQQQQMBFAXIVF7FDOhUBc0gb69ayTKC8bNmyIqczAfTzzz+vSpUqFXluuiewEaYrZv/5F1wgvfWWNe6AAdIjj9g/DyMigAACCCCAAAIIIIAAAggggIC9AuQq9npGcTQC5ih23cY1T506VeZr+vTpMs9aNncub9myReXKlVOtWrXUpk0b9erVK3Z3s1MHG6FTsqmP26CBVPjR2i+9JF11VerXcyYCCCCAAAIIIIAAAggggAACCHgjQK7ijXuYZiVgDlM3I7oWNkJvG799e/xlfgUFVh2ffy41b+5tXcyOAAIIIIAAAggggAACCCCAAAJFC5CrFG3EGYcWIGDmExJ4ATZCb1s4a5bUooVVQ06O9NNPUpky3tbF7AgggAACCCCAAAIIIIAAAgggULQAuUrRRpxBwMxnIOQCbITeNnjECKlXL6uG+vWTH5fhbXXMjgACCCCAAAIIIIAAAggggAAChxIgV+Hzka0AdzBnK8j1nguwEXrbgjvukB591KqhW7fkF/55Wx2zI4AAAggggAACCCCAAAIIIIAAATOfAScFCJid1GVsVwQImF1hPugkXbtK48dbP77zTumhh7ytidkRQAABBBBAAAEEEEAAAQQQQCA1AXKV1Jw46+ACBMx8OgIvwEbobQvr1ZOWLrVqePllqWdPb2tidgQQQAABBBBAAAEEEEAAAQQQSE2AXCU1J84iYOYzEGIBNkLvmmte5le+fPL8c+ZITZt6VxMzI4AAAggggAACCCCAAAIIIIBA6gLkKqlbceaBBbiDmU9G4AXYCL1r4cyZUqtW1vy5udK2bVKpUt7VxMwIIIAAAggggAACCCCAAAIIIJC6ALlK6lacScDMZyCkAmyE3jV2+HCpd29r/mOOkRYt8q4eZkYAAQQQQAABBBBAAAEEEEAAgfQEyFXS8+LsXwtwBzOfisALsBF618LbbpOeeMKav3t36c03vauHmRFAAAEEEEAAAQQQQAABBBBAID0BcpX0vDibgJnPQAgF2Ai9a+q550rvvmvNf/fd0p/+5F09zIwAAggggAACCCCAAAIIIIAAAukJkKuk58XZBMx8BkIowEboXVNr15ZWrLDmHzlSuuwy7+phZgQQQAABBBBAAAEEEEAAAQQQSE+AXCU9L84mYOYzEEIBNkJvmrpli1SxYvLcX34pnXiiN/UwKwIIIIAAAggggAACCCCAAAIIpC9ArpK+GVckC/AMZj4RgRdgI/SmhTNmSKecYs2dmytt3y6VLOlNPcyKAAIIIIAAAggggAACCCCAAALpC5CrpG/GFQTMfAZCJsBG6E1DR4yQevWy5j7mGGnRIm9qYVYEEEAAAQQQQAABBBBAAAEEEMhMgFwlMzeusgS4g5lPQ+AF2Ai9aeFdd0kPPWTN3a2b9NZb3tTCrAgggAACCCCAAAIIIIAAAgggkJkAuUpmblxFwMxnIEQCbITeNLNHD+nNN625BwyQHnnEm1qYFQEEEEAAAQQQQAABBBBAAAEEMhMgV8nMjasImPkMhEiAjdCbZjZqJC1YYM39wgtS797e1MKsCCCAAAIIIIAAAggggAACCCCQmQC5SmZuXEXAzGcgRAJshO43c88eqUwZae9ea+5PPpFat3a/FmZEAAEEEEAAAQQQQAABBBBAAIHMBchVMrfjyrgAz2DmkxB4ATZC91u4cKF03HHJ865fL1Wp4n4tzIgAAggggAACCCCAAAIIIIAAApkLkKtkbseVBMyB/Qzk5+friy++kNkA1q5dq/Xr16t06dKqVq1a7KtJkyY64ogjAru+dAtnI0xXLPvzx42Tune3xsnLk1avzn5cRkAAAQQQQAABBBBAAAEEEEAAAXcFyFXc9Q7jbNzBHJCuLl68WP/61780ZcoUffrpp9qxY8chKz/66KN1+umnq0uXLuratasOO+ywgKw0/TLZCNM3y/YK8zK/O++0RmnXTpo6NdtRuR4BBBBAAAEEEEAAAQQQQAABBNwWIFdxWzx88xEw+7ynY8aM0ZAhQ/Txxx/HKi0oKEi54pycnNi5FStWVJ8+fdSvXz/Vrl075euDciIbofudMi/zGz7cmvf666WhQ92vgxkRQAABBBBAAAEEEEAAAQQQQCA7AXKV7Py4mmcw+/Yz8Oabb+ree+/VN99880uoXKpUKTVt2lStWrVS8+bNlZeXpypVqqhy5cqxO5o3bNigjRs3atGiRZo5c6ZmzJihFStWxNZowuYSJUrommuu0aBBg0L1CA02Qvc/xuZlfp9+as371FNS//7u18GMCCCAAAIIIIAAAggggAACCCCQnQC5SnZ+XE3A7MvPQKdOnTR16tRYsGxC5fPOO09XXHFF7HEX6T7q4ttvv9XIkSM1atQoLVy4MBY0ly9fXq+88krs0RlhONgI3e2iuYm+cmVp82Zr3okTpc6d3a2D2RBAAAEEEEAAAQQQQAABBBBAIHsBXlbgJgAAIABJREFUcpXsDaM+Ao/I8OEnIDc3V1WrVtUtt9yim266SRUqVLClymnTpumBBx7Qf/7zHw0ePFgDBw60ZVyvB2EjdLcDP/4oVa+ePOf330t167pbB7MhgAACCCCAAAIIIIAAAggggED2AuQq2RtGfQQCZh9+Ah577LFYsFymTBlHqjOPz1i3bp3OPfdcR8Z3e1A2QnfFp0yROna05ixVStq2TcrNdbcOZkMAAQQQQAABBBBAAAEEEEAAgewFyFWyN4z6CATMUf8EhGD9bITuNtG8zK9vX2vOk06SvvjC3RqYDQEEEEAAAQQQQAABBBBAAAEE7BEgV7HHMcqjEDBHufshWTsbobuNNC/zGzLEmvPSS6VRo9ytgdkQQAABBBBAAAEEEEAAAQQQQMAeAXIVexyjPAoBc5S7H5K1sxG620jzMr/33rPmHDxYGjTI3RqYDQEEEEAAAQQQQAABBBBAAAEE7BEgV7HHMcqjEDD7uPsLFizQsGHDYhV26tRJXbt2Tbnad955Rx988EHs/BtvvFENGjRI+dqgnchG6G7HzMv8li2z5nztNemSS9ytgdkQQAABBBBAAAEEEEAAAQQQQMAeAXIVexyjPAoBs4+7f84552jSpEmqX7++Pv/8c1WsWDHlajdv3qwWLVrou+++iwXT48aNS/naoJ3IRuhex7Zvl8qWTZ7PPH/ZPIeZAwEEEEAAAQQQQAABBBBAAAEEgidArhK8nvmtYgJmv3Xk53rmz5+vJk2aKCcnR2+99Za6dOmSdqUTJkyIhctmjK+//lrHHnts2mME4QI2Qve6NGeOdPLJ1nw5OdJPP0llyrhXAzMhgAACCCCAAAIIIIAAAggggIB9AuQq9llGdSQCZp92/p577tGf//xnNWvWTLNmzcq4ypYtW2r27Nm6++67df/992c8jp8vZCN0rzvmZX6XX27NZx6X8f337s3PTAgggAACCCCAAAIIIIAAAgggYK8AuYq9nlEcjYDZp13v2LGjPvzwQ913330yYXOmhwmpzfUdOnT45ZnMmY7l1+vYCN3rjHmZX+H/TmFe+DdxonvzMxMCCCCAAAIIIIAAAggggAACCNgrQK5ir2cURyNg9mnXq1evrjVr1mj8+PHqbFK8DI93331X5513no488kj98MMPGY7i78vYCN3rj3mZ3+uvW/Pdcov05JPuzc9MCCCAAAIIIIAAAggggAACCCBgrwC5ir2eURyNgNmnXS9VqpT27NkTe7mfeUxGpsecOXPUvHlzlSxZUjt27Mh0GF9fx0boXnvMy/zmzrXme+456brr3JufmRBAAAEEEEAAAQQQQAABBBBAwF4BchV7PaM4GgGzT7tesWJF/fTTT7HHZJx22mkZV/nJJ5+obdu2Kl++vDZv3pzxOH6+kI3Qne7k50vlykk7d1rzTZ0qtWvnzvzMggACCCCAAAIIIIAAAggggAAC9guQq9hvGrURCZh92vEGDRro+++/14gRI3TFFVdkXOXIkSPVs2dP1atXT0uWLMl4HD9fyEboTnfMy/zq10+ea/VqKS/PnfmZBQEEEEAAAQQQQAABBBBAAAEE7BcgV7HfNGojEjD7tOMXXHCB3nnnHV155ZUaPnx4xlX26tVLL7/8srp166Zx48ZlPI6fL2QjdKc7774rnXuuNVelStKGDVJOjjvzMwsCCCCAAAIIIIAAAggggAACCNgvQK5iv2nURiRg9mnHn3nmGfXr1y/27OSFCxeqdu3aaVe6fPlyHXvssdq9e7f++te/6qabbkp7jCBcwEboTpf+9jfp97+35mrVSvrsM3fmZhYEEEAAAQQQQAABBBBAAAEEEHBGgFzFGdcojUrA7NNub9iwQfXr19fWrVvVqlUrTZ48WWXKlEm5WvNCv06dOumzzz5ThQoV9N1336lKlSopXx+kE9kI3elWv37S009bc/XsKb38sjtzMwsCCCCAAAIIIIAAAggggAACCDgjQK7ijGuURiVg9nG3H3roId19993KyclRkyZN9OKLL6pZs2ZFVjxnzhxdc801+vLLL2PX3n///bFxwnqwEbrT2c6dpffes+a67z5p4EB35mYWBBBAAAEEEEAAAQQQQAABBBBwRoBcxRnXKI1KwOzjbhcUFKhHjx6xZyeboNgcbdu2VdeuXXXyySfriCOOUNmyZbVt2zatXr1as2fP1vjx4/XRRx/FzjXXn3/++Ro7dqyPV5l9aWyE2RumMsLRR0vffWedOXKkdNllqVzJOQgggAACCCCAAAIIIIAAAggg4FcBchW/diY4dREw+7xXu3btUt++fX950V8iaD5U2SZYNod5wd+zzz6r0qVL+3yV2ZXHRpidXypX794tmY/Rvn3W2Z9/LjVvnsrVnIMAAggggAACCCCAAAIIIIAAAn4VIFfxa2eCUxcBc0B6Ze5i/vOf/6yZM2cWWXGLFi101113qXv37kWeG4YT2Aid7+KCBVKjRsnzbN4sVajg/NzMgAACCCCAAAIIIIAAAggggAACzgmQqzhnG5WRCZgD1un58+dr6tSpsecrr1u3LvYSwPLly6tq1ao66aST1L59ex1//PEBW1V25bIRZueXytVvvSVdcIF1Zl6etHp1KldyDgIIIIAAAggggAACCCCAAAII+FmAXMXP3QlGbQTMwegTVR5CgI3Q+Y/HE09It91mzdO2rfTzo76dn5wZEEAAAQQQQAABBBBAAAEEEEDAMQFyFcdoIzMwAXNkWh3ehbIROt/bG26QnnvOmqd3b+mFF5yflxkQQAABBBBAAAEEEEAAAQQQQMBZAXIVZ32jMDoBcxS6HPI1shE63+BOnaT//tea56GHpDvvdH5eZkAAAQQQQAABBBBAAAEEEEAAAWcFyFWc9Y3C6ATMPuzyjBkz1KpVK8cq2759u5YuXarGjRs7NoebA7MROq9dq5b0v/9Z84weLV10kfPzMgMCCCCAAAIIIIAAAggggAACCDgrQK7irG8URidg9mGXixUrps6dO2vw4MFq2bKlbRVu27ZNTz/9tJ544gndfPPNGjhwoG1jezkQG6Gz+tu3S2XLJs/x5ZfSiSc6Oy+jI4AAAggggAACCCCAAAIIIICA8wLkKs4bh30GAmYfdrhq1arasGGDcnJy1KZNG1155ZX6zW9+o8qVK2dU7bRp0/Tqq6/q9ddf16ZNm1RQUBALmm+88caMxvPbRWyEznZk7lzppJOS59i2TSpTxtl5GR0BBBBAAAEEEEAAAQQQQAABBJwXIFdx3jjsMxAw+7DDGzdu1KBBgzRs2DDt3r07FjSXKFFCHTp00Kmnnhq7q7lZs2bKy8tT8eLFk1awZcsWLVq0SDNnzpR51MYHH3wgs1GYwwTLxx9/vB577LHYHdJhOdgIne3kmDHSxRdbc9SsKa1Y4eycjI4AAggggAACCCCAAAIIIIAAAu4IkKu44xzmWQiYfdzdFStW6OGHH9aIESNkHm9hDhM2Fz7KlCkTu7N5x44dsbuT9+3bl/RzEyqb4+STT9btt9+u3/72t78aw8cEKZXGRpgSU8YnmRf63XWXdXnHjtIHH2Q8HBcigAACCCCAAAIIIIAAAggggICPBMhVfNSMgJZCwByAxm3evFmvvfZa7BEX06dP186dO1Oquk6dOurSpUvsERunnHJKStcE8SQ2Qme7ds010osvWnNcf700dKizczI6AggggAACCCCAAAIIIIAAAgi4I0Cu4o5zmGchYA5Yd80jM8zjLz755JPYoy/Wrl0be15zqVKlVK1atdhXkyZNdPrpp6umeZZBBA42QmebfPrp0rRp1hyPPy7dequzczI6AggggAACCCCAAAIIIIAAAgi4I0Cu4o5zmGchYA5zdyOyNjZCZxt9xBHSmjXWHG+9JXXr5uycjI4AAggggAACCCCAAAIIIIAAAu4IkKu44xzmWQiYw9zdiKyNjdC5Rm/eLFWqlDz+N99Ixx3n3JyMjAACCCCAAAIIIIAAAggggAAC7gmQq7hnHdaZCJjD2tkIrYuN0Llmf/651LKlNX5urrRjh3TYYc7NycgIIIAAAggggAACCCCAAAIIIOCeALmKe9ZhnYmAOaydjdC62Aida/aoUdLll1vj168vLVni3HyMjAACCCCAAAIIIIAAAggggAAC7gqQq7jrHcbZCJjD2NWIrYmN0LmG33+/NGiQNf4550jvvuvcfIyMAAIIIIAAAggggAACCCCAAALuCpCruOsdxtkImMPY1YitiY3QuYb37Cm9+qo1/s03S3/7m3PzMTICCCCAAAIIIIAAAggggAACCLgrQK7irncYZyNgDmNXI7YmNkLnGn7KKdKMGdb4f/2r1K+fc/MxMgIIIIAAAggggAACCCCAAAIIuCtAruKudxhnI2AOY1cjtiY2QmcaXlAgVakibdpkjT9xotS5szPzMSoCCCCAAAIIIIAAAggggAACCLgvQK7ivnnYZiRgDltHI7geNkJnmr5unVStWvLY334rHX20M/MxKgIIIIAAAggggAACCCCAAAIIuC9AruK+edhmJGAOW0cjuB42QmeaPn261KaNNXaJEtL27VLx4s7Mx6gIIIAAAggggAACCCCAAAIIIOC+ALmK++Zhm5GAOWwdjeB62Aidaforr0hXXmmN3bChtHChM3MxKgIIIIAAAggggAACCCCAAAIIeCNAruKNe5hmJWAOUzcjuhY2Qmcaf9990uDB1tjnnitNmODMXIyKAAIIIIAAAggggAACCCCAAALeCJCreOMeplkJmAPcze+++07Tp0/Xjz/+qO3bt6tv376qWrVqgFeUWelshJm5FXXVVVdJL79snXXzzdLf/lbUVfwcAQQQQAABBBBAAAEEEEAAAQSCJECuEqRu+bNWAmZ/9uWQVc2ZM0f9+/fXtGnTks6bN2+eGjdu/MufPfPMM7rvvvtUsWJFff311yphHqIbwoON0Jmmnnaa9Mkn1thPPSX17+/MXIyKAAIIIIAAAggggAACCCCAAALeCJCreOMeplkJmAPWzfHjx+viiy/W7t27VVBQ8Ev1OTk52j9g/umnn1S9evXY3c2jR4/WhRde6OpqBwwYoMcee+yXOf/73/+qQ4cOttfARmg7aWzAI4+UVq+2xn7rLalbN2fmYlQEEEAAAQQQQAABBBBAAAEEEPBGgFzFG/cwzUrAHKBumkdhNGzYUCY4Pv744/X444+rbdu2Kl++vA4UMJulXXnllRo5cqT69OmjYcOGubbaL7/8Ui1atNDevXsJmF1Tt2+ibdukcuWSx/vqK+n44+2bg5EQQAABBBBAAAEEEEAAAQQQQMB7AQJm73sQ9AoImAPUwTvuuCN2R3CdOnVkHpNRqVKlWPW5ubkHDZj/+c9/6tprr1WzZs00a9YsV1a7b98+nXrqqZo5c6by8vK0Zs2a2LzcwewKvy2TzJsnnXhi8lDbt0ulS9syPIMggAACCCCAAAIIIIAAAggggIBPBAiYfdKIAJdBwByg5jVt2jT2GIwhQ4boZvPGtZ+PQwXM5jnN7dq1U+XKlbV+/XpXVvuXv/xFt9xyi4477rjYYzkeeughAmZX5O2bZOxYqfATVWrUkFautG98RkIAAQQQQAABBBBAAAEEEEAAAX8IEDD7ow9BroKAOUDdMy/rM4/HmD59ulq1apVSwGweVWHuXjYv+Nu1a5fjq12xYkXsRYOmTnPH8pQpU2IvGjQHdzA7zm/bBE88Id12mzXc6adLH35o2/AMhAACCCCAAAIIIIAAAggggAACPhEgYPZJIwJcBgFzgJpXpkyZWEj8+eefx0LjxHGoO5inTp2qjh07xh6nsWHDBsdX261bN73zzjvq1auXhg8frsGDBxMwO65u/wQ33ij9/e/WuFdfLb34ov3zMCICCCCAAAIIIIAAAggggAACCHgrQMDsrX8YZidgDlAX69evr2XLlumNN95Qjx49UgqYH374Yd1111064YQTNHfuXEdX+/rrr+uSSy5RlSpVtGDBAlWrVo2A2VFx5wY/5xzp/fet8R94QLrnHufmY2QEEEAAAQQQQAABBBBAAAEEEPBGgIDZG/cwzUrAHKBuXnnllRo5cqQuv/xyvfzyy0UGzNu3b489rsI8tqJv3756+umnHVvtpk2b1KhRI/3444/6xz/+od/97nexubiD2TFyRwdu0EBassSaYuRI6bLLHJ2SwRFAAAEEEEAAAQQQQAABBBBAwAMBAmYP0EM2JQFzgBo6adIknX322TKPxJgwYULs1+Y40CMyzDOQL7300th5OTk5v3qsht3Lvu6662LBcps2bWReLGjmtCtgNhvdoY5Vq1b98kxqE6bXrFnT7uVFary9e6XSpSXzPXF8+ql0yimRYmCxCCCAAAIIIIAAAggggAACCERCgIA5Em12dJEEzI7y2j+4eTTG2LFjddhhh6lfv376zW9+o1NPPTUW6JrnLZuX+b3//vsaOnRo7G5ic1x11VV60cEH6JpAuV27dipWrJhmz56tJk2a/LJwO+5gToTVqWgSMKeidOhzvv9eql8/+Zy1a6WqVbMfmxEQQAABBBBAAAEEEEAAAQQQQMBfAgTM/upHEKshYA5Y18xjL7p27aopU6b8cpfwgZZQUFAQ++Mzzjgj9tK9kiVLOrLS3bt3q2nTpvrmm290++2369FHH02ah4DZEXZHB500STrrLGuKChWkTZukn29Kd3RuBkcAAQQQQAABBBBAAAEEEEAAAXcFCJjd9Q7jbATMAezqvn379NRTT+nJJ5+UeTzEgQ7zor3bbrtNAwYMiD1Cw6kjESDXrl1bX3/9tcqWLWt7wMwjMpzq3oHHfe456YYbrJ81aybNnu1uDcyGAAIIIIAAAggggAACCCCAAALuCBAwu+Mc5lkImAPc3b1792rGjBmx5yuvWbNG+fn5Ovzww9WsWTO1bdvWsbuWE2QLFizQSSedJHMX87hx43T++ef/StOOO5iLahEbYVFC6f18wADpscesay6+WHrjjfTG4GwEEEAAAQQQQAABBBBAAAEEEAiGALlKMPrk5yoJmP3cHZ/Xdv3112vYsGGqX7++HnzwwQNWO3r0aI0ZMyb2s3vvvVeNGzeO/bpbt26/uts50+WyEWYqd+DrLrpI+ve/rZ/dcYf08MP2zsFoCCCAAAIIIIAAAggggAACCCDgDwFyFX/0IchVEDAHuXse13711VfrpZdeyqiK77//XnXr1s3o2v0vYiO0hfGXQZo2lb780hpz2DDp2mvtnYPREEAAAQQQQAABBBBAAAEEEEDAHwLkKv7oQ5CrIGAOcvc8rp2A2eMGODC9eTdkxYrS1q3W4Oalf2ec4cBkDIkAAggggAACCCCAAAIIIIAAAp4LEDB73oLAF0DA7MMWfvjhh45U1a5dO0fGPdSgPIPZdfKsJly7VsrLSx7i++8lm242z6o2LkYAAQQQQAABBBBAAAEEEEAAAfsFCJjtN43aiATMPux4bm6ucnJybK3MjGdeCuj2QcDstnh28336qdS6tTVGiRLSjh1SsWLZjcvVCCCAAAIIIIAAAggggAACCCDgTwECZn/2JUhVETD7sFsmYLb7MAFzfn6+3cMWOR4Bc5FEvjrh1Velnj2tko45Rlq0yFclUgwCCCCAAAIIIIAAAggggAACCNgoQMBsI2ZEhyJg9mHjp06d6khV7du3d2TcQw1KwOw6eVYT3n+/NGiQNUTnztLEiVkNycUIIIAAAggggAACCCCAAAIIIOBjAQJmHzcnIKURMAekUUEtk4A5WJ3r1UsaMcKq+aabpKefDtYaqBYBBBBAAAEEEEAAAQQQQAABBFIXIGBO3YozDyxAwMwnI/ACbIT2tbBtW+njj63xnnxSuuUW+8ZnJAQQQAABBBBAAAEEEEAAAQQQ8JcAuYq/+hHEagiYg9g1ak4SYCO07wNRo4a0apU13rhx0vnn2zc+IyGAAAIIIIAAAggggAACCCCAgL8EyFX81Y8gVkPAHMSuUTMBswOfge3bpbJlkweeN0864QQHJmNIBBBAAAEEEEAAAQQQQAABBBDwhQABsy/aEOgiCJh92L77zZvWfj4GDhz4y68L/3kmZRceK5Pr/XoNG6E9nfnqK6lJk+Sxtm2TypSxZ3xGQQABBBBAAAEEEEAAAQQQQAAB/wmQq/ivJ0GriIDZhx3Lzc1VTk5OrLL8/PxfKiz855mUXXisTK736zVshPZ05q23pAsusMaqXl364Qd7xmYUBBBAAAEEEEAAAQQQQAABBBDwpwC5ij/7EqSqCJh92C0TJCeOffv2JQXM2ZRbeKxsxvHbtWyE9nRkyBCpf39rrDZtkl/4Z88sjIIAAggggAACCCCAAAIIIIAAAn4SIFfxUzeCWQsBczD7RtWFBNgI7fk43HKL9Je/WGNdcYX0yiv2jM0oCCCAAAIIIIAAAggggAACCCDgTwFyFX/2JUhVETAHqVvUekABNkJ7Phjdu0vjxllj3X239Kc/2TM2oyCAAAIIIIAAAggggAACCCCAgD8FyFX82ZcgVUXAHKRuUSsBs4OfgaZNpS+/tCZ4/nmpTx8HJ2RoBBBAAAEEEEAAAQQQQAABBBDwXICA2fMWBL4AAuYAtbBTp06xl/+98MILqlOnTkqV//DDD+rZs2fsusmTJ6d0TdBOYiPMvmMFBVKlStKWLdZYkyZJZ5yR/diMgAACCCCAAAIIIIAAAggggAAC/hUgV/Fvb4JSGQFzUDolybz8zwTF8+bNU+PGjVOqfMmSJTrmmGNi1+Xn56d0TdBOYiPMvmMbN0pVqiSPs2SJVL9+9mMzAgIIIIAAAggggAACCCCAAAII+FeAXMW/vQlKZQTMQekUAfNBO8VGmP2HePZsqXlza5zcXGnnTqlEiezHZgQEEEAAAQQQQAABBBBAAAEEEPCvALmKf3sTlMoImIPSqQwD5rlz56pp06YqXbq0tm3bFqDVpl4qG2HqVgc789//li66yPpp7drSsmXZj8sICCCAAAIIIIAAAggggAACCCDgbwFyFX/3JwjVETAHoUs/15jJIzIeeeQR/fGPf4w9JmPhwoUBWm3qpbIRpm51sDOfeEK67Tbrp+3aSVOnZj8uIyCAAAIIIIAAAggggAACCCCAgL8FyFX83Z8gVEfA7OMuXXPNNUnVDR8+PPYs5QsuuECVzBvZDnHs2rVL5vnLM2fOjJ3Vp08fDRs2zMerzbw0NsLM7RJX9usnPf20NU6vXtLw4dmPywgIIIAAAggggAACCCCAAAIIIOBvAXIVf/cnCNURMPu4S4k7lhMlFhQUxH5pQuZUjsT5VapUiQXN9erVS+WywJ3DRph9y7p2lcaPt8YZNEgaPDj7cRkBAQQQQAABBBBAAAEEEEAAAQT8LUCu4u/+BKE6AmYfd6lu3bpJYfKyZctiv69evbpKHOLta+acUqVKxc5r06aN+vbtqxo1avh4pdmVxkaYnZ+5+oQTpPnzrXHM3cvmLmYOBBBAAAEEEEAAAQQQQAABBBAItwC5Srj768bqCJjdULZpjkyewWzT1L4eho0wu/aYG+PLlZO2b7fGmTJFat8+u3G5GgEEEEAAAQQQQAABBBBAAAEE/C9AruL/Hvm9QgJmv3eoUH0dOnSI3cFsnsVcp06dAFXubKlshNn5rl0r5eUlj7FsmVS7dnbjcjUCCCCAAAIIIIAAAggggAACCPhfgFzF/z3ye4UEzH7vkIP1LV26VOZFgia0njx5soMzOTs0G2F2vjNmSKecYo1RvLi0c6dUrFh243I1AggggAACCCCAAAIIIIAAAgj4X4Bcxf898nuFBMx+75CD9c2fP19NmjSJBcz5+fkOzuTs0GyE2fm+/rp0ySXWGPXrS0uWZDcmVyOAAAIIIIAAAggggAACCCCAQDAEyFWC0Sc/V0nA7OfuOFwbAbPDwAEZ/pFHpDvvtIrt1EkK8A3tAVGnTAQQQAABBBBAAAEEEEAAAQT8IUDA7I8+BLkKAuYgdy/L2gmYswQMyeV9+0pDh1qL6dNHev75kCyOZSCAAAIIIIAAAggggAACCCCAwCEFCJj5gGQrQMCcrWCArydgDnDzbCy9c2fpvfesAR94QLrnHhsnYCgEEEAAAQQQQAABBBBAAAEEEPCtAAGzb1sTmMIImAPTKvsLJWC23zSIIx53nLRwoVX5K69IV1wRxJVQMwIIIIAAAggggAACCCCAAAIIpCtAwJyuGOfvL0DAHOHPBAFzhJv/89L37ZPKlJF27bIspk2TTjsNGwQQQAABBBBAAAEEEEAAAQQQiIIAAXMUuuzsGgmYnfX19egEzL5ujyvFrVol1aiRPNXKlb/+M1eKYRIEEEAAAQQQQAABBBBAAAEEEHBdgIDZdfLQTUjAHLqWpr4gAubUrcJ65iefJN+tXLKktH27lJsb1hWzLgQQQAABBBBAAAEEEEAAAQQQKCxAwMznIVsBAuZsBQN8PQFzgJtnU+kjRyY/b7lhw+TnMds0DcMggAACCCCAAAIIIIAAAggggIBPBQiYfdqYAJVFwBygZtldKgGz3aLBG+/BB6V77rHqPvts6b33grcOKkYAAQQQQAABBBBAAAEEEEAAgcwECJgzc+MqS4CAOcKfBgLmCDf/56Vfe630/POWw/XXS0OH4oIAAggggAACCCCAAAIIIIAAAlERIGCOSqedWycBs3O2vh+ZgNn3LXK8wDPPlCZPtqZ56CHpzjsdn5YJEEAAAQQQQAABBBBAAAEEEEDAJwIEzD5pRIDLIGAOcPOyLZ2AOVvB4F/foIG0ZIm1jtdeky65JPjrYgUIIIAAAggggAACCCCAAAIIIJCaAAFzak6cdXABAuYIfzp++OEH3XXXXcrJydGLL74YWAk2wsxal58vlS4t7dljXf/pp9Ipp2Q2HlchgAACCCCAAAIIIIAAAggggEDwBMhVgtczv1VMwOy3jlBP2gJshGmTxS5YsUKqXTv52h9/lI5IsX+3AAAgAElEQVQ4IrPxuAoBBBBAAAEEEEAAAQQQQAABBIInQK4SvJ75rWICZr915BD1LF++3JFqa++fMjoyi3ODshFmZvvhh1L79ta15m7mbduknJzMxuMqBBBAAAEEEEAAAQQQQAABBBAIngC5SvB65reKCZj91pFD1FOsWDHbqzWPx9i7d6/t47o5IBthZtojRki9elnXNmokff11ZmNxFQIIIIAAAggggAACCCCAAAIIBFOAXCWYffNT1QTMfupGEbXk5ubaXq0JmPPNw3gDfLARZta8P/1Juvde69rOnaWJEzMbi6sQQAABBBBAAAEEEEAAAQQQQCCYAuQqweybn6omYPZTN4qo5aWXXoqd8eyzz2rmzJkqUaKEzj77bLVq1UpHHHGECgoKtGbNmtjP3n//fe3Zs0ctW7ZU3759Dzlyr8K3sQbII1EqG2FmTbvuOukf/7CuNb9/7rnMxuIqBBBAAAEEEEAAAQQQQAABBBAIpgC5SjD75qeqCZj91I0Uavnd736nF198UWeddZb++c9/6qijjjrgVStXrtS1116r9957T9dcc43+UThJTGGeIJ3CRphZt845R3r/fevaBx+U7rors7G4CgEEEEAAAQQQQAABBBBAAAEEgilArhLMvvmpagJmP3WjiFpGjx6t3/72t7G7kj/55BMV9Uxm8+iL1q1ba9asWRo1alTs2jAebISZddU8c3nBAuval1+WevbMbCyuQgABBBBAAAEEEEAAAQQQQACBYAqQqwSzb36qmoDZT90oohZz1/IHH3ygkSNH6pJLLkmp8n/961+67LLL1KlTJ02aNCmla4J2Ehth+h0rKJDKlZO2b7eunTpVatcu/bG4AgEEEEAAAQQQQAABBBBAAAEEgitArhLc3vmlcgJmv3QihTrMc5bXrVunzz//XM2aNUvhCmnOnDlq3ry5qlWrptWrV6d0TdBOYiNMv2Pr1knVqiVft3SpVKdO+mNxBQIIIIAAAggggAACCCCAAAIIBFeAXCW4vfNL5QTMfulECnWUKVNGu3bt0oQJE3SOeYBuCod5BvO5556rUqVKaXvh21VTuDYop7ARpt+p2bOl5s2t63JzpZ07pRIl0h+LKxBAAAEEEEAAAQQQQAABBBBAILgC5CrB7Z1fKidg9ksnUqijUaNGWrRokS699FK9+uqrKVwhXXHFFbHnLzds2FALCj9wN6Wrg3ESG2H6fRo7VrrwQuu6WrWk5cvTH4crEEAAAQQQQAABBBBAAAEEEEAg2ALkKsHunx+qJ2D2QxdSrOHOO+/Uo48+qpycHD300EMaMGDAIa98/PHHY+eY8813c00YDzbC9Ls6ZIjUv7913WmnSdOmpT8OVyCAAAIIIIAAAggggAACCCCAQLAFyFWC3T8/VE/A7IcupFjDpk2b1Lhx41+epXziiSeqV69eatmypfLy8mJBsnnO8syZM/Xyyy/riy++UEFBgapXr6758+erUqVKKc4UrNPYCNPv1623Sk8+aV132WXSyJHpj8MVCCCAAAIIIIAAAggggAACCCAQbAFylWD3zw/VEzD7oQtp1PD111/Hnr+8cuXKWKB8qMOEyzVr1tS7774bC6bDerARpt/Z3/xGGj3auu7OO6WQ3uCePg5XIIAAAggggAACCCCAAAIIIBAhAXKVCDXboaUSMDsE6+SwW7Zs0X333afhw4dr48aNB5yqcuXK6t27twYOHKgKFSo4WY7nY7MRpt+CVq2kmTOt6559VurbN/1xuAIBBBBAAAEEEEAAAQQQQAABBIItQK4S7P75oXoCZj90IcMadu/erVmzZmnevHmxoNncsVylShU1adJEzZs312GHHZbhyMG6jI0w/X4deaS0erV13TvvSF26pD8OVyCAAAIIIIAAAggggAACCCCAQLAFyFWC3T8/VE/A7IcuUENWAmyE6fHt3CmVLp18zbx50gknpDcOZyOAAAIIIIAAAggggAACCCCAQPAFyFWC30OvV0DA7HUHmD9rATbC9AgXL5YaNky+ZvP/s3cn4H5N9/74PxFCI1pTpIjZbVFDes1TTUER/VGlaopZq9peaqihhtsaSrWolhramF01VJFrLDX8uaKJqdIiSk1NJMYSlPg/++vR7VSSc46zv8Ne6/V9Hk/rfPdea31en/1dJ3nbZ59XIhJ/kkrvkBxNgAABAgQIECBAgAABAgQyEZCrZNLoJpYpYG4irqFbI2Aj7J3zLbdEDB9envOpT0W8/HLvxnA0AQIECBAgQIAAAQIECBAgkIaAXCWNPrazCgFzO/XNXYmAjbB3jL/+dcTuu5fnrLhixAMP9G4MRxMgQIAAAQIECBAgQIAAAQJpCMhV0uhjO6sQMLdT39yVCNgIe8d49NERxxxTnjNiRMQ11/RuDEcTIECAAAECBAgQIECAAAECaQjIVdLoYzurEDC3U9/clQjYCHvHWNy9XNzF/MFr330jfv7z3o3haAIECBAgQIAAAQIECBAgQCANAblKGn1sZxUC5nbqm7sSARth7xiL5y8Xz2H+4PWjH0UcfHDvxnA0AQIECBAgQIAAAQIECBAgkIaAXCWNPrazCgFzO/XNXYmAjbB3jP/xHxGPP16ec8klEdtv37sxHE2AAAECBAgQIECAAAECBAikISBXSaOP7axCwNxOfXNXImAj7DnjtGkRAwdGvPVWec5dd0WstVbPx3AkAQIECBAgQIAAAQIECBAgkI6AXCWdXrarEgFzu+TNW5mAjbDnlBMnRnz6012Pf+aZiIUX7vkYjiRAgAABAgQIECBAgAABAgTSEZCrpNPLdlUiYG6XvHkrE7AR9pzy3nsjVl+9PH7WWSPefDOif/+ej+FIAgQIECBAgAABAgQIECBAIB0BuUo6vWxXJQLmdsmbtzIBG2HPKS+/PGLbbcvjF1884q9/7fn5jiRAgAABAgQIECBAgAABAgTSEpCrpNXPdlQjYG6HujkrFbAR9pzzJz+J+O53y+PXWy/ittt6fr4jCRAgQIAAAQIECBAgQIAAgbQE5Cpp9bMd1QiY26FuzkoFbIQ95/zOdyJOO608fuedI84/v+fnO5IAAQIECBAgQIAAAQIECBBIS0CuklY/21GNgLkd6uasVMBG2HPOrbeO+O1vy+MPPzzihz/s+fmOJECAAAECBAgQIECAAAECBNISkKuk1c92VCNgboe6OSsVsBH2nPM//zNi3Ljy+LPOithrr56f70gCBAgQIECAAAECBAgQIEAgLQG5Slr9bEc1AuZ2qJuzUgEbYc85558/YsqU8vjrr4/YdNOen+9IAgQIECBAgAABAgQIECBAIC0BuUpa/WxHNQLmdqibs1IBG2HPOF9/PWLQoK7HPvJIxLLL9ux8RxEgQIAAAQIECBAgQIAAAQLpCchV0utpqysSMLda3HyVC9gIe0Y6fnzEcst1PfYf/4iYc86ene8oAgQIECBAgAABAgQIECBAID0BuUp6PW11RQLmVoubr3IBG2HPSG+4IeKLXyyPnW++iMmTe3auowgQIECAAAECBAgQIECAAIE0BeQqafa1lVUJmFupba6mCNgIe8Z69tkRe+9dHvv5z0eMHduzcx1FgAABAgQIECBAgAABAgQIpCkgV0mzr62sSsDcSu0E53r11Vdj9OjRMWbMmLjvvvvi2WefjRdeeCGmTp0ac889dyy33HKx+eabxx577BHzFbfMNuFlI+wZ6lFHRfz3f5fHfulLEVdf3bNzHUWAAAECBAgQIECAAAECBAikKSBXSbOvraxKwNxK7QTnuvnmm2PjjTfutrL5558/Lrzwwth00027Pba3B9gIeya2xx4Rv/pVeew3vxlx+uk9O9dRBAgQIECAAAECBAgQIECAQJoCcpU0+9rKqgTMrdROcK4iYN59991jgw02iJVXXjkWWWSRWHDBBWPatGlRbFCXX355XHnllfHuu+/GgAEDGnc6r7jiipVK2Ah7xrnJJhE33VQee/zxEd/7Xs/OdRQBAgQIECBAgAABAgQIECCQpoBcJc2+trIqAXMrtROcqwiO+/fvP9PKfvvb38bWW2/dOObLX/5yXHHFFZVK2Ah7xrncchHjx5fHXnBBxE479excRxEgQIAAAQIECBAgQIAAAQJpCshV0uxrK6sSMLdSO+O5ll122fjzn/8cxaMyimc0V/myEfZM85OfjHjttfLY226LWG+9np3rKAIECBAgQIAAAQIECBAgQCBNAblKmn1tZVUC5lZqZzzXKqusEn/84x9j0KBB8dqHU84KTGyE3SO+8krE3HN3Pe7xxyOWWqr7cx1BgAABAgQIECBAgAABAgQIpCsgV0m3t62qTMDcKumM5xk/fnyssMIKjecwF0Fz8RzmKl82wu41//SniOWX73rc1KkRc8zR/bmOIECAAAECBAgQIECAAAECBNIVkKuk29tWVSZgbpV0ZvO88cYb8eyzz8Y111wTJ554YkycOLEhcMEFF8ROFT/410bY/cV1ww0RX/xiedzgwRGTJnV/niMIECBAgAABAgQIECBAgACBtAXkKmn3txXVCZhboZzJHKNGjYrddttthtUeeOCBjbC5X79+vRIpNrqZvZ5//vlYbbXVGoc8/fTTMXTo0F6Nn8PB55wTsddeZaWf/3zE2LE5VK5GAgQIECBAgAABAgQIECBAYGYCAmbXR18FBMx9FXT+vwRmFDAPGzYszjzzzFh99dU/llZvAmkB8/SJjz464phjyve23DLid7/7WO1wEgECBAgQIECAAAECBAgQIJCQgIA5oWa2qRQBc5vgU5z25Zdfjg/uNp46dWpMmDAhLrvssrjqqqtiqaWWilNOOSVGjBjR69IFzL0m+8gJe+4Zce655Zf33Tfi5z/v+7hGIECAAAECBAgQIECAAAECBOotIGCud/86YfUC5k7oQuJrKJ67PHLkyMajMc4999zYdddde1WxR2T0imu6BxfPXy6ew/zB67jjIg49tO/jGoEAAQIECBAgQIAAAQIECBCot4CAud7964TVC5g7oQsZrOGrX/1q427mOeecs/Gc5Hnmmaeyqm2E3VN+7nMRjzxSHnf++RE779z9eY4gQIAAAQIECBAgQIAAAQIE0haQq6Td31ZUJ2BuhbI54uKLL44dd9yxIXHRRRfFDjvsUJmKjbB7yk99KuLVV8vjbr01Yv31uz/PEQQIECBAgAABAgQIECBAgEDaAnKVtPvbiuoEzK1QNkfcdNNNsckmmzQkjjvuuDi0wucz2AhnfoEVwXIRMH/49dhjEUsv7cIkQIAAAQIECBAgQIAAAQIEcheQq+R+BfS9fgFz3w2N0AOBUaNGxW677dY48rTTTotvfetbPTirZ4fYCGfuVDwao3hExodfb7wR8YlP9MzXUQQIECBAgAABAgQIECBAgEC6AnKVdHvbqsoEzK2SznyeLbbYIkaPHt1QuPXWW2P9Cp/PYCOc+cV1440Rm25aHjP//BEvvJD5Bal8AgQIECBAgAABAgQIECBAoCEgV3Eh9FVAwNxXwczPL+5M3n777WOOOeaYocRPf/rTOOCAAxrvL7744vHYY4/FrLPOWpmcjXDmlL/6VcQee5THDBsWMW5cZfwGIkCAAAECBAgQIECAAAECBGosIFepcfM6ZOkC5g5pRF2XUQTGr732WmyzzTaxzjrrxFJLLRWDBg1qfO2hhx5q/EK/u+66q1HegAED4rrrrovhw4dXWq6NcOacxxwTcfTR5TEjRkRcc02lLTAYAQIECBAgQIAAAQIECBAgUFMBuUpNG9dByxYwd1Az6riUImB+6qmnul360KFD41e/+lVsvPHG3R7b2wNshDMX22uviHPOKY/5xjcifvGL3io7ngABAgQIECBAgAABAgQIEEhRQK6SYldbW5OAubXeyc02YcKEuPnmmxvPVR4/fnxMnDgxpkyZ0nhkxpAhQ2LYsGExYsSI2G677WLgwIFNqd9GOHPWzTaLuP768phjj4047LCmtMKgBAgQIECAAAECBAgQIECAQM0E5Co1a1gHLlfA3IFNsaTeCdgIZ+61/PIRf/pTecx550XsskvvjB1NgAABAgQIECBAgAABAgQIpCkgV0mzr62sSsDcSm1zNUXARjhz1rnnjnjllfKY3/8+YoMNmtIKgxIgQIAAAQIECBAgQIAAAQI1E5Cr1KxhHbhcAXMHNsWSeidgI5yx12uvRXzyk13ff/TRiP/4j94ZO5oAAQIECBAgQIAAAQIECBBIU0CukmZfW1mVgLmV2uZqioCNcMas48dHLLdc1/dffz2iSY/Dbkp/DUqAAAECBAgQIECAAAECBAg0T0Cu0jzbXEYWMOfS6YTrtBHOuLk33RSxySbl+/PNFzF5csIXg9IIECBAgAABAgQIECBAgACBXgnIVXrF5eDpCAiYXRa1F7ARzriFv/51xO67l++vtFLE/ffXvuUKIECAAAECBAgQIECAAAECBCoSkKtUBJnxMALmjJufSuk2whl38gc/iDjyyPL9LbaIuPbaVDqvDgIECBAgQIAAAQIECBAgQKCvAnKVvgo6X8DsGqi9gI1wxi3ce++Is88u3//61yPOOKP2LVcAAQIECBAgQIAAAQIECBAgUJGAXKUiyIyHETBn3PxUSrcRzriTm28e8b//W77/wx9GHH54Kp1XBwECBAgQIECAAAECBAgQINBXAblKXwWdL2B2DdRewEY44xauuGLEQw+V748aFTFyZO1brgACBAgQIECAAAECBAgQIECgIgG5SkWQGQ8jYM64+amUbiOccSfnmSfi5ZfL92+5JWLDDVPpvDoIECBAgAABAgQIECBAgACBvgrIVfoq6HwBs2ug9gI2wum38B//iJhrrq7v/eUvEZ/5TO1brgACBAgQIECAAAECBAgQIECgIgG5SkWQGQ8jYM64+amUbiOcfieLMHmZZbq+9/rrEQMHptJ5dRAgQIAAAQIECBAgQIAAAQJ9FZCr9FXQ+QJm10DtBWyE02/hzTdHbLxx+d6880ZMmVL7diuAAAECBAgQIECAAAECBAgQqFBArlIhZqZDCZgzbXxKZdsIp9/N4hf67bZb+V7xC/8eeCClzquFAAECBAgQIECAAAECBAgQ6KuAXKWvgs4XMLsGai9gI5x+C489NuKII8r3NtssYvTo2rdbAQQIECBAgAABAgQIECBAgECFAnKVCjEzHUrAnGnjUyrbRjj9bu67b8QZZ5Tv7blnxNlnp9R5tRAgQIAAAQIECBAgQIAAAQJ9FZCr9FXQ+QJm10DtBWyE02/hVltFXH11+d5RR0UcfXTt260AAgQIECBAgAABAgQIECBAoEIBuUqFmJkOJWDOtPEplW0jnH43V1stYsyY8r1f/jJi771T6rxaCBAgQIAAAQIECBAgQIAAgb4KyFX6Kuh8AbNroPYCNsLpt3DhhSOee65879prI7bYovbtVgABAgQIECBAgAABAgQIECBQoYBcpULMTIcSMGfa+JTKthF+tJvvvhsxYEDEtGnle2PHRnz+8yl1Xi0ECBAgQIAAAQIECBAgQIBAXwXkKn0VdL6A2TVQewEb4UdbWNy5XNzB/OHXxIkRCyxQ+3YrgAABAgQIECBAgAABAgQIEKhQQK5SIWamQwmYM218SmXbCD/azfvui1h11fLrs80W8eabEbPMklLn1UKAAAECBAgQIECAAAECBAj0VUCu0ldB5wuYXQO1F7ARfrSFV18dsdVW5dcXXTTiqadq32oFECBAgAABAgQIECBAgAABAhULyFUqBs1wOAFzhk1PrWQb4Uc7esYZEfvuW359jTUi7r47tc6rhwABAgQIECBAgAABAgQIEOirgFylr4LOFzC7BmovYCP8aAuPOCLi2GPLr2+zTcTll9e+1QogQIAAAQIECBAgQIAAAQIEKhaQq1QMmuFwAuYMm55ayTbCj3Z0990jfv3r8uvf+lbEaael1nn1ECBAgAABAgQIECBAgAABAn0VkKv0VdD5AmbXQO0FbIQfbeGmm0bceGP59eOPj/je92rfagUQIECAAAECBAgQIECAAAECFQvIVSoGzXA4AXOGTU+tZBvhRzu6wgoRDz9cfv388yN23jm1zquHAAECBAgQIECAAAECBAgQ6KuAXKWvgs4XMLsGai9gI/xoC+edN+Kll8qv33xzxEYb1b7VCiBAgAABAgQIECBAgAABAgQqFpCrVAya4XAC5gybnlrJNsKuHZ06NWLgwK5fGz8+YpllUuu8eggQIECAAAECBAgQIECAAIG+CshV+irofAGza6D2AjbCri2cMCFi6aW7fu2VVyI++cnat1oBBAgQIECAAAECBAgQIECAQMUCcpWKQTMcTsCcYdNTK9lG2LWjd9wR8YUvlF8bNCjitddS67p6CBAgQIAAAQIECBAgQIAAgSoE5CpVKOY9hoA57/4nUb2NsGsbL7004mtfK7/2mc9E/OUvSbRaEQQIECBAgAABAgQIECBAgEDFAnKVikEzHE7AnGHTUyvZRti1oz/5ScR3v1t+bYMNIn7/+9S6rh4CBAgQIECAAAECBAgQIECgCgG5ShWKeY8hYM67/0lUbyPs2sYiXC5C5g9eO+4YceGFSbRaEQQIECBAgAABAgQIECBAgEDFAnKVikEzHE7AnGHTUyvZRti1o8XjMYrHZHzwOvjgiB/9KLWuq4cAAQIECBAgQIAAAQIECBCoQkCuUoVi3mMImPPufxLV2wi7trH4BX/FL/r74HXKKRHf+U4SrVYEAQIECBAgQIAAAQIECBAgULGAXKVi0AyHEzBn2PTUSrYRdu3o0ktHTJhQfu03v4n4yldS67p6CBAgQIAAAQIECBAgQIAAgSoE5CpVKOY9hoA57/4nUb2NsGzje+9FDBwY8eab5dfuuitirbWSaLUiCBAgQIAAAQIECBAgQIAAgYoF5CoVg2Y4nIA5w6anVrKNsOzoSy9FzDtv1w4/+WTEYoul1nX1ECBAgAABAgQIECBAgAABAlUIyFWqUMx7DAFz3v1PonobYdnGhx+OWGGFrm19662IAQOSaLUiCBAgQIAAAQIECBAgQIAAgYoF5CoVg2Y4nIA5w6anVrKNsOzojTdGbLpp+e+DB0dMmpRax9VDgAABAgQIECBAgAABAgQIVCUgV6lKMt9xBMz59j6Zym2EZStHjYrYbbfy31daKeL++5NptUIIECBAgAABAgQIECBAgACBigXkKhWDZjicgDnDpqdWso2w7Oixx0YccUT575ttFjF6dGodVw8BAgQIECBAgAABAgQIECBQlYBcpSrJfMcRMOfb+2QqtxGWrfzmNyN+8Yvy3/fcM+Lss5NptUIIECBAgAABAgQIECBAgACBigXkKhWDZjicgDnDpqdWso2w7OhWW0VcfXX570ceGXHMMal1XD0ECBAgQIAAAQIECBAgQIBAVQJylaok8x1HwJxv75Op3EZYtnK11SLGjCn//Ze/jNh772RarRACBAgQIECAAAECBAgQIECgYgG5SsWgGQ4nYM6w6amVbCMsO7rwwhHPPVf++zXXRIwYkVrH1UOAAAECBAgQIECAAAECBAhUJSBXqUoy33EEzPn2PpnKbYTvt/LddyMGDIiYNq1s7dixEZ//fDKtVggBAgQIECBAgAABAgQIECBQsYBcpWLQDIcTMGfY9NRKthG+39HizuXiDuYPv/7+94ghQ1LruHoIECBAgAABAgQIECBAgACBqgTkKlVJ5juOgDnf3idTuY3w/Vbed1/EqquWbZ111oi33oqYZZZkWq0QAgQIECBAgAABAgQIECBAoGIBuUrFoBkOJ2DOsOmplWwjfL+jV18dsdVWZXcXWSTib39LrdvqIUCAAAECBAgQIECAAAECBKoUkKtUqZnnWALmPPueVNU2wvfbecYZEfvuW7Z2jTUi7r47qVYrhgABAgQIECBAgAABAgQIEKhYQK5SMWiGwwmYM2x6aiXbCN/v6Pe/H/HDH5bd3XrriCuvTK3b6iFAgAABAgQIECBAgAABAgSqFJCrVKmZ51gC5jz7nlTVNsL327nnnhHnnlu29pvfjDj99KRarRgCBAgQIECAAAECBAgQIECgYgG5SsWgGQ4nYM6w6amVbCN8v6MjRkRcd13Z3R/8IOKII1LrtnoIECBAgAABAgQIECBAgACBKgXkKlVq5jmWgDnPvidVtY3w/XauvHLE2LFla885J2KPPZJqtWIIECBAgAABAgQIECBAgACBigXkKhWDZjicgDnDpqdWso3w/Y4utFDE88+X3S3uZt5889S6rR4CBAgQIECAAAECBAgQIECgSgG5SpWaeY4lYM6z70lVbSOMePfdiAEDIqZNK1v7xz9G/Od/JtVqxRAgQIAAAQIECBAgQIAAAQIVC8hVKgbNcDgBc4ZNT61kG2HExIkRn/50184+91zEggum1m31ECBAgAABAgQIECBAgAABAlUKyFWq1MxzLAFznn1PqmobYcT990d8/vNlW2eZJeLttyP690+q1YohQIAAAQIECBAgQIAAAQIEKhaQq1QMmuFwAuYMm55ayTbCiP/9367PWy7uZv7w85hT67l6CBAgQIAAAQIECBAgQIAAgWoE5CrVOOY8ioA55+4nUruNMOLXv47YffeyocOGRYwbl0iDlUGAAAECBAgQIECAAAECBAg0TUCu0jTabAYWMGfT6nQLtRFGHHdcxOGHlz3ebLOI0aPT7bnKCBAgQIAAAQIECBAgQIAAgWoE5CrVOOY8ioA55+4nUruNMOJb34o4/fSyocXdzOeem0iDlUGAAAECBAgQIECAAAECBAg0TUCu0jTabAYWMGfT6nQLtRFGfOUrEVdcUfb4sMMijj023Z6rjAABAgQIECBAgAABAgQIEKhGQK5SjWPOowiYc+5+IrXbCCPWWSfirrvKhv7sZxH77ZdIg5VBgAABAgQIECBAgAABAgQINE1ArtI02mwGFjBn0+p0C3/XyMoAACAASURBVLURRiy1VMQTT5Q9vvzyiG22SbfnKiNAgAABAgQIECBAgAABAgSqEZCrVOOY8ygC5py7n0jtuW+E770XMeecEVOnlg0t7mZea61EGqwMAgQIECBAgAABAgQIECBAoGkCuecqTYPNaGABc0bNTrXU3DfCV16JmHvurt2dMCFiySVT7bi6CBAgQIAAAQIECBAgQIAAgaoEcs9VqnLMeRwBc87dT6T23DfCv/wlYpllujbzjTciPvGJRBqsDAIECBAgQIAAAQIECBAgQKBpArnnKk2DzWhgAXNGzW5WqWPHjo3rr78+7rjjjnj44Ydj0qRJMdtss8VCCy0Ua621Vuyxxx6x7rrrNmv6yH0jvO22iA02KHk/9amIl19uGreBCRAgQIAAAQIECBAgQIAAgYQEcs9VEmpl20oRMLeNPo2J11tvvbj99tu7LWbnnXeOc845JwYMGNDtsb09IPeN8JJLInbYoVQr7mYeP763io4nQIAAAQIECBAgQIAAAQIEchTIPVfJsedV1yxgrlo0s/GWXnrpmDBhQuNu5W233bZxp/Kiiy4a7777btx9991x8sknx7PPPttQ+drXvhYXX3xx5UK5b4Q//WnEAQeUrOuvH3HrrZUzG5AAAQIECBAgQIAAAQIECBBIUCD3XCXBlra8JAFzy8nTmnDEiBGxyy67xDbbbBP9+/f/SHGTJ0+OtddeOx599NHGe8XdzlU/LiP3jfDggyNOOqmk/9rXIpqQ46d14aqGAAECBAgQIECAAAECBAgQaAjknqu4DPouIGDuu6ERuhG49tprY8stt2wc9e1vfztOPfXUSs1y3wh33jniwgtL0uJu5pNPrpTYYAQIECBAgAABAgQIECBAgECiArnnKom2taVlCZhbyp3nZP/4xz9irrnmahS/xRZbRBE4V/nKfSMcPjzilltK0RNPjDjooCqFjUWAAAECBAgQIECAAAECBAikKpB7rpJqX1tZl4C5ldqZzvXiiy/GfPPN16i+uJP5d7/7XaUSuW+Eyy8f8ac/laQXXBCx006VEhuMAAECBAgQIECAAAECBAgQSFQg91wl0ba2tCwBc0u585zsqquuii9/+cuN4g866KA4sbjFtsJX7hthkd2/+GIJevPNERttVCGwoQgQIECAAAECBAgQIECAAIFkBXLPVZJtbAsLEzC3EDvHqaZNmxZrrrlm3HvvvY3yx4wZE6usskqvKIqNbmav559/PlZbbbXGIU8//XQMHTq0V+PX+eC33oqYY46uFRR3My+3XJ2rsnYCBAgQIECAAAECBAgQIECgVQIC5lZJpzuPgDnd3nZEZSeffHIceOCBjbVsvfXWceWVV/Z6Xf369evxObkFzE89FbH44l15pkyJmHfeHpM5kAABAgQIECBAgAABAgQIEMhYQMCccfMrKl3AXBGkYT4q8Ic//CGGDx8e77zzTiywwALx4IMPxpAhQ3pNJWCeMdn//V/EGmuU788+e8TUqRG9yOR73Q8nECBAgAABAgQIECBAgAABAukICJjT6WW7KhEwt0s+8Xn/9Kc/xbrrrhsvvfRSzD777HHDDTfEeuut97Gq9oiMGbP99rfFneHl+4stFvHkkx+L2UkECBAgQIAAAQIECBAgQIBAhgIC5gybXnHJAuaKQQ0X8de//jXWWWedeO6556J///7xm9/8pvF4jGa9ct4IzzgjYt99S9nVV4+4555mSRuXAAECBAgQIECAAAECBAgQSE0g51wltV62qx4Bc7vkE523CJWLO5efeOKJKB5tMWrUqNhll12aWm3OG+FRR0X893+XvFttFXHVVU3lNjgBAgQIECBAgAABAgQIECCQkEDOuUpCbWxrKQLmtvKnNfnkyZMbj8F45JFHGoWdfvrp8c1vfrPpRea8Ee69d8TZZ5fE3/hGxC9+0XRyExAgQIAAAQIECBAgQIAAAQKJCOScqyTSwraXIWBuewvSWMArr7wSG264YYwdO7ZR0AknnBCHHHJIS4rLeSPccsuIa68tmYu7mb///Zawm4QAAQIECBAgQIAAAQIECBBIQCDnXCWB9nVECQLmjmhDvRfxxhtvxCabbBJ33XVXo5DDDz88fvjDH7asqJw3wlVWifjjH0vqs86K2GuvltGbiAABAgQIECBAgAABAgQIEKi5QM65Ss1b1zHLFzB3TCvquZC33347ttxyy7jxxhsbBXznO9+JU045paXF5LwRDh0a8eyzJfc110SMGNFSfpMRIECAAAECBAgQIECAAAECNRbIOVepcds6aukC5o5qR/0Ws80228SVV17ZWHjxiIwiXC5+ud+MXgMGDIjPfOYzlRaa60Y4bVrE7LNHvPNOyXnffRErr1wpr8EIECBAgAABAgQIECBAgACBhAVyzVUSbmnLSxMwt5w8rQlnFiZPr9LFFlssnnzyyUoRct0IJ02KGDKkK2VxN/NCC1XKazACBAgQIECAAAECBAgQIEAgYYFcc5WEW9ry0gTMLSdPa0IBc/v6+cADEcOGlfMXN46//XbErLO2b01mJkCAAAECBAgQIECAAAECBOolIGCuV786cbUC5k7sijX1SiDXjfCGGyK++MWSaoEFIiZO7BWdgwkQIECAAAECBAgQIECAAIHMBXLNVTJve6XlC5gr5TRYOwRy3QhHjYrYbbdSfKWVIu6/vx0dMCcBAgQIECBAgAABAgQIECBQV4Fcc5W69qsT1y1g7sSuWFOvBHLdCI8/PuKww0qqTTeNuP76XtE5mAABAgQIECBAgAABAgQIEMhcINdcJfO2V1q+gLlSToO1QyDXjfC//ivi1FNL8ZEjI4q7mr0IECBAgAABAgQIECBAgAABAj0VyDVX6amP47oXEDB3b+SIDhfIdSPcfvuI//mfsjmHHBJxwgkd3izLI0CAAAECBAgQIECAAAECBDpKINdcpaOaUPPFCJhr3kDLj8h1I9xgg4jbbiuvgJ/8JGL//V0RBAgQIECAAAECBAgQIECAAIGeC+Saq/RcyJHdCQiYuxPyfscL5LoRLrdcxPjxZXsuuihihx06vl0WSIAAAQIECBAgQIAAAQIECHSQQK65Sge1oPZLETDXvoUKyHUjnG++iBdfLPt/880RG23keiBAgAABAgQIECBAgAABAgQI9Fwg11yl50KO7E5AwNydkPc7XiDHjfCf/4wYMKBrax56KGL55Tu+XRZIgAABAgQIECBAgAABAgQIdJBAjrlKB/EnsRQBcxJtzLuIHDfCZ5+NGDq0a98nTYoYPDjva0H1BAgQIECAAAECBAgQIECAQO8EcsxVeifk6O4EBMzdCXm/4wVy3AjHjo1YeeWyNf37R7z9dsQss3R8uyyQAAECBAgQIECAAAECBAgQ6CCBHHOVDuJPYikC5iTamHcROW6Eo0dHbLFF2fcFF4x47rm8rwPVEyBAgAABAgQIECBAgAABAr0XyDFX6b2SM2YmIGB2fdReIMeN8Ne/jth997J1w4ZFjBtX+1YqgAABAgQIECBAgAABAgQIEGixQI65SouJk59OwJx8i9MvMMeN8IQTIg49tOztpptGXH99+r1WIQECBAgQIECAAAECBAgQIFCtQI65SrWCRhMwuwZqL5DjRrj//hGnnFK2bpddIs47r/atVAABAgQIECBAgAABAgQIECDQYoEcc5UWEyc/nYA5+RanX2COG+EOO0RccknZ24MOijjxxPR7rUICBAgQIECAAAECBAgQIECgWoEcc5VqBY0mYHYN1F4gx41wo40ifv/7snU//nHEd79b+1YqgAABAgQIECBAgAABAgQIEGixQI65SouJk59OwJx8i9MvMMeN8HOfi3jkkbK3F14YseOO6fdahQQIECBAgAABAgQIECBAgEC1AjnmKtUKGk3A7BqovUCOG+H880dMmVK27qabIoYPr30rFUCAAAECBAgQIECAAAECBAi0WCDHXKXFxMlPJ2BOvsXpF5jbRvjPf0YMGNC1rw8+GLHCCun3WoUECBAgQIAAAQIECBAgQIBAtQK55SrV6hmtEBAwuw5qL5DbRvjccxELL9y1bRMnRiywQO1bqQACBAgQIECAAAECBAgQIECgxQK55Sot5s1iOgFzFm1Ou8jcNsJx4yL+8z/Lns4yS8Tbb0f07592n1VHgAABAgQIECBAgAABAgQIVC+QW65SvaARBcyugdoL5LYRXn99xGablW0bMiTi73+vfRsVQIAAAQIECBAgQIAAAQIECLRBILdcpQ3EyU8pYE6+xekXmNtGeN55EbvuWvZ1xRUjHngg/T6rkAABAgQIECBAgAABAgQIEKheILdcpXpBIwqYXQO1F8htI/zRjyK+972ybZtsEnHDDbVvowIIECBAgAABAgQIECBAgACBNgjklqu0gTj5KQXMybc4/QJz2wgPOCDipz8t+7rzzhHnn59+n1VIgAABAgQIECBAgAABAgQIVC+QW65SvaARBcyugdoL5LYR7rhjxMUXl2078MCIk06qfRsVQIAAAQIECBAgQIAAAQIECLRBILdcpQ3EyU8pYE6+xekXmNtGOHx4xC23lH0twuUiZPYiQIAAAQIECBAgQIAAAQIECPRWILdcpbc+ju9eQMDcvZEjOlwgt41whRUiHn64bErxeIziMRleBAgQIECAAAECBAgQIECAAIHeCuSWq/TWx/HdCwiYuzdyRIcL5LYRLrBAxAsvlE0pfsFf8Yv+vAgQIECAAAECBAgQIECAAAECvRXILVfprY/juxcQMHdv5IgOF8hpI3znnYgBAyLee69syv33R6y0Uoc3yfIIECBAgAABAgQIECBAgACBjhTIKVfpyAYksCgBcwJNzL2EnDbC55+PWGihrh3/+98jhgzJ/SpQPwECBAgQIECAAAECBAgQIPBxBHLKVT6Oj3O6FxAwd2/kiA4XyGkjLO5W/vzny4bMMkvE229H9O/f4U2yPAIECBAgQIAAAQIECBAgQKAjBXLKVTqyAQksSsCcQBNzLyGnjbB43vIXv1h2vHge88SJuV8B6idAgAABAgQIECBAgAABAgQ+rkBOucrHNXLezAUEzK6Q2gvktBGef37EyJFly1ZYIeLBB2vfQgUQIECAAAECBAgQIECAAAECbRLIKVdpE3Hy0wqYk29x+gXmtBGedFLEwQeXPR0+POKmm9LvsQoJECBAgAABAgQIECBAgACB5gjklKs0R9CoAmbXQO0FctoIDzww4uSTy5btuGPEhRfWvoUKIECAAAECBAgQIECAAAECBNokkFOu0ibi5KcVMCff4vQLzGkj3GmniIsuKnt6wAFdA+f0u61CAgQIECBAgAABAgQIECBAoEqBnHKVKt2MVQoImF0NtRfIaSPceOOIm28uW3biiREHHVT7FiqAAAECBAgQIECAAAECBAgQaJNATrlKm4iTn1bAnHyL0y8wp41wxRUjHnqo7Ol550Xsskv6PVYhAQIECBAgQIAAAQIECBAg0ByBnHKV5ggaVcDsGqi9QE4b4ZAhEZMmlS27/vqITTetfQsVQIAAAQIECBAgQIAAAQIECLRJIKdcpU3EyU8rYE6+xekXmMtG+O67EQMGREybVvZ03LiIYcPS77EKCRAgQIAAAQIECBAgQIAAgeYI5JKrNEfPqIWAgNl1UHuBXDbCiRMjPv3pru167rmIBResfQsVQIAAAQIECBAgQIAAAQIECLRJIJdcpU28WUwrYM6izWkXmctG+OCDESutVPayX7+It9+OmHXWtPurOgIECBAgQIAAAQIECBAgQKB5ArnkKs0TNLKA2TVQe4FcNsIbb+z6vOX554944YXat08BBAgQIECAAAECBAgQIECAQBsFcslV2kic/NQC5uRbnH6BuWyEF1wQscsuZT+XXz7ioYfS768KCRAgQIAAAQIECBAgQIAAgeYJ5JKrNE/QyAJm10DtBXLZCH/844iDDirbtdFGETffXPv2KYAAAQIECBAgQIAAAQIECBBoo0AuuUobiZOfWsCcfIvTLzCXjbAIl4uQ+YPXDjtEXHRR+v1VIQECBAgQIECAAAECBAgQINA8gVxyleYJGlnA7BqovUAuG+HIkRHnn1+267/+K+KnP619+xRAgAABAgQIECBAgAABAgQItFEgl1yljcTJTy1gTr7F6ReYy0a4+eYR//u/ZT+POy7i0EPT768KCRAgQIAAAQIECBAgQIAAgeYJ5JKrNE/QyAJm10DtBXLZCFdZJeKPfyzbdc45EXvsUfv2KYAAAQIECBAgQIAAAQIECBBoo0AuuUobiZOfWsCcfIvTLzCXjXCxxSL+9reyn1dfHfGlL6XfXxUSIECAAAECBAgQIECAAAECzRPIJVdpnqCRBcyugdoL5LARvvdexMCBEW++Wbbr7rsj1lij9u1TAAECBAgQIECAAAECBAgQINBGgRxylTbyZjG1gDmLNqddZA4b4WuvRXzyk137OGFCxJJLpt1b1REgQIAAAQIECBAgQIAAAQLNFcghV2muoNEFzK6B2gvksBE+8UTEUkt1bdWrr0bMNVft26cAAgQIECBAgAABAgQIECBAoI0COeQqbeTNYmoBcxZtTrvIHDbCe+6JWHPNso9zzBHxxhsR/fql3VvVESBAgAABAgQIECBAgAABAs0VyCFXaa6g0QXMroHaC+SwEf7udxH/7/+VrVp00Yinnqp96xRAgAABAgQIECBAgAABAgQItFkgh1ylzcTJTy9gTr7F6ReYw0Z47rkRe+5Z9nLllSPuuy/93qqQAAECBAgQIECAAAECBAgQaK5ADrlKcwWNLmB2DdReIIeN8PjjIw47rGzVZptFjB5d+9YpgAABAgQIECBAgAABAgQIEGizQA65SpuJk59ewJx8i9MvMIeNcP/9I045pezlyJERo0al31sVEiBAgAABAgQIECBAgAABAs0VyCFXaa6g0QXMroHaC+SwEe60U8RFF5WtOvDAiJNOqn3rFECAAAECBAgQIECAAAECBAi0WSCHXKXNxMlPL2BOvsXpF5jDRrjJJhE33VT28sQTIw46KP3eqpAAAQIECBAgQIAAAQIECBBorkAOuUpzBY0uYHYN1F4gh41w2LCIBx4oW/XrX0fsumvtW6cAAgQIECBAgAABAgQIECBAoM0COeQqbSZOfnoBc/ItTr/AHDbChReOeO65spfXXRex+ebp91aFBAgQIECAAAECBAgQIECAQHMFcshVmitodAGza6D2AqlvhO+9FzH77BH//GfZqjFjIlZZpfatUwABAgQIECBAgAABAgQIECDQZoHUc5U282YxvYA5izanXWTqG+HLL0fMM0/XHj75ZMRii6XdV9URIECAAAECBAgQIECAAAECzRdIPVdpvqAZBMyugdoLpL4RPvpoxGc/27VNr78eMXBg7VunAAIECBAgQIAAAQIECBAgQKDNAqnnKm3mzWJ6AXMWbU67yNQ3wjvvjFh33bKHgwZFvPZa2j1VHQECBAgQIECAAAECBAgQINAagdRzldYo5j2LgDnv/idRfeob4VVXRXz5y2Wrllgi4oknkmidIggQIECAAAECBAgQIECAAIE2C6Seq7SZN4vpBcxZtDntIlPfCH/5y4ivf73s4eqrR9xzT9o9VR0BAgQIECBAgAABAgQIECDQGoHUc5XWKOY9i4A57/4nUX3qG+EPfhBx5JFlq7bcMuJ3v0uidYogQIAAAQIECBAgQIAAAQIE2iyQeq7SZt4sphcwZ9Hm5hY5adKkuPfeexv/jBkzpvHPlClTGpOOHDkyRo0a1dQFpL4RfvvbET/7WUm4++4R557bVFKDEyBAgAABAgQIECBAgAABApkIpJ6rZNLGtpYpYG4rfxqT9+vXb4aFCJj73uPtt4/4n/8px/ne9yKOP77v4xqBAAECBAgQIECAAAECBAgQICBgdg30VUDA3FdB58eHA+ZFFlkkll122bjxxhsbMgLmvl8gG24Yceut5Tg/+UnE/vv3fVwjECBAgAABAgQIECBAgAABAgQEzK6BvgoImPsq6Pw46qijYtVVV238M2TIkHjyySdjiSWWEDBXdG2ssELEww+Xg11wQcROO1U0uGEIECBAgAABAgQIECBAgACBrAUEzFm3v5LiBcyVMBrkwwIC5mqvhyFDIiZNKse84YaITTapdg6jESBAgAABAgQIECBAgAABAnkKCJjz7HuVVQuYq9Q0VkNAwFzdhTBtWsRss0UU//vBa9y4iGHDqpvDSAQIECBAgAABAgQIECBAgEC+AgLmfHtfVeUC5qokjfMvAQFzdRfD5MkRgwd3He+ZZyIWXri6OYxEgAABAgQIECBAgAABAgQI5CsgYM6391VVLmCuStI4AuYmXAOPPBLxuc91HfittyIGDGjCZIYkQIAAAQIECBAgQIAAAQIEshMQMGfX8soLFjBXTmrAqu9gLja6mb2ef/75WG211RqHPP300zF06NBkmvCHP0Ssv35ZztxzR7z0UjLlKYQAAQIECBAgQIAAAQIECBBos4CAuc0NSGB6AXMCTey0EqoOmPv169fjElMLmH/zm4jttivL/4//iHj00R5zOJAAAQIECBAgQIAAAQIECBAgMFMBAbMLpK8CAua+Cjr/IwIC5uouip//PGK//crx1l474s47qxvfSAQIECBAgAABAgQIECBAgEDeAgLmvPtfRfUC5ioUjdFFoOqAOedHZBx9dMQxx5S8W28dceWVLjgCBAgQIECAAAECBAgQIECAQDUCAuZqHHMeRcCcc/ebVHvVAXN3y0x5I9x334gzzigF9t474pe/7E7E+wQIECBAgAABAgQIECBAgACBngmknKv0TMBRfRUQMPdV0PkfERAwV3dRfOUrEVdcUY53xBERP/hBdeMbiQABAgQIECBAgAABAgQIEMhbQMCcd/+rqF7AXIWiMboICJiruyDWWy/i9tvL8U49NeLb365ufCMRIECAAAECBAgQIECAAAECeQsImPPufxXVC5irUDSGgLlJ18Cyy0b8+c/l4JdcErH99k2azLAECBAgQIAAAQIECBAgQIBAdgIC5uxaXnnBAubKSQ3oDubqroH55ot48cVyvFtuidhww+rGNxIBAgQIECBAgAABAgQIECCQt4CAOe/+V1G9gLkKRWN0ERAwV3NBvPNOxGyzdR3rwQcjVlihmvGNQoAAAQIECBAgQIAAAQIECBAQMLsG+iogYO6roPPjzjvvjMcff/xfEpMnT46DDjqo8e9rr7127Lnnnl2Udt1110rVUt0I//73iAUX7EpVfG3IkEr5DEaAAAECBAgQIECAAAECBAhkLJBqrpJxS1teuoC55eTpTVgExuedd16PC3vvvfd6fGxPDkx1IyzuVl5ppVKgX7+It9+OmHXWnqg4hgABAgQIECBAgAABAgQIECDQvUCquUr3lTuiKgEBc1WSGY8jYG5O84vnLQ8fXo5dPI958uTmzGVUAgQIECBAgAABAgQIECBAIE8BAXOefa+yagFzlZrGaotAqhvhJZdE7LBDSbrsshGPPNIWYpMSIECAAAECBAgQIECAAAECiQqkmqsk2q6OLEvA3JFtsajeCKS6EZ52WsR3vlNKrLdexG239UbGsQQIECBAgAABAgQIECBAgACBmQukmqvoe+sEBMytszZTkwRS3QiPOCLi2GNLtK98JeI3v2kSomEJECBAgAABAgQIECBAgACBLAVSzVWybGabihYwtwnetNUJpLoR7rNPxFlnlU7f+EbEL35RnZuRCBAgQIAAAQIECBAgQIAAAQKp5io62zoBAXPrrM3UJIFUN8IvfzniqqtKtKOOijj66CYhGpYAAQIECBAgQIAAAQIECBDIUiDVXCXLZrapaAFzm+BNW51AqhvhF74QcccdpdPPfhax337VuRmJAAECBAgQIECAAAECBAgQIJBqrqKzrRMQMLfO2kxNEkh1I1xuuYjx40u0Sy6J2H77JiEalgABAgQIECBAgAABAgQIEMhSINVcJctmtqloAXOb4E1bnUCqG+HgwRGTJ5dON90UMXx4dW5GIkCAAAECBAgQIECAAAECBAikmqvobOsEBMytszZTkwRS3AjffTdiwICIadNKtPvvj1hppSYhGpYAAQIECBAgQIAAAQIECBDIUiDFXCXLRraxaAFzG/FNXY1AihvhlCkR88/f1eeZZyIWXrgaM6MQIECAAAECBAgQIECAAAECBAqBFHMVnW2tgIC5td5ma4JAihvhX/4SscwyXbGmTo2YY44mABqSAAECBAgQIECAAAECBAgQyFYgxVwl22a2qXABc5vgTVudQIob4Z13Rqy7bmk0aFDEa69VZ2YkAgQIECBAgAABAgQIECBAgEAhkGKuorOtFRAwt9bbbE0QSHEj/O1vI7beusRaYomIJ55oAp4hCRAgQIAAAQIECBAgQIAAgawFUsxVsm5oG4oXMLcB3ZTVCqS4EZ5zTsRee5VOq64ace+91boZjQABAgQIECBAgAABAgQIECCQYq6iq60VEDC31ttsTRBIcSM8/viIww4rsTbbLGL06CbgGZIAAQIECBAgQIAAAQIECBDIWiDFXCXrhraheAFzG9BNWa1Aihvhd78b8ZOflE477xxx/vnVuhmNAAECBAgQIECAAAECBAgQIJBirqKrrRUQMLfW22xNEEhxIxw5smugfMABESef3AQ8QxIgQIAAAQIECBAgQIAAAQJZC6SYq2Td0DYUL2BuA7opqxVIcSPcYouuj8Q47riIQw+t1s1oBAgQIECAAAECBAgQIECAAIEUcxVdba2AgLm13mZrgkCKG+Fqq0WMGVNinXVW11/61wRGQxIgQIAAAQIECBAgQIAAAQIZCqSYq2TYxraWLGBuK7/JqxBIcSNccsmIv/611LnqqoittqpCyxgECBAgQIAAAQIECBAgQIAAgVIgxVxFf1srIGBurbfZmiCQ4kb4yU9GvPZaiXXHHRHrAA3MawAAIABJREFUrNMEPEMSIECAAAECBAgQIECAAAECWQukmKtk3dA2FC9gbgO6KasVSG0jfOutiDnm6Go0fnzEMstU62Y0AgQIECBAgAABAgQIECBAgEBquYqOtl5AwNx6czNWLJDaRvjssxFDh3ZFeuGFiPnnrxjOcAQIECBAgAABAgQIECBAgED2AqnlKtk3tA0AAuY2oJuyWoHUNsIHHogYNqw0mmWWiLffjujfv1o3oxEgQIAAAQIECBAgQIAAAQIEUstVdLT1AgLm1pubsWKB1DbCW26JGD68RCruXC7uYPYiQIAAAQIECBAgQIAAAQIECFQtkFquUrWP8boXEDB3b+SIDhdIbSO89NKIr32tRC+evVw8g9mLAAECBAgQIECAAAECBAgQIFC1QGq5StU+xuteQMDcvZEjOlwgtY3w9NMjvvWtEn2ddSLuuKPDm2B5BAgQIECAAAECBAgQIECAQC0FUstVatmEmi9awFzzBlp+RGob4dFHRxxzTNnZrbeOuPJKnSZAgAABAgQIECBAgAABAgQIVC+QWq5SvZARuxMQMHcn5P2OF0htI9xvv4if/7xk32uviLPO6vg2WCABAgQIECBAgAABAgQIECBQQ4HUcpUatqD2SxYw176FCkhtI/zqVyMuu6zs66GHRhx3nD4TIECAAAECBAgQIECAAAECBKoXSC1XqV7IiN0JCJi7E/J+xwukthFutFHE739fsp98csQBB3R8GyyQAAECBAgQIECAAAECBAgQqKFAarlKDVtQ+yULmGvfQgWkthGutFLEgw+WfT3//Iidd9ZnAgQIECBAgAABAgQIECBAgED1AqnlKtULGbE7AQFzd0Le73iB1DbChRaKeP75kn306IjNNuv4NlggAQIECBAgQIAAAQIECBAgUEOB1HKVGrag9ksWMNe+hQpIaSN8772I2WeP+Oc/y77ee2/EqqvqMwECBAgQIECAAAECBAgQIECgeoGUcpXqdYzYEwEBc0+UHNPRAilthK++GvGpT3XlfuKJiCWW6OgWWBwBAgQIECBAgAABAgQIECBQU4GUcpWatqD2yxYw176FCkhpIyzC5KWW6trT116LGDRInwkQIECAAAECBAgQIECAAAEC1QuklKtUr2PEnggImHui5JiOFkhpI/y//4tYY42Su3hcxtSpEf36dXQLLI4AAQIECBAgQIAAAQIECBCoqUBKuUpNW1D7ZQuYa99CBaS0EV53XcSIEWVPF1444pln9JgAAQIECBAgQIAAAQIECBAg0ByBlHKV5ggZtTsBAXN3Qt7veIGUNsLzzovYddeSfNiwiHHjOr4FFkiAAAECBAgQIECAAAECBAjUVCClXKWmLaj9sgXMtW+hAlLaCE8+OeLAA8ueDh8ecdNNekyAAAECBAgQIECAAAECBAgQaI5ASrlKc4SM2p2AgLk7Ie93vEBKG+H3vhfxox+V5NtvH3HJJR3fAgskQIAAAQIECBAgQIAAAQIEaiqQUq5S0xbUftkC5tq3UAEpbYR77hlx7rllT/fbL+JnP9NjAgQIECBAgAABAgQIECBAgEBzBFLKVZojZNTuBATM3Ql5v+MFUtoIt9oq4uqrS/Jjjok48siOb4EFEiBAgAABAgQIECBAgAABAjUVSClXqWkLar9sAXPtW6iAlDbCtdeO+P/+v7KnP/95xL776jEBAgQIECBAgAABAgQIECBAoDkCKeUqzREyancCAubuhLzf8QIpbYSf/WzEo4+W5P/zPxHbbdfxLbBAAgQIECBAgAABAgQIECBAoKYCKeUqNW1B7ZctYK59CxWQ0kY433wRL75Y9vSWWyI23FCPCRAgQIAAAQIECBAgQIAAAQLNEUgpV2mOkFG7ExAwdyfk/Y4XSGUjfOediAEDIt57ryR/8MGIFVbo+BZYIAECBAgQIECAAAECBAgQIFBTgVRylZryJ7FsAXMSbcy7iFQ2wkmTIoYM6drL556LWHDBvPuregIECBAgQIAAAQIECBAgQKB5AqnkKs0TMnJ3AgLm7oS83/ECqWyEjzwS8bnPdeV+663372r2IkCAAAECBAgQIECAAAECBAg0QyCVXKUZNsbsmYCAuWdOjupggVQ2wttvj1hvvRL6k5+MeOWVDoa3NAIECBAgQIAAAQIECBAgQKD2AqnkKrVvRI0LEDDXuHmW/r5AKhvhFVdEfOUrZVeXWiri8cd1mQABAgQIECBAgAABAgQIECDQPIFUcpXmCRm5OwEBc3dC3u94gVQ2wl/+MuLrXy+5V1894p57Op7fAgkQIECAAAECBAgQIECAAIEaC6SSq9S4BbVfuoC59i1UQCob4bHHRhxxRNnPLbaIuPZa/SVAgAABAgQIECBAgAABAgQINE8glVyleUJG7k5AwNydkPc7XiCVjXD//SNOOaXkHjkyYtSojue3QAIECBAgQIAAAQIECBAgQKDGAqnkKjVuQe2XLmCufQsVkMpGuNNOERddVPbzwAMjTjpJfwkQIECAAAECBAgQIECAAAECzRNIJVdpnpCRuxMQMHcn5P2OF0hlI/ziFyNuuKHkPuGEiEMO6Xh+CyRAgAABAgQIECBAgAABAgRqLJBKrlLjFtR+6QLm2rdQAalshKeeGjFuXMTkye//893vRmy7rf4SIECAAAECBAgQIECAAAECBJonkEqu0jwhI3cnIGDuTsj7HS9gI+z4FlkgAQIECBAgQIAAAQIECBAg0KECcpUObUyNliVgrlGzLHX6AjZCVwYBAgQIECBAgAABAgQIECBA4OMJyFU+npuzSgEBs6uh9gI2wtq3UAEECBAgQIAAAQIECBAgQIBAmwTkKm2CT2haAXNCzcy1FBthrp1XNwECBAgQIECAAAECBAgQINBXAblKXwWdL2B2DdRewEZY+xYqgAABAgQIECBAgAABAgQIEGiTgFylTfAJTStgTqiZuZZiI8y18+omQIAAAQIECBAgQIAAAQIE+iogV+mroPMFzK6B2gvYCGvfQgUQIECAAAECBAgQIECAAAECbRKQq7QJPqFpBcwJNTPXUmyEuXZe3QQIECBAgAABAgQIECBAgEBfBeQqfRV0voDZNVB7ARth7VuoAAIECBAgQIAAAQIECBAgQKBNAnKVNsEnNK2AOaFm5lqKjTDXzqubAAECBAgQIECAAAECBAgQ6KuAXKWvgs4XMLsGai9gI6x9CxVAgAABAgQIECBAgAABAgQItElArtIm+ISmFTAn1MxcS7ER5tp5dRMgQIAAAQIECBAgQIAAAQJ9FZCr9FXQ+QJm10DtBWyEtW+hAggQIECAAAECBAgQIECAAIE2CchV2gSf0LQC5oSamWspNsJcO69uAgQIECBAgAABAgQIECBAoK8CcpW+CjpfwOwaqFTgb3/7W5x22mlx3XXXRfH/Z5999lh66aVju+22i3333TcGDhxY6XzFYDbCykkNSIAAAQIECBAgQIAAAQIECGQiIFfJpNFNLFPA3ETc3IYuQuUdd9wxXnnllemW/tnPfjZGjx4dSy65ZKU0NsJKOQ1GgAABAgQIECBAgAABAgQIZCQgV8mo2U0qVcDcJNjchn3ggQdirbXWijfeeCMGDRoUhx56aGywwQYxderUuPTSS+Pss89ukCyzzDIxZsyYxjFVvWyEVUkahwABAgQIECBAgAABAgQIEMhNQK6SW8err1fAXL1pliMWYfJtt90Ws846a9x+++2x5pprdnE46aST4uCDD2587ZhjjokjjzyyMicbYWWUBiJAgAABAgQIECBAgAABAgQyE5CrZNbwJpQrYG4Cam5DFnckr7baao2y99lnnzjzzDM/QjBt2rRYfvnlY/z48THPPPPExIkTY7bZZquEykZYCaNBCBAgQIAAAQIECBAgQIAAgQwF5CoZNr3ikgXMFYPmONzhhx8exx13XKP0e+65J1ZfffXpMpxwwgmNR2cUrxtvvDE23njjSrhshJUwGoQAAQIECBAgQIAAAQIECBDIUECukmHTKy5ZwFwxaI7DfeELX4g77rgj5pxzznj55Zcbj8mY3uvuu+9uPKe5eBWPyCgelVHFy0ZYhaIxCBAgQIAAAQIECBAgQIAAgRwF5Co5dr3amgXM1XpmOdrgwYNj8uTJsdJKK8X9998/Q4OXXnop5p133sb72267bVx22WWVeNkIK2E0CAECBAgQIECAAAECBAgQIJChgFwlw6ZXXLKAuWLQ3IZ788034xOf+ESj7C222CKuvfbamRIMGjQoXn/99VhjjTWiuKO5J69io5vZ6/nnn//XM6CffvrpGDp0aE+GdQwBAgQIECBAgAABAgQIECBAIHsBAXP2l0CfAQTMfSbMe4AXXnghFlhggQbCV7/61bj00ktnCjJkyJCYNGlS4xf+PfTQQz3C69evX4+OKw4SMPeYyoEECBAgQIAAAQIECBAgQIAAgRAwuwj6KiBg7qtg5ucXge6iiy7aUNh5553j/PPPn6lIcWxxzlJLLRWPP/54j/QEzD1ichABAgQIECBAgAABAgQIECBAoNcCAuZekznh3wQEzC6JPgm04g5mj8joU4ucTIAAAQIECBAgQIAAAQIECBCYoYCA2cXRVwEBc18FMz+/Fc9g7o7YRtidkPcJECBAgAABAgQIECBAgAABAtMXkKu4MvoqIGDuq6DzY/DgwTF58uRYaaWV4v7775+hyEsvvRTzzjtv4/1tt902Lrvsskr0bISVMBqEAAECBAgQIECAAAECBAgQyFBArpJh0ysuWcBcMWiOw33hC1+IO+64I+acc854+eWXY9ZZZ50uw9133x1rrbVW470jjzwyjjnmmEq4bISVMBqEAAECBAgQIECAAAECBAgQyFBArpJh0ysuWcBcMWiOwx122GFx/PHHN0q/5557YvXVV58uwwknnBCHHnpo470bbrghNtlkk0q4bISVMBqEAAECBAgQIECAAAECBAgQyFBArpJh0ysuWcBcMWiOw917773/CpX32WefOPPMMz/CMG3atFh++eVj/PjxMffcc8ekSZNittlmq4TrySefjCWWWKIxVrGWBRdcsJJxDUKAAAECBAgQIECAAAECBAgQSF3g+eefj9VWW61R5l//+tdYfPHFUy9ZfRULCJgrBs11uA8ek1E8HuP222+PNddcswvFSSedFAcffHDja0cddVQcffTRlVGNGTPmXxthZYMaiAABAgQIECBAgAABAgQIECCQmUBx496qq66aWdXK7auAgLmvgs5vCIwbNy7WXnvtmDp1agwaNCiKx2ZssMEGjX+/9NJL46yzzmoc95nPfCbuu+++mGuuuSqTEzBXRmkgAgQIECBAgAABAgQIECBAIGMBAXPGze9D6QLmPuA5tavANddcEzvttFO8+uqr06UpwuXrrrsull566Urp3nzzzXjooYcaYw4ePHiGv2Sw0kmbMNiHfyTFoz6aAGzIZAR8VpJppUKaKOBz0kRcQycj4HOSTCsV0kQBn5Mm4ho6GYEUPifvvPNOvPDCC42erLDCCjHHHHMk0x+FtEZAwNwa52xmeeqpp+LUU09tBMnFQ+IHDBjQCJS33Xbb2G+//WLgwIHZWPS2UA/V762Y43MV8FnJtfPq7o2Az0lvtBybq4DPSa6dV3dvBHxOeqPl2FwFfE5y7by6PywgYHY9EOgQAd+UOqQRltHxAj4rHd8iC+wAAZ+TDmiCJXS8gM9Jx7fIAjtAwOekA5pgCR0v4HPS8S2ywBYICJhbgGwKAj0R8E2pJ0qOIRCNn45YZJFFGhRPP/10DB06FAsBAv8m4HPikiDQvYDPSfdGjiDgc+IaINC9gM9J90aOSF9AwJx+j1VYEwHflGrSKMtsu4DPSttbYAE1EPA5qUGTLLHtAj4nbW+BBdRAwOekBk2yxLYL+Jy0vQUW0AECAuYOaIIlECgEfFNyHRDomYDPSs+cHJW3gM9J3v1Xfc8EfE565uSovAV8TvLuv+p7JuBz0jMnR6UtIGBOu7+qq5GAb0o1apaltlXAZ6Wt/CaviYDPSU0aZZltFfA5aSu/yWsi4HNSk0ZZZlsFfE7aym/yDhEQMHdIIyyDgG9KrgECPRPwWemZk6PyFvA5ybv/qu+ZgM9Jz5wclbeAz0ne/Vd9zwR8Tnrm5Ki0BQTMafdXdTUS8E2pRs2y1LYK+Ky0ld/kNRHwOalJoyyzrQI+J23lN3lNBHxOatIoy2yrgM9JW/lN3iECAuYOaYRlECBAgAABAgQIECBAgAABAgQIECBAoG4CAua6dcx6CRAgQIAAAQIECBAgQIAAAQIECBAg0CECAuYOaYRlECBAgAABAgQIECBAgAABAgQIECBAoG4CAua6dcx6CRAgQIAAAQIECBAgQIAAAQIECBAg0CECAuYOaYRlECBAgAABAgQIECBAgAABAgQIECBAoG4CAua6dcx6CRAgQIAAAQIECBAgQIAAAQIECBAg0CECAuYOaYRlECBAgAABAgQIECBAgAABAgQIECBAoG4CAua6dcx6CRAgQIAAAQIECBAgQIAAAQIECBAg0CECAuYOaYRlECBAgAABAgQIECBAgAABAgQIECBAoG4CAua6dcx6CRAgQIAAAQIECBAgQIAAAQIECBAg0CECAuYOaYRl5C3wt7/9LU477bS47rrrovj/s88+eyy99NKx3Xbbxb777hsDBw7MG0j1WQtMmjQp7r333sY/Y8aMafwzZcqUhsnIkSNj1KhRWfsonkAhMHbs2Lj++uvjjjvuiIcffjiKz81ss80WCy20UKy11lqxxx57xLrrrguLQLYCr776aowePbrxPeS+++6LZ599Nl544YWYOnVqzD333LHccsvF5ptv3viszDfffNk6KZzAzAQOPvjgOOmkk/51yK233hrrr78+NAJZCvTr169Hda+33npx22239ehYBxGos4CAuc7ds/YkBIpQeccdd4xXXnlluvV89rOfbfyFaMkll0yiXkUQ6K3AzP7wJmDurabjUxQo/uJy++23d1vazjvvHOecc04MGDCg22MdQCA1gZtvvjk23njjbsuaf/7548ILL4xNN92022MdQCAngQceeCBWWWWVeOeddwTMOTVerTMUEDC7OAh0FRAwuyIItFGg+INacWfZG2+8EYMGDYpDDz00Nthgg8bdNJdeemmcffbZjdUts8wyjTtuimO8COQm8OE/vC2yyCKx7LLLxo033thgEDDndjWod3oCxU+8TJgwoXG38rbbbtu4U3nRRReNd999N+6+++44+eSTG3drFq+vfe1rcfHFF4MkkJ1AETDvvvvujT9nrbzyylF8P1lwwQVj2rRp8cwzz8Tll18eV155ZeNzU/xHmOLPXSuuuGJ2TgomMD2B4nOyxhprND4XCyywQOOnZIqXO5hdLzkLfPB3lG984xuNnzqe0WvOOeeMJZZYImcqtWciIGDOpNHK7EyB4i85xY/LzDrrrI27z9Zcc80uCy1+BK34UbTidcwxx8SRRx7ZmYVYFYEmChx11FGx6qqrNv4ZMmRIPPnkk//6Q5qAuYnwhq6NwIgRI2KXXXaJbbbZJvr37/+RdU+ePDnWXnvtePTRRxvvFd9vPC6jNu210IoEiuB4ep+PDw//29/+NrbeeuvGl7785S/HFVdcUdHshiFQb4FTTjkl9t9//8ZNL8Vn5Pjjj28UJGCud1+tvm8CHwTMxd9Vjj766L4N5mwCCQgImBNoohLqKVDcAbDaaqs1Fr/PPvvEmWee+ZFCirsFll9++Rg/fnzMM888MXHixMYzNb0I5CwgYM65+2r/uALXXnttbLnllo3Tv/3tb8epp576cYdyHoGkBYqfkvnzn/8cxaMyimc0exHIXeDpp59uPKP8H//4RyNQLm6OKW58ETDnfmWoX8DsGiDQVUDA7Iog0CaBww8/PI477rjG7Pfcc0+svvrq013JCSec0Hh0RvEqHgvQk+cHtqkk0xJoiYCAuSXMJklMoAgG5pprrkZVW2yxRRSBsxcBAh8VKJ4x+8c//rHxWLLXXnsNEYHsBYr/OFl8z/jgp8aKOzUFzNlfFgAiQsDsMiAgYHYNEOgIgS984Qtxxx13RPFMppdffrnxmIzpvYrnZxbPaS5exSMyPvgDXUcUYREE2iAgYG4DuilrL/Diiy/GfPPN16ijCAt+97vf1b4mBRCoWqD4ibEVVlih8RzmImguftrMi0DOApdddll89atfjXnnnbdxZ//gwYMbjwIQMOd8Vaj9AwEBs2uBgIDZNUCgIwSKP6AVz8VcaaWV4v7775/hml566aXGH+qKV/HLm4o/6HkRyFlAwJxz99X+cQWuuuqqxjNli9dBBx0UJ5544scdynkEkhIoftFy8Uswr7nmmsbnongcWfG64IILYqeddkqqVsUQ6I1AcQNM8ciYv//9741fPL7nnns2Thcw90bRsSkLfBAwF4+Qeeedd+Jvf/tb46axT3/6040bxHbdddfGL5b1IpCLgEdk5NJpdXaUwJtvvhmf+MQnGmvqyY8qFz+m+frrrzd+e3NxR7MXgZwFBMw5d1/tH0egeJ5/8Utk77333sbpxV2Zxd2ZXgRyFRg1alTstttuMyz/wAMPbITNH4QHuTqpO2+BvffeuxEsF0HZnXfe+a/Pg4A57+tC9aVAT75HbLXVVlF8z/nUpz6FjkDyAgLm5FuswE4UKH5pzAILLNBYWvFjZ5deeulMlzlkyJCYNGlS4xf+PfTQQ51YkjURaJmAgLll1CZKRODkk0+OIjArXltvvXVceeWViVSmDAIfT2BGAfOwYcMav3R5Rr8X4+PN5iwC9RMoAuXicX79+/ePsWPHNh4d88FLwFy/flpxcwSKR11+6Utfio022iiWWWaZxrP7i7/n/+EPf2h8L5kyZUpj4vXWWy9uuummmG222ZqzEKMS6BABAXOHNMIy8hIofhvzoosu2ih65513jvPPP3+mAMWxxTlLLbVUPP7443lhqZbAvwkImF0SBHouUPwlZ/jw4Y0f3Sz+w+aDDz4YxX+09CKQs0Dxo//PPPNMg2Dq1KkxYcKExiPIikfJFH/WOuWUU2LEiBE5E6k9Y4G33347iv/YUjyTfHqPVBIwZ3xxKL2LQPG9ZO65556uSvG4pc022yzGjRvXeP/UU0+Nb3/72wQJJC0gYE66vYrrVAF3MHdqZ6yrDgIC5jp0yRo7QeBPf/pTrLvuulE8y3/22WePG264oXEXjRcBAtMXKJ67PHLkyMajAM4999zG8zO9COQm8EGAXNzg8sgjjzR+IfmHXwLm3K4I9X5cgSeeeKLxHPPiP9osvfTS8dhjj33coZxHoBYCAuZatMkiUxPwDObUOqqeVgoImFupba66Cvz1r3+NddZZJ5577rnGjzj/5je/aTwew4sAgZkLFI8uK+5mLkK14qfH5plnHmQEshH485//3PgF5EUgdvXVVzd+/P/fXwLmbC4HhVYgUPw0zHXXXdcYqfiFsgsttFAFoxqCQGcKCJg7sy9WlYHA4MGDY/LkyY0/xN1///0zrLi482zeeedtvL/ttts2/tLjRSBnAQFzzt1Xe08EilC5uHO5uHOmuBOzeN7sLrvs0pNTHUMge4GLL744dtxxx4bDRRddFDvssEP2JgDyEdhnn33irLPOiiWXXDKOPfbY6RZ++eWXxxVXXNF47/vf/34st9xyjf+/5ZZbfuRu53zkVEpg+gIHH3xwnHTSSY03i1+2vOqqq6IikKyAgDnZ1iqs0wWKX5xxxx13NP4gVjy/adZZZ53uku++++7Gb28uXkceeWQcc8wxnV6a9RFoqoCAuam8Bq+5QPEfLovHYBQ/1ly8Tj/99PjmN79Z86osn0DrBIpfxLTJJps0JjzuuOPi0EMPbd3kZiLQZoHisTDnnXfex1pF8ZMziy+++Mc610kEUhUonmP+4x//uFGegDnVLqvrAwEBs2uBQJsEDjvssDj++OMbs99zzz0z/I3lJ5xwwr/+clM8P/ODv/S0admmJdB2AQFz21tgAR0q8Morr8SGG24YY8eObayw+P5xyCGHdOhqLYtAZwoUd/zvtttujcWddtpp8a1vfaszF2pVBJogIGBuAqohsxbYYostYvTo0Q2D4pfLLrzwwll7KD5tAQFz2v1VXQcLFP8Fc/XVV2+ssPhxtDPPPPMjq502bVosv/zyjd/iXPyG2kmTJsVss83WwVVZGoHmCwiYm29shvoJvPHGG43/AHnXXXc1Fn/44YfHD3/4w/oVYsUE2izw4TDg1ltvjfXXX7/NKzI9gc4S8AzmzuqH1XSuQPGosmWWWSb++c9/Nh47M2HChM5drJURqEBAwFwBoiEIfFyBDx6TUTwe4/bbb48111yzy1DF85qK5zYVr6OOOiqKP9B5EchdQMCc+xWg/n8XKH4ZU/HsyxtvvLHx1ne+85045ZRTQBEg8CGB4s7k7bffPuaYY44Zuvz0pz+NAw44oPF+8aP+jz322AwfYQaXQK4CAuZcO6/uDwtcc801sdlmm83we8TEiRMb748bN65x2sknn/yv7y8kCaQqIGBOtbPqqoVA8Q1n7bXXjqlTp8agQYOieGzGBhts0Pj3Sy+9tPFLNorXZz7zmbjvvvtirrnmqkVdFkmgSoE777wzHn/88X8NWTxjtnieWfEqPj977rlnl+mKH+/0IpCTwDbbbBNXXnllo+TiERlFuFz8cr8ZvQYMGND4vuJFICeBIjB+7bXXovi8rLPOOrHUUks1/uxVfO2hhx5q/EK/D34CoPiMXHfddTF8+PCciNRKoEcCAuYeMTkocYHie0pxZ3LxPaW4Saz490984hNR/D3ltttua/x08pQpUxoKxfecm2++OWafffbEVZSXu4CAOfcrQP1tFyj+6+dOO+0Ur7766nTXUoQAxV9yll566bav1QIItEOgt88DfO+999qxTHMSaJvAzMLk6S1qscUWi+InAbwI5CRQ/OUfeLeoAAAU1ElEQVT/qaee6rbkoUOHxq9+9avYeOONuz3WAQRyFBAw59h1Nf+7QE+/pxQB9DnnnNN43KUXgdQFBMypd1h9tRAo/sJz6qmnNoLk4uH/xZ0zRaC87bbbxn777RcDBw6sRR0WSaAZAgLmZqgaMyUBAXNK3VRLswSKZ18Wd5AVz1UufrdF8ePLxd1lxSMzhgwZEsOGDYsRI0bEdttt589dzWqCcZMQEDAn0UZF9FHgD3/4QxT/3H333VE8a7m4c7m4Yaz4yZhFFlkk1lprrRg5cuRHHoHZx2mdTqCjBQTMHd0eiyNAgAABAgQIECBAgAABAgQIECBAgEDnCgiYO7c3VkaAAAECBAgQIECAAAECBAgQIECAAIGOFhAwd3R7LI4AAQIECBAgQIAAAQIECBAgQIAAAQKdKyBg7tzeWBkBAgQIECBAgAABAgQIECBAgAABAgQ6WkDA3NHtsTgCBAgQIECAAAECBAgQIECAAAECBAh0roCAuXN7Y2UECBAgQIAAAQIECBAgQIAAAQIECBDoaAEBc0e3x+IIECBAgAABAgQIECBAgAABAgQIECDQuQIC5s7tjZURIECAAAECBAgQIECAAAECBAgQIECgowUEzB3dHosjQIAAAQIECBAgQIAAAQIECBAgQIBA5woImDu3N1ZGgAABAgQIECBAgAABAgQIECBAgACBjhYQMHd0eyyOAAECBAgQIECAAAECBAgQIECAAAECnSsgYO7c3lgZAQIECBAgQIAAAQIECBAgQIAAAQIEOlpAwNzR7bE4AgQIECBAgAABAgQIECBAgAABAgQIdK6AgLlze2NlBAgQIECAAAECBAgQIECAAAECBAgQ6GgBAXNHt8fiCBAgQIAAAQIECBAgQIAAAQIECBAg0LkCAubO7Y2VESBAgAABAgQIECBAgAABAgQIECBAoKMFBMwd3R6LI0CAAAECBAgQIECAAAECBAjkLTBp0qS49957G/+MGTOm8c+UKVMaKCNHjoxRo0YlAVRlnU899VScccYZcdNNN8WECRPi9ddfj7nmmiuWWWaZ2GyzzeLrX/96DB48OAk3RbRfQMDc/h5YAQECBAgQIECAAAECBAgQIECAwAwE+vXrN0OblALmquq8+OKLY6+99oo33nhjhm7zzTdfXHbZZbHhhhu67gj0WUDA3GdCAxAgQIAAAQIECBCYvsBjjz0Wyy+/fOPN4v8vuuiilVCdeOKJccghh8R66/3/7d15bBTlG8Dxh6NGKAboH2gRhCJXSdBYWoFALSgIchRFCIqKQrCEJiiCXGJAgiIggYAh3BDOSORQKBWKAhG0gohEgWDBAwyXIvWKUqXwy/Pkt00tu21ndto9+n0TUu3OOzPPZzbZnafvPE+a7Nu3z5N9shMEEEAAAQTCVaB44rVx48aSmJgoOTk5drrRmmB2G2dubq6kpqZKYWGhVK9e3Xz69esnDRs2lLNnz8rq1atl+/btZhcbGyvHjh2Tpk2bhuul57wiRIAEc4RcKE4TAQQQQAABBBBAIPIE0tPT7SZuxIgRsnjxYs8C0Mdc9Wbw8uXLsmnTJnn88cc92zc7QgABBBBAINwEpk6dKikpKfbv9ttvlx9++EESEhKiLsHsRZx9+/aVrKwss1m4cKFkZmbedDnHjh0rc+fOtd+PGjVKFixYEG6XnPOJMAESzBF2wThdBBBAAAEEEEAAAW8FtG7j0KFDbafff/+9Z6t4PvvsM+nYsaPExMTI6dOnPVu97It+xowZMnnyZFvFpauPdJUSAwEEEEAAgaogEK0J5pLXzk2ccXFxkp+fL1oCQ/8Q7W/89ttvUq9ePXupXbt2cvjw4arwtiHGChQgwVyBuOwaAQQQQAABBBBAIPwFKirB3Lt3b8nOzpbBgwfL+vXrPYfQm8M77rhDrl69ajUUBw4c6Pkx2CECCCCAAALhKOAm8eqL49q1a1YmYvPmzXL06FFrFqjN79q0aSP9+/e35ne33nprWITtJs46depYQ7/k5GRrhhhoaIM/TUBrKa+vv/46LOLlJCJXgARz5F47zhwBBBBAAAEEEEDAA4GKSDDn5eVZl/YbN25Yklm7tVfE0NIYW7ZskU6dOsmBAwcq4hDsEwEEEEAAgbATcJN41SC+/fZb0fJVJ06cCBhTixYtZMeOHaI/Qz3cxJmUlCRffvllqSuYf//9d6lbt66Fp0l1TbYzEAhGgARzMHrMRQABBBBAAAEEEIh4gYpIME+cOFFmzZolDRo0kHPnzknNmjUrxEmTy776yydPnpRWrVpVyHHYKQIIIIAAAuEk4CbxeuHCBbnvvvvk0qVLtmI5IyNDunXrZjWd9akgbRo4f/58+euvv6RZs2Zy5MiRoiRsqGJ3E+eSJUtsFbaORYsWFf138RjGjRsnc+bMsV/t2rVLHn744VCFyHGjRIAEc5RcSMJAAAEEEEAAAQQQcCawb98+6dq1a5mT9u7dK126dClzu+Ib6I2p1nN+/vnnZenSpaXO3bNnjyxbtky0ZvPFixelWrVqlpjW8hedO3eWXr16yYMPPuh3HwUFBVZDUctkTJs2TaZMmeLoPNkYAQQQQACBSBRwk3j1Nb9r3Lix6HcA/awuOXTlb2pqqpWYePXVV2X69Okh5XETZ2FhoTz77LNWnkv7MwwbNsxWbcfHx8vZs2dl3bp1snXrVotrwoQJMnPmzJDGyMGjQ4AEc3RcR6JAAAEEEEAAAQQQcChQUQnmM2fOFDUKXLFihd3YBRpjxoyRefPmlXrmpTXp0YnaSFCT05os12Q1AwEEEEAAgWgXcJp41Wa4bdu2NZb333/fEq6BhiZdZ8+eLQ0bNrSnkEI5nMZZ/Fy1P4MmjzVpXnLodwZ92oqVy6G8utF1bBLM0XU9iQYBBBBAAAEEEECgnAK6OklXGeuNpq5S0qGPieoNZfGRkJAgsbGx5dyr2MqgZ555xrb/6quvim5oS+4gKytLdDWVjnvuuUdGjhwpiYmJ9jiuPqqrJS92794tubm5pd7gvvjii7JgwQKpVauWzYuJiSn3ubIhAggggAACkSjgNPH6xhtv2Gd97dq1ResP16hRI2DYWn+5T58+9rqu+NUVz6EaTuP0nad+h9AEssaiTQ1LDm1iqCW23nrrLVvZzEAgWAESzMEKMh8BBBBAAAEEEEAgogW8rsGcmZlpNQ9vueUWq+MY6CZ2yJAhsnbtWmnSpInoyirt+u5vXLlyReLi4gIar1mzxh6F1XHo0CFJSUmJ6OvBySOAAAIIIFCWgNPE62OPPSbvvfdeWbu96fWSn6sffvihdO/e3fF+Sk7QP3A3bdq0zP04jVN3uH//fluh/euvv9p3jNdff93OWb9LaP3pbdu2WbI9Pz9fGjVqZLWn9Q/cDASCESDBHIwecxFAAAEEEEAAAQQiXsDrBLPe1G3fvt1WBJ0/fz6gjz6WqiuU9aZXm/W5HTt37pRHHnnEput+dH8MBBBAAAEEolnAaeK1U6dO8umnnzom0XJaaWlpRfPCPcGsvRnuvvtue/JJezloeQz9WXIcP35ckpOTrYeD/vz8888d2zABgeICJJh5PyCAAAIIIIAAAghUaQGvE8y+msht2rQRvYELNHTVsa4+1hrLBw8etBtCN0NXV7Vv396mauf4jIwMN7thDgIIIIAAAhEj4DTB3KFDB/us1bJXuoK3vKNkmSx9MknLZgQ79DO/PCWtnMapZb8effRROz0tC/LKK68EPFVtRLx8+XJ7/ejRo3LvvfcGGxbzq7AACeYqfPEJHQEEEEAAAQQQQEDE6wRzq1atJC8vT3S11IEDBwISf/TRR9KtWzd7XWsh9uvXT3r06GHd65s3b17uS3Pq1Clp2bKlbT9jxgyZNGlSueeyIQIIIIAAApEo4DTx2rt3b8nOzrYazNqvoGbNmhERttM4tamf73vABx98ID179gwY5+LFi63/g4533nlHBg0aFBEmnGR4CpBgDs/rwlkhgAACCCCAAAIIVJKA1wlmXQGkzf2SkpLkiy++KDWKhQsXyrhx4+Tvv//+z3Z33nmnNRjSG7+yVhTpsXzbzJs3T0aPHl1JchwGAQQQQACB0Ag4TbxqzWFd0aujZNmL0ERQvqM6jXPOnDn2vUKHluvyNSv0d7S3335bXnjhBXtp06ZN1vSPgYBbARLMbuWYhwACCCCAAAIIIBAVAl4nmHVVsq5O1uY92sSnrPHTTz/Jhg0brB7zJ598YiurfKNatWr2eKs26Ak09Ea5a9eu9vK6devkqaeeKuuQvI4AAggggEBECzhNvGqN4fvvv99i7tWrl+zYsSMi4nca5+bNm2XAgAEW2/jx42XWrFkB49TtdHsd+gdx/cM4AwG3AiSY3coxDwEEEEAAAQQQQCAqBLxOMD/55JP2qGndunWtg7uTcf36dauDqM36dHWzb752vtcSGv7G1q1bpX///vbSrl27RJsHMhBAAAEEEIhmAaeJV7XQMlQ5OTnGMmXKFJk2bVpAIt1/bm6u6Gd6KIfTOPV7gz4FpbWib7vtNvvDddu2bW8KQctn6Opm/d6h22td6erVq4cyVI4d4QIkmCP8AnL6CCCAAAIIIIAAAsEJrF69Wp577jnbia441pXHwQytgzx58mTbxaVLl6RBgwaudnfkyBFp166dzR08eLCsX7/e7350ddLEiRPttfPnz0t8fLyr4zEJAQQQQACBcBXQnganT58uOr3Lly8XlYLQngfDhw//z6n7PteL/1I/I5OTk+XChQv2a22QO2zYMEvAai+EX375xUpc7dy5U/bs2WPN8rR0RGUOL+KcPn26JdB11KlTR0aNGiXdu3eX+vXr2/cSbQS4bNkyuXbtmm2zdu1aefrppyszTI4VhQIkmKPwohISAggggAACCCCAQPkFNm7cKE888YRNOHnypGiTvmDG/v375YEHHrBdZGVliTYWcjvi4uIkPz/fViXr6mR/w/eIq3akL37z7faYzEMAAQQQQCDcBDRhrH8QLu+4ceOG303PnDkjAwcOFC2ZUdYYOnSorFy5sqzNPH3dizg19jFjxsj8+fMlkIOedExMjDUHfvnllz2NgZ1VTQESzFXzuhM1AggggAACCCCAwP8FPv74Y0lLS7P/05qMWpsxmFFQUGDlMfRnaY/gamI7PT1datWq5fdwhw8flpSUFHttxIgRot3e/Y277rpLfvzxR1uFvWrVqmBOnbkIIIAAAgiEpYAXiVdfYJp01VW8+jl88OBBW9X777//Sr169aRFixbSsWNH+3xOTU0V7YVQmcPLOLWu8vLly0VXRWtiXctm6Irm5s2b2/ce/W7RsmXLygyPY0WxAAnmKL64hIYAAggggAACCCBQtsAff/xhZSyuXr1qDW7efPNNK5Phq0WotQkDJYED7V1XLWdnZ4s+tqs3dv6GHkMb+mltZV3xrDd5sbGx9oiuztHu7leuXJEaNWrYDbCvXEbxfZ06daro5vDdd98tauxTdtRsgQACCCCAAAIIIICANwIkmL1xZC8IIIAAAggggAACESwwYcIEmT17tt8I9u7dK126dHEUnTb508ZAuvLpu+++81vXWRPMuqKotKE1IZcsWSJDhgzxu5k2KHrttddsxfTFixethiQDAQQQQAABBBBAAIHKFCDBXJnaHAsBBBBAAAEEEEAgLAX0cdkVK1bImjVr5Pjx47ayuLCw0M7VTYL5n3/+kSZNmljSV+sbTpo06aa4tWP77t277d+JEydsW623XLt2bXt89aGHHpKRI0dKQkJCQLPWrVvLN998Iy+99JLMnTs3LG05KQQQQAABBBBAAIHoFiDBHN3Xl+gQQAABBBBAAAEEQiQwc+ZMSyxrPUdtHugrueHV6WgZDa0PqU168vLy/K6S9upY7AcBBBBAAAEEEEAAgUACJJh5byCAAAIIIIAAAgggUAECf/75pzRr1kx+/vln2bBhg5XM8HL06NFDcnJyJCMjw8poMBBAAAEEEEAAAQQQCIUACeZQqHNMBBBAAAEEEEAAgSohsGjRIsnMzJTExEQ5duyYZ6uYDx06JO3bt7du8Lp6OT4+vkp4EiQCCCCAAAIIIIBA+AmQYA6/a8IZIYAAAggggAACCESJgNZx1uaBBQUFMnz4cGnUqJEnkWVnZ4smmZOSkiQ9Pd2TfbITBBBAAAEEEEAAAQTcCJBgdqPGHAQQQAABBBBAAAEEEEAAAQQQQAABBBBAAAEhwcybAAEEEEAAAQQQQAABBBBAAAEEEEAAAQQQQMCVAAlmV2xMQgABBBBAAAEEEEAAAQQQQAABBBBAAAEEECDBzHsAAQQQQAABBBBAAAEEEEAAAQQQQAABBBBAwJUACWZXbExCAAEEEEAAAQQQQAABBBBAAAEEEEAAAQQQIMHMewABBBBAAAEEEEAAAQQQQAABBBBAAAEEEEDAlQAJZldsTEIAAQQQQAABBBBAAAEEEEAAAQQQQAABBBAgwcx7AAEEEEAAAQQQQAABBBBAAAEEEEAAAQQQQMCVAAlmV2xMQgABBBBAAAEEEEAAAQQQQAABBBBAAAEEECDBzHsAAQQQQAABBBBAAAEEEEAAAQQQQAABBBBAwJUACWZXbExCAAEEEEAAAQQQQAABBBBAAAEEEEAAAQQQIMHMewABBBBAAAEEEEAAAQQQQAABBBBAAAEEEEDAlQAJZldsTEIAAQQQQAABBBBAAAEEEEAAAQQQQAABBBAgwcx7AAEEEEAAAQQQQAABBBBAAAEEEEAAAQQQQMCVAAlmV2xMQgABBBBAAAEEEEAAAQQQQAABBBBAAAEEECDBzHsAAQQQQAABBBBAAAEEEEAAAQQQQAABBBBAwJUACWZXbExCAAEEEEAAAQQQQAABBBBAAAEEEEAAAQQQIMHMewABBBBAAAEEEEAAAQQQQAABBBBAAAEEEEDAlQAJZldsTEIAAQQQQAABBBBAAAEEEEAAAQQQQAABBBAgwcx7AAEEEEAAAQQQQAABBBBAAAEEEEAAAQQQQMCVAAlmV2xMQgABBBBAAAEEEEAAAQQQQAABBBBAAAEEECDBzHsAAQQQQAABBBBAAAEEEEAAAQQQQAABBBBAwJUACWZXbExCAAEEEEAAAQQQQAABBBBAAAEEEEAAAQQQ+B8IvwWH4m6gJAAAAABJRU5ErkJggg==\" width=\"716\">"
      ],
      "text/plain": [
       "<IPython.core.display.HTML object>"
      ]
     },
     "metadata": {},
     "output_type": "display_data"
    }
   ],
   "source": [
    "%matplotlib notebook\n",
    "import matplotlib.pyplot as plt\n",
    "import pandas as pd\n",
    "\n",
    "df = pd.read_table('tilechargepy.txt')\n",
    "\n",
    "fig1 = plt.figure()\n",
    "plt.title('Charge on a single tile vs. time')\n",
    "plt.xlabel('t (s)')\n",
    "plt.ylabel('q_tile (C)')\n",
    "plt.plot(df['t (s)'],df['q (C)'],'b-')\n",
    "plt.show()"
   ]
  },
  {
   "cell_type": "markdown",
   "metadata": {
    "slideshow": {
     "slide_type": "subslide"
    }
   },
   "source": [
    "## Field Mill\n",
    "\n",
    "An electric field mill is an apparatus used to measure electric field strength. It can be used to predict lightning strikes. It can also be used aboard rockets to measure electric field between earth and storm clouds, for example.\n",
    "\n",
    "### Description\n",
    "\n",
    "Here is [a description of a field mill](http://www.missioninstruments.com/pages/learning/about_fm3.html). It says:\n",
    "\n",
    "> The process of exposing (charging) and shielding (discharging) the sensor plate from the electrical field is accomplished by means of a rotary shutter (see Figure 5. Rotary Shutter.), consisting of a motor-driven, mechanically complementary rotor/stator pair. As the motor rotates, the shutter alternately opens (see Figure 6.) to allow the external electric field to charge the sensor plate, and then closes (see Figure 7.) to shield the sensor plate to allow it to discharge, or reset, in preparation for the next measurement. The shutter rotates at a speed of 1650 revolutions per minute, and opens and closes four times per revolution thus producing 6,600 samples per minute.\n",
    "\n",
    "<img src=\"field-mill-02.jpg\" width=500 align=\"center\">\n",
    "\n",
    "<img src=\"field-mill-03.jpg\" width=500 align=\"center\">\n",
    "\n",
    "<img src=\"field-mill-01.jpg\" width=500 align=\"center\">\n",
    "\n",
    "\n",
    "## Do Conductors Block Electric Field?\n",
    "\n",
    "The above description and figures indicate that the rotating shutter altnerately blocks the electric field (when closed) and allows it to pass through when it is open.\n",
    "\n",
    "Is this a correct description?  Can a metal block electric field, meaning that the electric field is non-zero on one side of the metal and zero on the other side of the metal?\n",
    "\n",
    "Let's think iteratively to answer this question!\n"
   ]
  },
  {
   "cell_type": "markdown",
   "metadata": {
    "slideshow": {
     "slide_type": "subslide"
    }
   },
   "source": [
    "## How can a conductor block an electric field?\n",
    "\n",
    "Go to [this simulation](http://www.glowscript.org/#/user/matterandinteractions/folder/matterandinteractions/program/18-SurfaceCharge) by Bruce Sherwood. Select the option `\"Grounded\" metal object` from the menu."
   ]
  },
  {
   "cell_type": "markdown",
   "metadata": {
    "slideshow": {
     "slide_type": "slide"
    }
   },
   "source": [
    "# Calculating Surface Charge on the Polarized Block\n",
    "\n",
    "For the simulation of the polarized block, the block is covered in 16,000 tiles. (40 x 40 on the ends and 40 x 80 on the sides.)\n",
    "\n",
    "It takes **13 minutes (796 seconds)** for the block to reach equilibrium (500 iterations)."
   ]
  },
  {
   "cell_type": "markdown",
   "metadata": {
    "slideshow": {
     "slide_type": "subslide"
    }
   },
   "source": [
    "## Why Did It Take So Long?"
   ]
  },
  {
   "cell_type": "markdown",
   "metadata": {
    "slideshow": {
     "slide_type": "fragment"
    }
   },
   "source": [
    "**16,000 tiles**\n",
    "\n",
    "For each tile:"
   ]
  },
  {
   "cell_type": "markdown",
   "metadata": {
    "slideshow": {
     "slide_type": "subslide"
    }
   },
   "source": [
    "- compute the electric field due to the source and 15,999 other tiles\n",
    "\n",
    "$$\\vec{E}_{i,j}=\\frac{1}{4\\pi \\varepsilon_0}\\frac{q_iq_j}{|\\vec{r}|^2}\\hat{r} \\qquad \\vec{r}=\\vec{r}_i-\\vec{r}_j$$\n",
    "\n",
    "That's a total of 256,000,000 calculations.\n",
    "\n"
   ]
  },
  {
   "cell_type": "markdown",
   "metadata": {
    "slideshow": {
     "slide_type": "subslide"
    }
   },
   "source": [
    "- calculate the change in charge due to current in a small time step $\\Delta t$\n",
    "\n",
    "$$\\Delta q_i = \\sigma A E_{net,\\perp}\\Delta t$$\n",
    "\n",
    "That's 16,000 more calculations."
   ]
  },
  {
   "cell_type": "markdown",
   "metadata": {
    "slideshow": {
     "slide_type": "subslide"
    }
   },
   "source": [
    "- find the new charge on each tile\n",
    "\n",
    "$$q_i=q_i+\\Delta q_i$$\n",
    "\n",
    "That's 16,000 more calculations..."
   ]
  },
  {
   "cell_type": "markdown",
   "metadata": {
    "slideshow": {
     "slide_type": "subslide"
    }
   },
   "source": [
    "...for a total of **256,032,000** calculations..."
   ]
  },
  {
   "cell_type": "markdown",
   "metadata": {
    "slideshow": {
     "slide_type": "subslide"
    }
   },
   "source": [
    "...for **500 iterations** of this process to reach equilibrium..."
   ]
  },
  {
   "cell_type": "markdown",
   "metadata": {
    "slideshow": {
     "slide_type": "fragment"
    }
   },
   "source": [
    "That's **128,016,000,000** calculations, and that's why it took so long."
   ]
  },
  {
   "cell_type": "markdown",
   "metadata": {
    "slideshow": {
     "slide_type": "slide"
    }
   },
   "source": [
    "## What Can We Do About It?"
   ]
  },
  {
   "cell_type": "code",
   "execution_count": 9,
   "metadata": {
    "slideshow": {
     "slide_type": "subslide"
    }
   },
   "outputs": [
    {
     "data": {
      "image/jpeg": "[encoded data removed]",
      "text/html": [
       "\n",
       "        <iframe\n",
       "            width=\"400\"\n",
       "            height=\"300\"\n",
       "            src=\"https://www.youtube.com/embed/-P28LKWTzrI\"\n",
       "            frameborder=\"0\"\n",
       "            allowfullscreen\n",
       "        ></iframe>\n",
       "        "
      ],
      "text/plain": [
       "<IPython.lib.display.YouTubeVideo at 0x11e4164e0>"
      ]
     },
     "execution_count": 9,
     "metadata": {},
     "output_type": "execute_result"
    }
   ],
   "source": [
    "from IPython.display import YouTubeVideo\n",
    "YouTubeVideo('-P28LKWTzrI')"
   ]
  },
  {
   "cell_type": "markdown",
   "metadata": {
    "slideshow": {
     "slide_type": "slide"
    }
   },
   "source": [
    "## CUDA\n",
    "\n",
    "<img src=\"nvidia.jpg\" width=600 align=\"center\">"
   ]
  },
  {
   "cell_type": "markdown",
   "metadata": {
    "collapsed": true,
    "slideshow": {
     "slide_type": "subslide"
    }
   },
   "source": [
    "<img src=\"ProgramRunTime.jpg\" width=800 align=\"center\">"
   ]
  },
  {
   "cell_type": "markdown",
   "metadata": {
    "slideshow": {
     "slide_type": "subslide"
    }
   },
   "source": [
    "**Python** - 796 s\n",
    "\n",
    "**Cuda** - 8.8 s\n",
    "\n",
    "**Acceleration = 90 x**"
   ]
  },
  {
   "cell_type": "markdown",
   "metadata": {
    "slideshow": {
     "slide_type": "slide"
    }
   },
   "source": [
    "# Summary\n",
    "\n",
    "\n",
    "1. Consider VPython and *Matter & Interactions* for integrating compution into introductory physics. Teaching computation changes what we can/should teach in all physics classes, from general education to advanced. (Predicted by Cromer, 1981) <img src=\"mandi-4e.jpg\" width=400 align=\"right\" valign=\"middle\">\n",
    "2. By teaching computation in physics, \"one can begin training the student in professional research-related skills at an earlier stage than is traditional.\" (J. Redish)"
   ]
  },
  {
   "cell_type": "code",
   "execution_count": null,
   "metadata": {},
   "outputs": [],
   "source": []
  }
 ],
 "metadata": {
  "celltoolbar": "Slideshow",
  "kernelspec": {
   "display_name": "Python 3",
   "language": "python",
   "name": "python3"
  },
  "language_info": {
   "codemirror_mode": {
    "name": "ipython",
    "version": 3
   },
   "file_extension": ".py",
   "mimetype": "text/x-python",
   "name": "python",
   "nbconvert_exporter": "python",
   "pygments_lexer": "ipython3",
   "version": "3.6.5"
  }
 },
 "nbformat": 4,
 "nbformat_minor": 2
}
