{
 "cells": [
  {
   "cell_type": "markdown",
   "metadata": {},
   "source": [
    "# Galton Model"
   ]
  },
  {
   "cell_type": "code",
   "execution_count": 1,
   "metadata": {
    "collapsed": false
   },
   "outputs": [
    {
     "data": {
      "application/javascript": [
       "require.undef(\"nbextensions/vpython_libraries/glow.min\");"
      ],
      "text/plain": [
       "<IPython.core.display.Javascript object>"
      ]
     },
     "metadata": {},
     "output_type": "display_data"
    },
    {
     "data": {
      "application/javascript": [
       "require.undef(\"nbextensions/vpython_libraries/glowcomm\");"
      ],
      "text/plain": [
       "<IPython.core.display.Javascript object>"
      ]
     },
     "metadata": {},
     "output_type": "display_data"
    },
    {
     "data": {
      "application/javascript": [
       "require.undef(\"nbextensions/vpython_libraries/jquery-ui.custom.min\");"
      ],
      "text/plain": [
       "<IPython.core.display.Javascript object>"
      ]
     },
     "metadata": {},
     "output_type": "display_data"
    },
    {
     "data": {
      "application/javascript": [
       "require([\"nbextensions/vpython_libraries/glow.min\"], function(){console.log(\"GLOW LOADED\");})"
      ],
      "text/plain": [
       "<IPython.core.display.Javascript object>"
      ]
     },
     "metadata": {},
     "output_type": "display_data"
    },
    {
     "data": {
      "application/javascript": [
       "require([\"nbextensions/vpython_libraries/glowcomm\"], function(){console.log(\"GLOWCOMM LOADED\");})"
      ],
      "text/plain": [
       "<IPython.core.display.Javascript object>"
      ]
     },
     "metadata": {},
     "output_type": "display_data"
    },
    {
     "data": {
      "application/javascript": [
       "require([\"nbextensions/vpython_libraries/jquery-ui.custom.min\"], function(){console.log(\"JQUERY LOADED\");})"
      ],
      "text/plain": [
       "<IPython.core.display.Javascript object>"
      ]
     },
     "metadata": {},
     "output_type": "display_data"
    },
    {
     "data": {
      "text/html": [
       "<div id=\"glowscript\" class=\"glowscript\"></div>"
      ],
      "text/plain": [
       "<IPython.core.display.HTML object>"
      ]
     },
     "metadata": {},
     "output_type": "display_data"
    },
    {
     "data": {
      "application/javascript": [
       "window.__context = { glowscript_container: $(\"#glowscript\").removeAttr(\"id\")}"
      ],
      "text/plain": [
       "<IPython.core.display.Javascript object>"
      ]
     },
     "metadata": {},
     "output_type": "display_data"
    }
   ],
   "source": [
    "from vpython import *\n",
    "from math import *\n",
    "from numpy import arange"
   ]
  },
  {
   "cell_type": "code",
   "execution_count": null,
   "metadata": {
    "collapsed": false
   },
   "outputs": [
    {
     "data": {
      "text/html": [
       "<div id=\"glowscript\" class=\"glowscript\"></div>"
      ],
      "text/plain": [
       "<IPython.core.display.HTML object>"
      ]
     },
     "metadata": {},
     "output_type": "display_data"
    },
    {
     "data": {
      "application/javascript": [
       "window.__context = { glowscript_container: $(\"#glowscript\").removeAttr(\"id\")}"
      ],
      "text/plain": [
       "<IPython.core.display.Javascript object>"
      ]
     },
     "metadata": {},
     "output_type": "display_data"
    },
    {
     "name": "stdout",
     "output_type": "stream",
     "text": [
      "5  data list:  [-0.0014287284435027872, 6.0930000000003695, 0.18342360085342724, 0.0, 1]\n"
     ]
    }
   ],
   "source": [
    "##Realistic model with dimensions of actual Galton board.\n",
    "##This version uses a constant COR and no friction.\n",
    "\n",
    "###############\n",
    "#Functions\n",
    "#return True if a ball and peg overlap\n",
    "def checkCollision(sph,cyl):\n",
    "    pegcenter=cyl.pos+0.5*cyl.axis\n",
    "    rcc=sph.pos-pegcenter\n",
    "    dist=mag(rcc)\n",
    "    if(dist<sph.radius+cyl.radius):\n",
    "        return True\n",
    "    else:\n",
    "        return False\n",
    "\n",
    "#write a line of data to a file\n",
    "def writeLineToFile(aList):\n",
    "    # open file and append data to it\n",
    "    filename = open(\"data.txt\", \"a\")\n",
    "    filename.write('\\n')\n",
    "    filename.write('\\t'.join(map(str,aList)))        \n",
    "    filename.close()\n",
    "###############\n",
    "\n",
    "plinko_animation = canvas( width=600, height=400, background=color.white)\n",
    "plinko_animation.title = 'Galton Board Model'\n",
    "plinko_animation.caption = 'This version uses a constant COR and no friction.'\n",
    "\n",
    "###############constants\n",
    "Ntotal=50 #total number of balls\n",
    "Rball=0.040/2 #radius of ball in m\n",
    "Rcyl=0.00635/2 #radius of peg in m\n",
    "dy=0.0508 #vert distance between adjacent rows\n",
    "dx=0.0508 #hor distance between adjacent columns\n",
    "H=1.1176 #height of peg array in m\n",
    "L=1.575 #length of peg array\n",
    "T=dy #thickness of walls and floor\n",
    "y0=H/2+Rball #initial height of ball in m\n",
    "xshift=0 #move entire board by xshift\n",
    "rows=H/dy+1 #number of rows\n",
    "cols=L/dx #number of cols\n",
    "t=0 #clock\n",
    "dt=0.001 #time step\n",
    "m=0.04593 #mass of ball\n",
    "COR=0.667 #coefficient of restitution in perpendicular dir\n",
    "CORpar=0.489 #coefficient of rest in parallel dir\n",
    "#COR=0.46 #coefficient of restitution in perpendicular dir\n",
    "#CORpar=1 #coefficient of rest in parallel dir\n",
    "g=10 #gravitational field\n",
    "maxerror=0.9*dx/2 #max x position of ball when dropped from rest\n",
    "###############\n",
    "\n",
    "###############\n",
    "#create 3D objects\n",
    "ball=sphere(pos=vector(0,y0,0), radius=Rball, color=color.red)\n",
    "\n",
    "peglist=[] #list of pegs\n",
    "\n",
    "i=0 #row number\n",
    "for rownum in arange(0,rows,1):\n",
    "    for colnum in arange(0,cols,1):\n",
    "        p=cylinder(pos=vector(-L/2+0.5*dx*(rownum % 2)+colnum*dx+xshift, H/2-rownum*dy,0.05), axis=vector(0,0,-0.1), radius=Rcyl, color=color.black)\n",
    "        peglist.append(p)\n",
    "    \n",
    "#walls and floor\n",
    "leftside=box(pos=vector(-L/2-T-dx/2+xshift,0,0), size=vector(T,H,0.1), color=color.green)\n",
    "rightside=box(pos=vector(L/2+T+dx/2+xshift,0,0), size=vector(T,H,0.1), color=color.green)\n",
    "floor=box(pos=vector(xshift,-H/2-T/2,0), size=vector(L+dx,T,0.1), color=color.green)\n",
    "###############\n",
    "\n",
    "###############\n",
    "#initial velocity, momentum, force\n",
    "ball.v=vector(0,0,0)\n",
    "ball.p=m*ball.v\n",
    "Fgrav=m*vector(0,-g,0)\n",
    "###############\n",
    "\n",
    "###############\n",
    "#histogram\n",
    "hgraph=graph(width=650, height=200, title=\"Counts as a function of position on the floor\", xtitle=\"x\", ytitle=\"N\", xmin=-L/2, xmax=L/2 )\n",
    "hist = gvbars(delta=dx, color=color.blue)\n",
    "\n",
    "#bins for counting ball when it hits the floor\n",
    "#center of each bin is at +-dx\n",
    "#initialize number of counts to zero\n",
    "#each bin is a list with [xpos,N] where xpos is the center of the bin and N is the number of counts in the bin\n",
    "bins=[]\n",
    "#a list of all x positions of bins; frequency of each bin is the number of entries for a particular position\n",
    "positions=[] \n",
    "for x in arange(0,L/2,dx):\n",
    "#    bins.append([x+dx/2,0])\n",
    "    bins.append([x+dx,0])\n",
    "\n",
    "for x in arange(0,-L/2,-dx):\n",
    "    if(x!=0):\n",
    "        bins.append([x+dx,0])\n",
    "\n",
    "#plot zero for all bins in the histogram\n",
    "for b in bins:\n",
    "        hist.plot(b)\n",
    "###############\n",
    "\n",
    "\n",
    "###############\n",
    "#randomize initial x position of ball\n",
    "sign=1\n",
    "if(random()<0.5): sign=-1\n",
    "error=random()*sign*maxerror\n",
    "ball.pos=vector(error,y0,0)\n",
    "ri=ball.pos\n",
    "###############\n",
    "\n",
    "\n",
    "##################\n",
    "# Data Column Headings\n",
    "##################\n",
    "headingList=['ri_x (m)','t (s)', 'vy_ave (m/s)',  'bin_x (m)', 'N']\n",
    "#writeLineToFile(headingList)\n",
    "filename = open(\"data.txt\", \"w\")\n",
    "filename.write('\\t'.join(map(str,headingList)))        \n",
    "filename.close()\n",
    "print(\"heading list: \",headingList)\n",
    "##################\n",
    "\n",
    "ballIsRolling=False\n",
    "thetai=pi/2\n",
    "vcm=0\n",
    "\n",
    "n=0 #ball number\n",
    "\n",
    "while n<Ntotal:\n",
    "    t=0 #reset clock\n",
    "#    while ball.pos.y-ball.radius>floor.pos.y+floor.size.y/2:\n",
    "    while ball.pos.y>floor.pos.y+floor.size.y/2: #top surface of floor is at height of last row of pegs\n",
    "        rate(100)\n",
    "        if(not ballIsRolling):\n",
    "            Fnet=Fgrav\n",
    "            ball.p=ball.p+Fnet*dt\n",
    "            ball.pos=ball.pos+ball.p/m*dt\n",
    "            \n",
    "            for peg in peglist:\n",
    "                if(checkCollision(ball,peg)):\n",
    "                    ball.pos=ball.pos-ball.p/m*dt\n",
    "                    pegcenter=peg.pos+0.5*peg.axis\n",
    "                    rcc=ball.pos-pegcenter\n",
    "                    rp=Rcyl*norm(rcc)\n",
    "                    ball.v=ball.p/m\n",
    "                    vperpi=dot(ball.v,norm(rp))*norm(rp)\n",
    "                    vpari=ball.v-vperpi\n",
    "                    vperpf=-COR*vperpi\n",
    "                    vparf=CORpar*vpari\n",
    "                    vf=vperpf+vparf\n",
    "                    ball.p=m*vf\n",
    "                    if(mag(vf)<0.05):\n",
    "                        ballIsRolling=True\n",
    "                        thetai=acos(rcc.x/mag(rcc))\n",
    "                        vcm=mag(vf)\n",
    "        else:\n",
    "            rcc=ball.pos-pegcenter\n",
    "            theta=acos(rcc.x/mag(rcc))\n",
    "            dv=abs(g*cos(theta)*dt)\n",
    "            vcm=vcm+dv\n",
    "#            theta=asin(sin(thetai)-1/2*5/3*vcm*vcm/g/(Rcyl+Rball))\n",
    "            if(thetai<pi/2):\n",
    "                theta=asin(sin(thetai)-1/2*5/3*vcm*vcm/g/(Rcyl+Rball))\n",
    "            else:\n",
    "                theta=pi-asin(sin(thetai)-1/2*5/3*vcm*vcm/g/(Rcyl+Rball))\n",
    "\n",
    "            ball.v=vcm*vector(cos(theta),sin(theta),0)\n",
    "            ball.p=m*ball.v\n",
    "            ball.pos=pegcenter+(Rball+Rcyl)*vector(cos(theta),sin(theta),0)        \n",
    "            Fpeg=m*g*sin(theta)-m*vcm*vcm/(Rcyl+Rball)\n",
    "            \n",
    "            if(Fpeg<0):\n",
    "#                print(\"ball rolled off peg \",theta*180/pi,Fpeg,vcm)\n",
    "                ballIsRolling=False\n",
    "#                break\n",
    "        t=t+dt\n",
    "        \n",
    "    for b in bins:\n",
    "        if(ball.pos.x>b[0]-dx/2 and ball.pos.x<b[0]+dx/2):\n",
    "            b[1]=b[1]+1\n",
    "            vdrift=H/t\n",
    "#            headingList=['ri_x (m)','t (s)', 'vy_ave (m/s)',  'bin_x (m)', 'N']\n",
    "            dataList=[ri.x,t,vdrift,b[0],b[1]]\n",
    "            positions.append(b[0])\n",
    "            print(n,\" data list: \",dataList)\n",
    "            writeLineToFile(dataList)\n",
    "        hist.plot(b)\n",
    "    \n",
    "    #reset clock, position, velocity, and momentum of ball\n",
    "    sign=1\n",
    "    if(random()<0.5): sign=-1\n",
    "    error=random()*sign*maxerror\n",
    "    ball.pos=vector(error,y0,0)    \n",
    "    ri=ball.pos\n",
    "    ball.p=vector(0,0,0)\n",
    "    t=0\n",
    "    \n",
    "    #increment ball number\n",
    "    n=n+1\n",
    "\n",
    "print(positions)\n",
    "filename = open(\"positions.txt\", \"w\")\n",
    "filename.write(','.join(map(str,positions)))\n",
    "filename.close()"
   ]
  },
  {
   "cell_type": "code",
   "execution_count": null,
   "metadata": {
    "collapsed": true
   },
   "outputs": [],
   "source": []
  }
 ],
 "metadata": {
  "kernelspec": {
   "display_name": "Python 3",
   "language": "python",
   "name": "python3"
  },
  "language_info": {
   "codemirror_mode": {
    "name": "ipython",
    "version": 3
   },
   "file_extension": ".py",
   "mimetype": "text/x-python",
   "name": "python",
   "nbconvert_exporter": "python",
   "pygments_lexer": "ipython3",
   "version": "3.6.0"
  }
 },
 "nbformat": 4,
 "nbformat_minor": 0
}
