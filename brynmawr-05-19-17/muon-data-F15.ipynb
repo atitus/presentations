{
 "cells": [
  {
   "cell_type": "markdown",
   "metadata": {},
   "source": [
    "# Muon Decay Time"
   ]
  },
  {
   "cell_type": "markdown",
   "metadata": {},
   "source": [
    "Here's a [nice tutorial](https://bespokeblog.wordpress.com/2011/07/11/basic-data-plotting-with-matplotlib-part-3-histograms/) on plotting histograms.\n",
    "\n",
    "The [csv package](https://pymotw.com/2/csv/) is useful for parsing data. It can be used to parse data with any delimiter, including tab-delimited, space-delimited, or comma-delimited data."
   ]
  },
  {
   "cell_type": "code",
   "execution_count": 1,
   "metadata": {
    "collapsed": true
   },
   "outputs": [],
   "source": [
    "import csv #used for reading and parsing data from a text file\n",
    "from __future__ import print_function #used for print() function\n",
    "import matplotlib.pyplot as plt #used for graphing\n",
    "from numpy import * #used for curve fit\n",
    "from scipy.optimize import curve_fit"
   ]
  },
  {
   "cell_type": "code",
   "execution_count": 2,
   "metadata": {
    "collapsed": true
   },
   "outputs": [],
   "source": [
    "#show graphs inline (do not use for print publication quality graphs)\n",
    "%matplotlib inline"
   ]
  },
  {
   "cell_type": "code",
   "execution_count": 4,
   "metadata": {
    "collapsed": false
   },
   "outputs": [
    {
     "name": "stdout",
     "output_type": "stream",
     "text": [
      "Number of decayed muons:  2591\n"
     ]
    }
   ],
   "source": [
    "#open and read the file\n",
    "datafile = csv.reader(open('15-09-18.txt', 'rt'), delimiter=' ')\n",
    "rows=[]\n",
    "decaytimes=[] #list of decay times\n",
    "for row in datafile:\n",
    "    rows.append(row)\n",
    "    data1=float(row[0])\n",
    "    if data1<40000:\n",
    "        decaytimes.append(data1/1000) #convert to microseconds from nanoseconds and append to list\n",
    "print(\"Number of decayed muons: \",len(decaytimes))"
   ]
  },
  {
   "cell_type": "code",
   "execution_count": 5,
   "metadata": {
    "collapsed": false
   },
   "outputs": [
    {
     "data": {
      "image/png": "[encoded data removed]",
      "text/plain": [
       "<matplotlib.figure.Figure at 0x117610d30>"
      ]
     },
     "metadata": {},
     "output_type": "display_data"
    }
   ],
   "source": [
    "frequencyhistogram= plt.figure()\n",
    "counts, bins, bars=plt.hist(decaytimes,bins=arange(0, 20, 0.5))\n",
    "plt.title(\"Muon Decay Times\")\n",
    "plt.xlabel(\"Decay Time\")\n",
    "plt.ylabel(\"N\")\n",
    "plt.show()"
   ]
  },
  {
   "cell_type": "code",
   "execution_count": 6,
   "metadata": {
    "collapsed": false
   },
   "outputs": [
    {
     "name": "stdout",
     "output_type": "stream",
     "text": [
      "[ 509.  412.  335.  256.  215.  146.  131.  117.   77.   71.   60.   41.\n",
      "   30.   25.   32.   24.    5.   15.    7.    8.    9.    1.    6.    0.\n",
      "    7.    4.    7.    2.    5.    5.    3.    4.    3.    2.    4.    3.\n",
      "    2.    1.    1.]\n",
      "[  0.    0.5   1.    1.5   2.    2.5   3.    3.5   4.    4.5   5.    5.5\n",
      "   6.    6.5   7.    7.5   8.    8.5   9.    9.5  10.   10.5  11.   11.5\n",
      "  12.   12.5  13.   13.5  14.   14.5  15.   15.5  16.   16.5  17.   17.5\n",
      "  18.   18.5  19.   19.5]\n"
     ]
    }
   ],
   "source": [
    "print(counts)\n",
    "print(bins)"
   ]
  },
  {
   "cell_type": "code",
   "execution_count": 7,
   "metadata": {
    "collapsed": false
   },
   "outputs": [],
   "source": [
    "ydata=[] #ln(N)\n",
    "xdata=[] #t\n",
    "\n",
    "#cannot calculate ln(0)\n",
    "#only plot data before N becomes negative (after subtracting background)\n",
    "i=0\n",
    "for c in counts:\n",
    "    if(c<7): break\n",
    "    ydata.append(log(c-6)) #subtract off background counts using N_background=6\n",
    "    xdata.append((bins[i+1]+bins[i])/2)\n",
    "    i=i+1\n",
    "#print(ydata,xdata)"
   ]
  },
  {
   "cell_type": "code",
   "execution_count": 8,
   "metadata": {
    "collapsed": false
   },
   "outputs": [
    {
     "data": {
      "image/png": "[encoded data removed]",
      "text/plain": [
       "<matplotlib.figure.Figure at 0x11a8f5550>"
      ]
     },
     "metadata": {},
     "output_type": "display_data"
    }
   ],
   "source": [
    "#semi-log plot\n",
    "plt.title('ln(N) vs t')\n",
    "plt.xlabel('time (micro s)')\n",
    "plt.ylabel('ln(N)')\n",
    "plt.plot(xdata,ydata,'m.')\n",
    "plt.show()"
   ]
  },
  {
   "cell_type": "code",
   "execution_count": 9,
   "metadata": {
    "collapsed": true
   },
   "outputs": [],
   "source": [
    "#function takes arrays of data and returns an array\n",
    "def func(x, a, b):\n",
    "    return a*x+b #linear function"
   ]
  },
  {
   "cell_type": "code",
   "execution_count": 10,
   "metadata": {
    "collapsed": false
   },
   "outputs": [
    {
     "name": "stdout",
     "output_type": "stream",
     "text": [
      "[-0.4641762   6.33286998] [[ 0.00025394 -0.00101574]\n",
      " [-0.00101574  0.00541201]]\n"
     ]
    }
   ],
   "source": [
    "#convert list to a numpy array\n",
    "yarray=asarray(ydata)\n",
    "xarray=asarray(xdata)\n",
    "popt, pcov = curve_fit(func, xarray, yarray)\n",
    "print(popt,pcov)"
   ]
  },
  {
   "cell_type": "code",
   "execution_count": 11,
   "metadata": {
    "collapsed": false
   },
   "outputs": [
    {
     "name": "stdout",
     "output_type": "stream",
     "text": [
      "0.302183695857\n"
     ]
    }
   ],
   "source": [
    "p1 = popt[0] #slope\n",
    "p2 = popt[1] #intercept\n",
    "residuals = yarray - func(xarray,p1,p2) #difference in y data and y best fit function\n",
    "ressquared = sum(residuals**2)\n",
    "print(ressquared) #sum of square of residuals"
   ]
  },
  {
   "cell_type": "code",
   "execution_count": 12,
   "metadata": {
    "collapsed": false
   },
   "outputs": [
    {
     "data": {
      "image/png": "[encoded data removed]",
      "text/plain": [
       "<matplotlib.figure.Figure at 0x11d50c7b8>"
      ]
     },
     "metadata": {},
     "output_type": "display_data"
    }
   ],
   "source": [
    "bestfit=func(xarray,p1,p2) #best fit function\n",
    "plt.plot(xdata,ydata,'*') #plot data\n",
    "plt.plot(xdata,bestfit,'r') #plot best fit function\n",
    "plt.xlabel('t (micro s)')\n",
    "plt.ylabel('ln(N)');"
   ]
  },
  {
   "cell_type": "code",
   "execution_count": 13,
   "metadata": {
    "collapsed": false
   },
   "outputs": [
    {
     "name": "stdout",
     "output_type": "stream",
     "text": [
      "2.15435432341\n"
     ]
    }
   ],
   "source": [
    "tau=-1/p1\n",
    "print(tau) #muon lifetime"
   ]
  },
  {
   "cell_type": "code",
   "execution_count": 17,
   "metadata": {
    "collapsed": false
   },
   "outputs": [
    {
     "data": {
      "image/png": "[encoded data removed]",
      "text/plain": [
       "<matplotlib.figure.Figure at 0x11de94908>"
      ]
     },
     "metadata": {},
     "output_type": "display_data"
    }
   ],
   "source": [
    "frequencyhistogram= plt.figure()\n",
    "counts, bins, bars=plt.hist(decaytimes,bins=arange(0, 20, 0.5))\n",
    "expfunc=exp(p2)*exp(-1/tau*xarray) #best fit function for N(t)\n",
    "plt.plot(xdata,expfunc,'m')\n",
    "plt.title(\"Muon Decay Times\")\n",
    "plt.xlabel(\"Decay Time\")\n",
    "plt.ylabel(\"N\")\n",
    "plt.show()"
   ]
  },
  {
   "cell_type": "code",
   "execution_count": null,
   "metadata": {
    "collapsed": true
   },
   "outputs": [],
   "source": []
  }
 ],
 "metadata": {
  "kernelspec": {
   "display_name": "Python 3",
   "language": "python",
   "name": "python3"
  },
  "language_info": {
   "codemirror_mode": {
    "name": "ipython",
    "version": 3
   },
   "file_extension": ".py",
   "mimetype": "text/x-python",
   "name": "python",
   "nbconvert_exporter": "python",
   "pygments_lexer": "ipython3",
   "version": "3.6.0"
  }
 },
 "nbformat": 4,
 "nbformat_minor": 0
}
