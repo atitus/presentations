{
 "cells": [
  {
   "cell_type": "code",
   "execution_count": 2,
   "metadata": {
    "collapsed": false
   },
   "outputs": [],
   "source": [
    "#import packages\n",
    "from vpython import *\n",
    "import serial, time"
   ]
  },
  {
   "cell_type": "code",
   "execution_count": 5,
   "metadata": {
    "collapsed": false
   },
   "outputs": [],
   "source": [
    "#this function writes a character to the Arduino and receives LR and UD  voltages from the Arduino\n",
    "def getData():\n",
    "    ser.write(bytes(1))\n",
    "    line = ser.readline()\n",
    "    #print(line)\n",
    "    data = line.split()\n",
    "    LR = int(data[0])\n",
    "    UD = int(data[1])\n",
    "    #print(str(LR)+\"\\t\"+str(UD))\n",
    "    return [LR,UD]\n",
    "\n",
    "#serial port for the Arduino; get the name for the port from the Arduino software\n",
    "port = '/dev/cu.usbmodem1411'\n",
    "\n",
    "#start the serial port\n",
    "ser = serial.Serial(port, 9600, timeout=2)\n",
    "\n",
    "# The following line is necessary to give the arduino time to start\n",
    "# accepting stuff.\n",
    "time.sleep(2)\n"
   ]
  },
  {
   "cell_type": "code",
   "execution_count": null,
   "metadata": {
    "collapsed": false
   },
   "outputs": [
    {
     "data": {
      "text/html": [
       "<div id=\"glowscript\" class=\"glowscript\"></div>"
      ],
      "text/plain": [
       "<IPython.core.display.HTML object>"
      ]
     },
     "metadata": {},
     "output_type": "display_data"
    },
    {
     "data": {
      "application/javascript": [
       "window.__context = { glowscript_container: $(\"#glowscript\").removeAttr(\"id\")}"
      ],
      "text/plain": [
       "<IPython.core.display.Javascript object>"
      ]
     },
     "metadata": {},
     "output_type": "display_data"
    },
    {
     "name": "stdout",
     "output_type": "stream",
     "text": [
      "spaceship has landed, v=  <0.074268, -0.822575, 0.000000> speed=  0.8259207525987731\n"
     ]
    }
   ],
   "source": [
    "#create a 3D scene\n",
    "scene=canvas()\n",
    "\n",
    "scene.range=20\n",
    "scene.width=800\n",
    "scene.height=500\n",
    "scene.autoscale=False\n",
    "\n",
    "ground = box(pos=vector(0,-10.05,0), size=vector(40.0,1,1), color=color.white)\n",
    "spaceship = box(pos=vector(-10,8,0), size=vector(2,5,2), color=color.yellow)\n",
    "target=box(pos=vector(10,-10.05,0), size=vector(5.0,1,1), color=color.red)\n",
    "\n",
    "spaceship.m = 1\n",
    "spaceship.v = vector(0,0,0)\n",
    "g=1/6*vector(0,-10,0)\n",
    "Fthrust=vector(0,0,0)\n",
    "F=vector(0,0,0)\n",
    "\n",
    "dt = 0.01\n",
    "t = 0\n",
    "\n",
    "scale=5.0\n",
    "FgravArrow = arrow(pos=spaceship.pos, axis=scale*spaceship.m*g, color=color.red)\n",
    "FthrustArrow = arrow(pos=spaceship.pos, axis=Fthrust, color=color.cyan)\n",
    "\n",
    "safespeed=2\n",
    "\n",
    "voltage=[]\n",
    "\n",
    "\n",
    "while 1:\n",
    "        rate(100)\n",
    "        voltage=getData()\n",
    "        F.x=scale*(voltage[0]-1023/2)/512\n",
    "        F.y=scale*(voltage[1]-1023/2)/512\n",
    "        Fthrust=vector(F.x,F.y,0)\n",
    "        Fgrav=spaceship.m*g\n",
    "        Fnet=Fgrav+Fthrust\n",
    "        spaceship.v = spaceship.v + (Fnet/spaceship.m)*dt\n",
    "        spaceship.pos = spaceship.pos + spaceship.v*dt\n",
    "        if(spaceship.pos.y-spaceship.height/2<ground.pos.y+ground.height/2):\n",
    "                print(\"spaceship has landed, v= \",spaceship.v, \"speed= \", mag(spaceship.v))\n",
    "                if(spaceship.pos.x>target.pos.x-target.size.x/2 and spaceship.pos.x<target.pos.x+target.size.x/2 and mag(spaceship.v)<safespeed and abs(spaceship.v.x)<0.5):\n",
    "                    message=label(pos=vector(0,0,0), text=\"You Win! The spaceship landed safely!\")\n",
    "                else:\n",
    "                    message=label(pos=vector(0,0,0), text=\"The spaceship crashed! Bummer!\")\n",
    "                    if(abs(spaceship.v.x)>1):\n",
    "                        message.text=message.text+\"\\nYour lateral landing speed was too large.\"\n",
    "                    elif(mag(spaceship.v)>safespeed):\n",
    "                        message.text=message.text+\"\\nYour landing speed was too large.\"\n",
    "                \n",
    "                message.text=message.text+\"\\nClick to try again.\"\n",
    "                scene.waitfor('click')\n",
    "                message.visible=0\n",
    "                spaceship.v = vector(0,0,0)\n",
    "                spaceship.pos=vector(-10,8,0)\n",
    "                Fthrust=vector(0,0,0)\n",
    "                F=vector(0,0,0) \n",
    "                t=0\n",
    "        t = t+dt\n",
    "        FgravArrow.pos=spaceship.pos\n",
    "        FgravArrow.axis=scale*Fgrav\n",
    "        FthrustArrow.pos=spaceship.pos\n",
    "        FthrustArrow.axis=scale*Fthrust\n"
   ]
  },
  {
   "cell_type": "code",
   "execution_count": null,
   "metadata": {
    "collapsed": true
   },
   "outputs": [],
   "source": []
  }
 ],
 "metadata": {
  "kernelspec": {
   "display_name": "VPython",
   "language": "python",
   "name": "vpython"
  },
  "language_info": {
   "codemirror_mode": {
    "name": "ipython",
    "version": 3
   },
   "file_extension": ".py",
   "mimetype": "text/x-python",
   "name": "python",
   "nbconvert_exporter": "python",
   "pygments_lexer": "ipython3",
   "version": "3.6.0"
  }
 },
 "nbformat": 4,
 "nbformat_minor": 0
}
