{
 "cells": [
  {
   "cell_type": "markdown",
   "metadata": {},
   "source": [
    "# Photoelectric Effect"
   ]
  },
  {
   "cell_type": "code",
   "execution_count": 1,
   "metadata": {
    "collapsed": true
   },
   "outputs": [],
   "source": [
    "from __future__ import division, print_function\n",
    "import matplotlib.pyplot as plt\n",
    "from math import *\n",
    "from numpy import *\n",
    "from scipy.optimize import curve_fit"
   ]
  },
  {
   "cell_type": "code",
   "execution_count": 2,
   "metadata": {
    "collapsed": true
   },
   "outputs": [],
   "source": [
    "#show graphs inline (do not use for print publication quality graphs)\n",
    "%matplotlib inline"
   ]
  },
  {
   "cell_type": "code",
   "execution_count": 3,
   "metadata": {
    "collapsed": true
   },
   "outputs": [],
   "source": [
    "data = \"\"\"\n",
    "5.19031E+14\t0.70875\t0.009912114\n",
    "5.49451E+14\t0.8225\t0.00591608\n",
    "6.88073E+14\t1.4325\t0.020615528\n",
    "7.40741E+14\t1.64\t0.021602469\n",
    "8.21918E+14\t1.925\t0.031091264\n",
    "\"\"\".split('\\n')"
   ]
  },
  {
   "cell_type": "code",
   "execution_count": 4,
   "metadata": {
    "collapsed": false
   },
   "outputs": [
    {
     "name": "stdout",
     "output_type": "stream",
     "text": [
      "[519031000000000.0, 549451000000000.0, 688073000000000.0, 740741000000000.0, 821918000000000.0]\n",
      "[0.70875, 0.8225, 1.4325, 1.64, 1.925]\n",
      "[0.009912114, 0.00591608, 0.020615528, 0.021602469, 0.031091264]\n"
     ]
    }
   ],
   "source": [
    "#\n",
    "# Store data in lists\n",
    "#\n",
    "flist = []\n",
    "vlist = []\n",
    "unclist = []\n",
    "for s in data:\n",
    "    if s:\n",
    "        f,v,unc = s.split()     # break string in two\n",
    "        f=float(f)          # convert f to float\n",
    "        v=float(v)          # convert v to float\n",
    "        unc=float(unc)          # convert uncertainy to float\n",
    "        flist.append(f)\n",
    "        vlist.append(v)\n",
    "        unclist.append(unc)\n",
    "print(flist)\n",
    "print(vlist)\n",
    "print(unclist)\n"
   ]
  },
  {
   "cell_type": "code",
   "execution_count": 5,
   "metadata": {
    "collapsed": false
   },
   "outputs": [
    {
     "data": {
      "image/png": "[encoded data removed]",
      "text/plain": [
       "<matplotlib.figure.Figure at 0x10a2c3a90>"
      ]
     },
     "metadata": {},
     "output_type": "display_data"
    }
   ],
   "source": [
    "#graph\n",
    "stoppingpotentialgraph= plt.figure()\n",
    "plt.title('Stopping potential as a function of frequency')\n",
    "plt.ylabel('stopping potential (eV)')\n",
    "plt.xlabel('f (Hz)')\n",
    "plt.plot(flist,vlist,'bo', markersize=10,label=\"data\")\n",
    "plt.errorbar(flist,vlist,yerr=unclist, fmt=\"none\", color='r')\n",
    "#plt.ylim(-2,2)\n",
    "#plt.xlim(0,8.5e14)\n",
    "#legend=plt.legend(loc=2) #name used in case we want to use Plotly\n",
    "plt.show()\n",
    "\n",
    "#create interactive plotly graph\n",
    "#legend.remove() #plotly gives error for legend\n",
    "#py.sign_in(\"hpuphysics\", \"fwxi6w237k\")\n",
    "#py.iplot_mpl(collapseTimeFigurePasco, strip_style = True)"
   ]
  },
  {
   "cell_type": "code",
   "execution_count": 6,
   "metadata": {
    "collapsed": true
   },
   "outputs": [],
   "source": [
    "#function takes arrays of data and returns an array\n",
    "def func(x, a, b):\n",
    "    return a*x+b #linear function"
   ]
  },
  {
   "cell_type": "code",
   "execution_count": 7,
   "metadata": {
    "collapsed": false
   },
   "outputs": [
    {
     "name": "stdout",
     "output_type": "stream",
     "text": [
      "[  4.09487296e-15  -1.41260193e+00] [[  1.09621998e-32  -7.27717741e-18]\n",
      " [ -7.27717741e-18   4.97460342e-03]]\n"
     ]
    }
   ],
   "source": [
    "#convert list to a numpy array\n",
    "yarray=asarray(vlist)\n",
    "xarray=asarray(flist)\n",
    "popt, pcov = curve_fit(func, xarray, yarray)\n",
    "print(popt,pcov)"
   ]
  },
  {
   "cell_type": "code",
   "execution_count": 8,
   "metadata": {
    "collapsed": false
   },
   "outputs": [
    {
     "name": "stdout",
     "output_type": "stream",
     "text": [
      "0.00215552411749\n"
     ]
    }
   ],
   "source": [
    "p1 = popt[0] #slope\n",
    "p2 = popt[1] #intercept\n",
    "residuals = yarray - func(xarray,p1,p2) #difference in y data and y best fit function\n",
    "ressquared = sum(residuals**2)\n",
    "print(ressquared) #sum of square of residuals"
   ]
  },
  {
   "cell_type": "code",
   "execution_count": 9,
   "metadata": {
    "collapsed": false
   },
   "outputs": [
    {
     "data": {
      "image/png": "[encoded data removed]",
      "text/plain": [
       "<matplotlib.figure.Figure at 0x10a2d46d8>"
      ]
     },
     "metadata": {},
     "output_type": "display_data"
    }
   ],
   "source": [
    "bestfit=func(xarray,p1,p2) #best fit function\n",
    "plt.plot(flist,vlist,'*') #plot data\n",
    "plt.plot(flist,bestfit,'g') #plot best fit function\n",
    "plt.xlabel('f (Hz)')\n",
    "plt.ylabel('Stopping Potential (eV)');"
   ]
  },
  {
   "cell_type": "code",
   "execution_count": null,
   "metadata": {
    "collapsed": true
   },
   "outputs": [],
   "source": []
  }
 ],
 "metadata": {
  "kernelspec": {
   "display_name": "Python 3",
   "language": "python",
   "name": "python3"
  },
  "language_info": {
   "codemirror_mode": {
    "name": "ipython",
    "version": 3
   },
   "file_extension": ".py",
   "mimetype": "text/x-python",
   "name": "python",
   "nbconvert_exporter": "python",
   "pygments_lexer": "ipython3",
   "version": "3.6.0"
  }
 },
 "nbformat": 4,
 "nbformat_minor": 0
}
