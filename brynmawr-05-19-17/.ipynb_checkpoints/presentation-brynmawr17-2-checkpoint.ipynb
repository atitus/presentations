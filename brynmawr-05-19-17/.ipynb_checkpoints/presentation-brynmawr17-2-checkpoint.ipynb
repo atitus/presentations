{
 "cells": [
  {
   "cell_type": "markdown",
   "metadata": {
    "slideshow": {
     "slide_type": "slide"
    }
   },
   "source": [
    "# Teaching Physics with Computation <br>Using Jupyter Notebook and VPython\n",
    "\n",
    "&nbsp;\n",
    "\n",
    "## Aaron Titus, Ruth Chabay, Bruce Sherwood\n",
    "\n",
    "https://github.com/atitus/presentations\n"
   ]
  },
  {
   "cell_type": "markdown",
   "metadata": {
    "slideshow": {
     "slide_type": "skip"
    }
   },
   "source": [
    "## Jupyter Day Philly at Bryn Mawr College\n",
    "\n",
    "### May 19, 2017\n",
    "\n",
    "### Abstract\n",
    "\n",
    "Departmental learning objectives at High Point University include theory, experimental physics, and computational modeling. All three are important, and all three are woven into the four year curriculum. Physics students learn VPython in the introductory calculus-based physics course using \"Matter and Interactions\" by Ruth Chabay and Bruce Sherwood. Simultaneously, students engage in a year-long introductory research project that often includes both experimental and computational components. This approach prepares students to use computational modeling as a tool for research and problem solving, starting in their first year. Furthermore, it has an extraordinary impact on growing a thriving department. As students gain experience with computation, they transition from GlowScript VPython to Jupyter. I will provide details of our approach, examples of student work, and evidence of its impact. "
   ]
  },
  {
   "cell_type": "markdown",
   "metadata": {
    "slideshow": {
     "slide_type": "subslide"
    }
   },
   "source": [
    "# \"Education is not the filling of a pail, but the lighting of a fire.\"\n",
    "\n",
    "<img src=\"chile.jpg\" align=\"right\" width=\"550\">\n",
    "\n",
    "## -- William Butler Yeats\n",
    "\n"
   ]
  },
  {
   "cell_type": "markdown",
   "metadata": {
    "slideshow": {
     "slide_type": "slide"
    }
   },
   "source": [
    "# Outline\n",
    "\n",
    "- A brief history of the physics program at HPU\n",
    "- VPython\n",
    "- Examples of Jupyter notebooks from first to senior year\n",
    "- VPython architecture"
   ]
  },
  {
   "cell_type": "markdown",
   "metadata": {
    "slideshow": {
     "slide_type": "slide"
    }
   },
   "source": [
    "# History of the Physics Program at High Point University\n",
    "\n",
    "<img src=\"ball-spring.jpg\" width=300 align=right>\n",
    "\n",
    "* **2002** I moved to High Point University as the first and only tenure-track physics professor.\n",
    "* **2003** I started using *Matter and Interactions* by Ruth Chabay and Bruce Sherwood. Introductory physics students learned computational modeling with VPython.\n"
   ]
  },
  {
   "cell_type": "markdown",
   "metadata": {
    "slideshow": {
     "slide_type": "subslide"
    }
   },
   "source": [
    "## History...\n",
    "\n",
    "* **2009** Students initiated a physics degree. <img src=\"rocket.jpg\" align=\"right\" width=\"250\">\n",
    "* **2010** We started BS and BA degree programs in physics.\n",
    "* **2012** Our first graduating class (5).\n",
    "* **2013** Department of Physics began.\n",
    "* **2017** Six seniors, 30 majors, 5 full-time faculty. 24 alumni in 6 years. 13 alumni in the past 2 years."
   ]
  },
  {
   "cell_type": "markdown",
   "metadata": {
    "slideshow": {
     "slide_type": "subslide"
    }
   },
   "source": [
    "# Department Values\n",
    "\n",
    "<img src=\"nasa.jpg\" align=\"right\" width=\"500\">\n",
    "1. Undergraduate research starting in the freshman year.\n",
    "2. Computational modeling.\n",
    "3. Projects: creativity, initiative, research, development."
   ]
  },
  {
   "cell_type": "markdown",
   "metadata": {
    "collapsed": true,
    "slideshow": {
     "slide_type": "slide"
    }
   },
   "source": [
    "# VPython\n",
    "\n",
    "<img src=\"antenna.jpg\" align=\"right\" width=\"500\">\n",
    "* ([vpython.org](http://vpython.org/)) A Python package that provides:\n",
    " 1. 3D graphics\n",
    " 2. vector operations\n",
    " 3. mouse and keyboard event handling\n",
    "* Designed for novice programmers to learn computational modeling in physics"
   ]
  },
  {
   "cell_type": "markdown",
   "metadata": {
    "slideshow": {
     "slide_type": "subslide"
    }
   },
   "source": [
    "# Five Ways to Run VPython\n",
    "\n",
    "1. GlowScript.org ([Double Pendulum](http://www.glowscript.org/#/user/GlowScriptDemos/folder/Examples/program/DoublePendulum-VPython))\n",
    "1. Jupyter VPython ([Double Pendulum](double-pendulum.ipynb))\n",
    "1. Trinket ([Double Pendulum](https://trinket.io/glowscript/ea9e6ad449))\n",
    "1. VPython 7 (soon to be released; does not require Jupyter; requires autobahn)\n",
    "1. VPython Classic (no longer supported)"
   ]
  },
  {
   "cell_type": "markdown",
   "metadata": {
    "slideshow": {
     "slide_type": "skip"
    }
   },
   "source": [
    "## Brief History of VPython\n",
    "\n",
    "- 2000: Classic VPython created by David Scherer, in collaboration with Ruth Chabay and Bruce Sherwood\n",
    "- 2011: GlowScript created by Scherer and  Sherwood\n",
    "- 2014: GlowScript VPython created by Bruce Sherwood\n",
    "- 2014: iVisual package created by John Coady\n",
    "- 2016: Jupyter VPython made consistent with GlowScript VPython by Chabay and Sherwood, in collaboration with Coady\n",
    "- 2017: VPython 7 allows Python programs with VPython to run outside of Jupyter"
   ]
  },
  {
   "cell_type": "code",
   "execution_count": 3,
   "metadata": {
    "collapsed": false,
    "slideshow": {
     "slide_type": "subslide"
    }
   },
   "outputs": [
    {
     "data": {
      "text/html": [
       "<div id=\"glowscript\" class=\"glowscript\"></div>"
      ],
      "text/plain": [
       "<IPython.core.display.HTML object>"
      ]
     },
     "metadata": {},
     "output_type": "display_data"
    },
    {
     "data": {
      "application/javascript": [
       "window.__context = { glowscript_container: $(\"#glowscript\").removeAttr(\"id\")}"
      ],
      "text/plain": [
       "<IPython.core.display.Javascript object>"
      ]
     },
     "metadata": {},
     "output_type": "display_data"
    }
   ],
   "source": [
    "from math import *\n",
    "from vpython import *\n",
    "\n",
    "scene=canvas()\n",
    "sphere()"
   ]
  },
  {
   "cell_type": "code",
   "execution_count": null,
   "metadata": {
    "collapsed": false,
    "slideshow": {
     "slide_type": "subslide"
    }
   },
   "outputs": [],
   "source": [
    "scene=canvas()\n",
    "proton=sphere(pos=vector(0,0,0), radius=1e-15, color=color.red)"
   ]
  },
  {
   "cell_type": "markdown",
   "metadata": {
    "collapsed": true,
    "slideshow": {
     "slide_type": "skip"
    }
   },
   "source": [
    "## Example Exercise\n",
    "\n",
    "Create a VPython program that places spheres at the vertices of a square pyramid and connects the vertices with cylinders.\n",
    "\n",
    "<img src=\"http://eusebeia.dyndns.org/4d/img/J1-001.png\" width=40% align=center>"
   ]
  },
  {
   "cell_type": "code",
   "execution_count": null,
   "metadata": {
    "collapsed": false,
    "slideshow": {
     "slide_type": "skip"
    }
   },
   "outputs": [],
   "source": [
    "#square pyramid\n",
    "\n",
    "#Create the scene\n",
    "scene=canvas(title=\"3D Scene\")\n",
    "\n",
    "#radius of sphere\n",
    "R=0.05\n",
    "\n",
    "#radius of cylinder\n",
    "Rcyl=R/4\n",
    "\n",
    "#color of sphere\n",
    "spherecolor=color.yellow\n",
    "\n",
    "#color of cylinder\n",
    "cylcolor=color.white\n",
    "\n",
    "#spheres\n",
    "s1=sphere(pos=vector(1,0,0), radius=R, color=spherecolor)\n",
    "s2=sphere(pos=vector(-1,0,0), radius=R, color=spherecolor)\n",
    "s3=sphere(pos=vector(0,0,1), radius=R, color=spherecolor)\n",
    "s4=sphere(pos=vector(0,0,-1), radius=R, color=spherecolor)\n",
    "s5=sphere(pos=vector(0,1,0), radius=R, color=spherecolor)\n",
    "\n",
    "#cylinders\n",
    "cylinder(pos=s1.pos, axis=s3.pos-s1.pos, radius=Rcyl, color=cylcolor)\n",
    "cylinder(pos=s1.pos, axis=s4.pos-s1.pos, radius=Rcyl, color=cylcolor)\n",
    "cylinder(pos=s1.pos, axis=s5.pos-s1.pos, radius=Rcyl, color=cylcolor)\n",
    "cylinder(pos=s2.pos, axis=s3.pos-s2.pos, radius=Rcyl, color=cylcolor)\n",
    "cylinder(pos=s2.pos, axis=s4.pos-s2.pos, radius=Rcyl, color=cylcolor)\n",
    "cylinder(pos=s2.pos, axis=s5.pos-s2.pos, radius=Rcyl, color=cylcolor)\n",
    "cylinder(pos=s3.pos, axis=s5.pos-s3.pos, radius=Rcyl, color=cylcolor)\n",
    "cylinder(pos=s4.pos, axis=s5.pos-s4.pos, radius=Rcyl, color=cylcolor)\n"
   ]
  },
  {
   "cell_type": "markdown",
   "metadata": {
    "slideshow": {
     "slide_type": "slide"
    }
   },
   "source": [
    "# Computational Modeling in the First Year\n",
    "\n",
    "| Year  | Fall Semester | Spring Semester |\n",
    "| -- | -- | -- |\n",
    "| 1 | Calculus-Based Physics I (Modern Mechanics) <br><br> Introduction to Research and Scientific Writing I (Proposal) | Calculus-Based Physics II (Electric and Magnetic Interactions)  <br><br> Introduction to Research and Scientific Writing II (Project)  |\n"
   ]
  },
  {
   "cell_type": "markdown",
   "metadata": {
    "slideshow": {
     "slide_type": "skip"
    }
   },
   "source": [
    "## First Semester of Calculus-Based Physics (Modern Mechanics)\n",
    "\n",
    "1. introduction to VPython\n",
    "* constant velocity\n",
    "* constant net force (fan cart; ideal spaceship)\n",
    "* varying net force (mass-spring oscillator)\n",
    "* projectile motion (including air resistance)\n",
    "* gravitational orbit\n",
    "* scattering of an alpha particle by a gold nucleus (Rutherford scattering)"
   ]
  },
  {
   "cell_type": "markdown",
   "metadata": {
    "slideshow": {
     "slide_type": "subslide"
    }
   },
   "source": [
    "## Position Update\n",
    "\n",
    "For a small time interval $\\Delta t$, \n",
    "\n",
    "$$\\vec{r}_{future} = \\vec{r}_{now} + \\vec{v}\\Delta t$$\n",
    "\n",
    "In VPython, if you create an object named __particle__ then update its position using:\n",
    "\n",
    "```python\n",
    "particle.pos = particle.pos + v * dt\n",
    "```"
   ]
  },
  {
   "cell_type": "markdown",
   "metadata": {
    "slideshow": {
     "slide_type": "skip"
    }
   },
   "source": [
    "<img src=\"rupdate-1.png\" width=600>\n",
    "from Chabay and Sherwood, *Matter and Interactions*, 4th edition, Wiley (2015)"
   ]
  },
  {
   "cell_type": "code",
   "execution_count": null,
   "metadata": {
    "collapsed": false,
    "slideshow": {
     "slide_type": "subslide"
    }
   },
   "outputs": [],
   "source": [
    "#uniform motion -- a ball on a level track\n",
    "\n",
    "scene=canvas(title=\"Constant Velocity\", height=250, width=600)\n",
    "scene.background=color.white\n",
    " \n",
    "ball=sphere(pos=vector(-1.5,0,0), radius=0.05, color=color.red)\n",
    "track=box(pos=vector(0,-0.075,0), size=vector(3,0.05,0.1), \n",
    "          color=color.black)\n",
    "\n",
    "v=vector(0.6,0,0)\n",
    "\n",
    "dt=0.01\n",
    "t=0\n",
    "\n",
    "#scene.waitfor(\"click\")\n",
    "\n",
    "while ball.pos.x<1.5:\n",
    "    rate(100)\n",
    "    ball.pos = ball.pos + v*dt\n",
    "    t=t+dt"
   ]
  },
  {
   "cell_type": "markdown",
   "metadata": {
    "slideshow": {
     "slide_type": "subslide"
    }
   },
   "source": [
    "## Momentum Update\n",
    "\n",
    "For a small time interval $\\Delta t$,\n",
    "\n",
    "$$\\vec{p}_{future}=\\vec{p}_{now} + \\vec{F}_{net,now}\\Delta t$$\n",
    "\n",
    "This is the **update form** of the Momentum Principle.\n",
    "\n",
    "<img src=\"Fig2-23.jpg\" width=700>\n",
    "from Chabay and Sherwood, *Matter and Interactions*, 4th edition, Wiley (2015)"
   ]
  },
  {
   "cell_type": "markdown",
   "metadata": {
    "slideshow": {
     "slide_type": "skip"
    }
   },
   "source": [
    "The momentum now contains the history of the impulses on the particle, but the future momentum depends on the net force now.\n",
    "\n",
    "<img src=\"Fig2-1920.png\" width=750>\n",
    "from Chabay and Sherwood, *Matter and Interactions*, 4th edition, Wiley (2015)"
   ]
  },
  {
   "cell_type": "markdown",
   "metadata": {
    "slideshow": {
     "slide_type": "subslide"
    }
   },
   "source": [
    "## Euler-Cromer Method\n",
    "\n",
    "1. Calculate the net force on the particle.\n",
    "2. Update the particle's momentum.\n",
    "3. Update the particle's position.\n",
    "\n",
    "For non-relativistic motion,\n",
    "\n",
    "$$\\vec{v}\\approx \\vec{v}_f \\approx \\frac{\\vec{p}}{m}.$$\n",
    "\n",
    "For an object named __particle__, the VPython code looks like this.\n",
    "\n",
    "```python\n",
    "    Fnet = #vector(0,-mg,0) for example\n",
    "    p = p + Fnet * dt\n",
    "    particle.pos = particle.pos + p/m * dt\n",
    "```"
   ]
  },
  {
   "cell_type": "code",
   "execution_count": null,
   "metadata": {
    "collapsed": false,
    "slideshow": {
     "slide_type": "skip"
    }
   },
   "outputs": [],
   "source": [
    "#constant force\n",
    "\n",
    "scene=canvas(title=\"Projectile Motion\", height=400, width=500)\n",
    "\n",
    "\n",
    "#clickToAdvance does not work in Jupyter at the moment\n",
    "#print(\"If clickToAdvance==True, then click on the scene to advance the simulation to the next calculation.\")\n",
    "#print(\"Change clickToAdvance to False if you want the program to advance automatically.\")\n",
    "\n",
    "#set this to True if you want to click to advance through the calculations and steps\n",
    "#set this to False if you want it to advance automatically\n",
    "clickToAdvance=True\n",
    "\n",
    "t = 0\n",
    "\n",
    "#use case 1 if clicking to advance\n",
    "#use any case if not clicking to advance\n",
    "thiscase=1\n",
    "\n",
    "if(thiscase==1):\n",
    "        dt = 0.25\n",
    "        max=100\n",
    "        rateTime=100\n",
    "\n",
    "if(thiscase==2):\n",
    "        dt = 0.1\n",
    "        max=50\n",
    "        rateTime=100\n",
    "\n",
    "if(thiscase==3):\n",
    "        dt = 0.01\n",
    "        max=25\n",
    "        rateTime=1000\n",
    "\n",
    "\n",
    "floor = box(pos=vector(0,-1,0), size=vector(10.0,0.05,10), color=color.green)\n",
    "ball = sphere(pos=vector(-4.5,0.5,0), radius=0.4, color=color.white, opacity=0.5)\n",
    "\n",
    "ball.m = 0.8\n",
    "ball.v = vector(5.74,8.19,0)\n",
    "ball.p = ball.m * ball.v\n",
    "g = 9.8\n",
    "\n",
    "scenerange=5\n",
    "scene.range=scenerange\n",
    "scene.background=color.black\n",
    "\n",
    "trail=curve(color=ball.color)\n",
    "trail.append(pos=ball.pos)\n",
    "\n",
    "zeroVector=vector(0,0,0)\n",
    "\n",
    "arrowScale=scenerange/mag(ball.v)\n",
    "vArrow=arrow(pos=ball.pos, axis=vector(0,0,0), color=color.yellow, shaftwidth=0.1)\n",
    "dvArrow=arrow(pos=vArrow.pos+vArrow.axis, axis=vector(0,0,0), color=color.magenta, shaftwidth=0.1)\n",
    "vfArrow=arrow(pos=ball.pos, axis=vector(0,0,0), color=color.cyan, shaftwidth=0.1)\n",
    "drArrow=arrow(pos=ball.pos,axis=vector(0,0,0), color=ball.color, shaftwidth=0.1)\n",
    "\n",
    "#if(clickToAdvance==False):\n",
    "#        scene.waitfor('click')\n",
    "\n",
    "scene2=canvas(title=\"Net Force Now\", height=300, width=300)\n",
    "scene2.range=10\n",
    "ball2 = sphere(pos=vector(0,0,0), radius=ball.radius, color=ball.color, opacity=ball.opacity)\n",
    "FArrow=arrow(pos=ball2.pos, axis=vector(0,-ball.m*g,0), color=color.magenta)\n",
    "Flabel=label(pos=FArrow.pos+0.5*FArrow.axis+vector(1,0,0), text=\"F_net,now\")\n",
    "\n",
    "while ball.pos.y>=0.5:\n",
    "        rate(10)\n",
    "        if(clickToAdvance==True):\n",
    "            scene.waitfor('click')\n",
    "        vArrow.pos=ball.pos\n",
    "        vArrow.axis=ball.v*arrowScale\n",
    "        if(clickToAdvance==False):\n",
    "                for i in range(0,max):\n",
    "                        rate(rateTime)\n",
    "        Fnet=vector(0,-ball.m*g,0)\n",
    "        ball.p = ball.p + Fnet*dt\n",
    "        ball.v = ball.p/ball.m\n",
    "        dv = Fnet/ball.m*dt\n",
    "        dr = ball.v*dt\n",
    "\n",
    "        if(clickToAdvance==True):\n",
    "            scene.waitfor('click')\n",
    "        dvArrow.pos=vArrow.pos+vArrow.axis\n",
    "        dvArrow.axis=dv*arrowScale\n",
    "        if(clickToAdvance==False):\n",
    "                for i in range(0,max):\n",
    "                        rate(rateTime)\n",
    "\n",
    "        if(clickToAdvance==True):\n",
    "            scene.waitfor('click')\n",
    "        vfArrow.pos=ball.pos\n",
    "        vfArrow.axis=vArrow.axis+dvArrow.axis\n",
    "        if(clickToAdvance==False):\n",
    "                for i in range(0,max):\n",
    "                        rate(rateTime)\n",
    "\n",
    "        if(clickToAdvance==True):\n",
    "            scene.waitfor('click')\n",
    "\n",
    "        drArrow.pos=ball.pos\n",
    "        drArrow.axis=dr\n",
    "\n",
    "        if(clickToAdvance==False):\n",
    "                for i in range(0,max):\n",
    "                        rate(rateTime)\n",
    "        if(clickToAdvance==True):\n",
    "            scene.waitfor('click')\n",
    "\n",
    "        vArrow.axis=zeroVector\n",
    "        dvArrow.axis=zeroVector\n",
    "        vfArrow.axis=zeroVector\n",
    "        ball.pos=ball.pos+ball.v*dt\n",
    "        t = t+dt\n",
    "        trail.append(pos=ball.pos)\n",
    "\n",
    "        #   print t,ball.pos.x, ball.v.x\n"
   ]
  },
  {
   "cell_type": "markdown",
   "metadata": {
    "slideshow": {
     "slide_type": "subslide"
    }
   },
   "source": [
    "## Traditional Calculus-Based Physics Problem\n",
    "\n",
    "[<img src=\"https://upload.wikimedia.org/wikipedia/commons/1/1d/Marcus_Thames_Tigers_2007.jpg\" width=400 align=right>](https://en.wikipedia.org/) A batted baseball leaves the bat with a speed of 36 m/s at an angle of 50$^\\circ$. Determine the time of flight, the horizontal distance, and the peak height of the baseball if there is no air resistance and if it is caught at the same height it leaves the bat."
   ]
  },
  {
   "cell_type": "markdown",
   "metadata": {
    "slideshow": {
     "slide_type": "skip"
    }
   },
   "source": [
    "## Solution\n",
    "\n",
    "**Initial Conditions**\n",
    "\n",
    "$v_i=36\\ \\mathrm{m/s} \\qquad \\theta=50^\\circ \\qquad y_i=0 \\qquad x_i=0$\n",
    "\n",
    "**Equations of Motion**\n",
    "\n",
    "$a_y=\\frac{F_{net,y}}{m}=\\frac{-mg}{m}\\to a_y=-g \\qquad \\qquad \\qquad a_x=0$\n",
    "\n",
    "$v_y=v_{iy} + \\int_0^t a_ydt \\to v_y= v_{iy} -gt \\qquad \\qquad  v_x=v_{xi}$\n",
    "\n",
    "$y=y_i+\\int_0^t v_ydt \\to y= y_i +v_{iy}t - \\frac{1}{2}gt^2 \\qquad  x=x_i+v_xt$"
   ]
  },
  {
   "cell_type": "markdown",
   "metadata": {
    "slideshow": {
     "slide_type": "skip"
    }
   },
   "source": [
    "## The Answer\n",
    "\n",
    "time of flight = 5.63 s\n",
    "\n",
    "horizontal range = 130 m (427 ft)\n",
    "\n",
    "peak height = 38.9 m (128 ft, approximately a 12 story building)"
   ]
  },
  {
   "cell_type": "markdown",
   "metadata": {
    "slideshow": {
     "slide_type": "skip"
    }
   },
   "source": [
    "## The Real Solution\n",
    "### Teach computational modeling in introductory physics\n"
   ]
  },
  {
   "cell_type": "code",
   "execution_count": null,
   "metadata": {
    "collapsed": false,
    "slideshow": {
     "slide_type": "skip"
    }
   },
   "outputs": [],
   "source": [
    "scene=canvas(title=\"Baseball\", height=500, width=600)\n",
    "\n",
    "floor = box(pos=vector(0,-0.5,0), size=vector(150.0,1,10), color=color.green)\n",
    "ball = sphere(pos=vector(-75,0.1,0), radius=1, color=color.white, make_trail=True)\n",
    "\n",
    "ball.m = 0.8\n",
    "vi=36 #m/s\n",
    "theta=50 #degrees\n",
    "ball.v = vector(vi*cos(theta*pi/180),vi*sin(theta*pi/180),0)\n",
    "ball.p = ball.m * ball.v\n",
    "g = vector(0,-9.8,0)\n",
    "\n",
    "dt = 0.01\n",
    "t = 0\n",
    "\n",
    "ypeak=0\n",
    "\n",
    "scene.waitfor(\"click\")\n",
    "\n",
    "while ball.pos.y > 0:\n",
    "    rate(100)\n",
    "    Fnet=ball.m*g\n",
    "    vyi=ball.p.y/ball.m\n",
    "    ball.p = ball.p + Fnet*dt\n",
    "    ball.v = ball.p/ball.m\n",
    "    ball.pos = ball.pos + ball.v*dt\n",
    "    vyf=ball.p.y/ball.m\n",
    "    t = t+dt\n",
    "    if(vyi>0 and vyf<0):\n",
    "        ypeak=ball.pos.y\n",
    "\n",
    "print(\"range =\",ball.pos.x--75, \" m = \", (ball.pos.x--75)*3.28, \" ft\")\n",
    "print(\"peak height = \",ypeak, \" m = \", ypeak*3.28, \" ft\")\n",
    "print(\"time in the air = \",t, \" s\")"
   ]
  },
  {
   "cell_type": "code",
   "execution_count": null,
   "metadata": {
    "collapsed": false,
    "slideshow": {
     "slide_type": "subslide"
    }
   },
   "outputs": [],
   "source": [
    "#Add drag\n",
    "#http://farside.ph.utexas.edu/teaching/329/lectures/node42.html\n",
    "#f=-Fd*v**2*vhat\n",
    "\n",
    "scene=canvas(title=\"Baseball With Drag\", height=500, width=600)\n",
    "scene.background=color.white\n",
    "\n",
    "floor = box(pos=vector(0,-0.5,0), size=vector(150.0,1,10), color=color.green)\n",
    "ball = sphere(pos=vector(-75,0.1,0), radius=1, color=color.red, make_trail=True)\n",
    "\n",
    "ball.m = 0.145\n",
    "vi=36 #m/s\n",
    "theta=50 #degrees\n",
    "ball.v = vector(vi*cos(theta*pi/180),vi*sin(theta*pi/180),0)\n",
    "ball.p = ball.m * ball.v\n",
    "\n",
    "ball2=sphere(pos=vector(-75,0.1,0), radius=1, color=color.blue, make_trail=True)\n",
    "ball2.m=ball.m\n",
    "ball2.v=ball.v\n",
    "ball2.p=ball2.m*ball2.v\n",
    "\n",
    "g = vector(0,-9.8,0)\n",
    "Cd=0.3 #drag coeff\n",
    "rho=1.225 #kg /m^3\n",
    "R=0.0747/2 #radius in m\n",
    "D=0.5*rho*pi*R*R*Cd #average coeff for drag force\n",
    "dt = 0.01\n",
    "t = 0\n",
    "\n",
    "ypeak=0\n",
    "ypeak2=0\n",
    "tpeak2=0\n",
    "\n",
    "scene.waitfor(\"click\")\n",
    "\n",
    "while ball.pos.y > 0:\n",
    "    rate(100)\n",
    "\n",
    "    #ball 1\n",
    "    Fnet=ball.m*g\n",
    "    vyi=ball.p.y/ball.m\n",
    "    ball.p = ball.p + Fnet*dt\n",
    "    ball.v = ball.p/ball.m\n",
    "    ball.pos = ball.pos + ball.v*dt\n",
    "    vyf=ball.v.y\n",
    "    t = t+dt\n",
    "    if(vyi>0 and vyf<0):\n",
    "        ypeak=ball.pos.y\n",
    "\n",
    "    #ball 2\n",
    "    if(ball2.pos.y<0):\n",
    "        Fnet2=vector(0,0,0)\n",
    "        ball2.p=vector(0,0,0)\n",
    "    else:\n",
    "        vmag2=mag(ball2.v)\n",
    "        Fdrag=-D*vmag2*vmag2*norm(ball2.v)\n",
    "        Fnet2=ball2.m*g+Fdrag\n",
    "    vyi2=ball2.p.y/ball2.m\n",
    "    ball2.p = ball2.p + Fnet2*dt\n",
    "    ball2.v = ball2.p/ball.m\n",
    "    ball2.pos = ball2.pos + ball2.v*dt\n",
    "    vyf2=ball2.v.y\n",
    "    t = t+dt\n",
    "    if(vyi2>0 and vyf2<0):\n",
    "        ypeak2=ball2.pos.y\n",
    "    if(tpeak2==0 and ball2.pos.y<0):\n",
    "        tpeak2=t\n",
    "\n",
    "print(\"No air\")\n",
    "print(\"-----------------------\")\n",
    "print(\"range =\",ball.pos.x--75, \" m = \", (ball.pos.x--75)*3.28, \" ft\")\n",
    "print(\"peak height = \",ypeak, \" m = \", ypeak*3.28, \" ft\")\n",
    "print(\"time in the air = \",t, \" s\")\n",
    "\n",
    "print(\"\\nWith drag\")\n",
    "print(\"-----------------------\")\n",
    "print(\"range =\",ball2.pos.x--75, \" m = \", (ball2.pos.x--75)*3.28, \" ft\")\n",
    "print(\"peak height = \",ypeak2, \" m = \", ypeak2*3.28, \" ft\")\n",
    "print(\"time in the air = \",tpeak2, \" s\")"
   ]
  },
  {
   "cell_type": "code",
   "execution_count": null,
   "metadata": {
    "collapsed": false,
    "slideshow": {
     "slide_type": "subslide"
    }
   },
   "outputs": [],
   "source": [
    "#moon voyage template\n",
    "\n",
    "scene=canvas()\n",
    "scene.width = 600\n",
    "scene.height = 600\n",
    "scene.background=color.white\n",
    "\n",
    "earth = sphere(pos=vector(0,0,0), radius=6.4e6, color=color.blue)\n",
    "sc = sphere(pos=vector(-10*earth.radius, 0,0), radius=2e6, color=color.red, make_trail=True)\n",
    "\n",
    "G = 6.7e-11 #gravitational constant\n",
    "\n",
    "earth.m = 6e24 #kg\n",
    "sc.m = 15e3 #kg\n",
    "\n",
    "sc.v = vector(0,2e3,0) #m/s\n",
    "sc.p = sc.m*sc.v\n",
    "\n",
    "t=0\n",
    "dt = 60 #s\n",
    "\n",
    "scene.autoscale = False #turn off zooming\n",
    "\n",
    "scalefactor=0.25*10*earth.radius/mag(sc.p)\n",
    "parrow=arrow(pos=sc.pos, axis=vector(0,0,0), color=color.orange)\n",
    "\n",
    "#scene.waitfor(\"click\")\n",
    "\n",
    "while t < 5000*dt:\n",
    "    rate(200)\n",
    "    \n",
    "    #compute gravitational force by Earth on the spacecraft\n",
    "    r = sc.pos - earth.pos\n",
    "    rmag = mag(r)\n",
    "    rhat = r/rmag\n",
    "    Fgrav = -G*sc.m*earth.m/rmag**2*rhat\n",
    "    \n",
    "    #update momentum and compute velocity of the spacecraft\n",
    "    sc.p = sc.p + Fgrav*dt\n",
    "    sc.v = sc.p/sc.m\n",
    "    sc.pos = sc.pos + sc.v*dt\n",
    "    \n",
    "    #update arrow\n",
    "    parrow.pos=sc.pos\n",
    "    parrow.axis=scalefactor*sc.p\n",
    "    \n",
    "    t = t+dt\n",
    "    \n",
    "    if rmag < earth.radius:\n",
    "     break  ## exit from the loop"
   ]
  },
  {
   "cell_type": "code",
   "execution_count": null,
   "metadata": {
    "collapsed": false,
    "slideshow": {
     "slide_type": "subslide"
    }
   },
   "outputs": [],
   "source": [
    "\n",
    "scene=canvas()\n",
    "scene.width = 600\n",
    "scene.height = 600\n",
    "scene.background=color.white\n",
    "\n",
    "earth = sphere(pos=vector(0,0,0), radius=6.4e6, color=color.blue)\n",
    "sc = sphere(pos=vector(-10*earth.radius, 0,0), radius=5e6, color=color.red, make_trail=True)\n",
    "moon = sphere(pos=vector(4e8,0,0), radius=5e6, color=color.black)\n",
    "\n",
    "G = 6.7e-11 #gravitational constant\n",
    "\n",
    "earth.m = 6e24 #kg\n",
    "sc.m = 15e3 #kg\n",
    "moon.m = 7e22\n",
    "\n",
    "sc.v = vector(0,3.27e3,0) #m/s\n",
    "sc.p = sc.m*sc.v\n",
    "\n",
    "t=0\n",
    "dt = 10 #s\n",
    "\n",
    "scene.autoscale = False #turn off zooming\n",
    "scene.center = (earth.pos + moon.pos)/2\n",
    "\n",
    "scalefactor=0.25*10*earth.radius/mag(sc.p)\n",
    "#parrow=arrow(pos=sc.pos, axis=vector(0,0,0), color=color.blue)\n",
    "\n",
    "#scene.waitfor(\"click\")\n",
    "\n",
    "while t < 5e5*dt:\n",
    "    rate(1e4)\n",
    "    \n",
    "    #compute gravitational force by Earth on the spacecraft\n",
    "    r = sc.pos - earth.pos\n",
    "    rmag = mag(r)\n",
    "    rhat = r/rmag\n",
    "    Fgravearth = -G*sc.m*earth.m/rmag**2*rhat\n",
    "\n",
    "    r = sc.pos - moon.pos\n",
    "    rmag = mag(r)\n",
    "    rhat = r/rmag\n",
    "    Fgravmoon = -G*sc.m*moon.m/rmag**2*rhat\n",
    "    \n",
    "    Fnet=Fgravearth+Fgravmoon\n",
    "\n",
    "    #update momentum and compute velocity of the spacecraft\n",
    "    sc.p = sc.p + Fnet*dt\n",
    "    sc.v = sc.p/sc.m\n",
    "    sc.pos = sc.pos + sc.v*dt\n",
    "\n",
    "    #update arrow\n",
    "#    parrow.pos=sc.pos\n",
    "#    parrow.axis=scalefactor*sc.p\n",
    "\n",
    "    t = t+dt\n",
    "    \n",
    "    if rmag < earth.radius:\n",
    "     break  ## exit from the loop\n",
    " \n",
    " "
   ]
  },
  {
   "cell_type": "code",
   "execution_count": null,
   "metadata": {
    "collapsed": false,
    "slideshow": {
     "slide_type": "skip"
    }
   },
   "outputs": [],
   "source": [
    "scene=canvas()\n",
    "scene.background=color.white\n",
    "\n",
    "m=0.5 #mass in kg\n",
    "g=9.8 #g in N/kg\n",
    "\n",
    "v=vector(1,0,0) #initial velocity\n",
    "p=m*v #initial momentum\n",
    "\n",
    "t=0 #initial clock reading\n",
    "dt=0.002 #time step\n",
    "\n",
    "k=5 #spring stiffness\n",
    "L0=0.1 #relaxed length of the spring\n",
    "L=0.5 #initial length of the spring\n",
    "\n",
    "support=box(pos=vector(0,1,0), size=vector(1,0.05,1), color=color.green)\n",
    "\n",
    "ball=sphere(pos=vector(0,1-L,0), radius=0.1, color=color.red, make_trail=True)\n",
    "\n",
    "spring=helix(pos=support.pos, axis=ball.pos-support.pos, radius=0.05, coils=20, color=color.magenta)\n",
    "\n",
    "#scene.waitfor(\"click\")\n",
    "\n",
    "while t<10:\n",
    "    rate(400)\n",
    "    Lvector=ball.pos-support.pos\n",
    "    L=mag(Lvector)\n",
    "    Lhat=Lvector/L\n",
    "    s=L-L0\n",
    "    Fspring=-k*s*Lhat\n",
    "    Fgrav=vector(0,-m*g,0)\n",
    "    Fnet=Fgrav+Fspring\n",
    "    \n",
    "    p=p+Fnet*dt\n",
    "    v=p/m\n",
    "    ball.pos=ball.pos+v*dt\n",
    "    \n",
    "    spring.axis=ball.pos-support.pos\n",
    "\n",
    "#    print(\"t=\",t,\" s\")\n",
    "#    print(\"s=\",s,\" m\")\n",
    "#    print(\"Fnet=\",Fnet,\" N\")\n",
    "#    print(\"v=\",v,\" m/s\")\n",
    "#    print(\"r=\",ball.pos,\" m\")\n",
    "    t=t+dt\n",
    "    \n",
    "\n"
   ]
  },
  {
   "cell_type": "markdown",
   "metadata": {
    "slideshow": {
     "slide_type": "subslide"
    }
   },
   "source": [
    "## Second Semester of Calculus-Based Physics (Electric and Magnetic Interactions)\n",
    "\n",
    "1. electric field due to a charged particle\n",
    "* electric field due to a dipole (superposition)\n",
    "* electric field due to a uniformly charged rod\n",
    "* motion of a charged particle in an electric field\n",
    "* magnetic field due to a charged particle with constant velocity\n",
    "* motion of a charged particle in a uniform magnetic field\n"
   ]
  },
  {
   "cell_type": "code",
   "execution_count": null,
   "metadata": {
    "collapsed": false,
    "slideshow": {
     "slide_type": "skip"
    }
   },
   "outputs": [],
   "source": [
    "# Written by Ruth Chabay, licensed under Creative Commons 4.0.\n",
    "# All uses permitted, but you must not claim that you wrote it, and\n",
    "# you must include this license information in any copies you make.\n",
    "# For details see http://creativecommons.org/licenses/by/4.0\n",
    "\n",
    "# Ruth Chabay Spring 2001\n",
    "from numpy import arange\n",
    "\n",
    "scene=canvas()\n",
    "\n",
    "scene.width = 700\n",
    "scene.height = 800\n",
    "scene.background = color.white\n",
    "scene.range = 18\n",
    "scene.center = vector(0,-0.5,0)\n",
    "\n",
    "obsloc = []\n",
    "arrows = []\n",
    "\n",
    "K = 15\n",
    "q = sphere(pos=vector(1,1,0), color=color.red, radius=0.6, charge=1)\n",
    "\n",
    "xx = arange(-12, 13, 3)\n",
    "for x in xx:\n",
    "    for y in xx:\n",
    "        for z in xx:\n",
    "            obsloc.append(vector(x,y,z))\n",
    "            a = arrow(pos=vector(x,y,z), axis=vector(0, 0.1, 0), color=color.orange, shaftwidth=0.2)\n",
    "            r = a.pos-q.pos\n",
    "            if mag(r) == 0:\n",
    "                a.axis = vector(0,0,0)\n",
    "            else:\n",
    "                E = K*q.charge*r/(mag(r)**3)\n",
    "                a.axis = E\n",
    "            arrows.append(a)\n",
    "\n",
    "scene.caption = \"Drag the (red) positive charge and observe the electric field\"\n",
    "drag = None\n",
    "drag_pos = None\n",
    "\n",
    "def grab(evt):\n",
    "    global drag, drag_pos\n",
    "    picked = scene.mouse.pick\n",
    "    if picked is q:\n",
    "        drag = q\n",
    "        drag_pos = scene.mouse.pos\n",
    "\n",
    "def move(evt):\n",
    "    global drag, drag_pos\n",
    "    if drag is None: return\n",
    "    qp = scene.mouse.project(normal=vector(0,0,1), d=0)\n",
    "    if qp.equals(drag_pos): return\n",
    "    q.pos = drag_pos = qp\n",
    "    for i,obs in enumerate(obsloc):\n",
    "        r = obs-q.pos\n",
    "        rmag = mag(r)\n",
    "        if rmag == 0: E = vector(0,0,0)\n",
    "        else: E = K*q.charge*norm(r)/rmag**2\n",
    "        arrows[i].axis = E\n",
    "\n",
    "def drop(evt):\n",
    "    global drag, drag_pos\n",
    "    drag = None\n",
    "    drag_pos = None\n",
    "\n",
    "scene.bind('mousedown', grab)\n",
    "scene.bind('mousemove', move)\n",
    "scene.bind('mouseup', drop)"
   ]
  },
  {
   "cell_type": "code",
   "execution_count": null,
   "metadata": {
    "collapsed": false,
    "slideshow": {
     "slide_type": "subslide"
    }
   },
   "outputs": [],
   "source": [
    "scene=canvas()\n",
    "scene.width=scene.height=600\n",
    "scene.background=color.white\n",
    "\n",
    "oofpez=9e9\n",
    "qe=1.6e-19\n",
    "s=4e-11\n",
    "scalefactor=5e-20\n",
    "\n",
    "p1=sphere(pos=vector(0,s/2,0), radius=1e-11, color=color.red)\n",
    "q1=qe\n",
    "p2=sphere(pos=vector(0,-s/2,0), radius=1e-11, color=color.blue)\n",
    "q2=-qe\n",
    "\n",
    "locations=[]\n",
    "\n",
    "dtheta=pi/6\n",
    "theta=0\n",
    "\n",
    "while theta<2*pi:\n",
    "    \n",
    "    robs=3e-10*vector(cos(theta),sin(theta),0)\n",
    "    locations.append(robs)\n",
    "    theta=theta+dtheta\n",
    "#    sphere(pos=robs, radius=0.1e-11)\n",
    "\n",
    "\n",
    "theta=0\n",
    "\n",
    "while theta<2*pi:\n",
    "    \n",
    "    robs=3e-10*vector(0,sin(theta),cos(theta))\n",
    "    locations.append(robs)\n",
    "    theta=theta+dtheta\n",
    "#    sphere(pos=robs, radius=0.1e-11)\n",
    "\n",
    "\n",
    "\n",
    "for loc in locations:\n",
    "\n",
    "    robs=loc\n",
    "    \n",
    "    r=robs-p1.pos\n",
    "    rmag=mag(r)\n",
    "    rhat=norm(r)\n",
    "    \n",
    "    E1=oofpez*q1/rmag**2*rhat\n",
    "    \n",
    "    \n",
    "    r=robs-p2.pos\n",
    "    rmag=mag(r)\n",
    "    rhat=norm(r)\n",
    "    \n",
    "    E2=oofpez*q2/rmag**2*rhat\n",
    "    \n",
    "    Enet=E1+E2\n",
    "    \n",
    "    Earrow=arrow(pos=robs, axis=Enet*scalefactor, color=color.orange)\n",
    "\n"
   ]
  },
  {
   "cell_type": "code",
   "execution_count": null,
   "metadata": {
    "collapsed": false,
    "slideshow": {
     "slide_type": "subslide"
    }
   },
   "outputs": [],
   "source": [
    "\n",
    "scene=canvas()\n",
    "scene.width=800\n",
    "scene.height=600\n",
    "scene.background=color.white\n",
    "\n",
    "L=0.8\n",
    "Q=2e-9\n",
    "Nq=20\n",
    "dx=L/Nq\n",
    "dQ=Q/Nq\n",
    "\n",
    "cylinder(pos=vector(-L/2,0,0), axis=vector(L,0,0), radius=0.013, opacity=0.2)\n",
    "\n",
    "sources=[]\n",
    "\n",
    "x=-L/2+dx/2\n",
    "\n",
    "while x<L/2:\n",
    "    a=sphere(pos=vector(x,0,0), radius=0.01, color=color.red, q=dQ)\n",
    "    sources.append(a)\n",
    "    x=x+dx\n",
    "\n",
    "################ Section 5 List of Observation Locations\n",
    "theta=0\n",
    "dtheta=pi/5\n",
    "x=-L/2\n",
    "dx=L/6\n",
    "R=0.06\n",
    "obslocs=[]\n",
    "while x<1.1*L/2:\n",
    "    theta=0\n",
    "    while theta<2*pi:\n",
    "        a=vector(x,R*cos(theta),R*sin(theta))\n",
    "        obslocs.append(a)\n",
    "        theta=theta+dtheta\n",
    "    x=x+dx\n",
    "\n",
    "#print(\"N obs locations=\",len(obslocs))\n",
    "\n",
    "################\n",
    "\n",
    "\n",
    "scalefactor=0.1/1400\n",
    "oofpez=9e9\n",
    "\n",
    "j=0\n",
    "while j<len(obslocs):\n",
    "    \n",
    "    obs=obslocs[j]\n",
    "    Enet=vector(0,0,0)\n",
    "    i=0\n",
    "    \n",
    "    while i<len(sources):\n",
    "        \n",
    "        r=obs-sources[i].pos\n",
    "        rmag=mag(r)\n",
    "        rhat=norm(r)\n",
    "        dE=oofpez*dQ/rmag**2*rhat\n",
    "        \n",
    "        Enet=Enet+dE\n",
    "        \n",
    "        i=i+1\n",
    "    \n",
    "    Enetarrow=arrow(pos=obs, axis=Enet*scalefactor, color=color.orange)\n",
    "    #print(\"obs=\",obslocs[j], \"; Enet=\",Enet)\n",
    "    \n",
    "    j=j+1"
   ]
  },
  {
   "cell_type": "code",
   "execution_count": null,
   "metadata": {
    "collapsed": true,
    "slideshow": {
     "slide_type": "subslide"
    }
   },
   "outputs": [],
   "source": [
    "### DO NOT MAKE THIS FILE PUBLIC ###\n",
    "\n",
    "# Written by Ruth Chabay, licensed under Creative Commons 4.0.\n",
    "# All uses permitted, but you must not claim that you wrote it, and\n",
    "# you must include this license information in any copies you make.\n",
    "# For details see http://creativecommons.org/licenses/by/4.0\n",
    "\n",
    "scene=canvas()\n",
    "scene.background=color.white\n",
    "scene.width = 800\n",
    "scene.height = 600\n",
    "scene.range = 0.7e-10\n",
    "\n",
    "mzofp = 1e-7\n",
    "L = 2e-10\n",
    "\n",
    "particle = sphere(pos=vector(-1e-10,0,0), radius=3e-12, color=color.red)\n",
    "particle.v = vector(2e5,0,0)\n",
    "pq = 1.6e-19\n",
    "dt = 1e-18\n",
    "Bscale = 12e-12  \n",
    "\n",
    "# set up list of observation locations\n",
    "olist = []\n",
    "orad = 0.3e-10\n",
    "for x in arange(-L/2, L/2, L/8):  \n",
    "    for theta in arange(0,2*pi,pi/4):\n",
    "        olist.append(arrow(pos=vector(x, orad*cos(theta), orad*sin(theta)), axis=vector(0,0,0), color=color.cyan))\n",
    "\n",
    "# move proton, recalculate all B's at each position       \n",
    "dt = 1e-18\n",
    "while True:\n",
    "    particle.pos.x = -L/2\n",
    "    while particle.pos.x < 0.7*L:\n",
    "        rate(100)\n",
    "        particle.pos = particle.pos + particle.v * dt\n",
    "        for barrow in olist:\n",
    "            r = barrow.pos - particle.pos\n",
    "            B = mzofp*pq*cross(particle.v, norm(r))/mag(r)**2\n",
    "            barrow.axis = B*Bscale"
   ]
  },
  {
   "cell_type": "code",
   "execution_count": null,
   "metadata": {
    "collapsed": false,
    "slideshow": {
     "slide_type": "skip"
    }
   },
   "outputs": [],
   "source": [
    "scene=canvas()\n",
    "scene.width=800\n",
    "scene.height=800\n",
    "scene.background=color.white\n",
    "\n",
    "oofpez=9e9\n",
    "Q = 1e-8\n",
    "R = 0.05\n",
    "N=10\n",
    "scalefactor=R/100000\n",
    " \n",
    "x1=0.02\n",
    "chargedring1=ring(pos=vector(x1,0,0), radius=R, thickness=R/50, color=color.yellow)\n",
    "\n",
    "dq=Q/N\n",
    "pieces=[]\n",
    "\n",
    "theta=0\n",
    "i=0\n",
    "dtheta=2*pi/N\n",
    "while i<N:    \n",
    "    piece=sphere(pos=vector(x1,R*sin(theta),R*cos(theta)), color=color.red, radius=R/40)\n",
    "    piece.q=dq\n",
    "    pieces.append(piece)\n",
    "    theta=theta+dtheta\n",
    "    i=i+1\n",
    "\n",
    "x2=-x1\n",
    "chargedring2=ring(pos=vector(x2,0,0), radius=R, thickness=R/50, color=color.yellow)\n",
    "\n",
    "dq=-Q/N\n",
    "theta=0\n",
    "i=0\n",
    "while i<N:    \n",
    "    piece=sphere(pos=vector(x2,R*sin(theta),R*cos(theta)), color=color.blue, radius=R/40)\n",
    "    piece.q=dq\n",
    "    pieces.append(piece)\n",
    "    theta=theta+dtheta\n",
    "    i=i+1\n",
    "\n",
    "obslocations=[]\n",
    "x=-0.01\n",
    "y=-0.01\n",
    "dx=0.01\n",
    "dy=0.01\n",
    "while x<0.011:\n",
    "    y=-0.01\n",
    "    while y<=0.011:\n",
    "        obsloc=vector(x,y,0)\n",
    "        obslocations.append(obsloc)\n",
    "        y=y+dy\n",
    "    x=x+dx\n",
    "\n",
    "i=0\n",
    "while i<len(obslocations):\n",
    "    Enet=vector(0,0,0)\n",
    "    j=0\n",
    "    while j<len(pieces):\n",
    "        r=obslocations[i]-pieces[j].pos\n",
    "        rmag=mag(r)\n",
    "        rhat=r/rmag\n",
    "        E=oofpez*pieces[j].q/rmag**2*rhat\n",
    "        Enet=Enet+E\n",
    "        j=j+1\n",
    "    \n",
    "    Enetarrow=arrow(pos=obslocations[i], axis=Enet*scalefactor, color=color.orange)\n",
    "#    print(Enet)\n",
    "    i=i+1 \n",
    "\n"
   ]
  },
  {
   "cell_type": "markdown",
   "metadata": {
    "slideshow": {
     "slide_type": "subslide"
    }
   },
   "source": [
    "## Example First Year Research\n",
    "\n",
    "### Is there an optimum angle for shooting free throws in basketball? \n",
    "Spencer Ader ('19), Josh Berg ('18), and Aaron Titus (High Point University)\n",
    "\n",
    "Model the collision of a basketball, rim, and backboard, for a basketball in a plane incident with the center of the rim. Use measured data for parameters of the basketball/rim collision and a basketball/backboard collision. Vary three parameters: $|\\vec{v}_0|$, $\\omega$, and $\\theta_0$."
   ]
  },
  {
   "cell_type": "code",
   "execution_count": 5,
   "metadata": {
    "collapsed": false,
    "slideshow": {
     "slide_type": "subslide"
    }
   },
   "outputs": [
    {
     "data": {
      "text/html": [
       "<div id=\"glowscript\" class=\"glowscript\"></div>"
      ],
      "text/plain": [
       "<IPython.core.display.HTML object>"
      ]
     },
     "metadata": {},
     "output_type": "display_data"
    },
    {
     "data": {
      "application/javascript": [
       "window.__context = { glowscript_container: $(\"#glowscript\").removeAttr(\"id\")}"
      ],
      "text/plain": [
       "<IPython.core.display.Javascript object>"
      ]
     },
     "metadata": {},
     "output_type": "display_data"
    }
   ],
   "source": [
    "#basketball shot\n",
    "\n",
    "#thetamin=49*pi/180 #rad\n",
    "thetamin=53*pi/180 #rad\n",
    "\n",
    "#scene\n",
    "scene=canvas(title=\"Basketball Shot\")\n",
    "scene.center=vector(2,-1,0)\n",
    "scene.range=4\n",
    "scene.width=800\n",
    "scene.height=600\n",
    "\n",
    "#################\n",
    "#functions\n",
    "################ \n",
    "def rad(angledeg):\n",
    "    anglerad=angledeg*pi/180\n",
    "    return anglerad\n",
    "\n",
    "def deg(anglerad):   \n",
    "    angledeg=anglerad*180/pi\n",
    "    return angledeg\n",
    "\n",
    "def checkThatBallClearsRim(viy, riy):\n",
    "    ypeak=viy**2/2/g+riy\n",
    "    yrim=rim.pos.y\n",
    "    if(ypeak>yrim):\n",
    "        return True\n",
    "    else:\n",
    "        #write row of data even though ball never clears the rim\n",
    "        dataList=[mag(vi),deg(theta),omegaiz,0,-100,-100] #note that -100,-100 is the rebound position if the shot never clears rim\n",
    "        writeLineToFile(dataList)\n",
    "        return False\n",
    "\n",
    "def checkCollision(sph,cyl):\n",
    "    pegcenter=cyl.pos+0.5*cyl.axis\n",
    "    rcc=sph.pos-pegcenter\n",
    "    dist=mag(rcc)\n",
    "    if(dist<sph.radius+cyl.radius):\n",
    "        return True\n",
    "    else:\n",
    "        return False\n",
    "\n",
    "def checkCollisionBackboardFront(sph,board):\n",
    "    zleft=board.pos.z - 0.5*board.width\n",
    "    zright=board.pos.z + 0.5*board.width\n",
    "    ytop=board.pos.y + 0.5*board.height\n",
    "    ybottom=board.pos.y - 0.5*board.height\n",
    "    xleft=board.pos.x - 0.5*board.length\n",
    "    xright=board.pos.x + 0.5*board.length\n",
    "    #collides with front of backboard\n",
    "    if(sph.pos.x < board.pos.x+board.size.x/2 + sph.radius and sph.pos.x > board.pos.x-board.size.x/2 - sph.radius) and (sph.pos.z>zleft and sph.pos.z<zright) and (sph.pos.y<ytop and sph.pos.y>ybottom): \n",
    "            return True\n",
    "    else:\n",
    "            return False\n",
    "\n",
    "def checkCollisionBackboardTop(sph,board):\n",
    "    zleft=board.pos.z - 0.5*board.width\n",
    "    zright=board.pos.z + 0.5*board.width\n",
    "    ytop=board.pos.y + 0.5*board.height\n",
    "    ybottom=board.pos.y - 0.5*board.height\n",
    "    xleft=board.pos.x - 0.5*board.length\n",
    "    xright=board.pos.x + 0.5*board.length\n",
    "    #collides with top of backboard\n",
    "    if(sph.pos.y< board.pos.y+board.size.y/2+sph.radius and sph.pos.y> board.pos.y-board.size.y/2-sph.radius and (sph.pos.z>zleft and sph.pos.z<zright) and (sph.pos.x<xright+sph.radius and sph.pos.x>xleft-sph.radius)):\n",
    "            return True    \n",
    "    else:\n",
    "            return False\n",
    "\n",
    "\n",
    "def calcCollisionPeg(b,p):\n",
    "    b.pos=b.pos-b.p/m*dt #move the ball to its previous position before the collision\n",
    "    pegcenter=p.pos+0.5*p.axis #position of center of peg\n",
    "    rcc=b.pos-pegcenter #vector from peg center to ball center\n",
    "    rp=Rcyl*norm(rcc) #position of collision point relative to peg center\n",
    "    b.v=b.p/m #initial cm velocity\n",
    "    vperpi=dot(b.v,norm(rp))*norm(rp) #perp component of initial cm velocity\n",
    "    vtani=b.v-vperpi #tan component of initial cm velocity\n",
    "    vperpf=-c*vperpi #reverse perp component of cm velocity\n",
    "    Fperp=m*(vperpf-vperpi)/dt #compute Fperp\n",
    "    rpball=Rball*-1*norm(rcc) #rp relative to ball center\n",
    "    vprel=cross(b.omega,rpball) #velocity of collision point of ball relative to center\n",
    "    vptan=vprel+vtani #velocity of collision point of ball relative to Home frame\n",
    "    fhat=-norm(vptan) #direction of friction is opposite vptan\n",
    "    f=mu*mag(Fperp)*fhat #frictional force\n",
    "    vtanf=vtani+f/m*dt #update vtan of cm of ball\n",
    "    vf=vperpf+vtanf #compute vf from perp and tan components for cm of ball\n",
    "    b.v=vf\n",
    "    b.p=m*b.v #compute p of cm of ball\n",
    "    torque=cross(rpball,f) #torque on ball\n",
    "    omegai=b.omega\n",
    "    b.omega=b.omega+torque/I*dt #update omega\n",
    "    \n",
    "def writeLineToFile(aList):\n",
    "    # open file and append data to it\n",
    "    filename = open(\"data.txt\", \"a\")\n",
    "    filename.write('\\n')\n",
    "    filename.write('\\t'.join(map(str,aList)))        \n",
    "    filename.close()\n",
    "    \n",
    "#def reset():\n",
    "\n",
    "##################\n",
    "\n",
    "##################\n",
    "# Constants\n",
    "##################\n",
    "Rball=0.121285\n",
    "Rcyl=0.015875\n",
    "peglength=0.02\n",
    "m=0.62369\n",
    "c=0.63 #coefficient of restitution of ball and rim\n",
    "cboard=0.78 #coefficient of rest of ball and backboard\n",
    "mu=0.26 #coefficient of sliding friction of ball and rim\n",
    "I=2/3*m*Rball*Rball\n",
    "g=10\n",
    "##################\n",
    "\n",
    "\n",
    "##################\n",
    "# 3D objects\n",
    "##################\n",
    "peg=cylinder(pos=vector(0,0,peglength/2), axis=vector(0,0,-peglength), radius=Rcyl, color=color.red)\n",
    "peg2=cylinder(pos=vector(0.4572,0,peglength/2), axis=vector(0,0,-peglength), radius=Rcyl, color=color.red)\n",
    "floor=box(pos=vector(2,-3.048-0.05/2,0), size=vector(12,0.05,12), color=color.orange)\n",
    "ball=sphere(pos=vector(4.4185,floor.pos.y+floor.size.y/2+2.0066,0), radius=Rball, color=color.orange, make_trail=False)\n",
    "backboard=box(pos=vector(-0.153416,0.3,0), length=0.0127, width=1.8288, height=1.2192, color=color.white)\n",
    "backrim=box(pos=vector(-0.0635,0,0), length=0.153416, width=0.153416, height=0.015875, color=color.red)\n",
    "connectglass=box(pos=vector(-1.15,0,0), length=2, width=0.3048, height=0.3048, color=color.white)\n",
    "post=box(pos=vector(-2,-1.524,0), length=0.3048, width=0.3048, height=3.3528, color=color.white)\n",
    "FTline=box(pos=vector(4.4185,-3.048,0), size=vector(0.0508,0.08,3.9624), color=color.black)\n",
    "FTdown=box(pos=vector(1.55,-3.048,1.5), size=vector(5.7912,0.08,0.0508), color=color.black)\n",
    "FTline2=box(pos=vector(1.55,-3.048,-1.5), size=FTdown.size, color=color.black)\n",
    "Baseline=box(pos=vector(-1.37,-3.048,0), size=vector(0.0508,0.08,12), color=color.black)\n",
    "FTline3=box(pos=vector(1.55,-3.048,-1.957), size=FTdown.size, color=color.black)\n",
    "FTline4=box(pos=vector(1.55,-3.048,1.957), size=FTdown.size, color=color.black)\n",
    "\n",
    "Rrim=0.5*mag(peg.pos-peg2.pos)\n",
    "rim=ring(pos=peg2.pos+0.5*(peg.pos-peg2.pos), axis=vector(0,1,0), radius=Rrim, thickness=Rcyl, color=peg.color)\n",
    "FTarc=ring(pos=FTline.pos, axis=vector(0,1,0), radius=1.5, thickness=0.0508, color=color.black)\n",
    "ThreePT=ring(pos=Baseline.pos, axis=vector(0,1,0), radius=8.5344, thickness=0.0508, color=color.black)\n",
    "#################\n",
    "\n",
    "##################\n",
    "# Step Sizes and Max/Min Sizes\n",
    "##################\n",
    "vimin=7.315 #m/s\n",
    "vimax=7.40001 #m/s\n",
    "omegaizmin=-4*2*pi #z component in rad/s\n",
    "omegaizmax=0 #z component in rad/s\n",
    "#thetamin=rad(49) #rad\n",
    "#thetamin=rad(49) #rad\n",
    "thetamax=rad(53) #rad\n",
    "Nrows=14 #number of distinct values of a variable is Nrows + 1\n",
    "dspeed=(vimax-vimin)/Nrows #m/s\n",
    "dtheta=(thetamax-thetamin)/Nrows #rad\n",
    "domega=(omegaizmax-omegaizmin)/Nrows #rad/s\n",
    "##################\n",
    "\n",
    "##################\n",
    "# Initial Conditions\n",
    "##################\n",
    "#ri=peg2.pos+0.5*peg2.axis+vector(0,1,0) #ball dropped from above front of rim, just for testing\n",
    "ri=vector(4.4185,floor.pos.y+floor.size.y/2+2.0066,0) #free throw\n",
    "vimag=vimin\n",
    "theta=thetamin #radians\n",
    "omegaiz=omegaizmin\n",
    "\n",
    "vi=vimag*vector(-cos(theta),sin(theta),0)\n",
    "ball.v=vi\n",
    "ball.pos=ri\n",
    "ball.omega=vector(0,0,omegaiz)\n",
    "\n",
    "ball.p=m*ball.v\n",
    "Fgrav=m*vector(0,-g,0)\n",
    "##################\n",
    "\n",
    "\n",
    "##################\n",
    "# Data to Record\n",
    "##################\n",
    "score=0 #1 or 0 depending on whether basketball goes through hoop or not\n",
    "rebound_pos=vector(0,0,0) #position of the ball as it passes the height of the rim\n",
    "##################\n",
    "\n",
    "##################\n",
    "# Data Column Headings\n",
    "##################\n",
    "headingList=['v_i (m/s)','theta (deg)','omega_i_z (rad/s)','score (1 or 0)','rebound_pos_x (m)','rebound_pos_y (m)']\n",
    "#writeLineToFile(headingList)\n",
    "filename = open(\"data.txt\", \"w\")\n",
    "filename.write('\\t'.join(map(str,headingList)))        \n",
    "filename.close()\n",
    "##################\n",
    "\n",
    "shots=0\n",
    "\n",
    "t=0\n",
    "dt=0.0025\n",
    "\n",
    "run=True\n",
    "ball.make_trail=True\n",
    "scene.waitfor(\"click\")\n",
    "\n",
    "while run:\n",
    "    shots=shots+1\n",
    "    while checkThatBallClearsRim(vi.y,ri.y):\n",
    "        rate(200)\n",
    "        Fnet=Fgrav\n",
    "        ball.p=ball.p+Fnet*dt\n",
    "        ball.pos=ball.pos+ball.p/m*dt\n",
    "        \n",
    "        if(checkCollisionBackboardFront(ball,backboard)):\n",
    "            ball.pos=ball.pos-ball.p/m*dt\n",
    "            ball.p.x=-cboard*ball.p.x\n",
    "            ball.pos=ball.pos+ball.p/m*dt\n",
    "            \n",
    "        if(checkCollisionBackboardTop(ball,backboard)):\n",
    "            ball.pos=ball.pos-ball.p/m*dt\n",
    "            ball.p.y=-cboard*ball.p.y\n",
    "            ball.pos=ball.pos+ball.p/m*dt\n",
    "            \n",
    "        if(checkCollision(ball,peg)):\n",
    "            calcCollisionPeg(ball,peg)\n",
    "    \n",
    "        if(checkCollision(ball,peg2)):\n",
    "            calcCollisionPeg(ball,peg2)\n",
    "            \n",
    "        if(t>50*2*vimax/g):\n",
    "            #the ball is probably stuck.        \n",
    "            score=0\n",
    "            dataList=[mag(vi),deg(theta),omegaiz,score,rebound_pos.x,rebound_pos.y]\n",
    "            writeLineToFile(dataList)\n",
    "            break\n",
    "    \n",
    "        t=t+dt\n",
    "        \n",
    "        if(ball.p.y<0 and ball.pos.y<peg.pos.y): #ball is traveling downward and center of ball crosses height of center of peg\n",
    "            rebound_pos=ball.pos\n",
    "            if(mag(rim.pos-ball.pos)<(rim.radius-ball.radius)): #ball passes through rim\n",
    "                score=1\n",
    "            else:\n",
    "                score=0\n",
    "            dataList=[mag(vi),deg(theta),omegaiz,score,rebound_pos.x,rebound_pos.y]\n",
    "            writeLineToFile(dataList)\n",
    "            break\n",
    "\n",
    "    run=False\n",
    "\n",
    "#print(\"shots=\",shots)\n"
   ]
  },
  {
   "cell_type": "markdown",
   "metadata": {
    "slideshow": {
     "slide_type": "subslide"
    }
   },
   "source": [
    "## Results\n",
    "\n",
    "<!--Angular speed = 5 rev/s-->\n",
    "\n",
    "<img src=\"shots.png\" width=450 align=\"center\">"
   ]
  },
  {
   "cell_type": "markdown",
   "metadata": {
    "collapsed": true,
    "slideshow": {
     "slide_type": "subslide"
    }
   },
   "source": [
    "## Second Year (Modern Physics)\n",
    "\n",
    "Data Analysis with Matplotlib\n",
    "\n",
    "1. Photelectric Effect ([notebook](photoelectric-effect-graph.ipynb))\n",
    "2. Muon Lifetime ([notebook](muon-data-F15.ipynb))"
   ]
  },
  {
   "cell_type": "markdown",
   "metadata": {
    "slideshow": {
     "slide_type": "subslide"
    }
   },
   "source": [
    "## Second Year (Electronics)\n",
    "\n",
    "Electronics projects have increasingly used pyserial to communicate with an arduino.\n",
    "\n",
    "1. Lunar Lander with Joystick ([notebook](arduino-gamecontroller/lunar-lander-nb.ipynb))\n",
    "2. Galton Board ([notebook](galton-board-nb.ipynb))"
   ]
  },
  {
   "cell_type": "markdown",
   "metadata": {
    "slideshow": {
     "slide_type": "subslide"
    }
   },
   "source": [
    "<img src=\"galton-board.jpg\" width=700 align=\"center\">"
   ]
  },
  {
   "cell_type": "markdown",
   "metadata": {
    "collapsed": true,
    "slideshow": {
     "slide_type": "subslide"
    }
   },
   "source": [
    "<img src=\"galton-plotly.png\" width=700 align=\"center\">"
   ]
  },
  {
   "cell_type": "markdown",
   "metadata": {
    "slideshow": {
     "slide_type": "subslide"
    }
   },
   "source": [
    "## Junior/Senior Year (Classical Mechanics)"
   ]
  },
  {
   "cell_type": "markdown",
   "metadata": {
    "slideshow": {
     "slide_type": "subslide"
    }
   },
   "source": [
    "A simple pendulum of length $b$ and  mass $m$ is suspended in a gravitational field $g$ from a point on the circumference of a thin low-mass disc of radius $R$ that rotates counterclockwise with a constant angular velocity $\\omega$ about is central axis as shown below.\n",
    "\n",
    "<img src=\"rotating-pendulum-support.png\" width=400>\n",
    "\n",
    "The equation of motion for the angle $\\theta$ of the pendulum with respect to the vertical is\n",
    "\n",
    "$$\\ddot{\\theta}=-\\omega^2\\frac{R}{b}\\cos{(\\theta + \\omega t)}-\\frac{g}{b}\\sin\\theta$$\n",
    "\n",
    "Using the Euler-Cromer method:\n",
    "\n",
    "1. calculate $\\ddot{\\theta}$\n",
    "2. update $\\dot{\\theta}$\n",
    "3. update $\\theta$\n",
    "\n",
    "In Python, this looks like:\n",
    "\n",
    "```python\n",
    "    thetadotdot=-omega**2*R/b*cos(theta+omega*t)-g/b*sin(theta)\n",
    "    thetadot=thetadot+thetadotdot*dt\n",
    "    theta=theta+thetadot*dt\n",
    "```\n"
   ]
  },
  {
   "cell_type": "code",
   "execution_count": null,
   "metadata": {
    "collapsed": false,
    "slideshow": {
     "slide_type": "subslide"
    }
   },
   "outputs": [],
   "source": [
    "scene=canvas(title=\"Pendulum hanging from rotating pivot\")\n",
    "\n",
    "omega=2*pi/2\n",
    "g=9.8\n",
    "b=1\n",
    "R=b/5\n",
    "\n",
    "phi=0\n",
    "theta=30*pi/180\n",
    "thetadot=0\n",
    "\n",
    "t=0\n",
    "dt=0.005\n",
    "\n",
    "rpivot=R*vector(cos(phi),sin(phi),0)\n",
    "bvec=b*vector(sin(theta),-cos(theta),0)\n",
    "r=bvec+rpivot\n",
    "\n",
    "wheel=cylinder(pos=vector(0,0,-R/10), axis=vector(0,0,R/10), radius=R, color=color.red)\n",
    "pivot=sphere(pos=rpivot, radius=R/20, color=color.yellow)\n",
    "pendulum=sphere(pos=r, radius=R/4, color=color.yellow, make_trail=True, retain=2000)\n",
    "string=cylinder(pos=pivot.pos, axis=bvec, radius=R/20, color=color.yellow)\n",
    "\n",
    "while t<10:\n",
    "    rate(100)\n",
    "    \n",
    "    thetadotdot=-omega**2*R/b*cos(theta+omega*t)-g/b*sin(theta)\n",
    "    thetadot=thetadot+thetadotdot*dt\n",
    "    theta=theta+thetadot*dt\n",
    "    \n",
    "    phi=phi+omega*dt\n",
    "    \n",
    "    rpivot=R*vector(cos(phi),sin(phi),0)\n",
    "    bvec=b*vector(sin(theta),-cos(theta),0)\n",
    "    r=bvec+rpivot\n",
    "    \n",
    "    pivot.pos=rpivot\n",
    "    pendulum.pos=r\n",
    "    string.pos=rpivot\n",
    "    string.axis=r-rpivot\n",
    "    \n",
    "    t=t+dt\n"
   ]
  },
  {
   "cell_type": "code",
   "execution_count": null,
   "metadata": {
    "collapsed": false,
    "slideshow": {
     "slide_type": "subslide"
    }
   },
   "outputs": [],
   "source": [
    "from IPython.display import HTML\n",
    "from base64 import b64encode\n",
    "\n",
    "\n",
    "def video(fname, mimetype):\n",
    "    \"\"\"Load the video in the file `fname`, with given mimetype, and display as HTML5 video.\n",
    "    \"\"\"\n",
    "    from IPython.display import HTML\n",
    "    from base64 import b64encode\n",
    "    \n",
    "    with open(fname, \"rb\") as f: \n",
    "        video_encoded = b64encode(f.read()).decode(\"utf-8\")\n",
    "\n",
    "    video_tag= \"\"\"\n",
    "<center><video controls style='max-width:100%'>\n",
    "<source src='data:{mimetype};base64,{b64}' type='video/{mimetype}' loop=1 autoplay=1>\n",
    "Your browser does not support the video tag.\n",
    "</video><center/>\"\"\".format(mimetype=mimetype, b64=video_encoded)\n",
    "    return HTML(data=video_tag)\n",
    "\n",
    "fname=\"video_disk_accelerated_rocket.mp4\"\n",
    "video(fname, fname.split('.')[-1])"
   ]
  },
  {
   "cell_type": "code",
   "execution_count": null,
   "metadata": {
    "collapsed": true,
    "slideshow": {
     "slide_type": "subslide"
    }
   },
   "outputs": [],
   "source": [
    "import numpy as np\n",
    "import matplotlib.pyplot as plt\n",
    "%matplotlib inline"
   ]
  },
  {
   "cell_type": "code",
   "execution_count": null,
   "metadata": {
    "collapsed": false,
    "slideshow": {
     "slide_type": "fragment"
    }
   },
   "outputs": [],
   "source": [
    "import csv\n",
    "\n",
    "#t (s) and omega (deg/s)\n",
    "datafile = csv.reader(open('rocket-disk-data.txt', 'rt'), delimiter=\"\\t\")\n",
    "\n",
    "tlist = []\n",
    "omegalist = []\n",
    "for row in datafile:\n",
    "        t=float(row[0])          # convert time to float\n",
    "        omega=float(row[1])/180*np.pi #convert omega to float\n",
    "        tlist.append(t)\n",
    "        omegalist.append(omega)\n",
    "        \n",
    "#print(\"tlist=\",len(tlist))\n",
    "#print(\"omegalist=\",len(omegalist))\n",
    "\n",
    "omegatheor=1.465*np.sin(19.21*np.array(tlist)+5.905)+19.12\n",
    "\n",
    "fig1 = plt.figure()\n",
    "fig1.set_size_inches(10, 6)\n",
    "plt.title('omega vs t')\n",
    "plt.xlabel('t (s)')\n",
    "plt.ylabel('omega (rad/s)')\n",
    "plt.plot(tlist, omegalist,'b.',tlist,omegatheor,'m-')\n",
    "plt.show"
   ]
  },
  {
   "cell_type": "code",
   "execution_count": null,
   "metadata": {
    "collapsed": false,
    "slideshow": {
     "slide_type": "subslide"
    }
   },
   "outputs": [],
   "source": [
    "#This one will use my log in. You should create your own account.\n",
    "import plotly.plotly as py\n",
    "import plotly.tools as tls\n",
    "from plotly.graph_objs import *\n",
    "username = tls.get_credentials_file()['username']\n",
    "api_key = tls.get_credentials_file()['api_key']\n",
    "py.sign_in(username, api_key)\n",
    "py.iplot_mpl(fig1, strip_style = True)"
   ]
  },
  {
   "cell_type": "markdown",
   "metadata": {
    "slideshow": {
     "slide_type": "subslide"
    }
   },
   "source": [
    "## Junior/Senior Year (Quantum Mechanics)\n",
    "\n",
    "1. Animation of $\\psi(x,t)$ ([notebook](qm-psi-infinite-sq-well.ipynb))\n",
    "1. Shooting Method for a 1-D potential ramp ([notebook](qm-shooting-method-finite-sq-well.ipynb))\n",
    "1. Final exam question ([notebook](qm-S17-final-shooting-method-1D-potential.ipynb))"
   ]
  },
  {
   "cell_type": "markdown",
   "metadata": {
    "slideshow": {
     "slide_type": "subslide"
    }
   },
   "source": [
    "# Summary\n",
    "\n",
    "1. Computation is essential to learning and doing physics, starting in the first year.\n",
    "1. Teaching Computation influences the growth of an academic program like physics.\n",
    "1. GlowScript VPython is the tool of choice in introductory physics.\n",
    "1. Jupyter is the tool of choice for \"advanced\" physics (second year and beyond) and students' projects.\n",
    "1. Computing should be integrated into most (or perhaps all) physics courses. Numerical methods and/or computational physics is still valuable. "
   ]
  },
  {
   "cell_type": "markdown",
   "metadata": {
    "slideshow": {
     "slide_type": "subslide"
    }
   },
   "source": [
    "# Resources\n",
    "\n",
    "- [vpython.org](http://vpython.org/)\n",
    "- [glowScript.org](http://www.glowscript.org/)\n",
    "- [_Matter and Interactions_ textbook](http://matterandinteractions.org/) ([matterandinteractions.org](http://matterandinteractions.org/))\n",
    "- [Jupyter VPython Demos at MyBinder](http://mybinder.org/repo/BruceSherwood/vpython-jupyter) or [Github](https://github.com/BruceSherwood/vpython-jupyter/blob/master/JupyterPythonDemos.zip)\n",
    "- [_Thinking Iteratively_ presentation by Chabay and Sherwood](https://www.youtube.com/watch?v=e-shsRZQsi4)\n",
    "- [Steve Spicklemire's Quantum Mechanics notebooks](https://github.com/sspickle/qm-computing-projects)"
   ]
  },
  {
   "cell_type": "markdown",
   "metadata": {
    "slideshow": {
     "slide_type": "slide"
    }
   },
   "source": [
    "# VPython Architecture\n",
    "\n",
    "<img src=\"vpython-slide1.png\" width=700 align=\"center\">"
   ]
  },
  {
   "cell_type": "markdown",
   "metadata": {
    "slideshow": {
     "slide_type": "subslide"
    }
   },
   "source": [
    "<img src=\"vpython-slide2.png\" width=700 align=\"center\">"
   ]
  },
  {
   "cell_type": "markdown",
   "metadata": {
    "slideshow": {
     "slide_type": "subslide"
    }
   },
   "source": [
    "<img src=\"vpython-slide3.png\" width=700 align=\"center\">"
   ]
  },
  {
   "cell_type": "markdown",
   "metadata": {},
   "source": [
    "<img src=\"vpython-slide4.png\" width=700 align=\"center\">"
   ]
  },
  {
   "cell_type": "code",
   "execution_count": null,
   "metadata": {
    "collapsed": true
   },
   "outputs": [],
   "source": []
  }
 ],
 "metadata": {
  "celltoolbar": "Slideshow",
  "kernelspec": {
   "display_name": "Python 3",
   "language": "python",
   "name": "python3"
  },
  "language_info": {
   "codemirror_mode": {
    "name": "ipython",
    "version": 3
   },
   "file_extension": ".py",
   "mimetype": "text/x-python",
   "name": "python",
   "nbconvert_exporter": "python",
   "pygments_lexer": "ipython3",
   "version": "3.6.0"
  }
 },
 "nbformat": 4,
 "nbformat_minor": 1
}
